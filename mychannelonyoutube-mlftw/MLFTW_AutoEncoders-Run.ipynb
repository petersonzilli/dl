{
 "cells": [
  {
   "cell_type": "markdown",
   "metadata": {
    "collapsed": true
   },
   "source": [
    "<br><font size=\"8\">MLFTW<br><br><strong>AutoEncoders</strong></font>\n",
    "\n",
    "por Peterson Katagiri Zilli (<peterson.zilli@gmail.com>) - 2017/10/12<br>"
   ]
  },
  {
   "cell_type": "markdown",
   "metadata": {},
   "source": [
    "Abordamos Autoencoders sobre o dataset de dígitos escritos a mão MNIST.\n",
    "\n",
    "O vídeo deste tutorial está disponível **em breve**. Também faremos um _teaser_ ou resumo do vídeo para falar dos pontos que abordamos neste par de vídeos.\n",
    "\n",
    "Dois pontos antes de começarmos:\n",
    "* O objetivo do MLFTW é dividir e gerar conhecimento sobre Aprendizado de Máquina e assuntos afins.\n",
    "* O Cientista desenvolve [3 áreas de conhecimento](https://www.oreilly.com/ideas/beyond-the-venn-diagram): Matemática/Estatistica, Hacking Skills/Programação e Conhecimento do Domínio do Problema."
   ]
  },
  {
   "cell_type": "markdown",
   "metadata": {},
   "source": [
    "## Nossas Ferramentas"
   ]
  },
  {
   "cell_type": "markdown",
   "metadata": {},
   "source": [
    "<img src=\"assets/jupyter.jpg\" alt=\"Jupyter Logo\" style=\"height: 100px; display: inline; margin: 0 5px;\"/>\n",
    "<img src=\"assets/pythonlogo.png\" alt=\"Python Logo\" style=\"height: 100px; display: inline; margin: 0 5px;\"/>\n",
    "<img src=\"assets/numpy.jpg\" alt=\"Numpy Logo\" style=\"height: 120px; display: inline; margin: 0 5px;\"/>\n",
    "<img src=\"https://www.tensorflow.org/_static/images/tensorflow/logo.png\" alt=\"Tensoflow Logo\" style=\"height: 100px; display: inline; margin: 0 5px;\"/>\n",
    "<img src=\"assets/matplotlib.svg\" alt=\"Matplotlib Logo\" style=\"height: 80px; display: inline; margin: 0 5px;\"/>\n",
    "<img src=\"http://www.dobitaobyte.com.br/wp-content/uploads/2016/10/keras0.png\" alt=\"Keras Logo\" style=\"height: 100px; display: inline; margin: 0 5px;\"/>\n",
    "\n",
    "\n",
    "* **jupyter**: é esta aplicação web que permite criar e compartilhar documentos que contém código executável em python e outras linguagens.\n",
    "* **python**: nossa linguagem de programação que cola tudo.\n",
    "* **numpy**: é um pacote do Python que adiciona suporte a matrizes multidimensionais e vetores e também uma série de funções de alto nível que operam sobre estes objetos.\n",
    "* **matplotlib**: é uma biblioteca para plotar gráficos\n",
    "* **TensorFlow**: uma biblioteca open-source de funções para Machine Learing entre outros usos.\n",
    "* **Keras**: uma biblioteca de funções mas abstratas para Machine Learning que funciona sobre TensorFlow (entre outros...). Simplifica nosso desenvolvimento do modelo!\n",
    "\n",
    "\n",
    "\n",
    "### Você pode executar todo este tutorial a partir de servidores na Azure!\n",
    "\n",
    "Para isso:\n",
    "* Crie uma conta no [Azure Notebooks](https://notebooks.azure.com) (se você já tem uma conta da Microsoft é só logar com ela!)\n",
    "* Entre na minha Library pública [https://notebooks.azure.com/**petersonzilli/libraries/mlftw**](https://notebooks.azure.com/petersonzilli/libraries/mlftw)\n",
    "* Clone a Library para o seu espaço na Azure. Assim você terá o notebook *MLFTW_AutoEncoders.ipynb* na Sua Library\n",
    "\n",
    "Criar e Executar Notebooks na Azure Notebooks **É gratuíto!**"
   ]
  },
  {
   "cell_type": "markdown",
   "metadata": {},
   "source": [
    "# O que são AutoEncoders e para que servem?"
   ]
  },
  {
   "cell_type": "markdown",
   "metadata": {},
   "source": [
    "O que são:\n",
    "![](http://nghiaho.com/wp-content/uploads/2012/12/autoencoder_network1.png)\n",
    "\n",
    "Para que servem:\n",
    "* ~~Compressão de Dados~~\n",
    "* Redução de Dimensionalidade e [Semantic Hashing](http://www.cs.toronto.edu/~amnih/cifar/talks/salakhut_talk.pdf)\n",
    "* É base para arquiteturas campeãs em Segmentação de Imagens como as [U-NETs](https://image.slidesharecdn.com/dlsl2017d2l6advanceddeeparchitectures-170125171011/95/advanced-deep-architectures-d2l6-deep-learning-for-speech-and-language-upc-2017-17-638.jpg?cb=1485364567)...\n",
    "* [Detecção de Anomalias](https://shiring.github.io/machine_learning/2017/05/01/fraud) e [Fraudes em Cartões de Crédito](https://medium.com/@curiousily/credit-card-fraud-detection-using-autoencoders-in-keras-tensorflow-for-hackers-part-vii-20e0c85301bd)\n",
    "* Modelos Generativos para imagens com controle do \"o quê\" e do \"como\" é gerado - com [Varational Auto Encoders](http://kvfrans.com/variational-autoencoders-explained/)\n",
    "* Eliminar Ruídos - A gente tem um exemplo aqui."
   ]
  },
  {
   "cell_type": "markdown",
   "metadata": {},
   "source": [
    "# Importando as bibliotecas"
   ]
  },
  {
   "cell_type": "code",
   "execution_count": 1,
   "metadata": {
    "collapsed": true
   },
   "outputs": [],
   "source": [
    "import numpy as np\n",
    "np.random.seed(0)"
   ]
  },
  {
   "cell_type": "code",
   "execution_count": 2,
   "metadata": {},
   "outputs": [
    {
     "name": "stderr",
     "output_type": "stream",
     "text": [
      "Using TensorFlow backend.\n"
     ]
    }
   ],
   "source": [
    "from keras import backend as K\n",
    "from keras import regularizers\n",
    "from keras.callbacks import ModelCheckpoint\n",
    "from keras.datasets import mnist\n",
    "from keras.layers import Input, Dense, Flatten, Conv2D, MaxPooling2D, UpSampling2D\n",
    "from keras.models import Model, Sequential\n",
    "from keras.utils import np_utils"
   ]
  },
  {
   "cell_type": "code",
   "execution_count": 3,
   "metadata": {
    "collapsed": true
   },
   "outputs": [],
   "source": [
    "import matplotlib.pyplot as plt\n",
    "%matplotlib inline"
   ]
  },
  {
   "cell_type": "markdown",
   "metadata": {},
   "source": [
    "## Explorando o Conjunto de Dados"
   ]
  },
  {
   "cell_type": "markdown",
   "metadata": {},
   "source": [
    "Vamos usar o dataset do [MNIST](https://www.tensorflow.org/get_started/mnist/beginners)"
   ]
  },
  {
   "cell_type": "code",
   "execution_count": 4,
   "metadata": {},
   "outputs": [
    {
     "name": "stdout",
     "output_type": "stream",
     "text": [
      "Downloading data from https://s3.amazonaws.com/img-datasets/mnist.npz\n",
      " 8929280/11490434 [======================>.......] - ETA: 0s"
     ]
    }
   ],
   "source": [
    "(x_train_orig, _), (x_test_orig, _) = mnist.load_data()"
   ]
  },
  {
   "cell_type": "code",
   "execution_count": 5,
   "metadata": {},
   "outputs": [
    {
     "data": {
      "text/plain": [
       "((60000, 28, 28), (10000, 28, 28))"
      ]
     },
     "execution_count": 5,
     "metadata": {},
     "output_type": "execute_result"
    }
   ],
   "source": [
    "x_train_orig.shape, x_test_orig.shape"
   ]
  },
  {
   "cell_type": "code",
   "execution_count": 6,
   "metadata": {},
   "outputs": [
    {
     "data": {
      "text/plain": [
       "<matplotlib.image.AxesImage at 0x7f469fd10c50>"
      ]
     },
     "execution_count": 6,
     "metadata": {},
     "output_type": "execute_result"
    },
    {
     "data": {
      "image/png": "[encoded data removed]",
      "text/plain": [
       "<matplotlib.figure.Figure at 0x7f469fdfa828>"
      ]
     },
     "metadata": {},
     "output_type": "display_data"
    }
   ],
   "source": [
    "plt.imshow(x_train_orig[0], cmap='Greys_r')"
   ]
  },
  {
   "cell_type": "code",
   "execution_count": 7,
   "metadata": {
    "scrolled": true
   },
   "outputs": [
    {
     "data": {
      "image/png": "[encoded data removed]",
      "text/plain": [
       "<matplotlib.figure.Figure at 0x7f469fbc89e8>"
      ]
     },
     "metadata": {},
     "output_type": "display_data"
    }
   ],
   "source": [
    "n = 15  # how many digits we will display\n",
    "plt.figure(figsize=(n*2, 4))\n",
    "for i in range(n):\n",
    "    ax = plt.subplot(2, n, i + 1)\n",
    "    plt.imshow(x_train_orig[i])\n",
    "    plt.gray()\n",
    "    ax.get_xaxis().set_visible(False)\n",
    "    ax.get_yaxis().set_visible(False)\n",
    "plt.show()"
   ]
  },
  {
   "cell_type": "code",
   "execution_count": 8,
   "metadata": {},
   "outputs": [
    {
     "data": {
      "text/plain": [
       "(0, 255)"
      ]
     },
     "execution_count": 8,
     "metadata": {},
     "output_type": "execute_result"
    }
   ],
   "source": [
    "img = x_train_orig[0]\n",
    "img.min(), img.max()"
   ]
  },
  {
   "cell_type": "markdown",
   "metadata": {},
   "source": [
    "### Escalando os dados"
   ]
  },
  {
   "cell_type": "code",
   "execution_count": 9,
   "metadata": {
    "collapsed": true
   },
   "outputs": [],
   "source": [
    "x_train_orig = x_train_orig.astype('float32') / 255.\n",
    "x_test_orig = x_test_orig.astype('float32') / 255."
   ]
  },
  {
   "cell_type": "code",
   "execution_count": 10,
   "metadata": {},
   "outputs": [
    {
     "data": {
      "image/png": "[encoded data removed]",
      "text/plain": [
       "<matplotlib.figure.Figure at 0x7f4696417128>"
      ]
     },
     "metadata": {},
     "output_type": "display_data"
    }
   ],
   "source": [
    "n = 15  # how many digits we will display\n",
    "plt.figure(figsize=(n*2, 4))\n",
    "for i in range(n):\n",
    "    ax = plt.subplot(2, n, i + 1)\n",
    "    plt.imshow(x_train_orig[i])\n",
    "    plt.gray()\n",
    "    ax.get_xaxis().set_visible(False)\n",
    "    ax.get_yaxis().set_visible(False)\n",
    "plt.show()"
   ]
  },
  {
   "cell_type": "code",
   "execution_count": 11,
   "metadata": {},
   "outputs": [
    {
     "data": {
      "text/plain": [
       "(0.0, 1.0)"
      ]
     },
     "execution_count": 11,
     "metadata": {},
     "output_type": "execute_result"
    }
   ],
   "source": [
    "img = x_train_orig[0]\n",
    "img.min(), img.max()"
   ]
  },
  {
   "cell_type": "markdown",
   "metadata": {},
   "source": [
    "### Adicionando ruído ao dataset"
   ]
  },
  {
   "cell_type": "code",
   "execution_count": 12,
   "metadata": {
    "collapsed": true
   },
   "outputs": [],
   "source": [
    "noise_factor = 0.5\n",
    "x_train_noisy = np.clip(x_train_orig + noise_factor * np.random.normal(loc=0.0, scale=1.0, size=x_train_orig.shape), 0, 1)\n",
    "x_test_noisy = np.clip(x_test_orig + noise_factor * np.random.normal(loc=0.0, scale=1.0, size=x_test_orig.shape), 0, 1)"
   ]
  },
  {
   "cell_type": "code",
   "execution_count": 13,
   "metadata": {},
   "outputs": [
    {
     "data": {
      "image/png": "[encoded data removed]",
      "text/plain": [
       "<matplotlib.figure.Figure at 0x7f469faf5978>"
      ]
     },
     "metadata": {},
     "output_type": "display_data"
    }
   ],
   "source": [
    "n = 15  # how many digits we will display\n",
    "plt.figure(figsize=(n*2, 4))\n",
    "for i in range(n):\n",
    "    # display original\n",
    "    ax = plt.subplot(2, n, i + 1)\n",
    "    plt.imshow(x_train_orig[i])\n",
    "    plt.gray()\n",
    "    ax.get_xaxis().set_visible(False)\n",
    "    ax.get_yaxis().set_visible(False)\n",
    "\n",
    "    # display noisy\n",
    "    ax = plt.subplot(2, n, i + 1 + n)\n",
    "    plt.imshow(x_train_noisy[i])\n",
    "    plt.gray()\n",
    "    ax.get_xaxis().set_visible(False)\n",
    "    ax.get_yaxis().set_visible(False)\n",
    "plt.show()"
   ]
  },
  {
   "cell_type": "code",
   "execution_count": 14,
   "metadata": {},
   "outputs": [
    {
     "data": {
      "text/plain": [
       "((60000, 28, 28), (60000, 28, 28))"
      ]
     },
     "execution_count": 14,
     "metadata": {},
     "output_type": "execute_result"
    }
   ],
   "source": [
    "x_train_orig.shape, x_train_noisy.shape"
   ]
  },
  {
   "cell_type": "markdown",
   "metadata": {},
   "source": [
    "### Transformando Cada imagem de 28 x 28 em um vetor de 784 "
   ]
  },
  {
   "cell_type": "code",
   "execution_count": 15,
   "metadata": {
    "collapsed": true
   },
   "outputs": [],
   "source": [
    "x_train = x_train_orig.reshape((len(x_train_orig), np.prod(x_train_orig.shape[1:])))\n",
    "x_test = x_test_orig.reshape((len(x_test_orig), np.prod(x_test_orig.shape[1:])))"
   ]
  },
  {
   "cell_type": "code",
   "execution_count": 16,
   "metadata": {},
   "outputs": [
    {
     "data": {
      "text/plain": [
       "(60000, 784)"
      ]
     },
     "execution_count": 16,
     "metadata": {},
     "output_type": "execute_result"
    }
   ],
   "source": [
    "x_train.shape"
   ]
  },
  {
   "cell_type": "code",
   "execution_count": 17,
   "metadata": {
    "collapsed": true
   },
   "outputs": [],
   "source": [
    "x_train_conv = x_train_orig.reshape(-1,28,28,1)\n",
    "x_test_conv = x_test_orig.reshape(-1,28,28,1)\n",
    "x_train_noisy_conv = x_train_noisy.reshape(-1,28,28,1)\n",
    "x_test_noisy_conv = x_test_noisy.reshape(-1,28,28,1)"
   ]
  },
  {
   "cell_type": "code",
   "execution_count": 18,
   "metadata": {},
   "outputs": [
    {
     "data": {
      "text/plain": [
       "(60000, 28, 28, 1)"
      ]
     },
     "execution_count": 18,
     "metadata": {},
     "output_type": "execute_result"
    }
   ],
   "source": [
    "x_train_conv.shape"
   ]
  },
  {
   "cell_type": "markdown",
   "metadata": {},
   "source": [
    "# Modelo 1: Fully Connected Neural Network de Apenas 1 camada"
   ]
  },
  {
   "cell_type": "markdown",
   "metadata": {},
   "source": [
    "![](https://www.researchgate.net/publication/318204554/figure/fig1/AS:512595149770752@1499223615487/Fig-1-Autoencoder-architecture.png)"
   ]
  },
  {
   "cell_type": "code",
   "execution_count": 19,
   "metadata": {
    "collapsed": true
   },
   "outputs": [],
   "source": [
    "encoding_dim = 32\n",
    "image_dim = x_train.shape[1]"
   ]
  },
  {
   "cell_type": "code",
   "execution_count": 20,
   "metadata": {},
   "outputs": [
    {
     "data": {
      "text/plain": [
       "784"
      ]
     },
     "execution_count": 20,
     "metadata": {},
     "output_type": "execute_result"
    }
   ],
   "source": [
    "image_dim"
   ]
  },
  {
   "cell_type": "code",
   "execution_count": 21,
   "metadata": {
    "collapsed": true
   },
   "outputs": [],
   "source": [
    "input_img = Input(shape=(image_dim,))"
   ]
  },
  {
   "cell_type": "code",
   "execution_count": 22,
   "metadata": {
    "collapsed": true
   },
   "outputs": [],
   "source": [
    "encoded = Dense(encoding_dim, activation='relu')(input_img)\n",
    "decoded = Dense(image_dim, activation='sigmoid')(encoded)\n",
    "autoencoder = Model(input_img, decoded)"
   ]
  },
  {
   "cell_type": "code",
   "execution_count": 23,
   "metadata": {
    "collapsed": true
   },
   "outputs": [],
   "source": [
    "encoder = Model(input_img, encoded)"
   ]
  },
  {
   "cell_type": "code",
   "execution_count": 24,
   "metadata": {
    "collapsed": true
   },
   "outputs": [],
   "source": [
    "encoded_input = Input(shape=(encoding_dim,))\n",
    "decoder_layer = autoencoder.layers[-1]\n",
    "decoder = Model(encoded_input, decoder_layer(encoded_input))"
   ]
  },
  {
   "cell_type": "code",
   "execution_count": 25,
   "metadata": {
    "collapsed": true
   },
   "outputs": [],
   "source": [
    "# carregando o modelo, se necessário\n",
    "#autoencoder.load_weights('checkpoint_modelo_1.hdf5')"
   ]
  },
  {
   "cell_type": "code",
   "execution_count": 26,
   "metadata": {
    "collapsed": true
   },
   "outputs": [],
   "source": [
    "autoencoder.compile(optimizer='adam', loss='binary_crossentropy')"
   ]
  },
  {
   "cell_type": "code",
   "execution_count": 27,
   "metadata": {},
   "outputs": [
    {
     "name": "stdout",
     "output_type": "stream",
     "text": [
      "_________________________________________________________________\n",
      "Layer (type)                 Output Shape              Param #   \n",
      "=================================================================\n",
      "input_1 (InputLayer)         (None, 784)               0         \n",
      "_________________________________________________________________\n",
      "dense_1 (Dense)              (None, 32)                25120     \n",
      "_________________________________________________________________\n",
      "dense_2 (Dense)              (None, 784)               25872     \n",
      "=================================================================\n",
      "Total params: 50,992\n",
      "Trainable params: 50,992\n",
      "Non-trainable params: 0\n",
      "_________________________________________________________________\n"
     ]
    }
   ],
   "source": [
    "autoencoder.summary()"
   ]
  },
  {
   "cell_type": "code",
   "execution_count": null,
   "metadata": {
    "collapsed": true
   },
   "outputs": [],
   "source": [
    "checkpointer_1 = ModelCheckpoint(filepath='checkpoint_modelo_1.hdf5', verbose=1, save_best_only=True)"
   ]
  },
  {
   "cell_type": "code",
   "execution_count": null,
   "metadata": {},
   "outputs": [
    {
     "name": "stdout",
     "output_type": "stream",
     "text": [
      "Train on 60000 samples, validate on 10000 samples\n",
      "Epoch 1/70\n",
      "59136/60000 [============================>.] - ETA: 0s - loss: 0.2825Epoch 00000: val_loss improved from inf to 0.19408, saving model to checkpoint_modelo_1.hdf5\n",
      "60000/60000 [==============================] - 2s - loss: 0.2812 - val_loss: 0.1941\n",
      "Epoch 2/70\n",
      "58624/60000 [============================>.] - ETA: 0s - loss: 0.1720Epoch 00001: val_loss improved from 0.19408 to 0.15271, saving model to checkpoint_modelo_1.hdf5\n",
      "60000/60000 [==============================] - 2s - loss: 0.1716 - val_loss: 0.1527\n",
      "Epoch 3/70\n",
      "58624/60000 [============================>.] - ETA: 0s - loss: 0.1435Epoch 00002: val_loss improved from 0.15271 to 0.13259, saving model to checkpoint_modelo_1.hdf5\n",
      "60000/60000 [==============================] - 2s - loss: 0.1433 - val_loss: 0.1326\n",
      "Epoch 4/70\n",
      "59392/60000 [============================>.] - ETA: 0s - loss: 0.1274Epoch 00003: val_loss improved from 0.13259 to 0.12001, saving model to checkpoint_modelo_1.hdf5\n",
      "60000/60000 [==============================] - 2s - loss: 0.1274 - val_loss: 0.1200\n",
      "Epoch 5/70\n",
      "59392/60000 [============================>.] - ETA: 0s - loss: 0.1170Epoch 00004: val_loss improved from 0.12001 to 0.11159, saving model to checkpoint_modelo_1.hdf5\n",
      "60000/60000 [==============================] - 2s - loss: 0.1170 - val_loss: 0.1116\n",
      "Epoch 6/70\n",
      "59136/60000 [============================>.] - ETA: 0s - loss: 0.1099Epoch 00005: val_loss improved from 0.11159 to 0.10607, saving model to checkpoint_modelo_1.hdf5\n",
      "60000/60000 [==============================] - 2s - loss: 0.1099 - val_loss: 0.1061\n",
      "Epoch 7/70\n",
      "59392/60000 [============================>.] - ETA: 0s - loss: 0.1050Epoch 00006: val_loss improved from 0.10607 to 0.10182, saving model to checkpoint_modelo_1.hdf5\n",
      "60000/60000 [==============================] - 2s - loss: 0.1050 - val_loss: 0.1018\n",
      "Epoch 8/70\n",
      "59904/60000 [============================>.] - ETA: 0s - loss: 0.1015Epoch 00007: val_loss improved from 0.10182 to 0.09893, saving model to checkpoint_modelo_1.hdf5\n",
      "60000/60000 [==============================] - 2s - loss: 0.1015 - val_loss: 0.0989\n",
      "Epoch 9/70\n",
      "59648/60000 [============================>.] - ETA: 0s - loss: 0.0991Epoch 00008: val_loss improved from 0.09893 to 0.09694, saving model to checkpoint_modelo_1.hdf5\n",
      "60000/60000 [==============================] - 2s - loss: 0.0991 - val_loss: 0.0969\n",
      "Epoch 10/70\n",
      "59904/60000 [============================>.] - ETA: 0s - loss: 0.0974Epoch 00009: val_loss improved from 0.09694 to 0.09547, saving model to checkpoint_modelo_1.hdf5\n",
      "60000/60000 [==============================] - 2s - loss: 0.0974 - val_loss: 0.0955\n",
      "Epoch 11/70\n",
      "58880/60000 [============================>.] - ETA: 0s - loss: 0.0962Epoch 00010: val_loss improved from 0.09547 to 0.09452, saving model to checkpoint_modelo_1.hdf5\n",
      "60000/60000 [==============================] - 2s - loss: 0.0962 - val_loss: 0.0945\n",
      "Epoch 12/70\n",
      "59648/60000 [============================>.] - ETA: 0s - loss: 0.0954Epoch 00011: val_loss improved from 0.09452 to 0.09384, saving model to checkpoint_modelo_1.hdf5\n",
      "60000/60000 [==============================] - 2s - loss: 0.0954 - val_loss: 0.0938\n",
      "Epoch 13/70\n",
      "58880/60000 [============================>.] - ETA: 0s - loss: 0.0949Epoch 00012: val_loss improved from 0.09384 to 0.09330, saving model to checkpoint_modelo_1.hdf5\n",
      "60000/60000 [==============================] - 2s - loss: 0.0949 - val_loss: 0.0933\n",
      "Epoch 14/70\n",
      "58112/60000 [============================>.] - ETA: 0s - loss: 0.0945Epoch 00013: val_loss improved from 0.09330 to 0.09300, saving model to checkpoint_modelo_1.hdf5\n",
      "60000/60000 [==============================] - 2s - loss: 0.0945 - val_loss: 0.0930\n",
      "Epoch 15/70\n",
      "59392/60000 [============================>.] - ETA: 0s - loss: 0.0942Epoch 00014: val_loss improved from 0.09300 to 0.09283, saving model to checkpoint_modelo_1.hdf5\n",
      "60000/60000 [==============================] - 2s - loss: 0.0942 - val_loss: 0.0928\n",
      "Epoch 16/70\n",
      "58368/60000 [============================>.] - ETA: 0s - loss: 0.0940Epoch 00015: val_loss improved from 0.09283 to 0.09260, saving model to checkpoint_modelo_1.hdf5\n",
      "60000/60000 [==============================] - 2s - loss: 0.0940 - val_loss: 0.0926\n",
      "Epoch 17/70\n",
      "59648/60000 [============================>.] - ETA: 0s - loss: 0.0938Epoch 00016: val_loss improved from 0.09260 to 0.09247, saving model to checkpoint_modelo_1.hdf5\n",
      "60000/60000 [==============================] - 2s - loss: 0.0938 - val_loss: 0.0925\n",
      "Epoch 18/70\n",
      "58880/60000 [============================>.] - ETA: 0s - loss: 0.0937Epoch 00017: val_loss improved from 0.09247 to 0.09239, saving model to checkpoint_modelo_1.hdf5\n",
      "60000/60000 [==============================] - 2s - loss: 0.0937 - val_loss: 0.0924\n",
      "Epoch 19/70\n",
      "59136/60000 [============================>.] - ETA: 0s - loss: 0.0935Epoch 00018: val_loss improved from 0.09239 to 0.09224, saving model to checkpoint_modelo_1.hdf5\n",
      "60000/60000 [==============================] - 2s - loss: 0.0936 - val_loss: 0.0922\n",
      "Epoch 20/70\n",
      "59136/60000 [============================>.] - ETA: 0s - loss: 0.0935Epoch 00019: val_loss improved from 0.09224 to 0.09215, saving model to checkpoint_modelo_1.hdf5\n",
      "60000/60000 [==============================] - 2s - loss: 0.0935 - val_loss: 0.0921\n",
      "Epoch 21/70\n",
      "59904/60000 [============================>.] - ETA: 0s - loss: 0.0934Epoch 00020: val_loss improved from 0.09215 to 0.09210, saving model to checkpoint_modelo_1.hdf5\n",
      "60000/60000 [==============================] - 2s - loss: 0.0934 - val_loss: 0.0921\n",
      "Epoch 22/70\n",
      "59648/60000 [============================>.] - ETA: 0s - loss: 0.0933Epoch 00021: val_loss improved from 0.09210 to 0.09198, saving model to checkpoint_modelo_1.hdf5\n",
      "60000/60000 [==============================] - 2s - loss: 0.0933 - val_loss: 0.0920\n",
      "Epoch 23/70\n",
      "59136/60000 [============================>.] - ETA: 0s - loss: 0.0932Epoch 00022: val_loss improved from 0.09198 to 0.09196, saving model to checkpoint_modelo_1.hdf5\n",
      "60000/60000 [==============================] - 2s - loss: 0.0932 - val_loss: 0.0920\n",
      "Epoch 24/70\n",
      "59392/60000 [============================>.] - ETA: 0s - loss: 0.0932Epoch 00023: val_loss improved from 0.09196 to 0.09188, saving model to checkpoint_modelo_1.hdf5\n",
      "60000/60000 [==============================] - 2s - loss: 0.0932 - val_loss: 0.0919\n",
      "Epoch 25/70\n",
      "59904/60000 [============================>.] - ETA: 0s - loss: 0.0931Epoch 00024: val_loss improved from 0.09188 to 0.09187, saving model to checkpoint_modelo_1.hdf5\n",
      "60000/60000 [==============================] - 2s - loss: 0.0931 - val_loss: 0.0919\n",
      "Epoch 26/70\n",
      "59648/60000 [============================>.] - ETA: 0s - loss: 0.0931Epoch 00025: val_loss improved from 0.09187 to 0.09184, saving model to checkpoint_modelo_1.hdf5\n",
      "60000/60000 [==============================] - 2s - loss: 0.0931 - val_loss: 0.0918\n",
      "Epoch 27/70\n",
      "59648/60000 [============================>.] - ETA: 0s - loss: 0.0930Epoch 00026: val_loss improved from 0.09184 to 0.09178, saving model to checkpoint_modelo_1.hdf5\n",
      "60000/60000 [==============================] - 2s - loss: 0.0930 - val_loss: 0.0918\n",
      "Epoch 28/70\n",
      "59648/60000 [============================>.] - ETA: 0s - loss: 0.0930Epoch 00027: val_loss did not improve\n",
      "60000/60000 [==============================] - 1s - loss: 0.0930 - val_loss: 0.0919\n",
      "Epoch 29/70\n",
      "58880/60000 [============================>.] - ETA: 0s - loss: 0.0929Epoch 00029: val_loss did not improve\n",
      "60000/60000 [==============================] - 2s - loss: 0.0929 - val_loss: 0.0918\n",
      "Epoch 31/70\n",
      "58112/60000 [============================>.] - ETA: 0s - loss: 0.0929Epoch 00030: val_loss improved from 0.09174 to 0.09173, saving model to checkpoint_modelo_1.hdf5\n",
      "60000/60000 [==============================] - 2s - loss: 0.0929 - val_loss: 0.0917\n",
      "Epoch 32/70\n",
      "58880/60000 [============================>.] - ETA: 0s - loss: 0.0929Epoch 00031: val_loss improved from 0.09173 to 0.09171, saving model to checkpoint_modelo_1.hdf5\n",
      "60000/60000 [==============================] - 2s - loss: 0.0929 - val_loss: 0.0917\n",
      "Epoch 33/70\n",
      "59648/60000 [============================>.] - ETA: 0s - loss: 0.0928Epoch 00032: val_loss improved from 0.09171 to 0.09165, saving model to checkpoint_modelo_1.hdf5\n",
      "60000/60000 [==============================] - 2s - loss: 0.0928 - val_loss: 0.0916\n",
      "Epoch 34/70\n",
      "58624/60000 [============================>.] - ETA: 0s - loss: 0.0928Epoch 00033: val_loss improved from 0.09165 to 0.09159, saving model to checkpoint_modelo_1.hdf5\n",
      "60000/60000 [==============================] - 2s - loss: 0.0928 - val_loss: 0.0916\n",
      "Epoch 35/70\n",
      "58368/60000 [============================>.] - ETA: 0s - loss: 0.0928Epoch 00034: val_loss did not improve\n",
      "60000/60000 [==============================] - 1s - loss: 0.0928 - val_loss: 0.0917\n",
      "Epoch 36/70\n",
      "59392/60000 [============================>.] - ETA: 0s - loss: 0.0928Epoch 00035: val_loss did not improve\n",
      "60000/60000 [==============================] - 2s - loss: 0.0928 - val_loss: 0.0916\n",
      "Epoch 37/70\n",
      "59136/60000 [============================>.] - ETA: 0s - loss: 0.0927Epoch 00036: val_loss improved from 0.09159 to 0.09155, saving model to checkpoint_modelo_1.hdf5\n",
      "60000/60000 [==============================] - 2s - loss: 0.0928 - val_loss: 0.0915\n",
      "Epoch 38/70\n",
      "59648/60000 [============================>.] - ETA: 0s - loss: 0.0928Epoch 00037: val_loss did not improve\n",
      "60000/60000 [==============================] - 1s - loss: 0.0927 - val_loss: 0.0916\n",
      "Epoch 39/70\n",
      "59136/60000 [============================>.] - ETA: 0s - loss: 0.0927Epoch 00038: val_loss did not improve\n",
      "60000/60000 [==============================] - 1s - loss: 0.0927 - val_loss: 0.0916\n",
      "Epoch 40/70\n",
      "59904/60000 [============================>.] - ETA: 0s - loss: 0.0927Epoch 00039: val_loss did not improve\n",
      "60000/60000 [==============================] - 1s - loss: 0.0927 - val_loss: 0.0916\n",
      "Epoch 41/70\n",
      "58368/60000 [============================>.] - ETA: 0s - loss: 0.0927Epoch 00040: val_loss did not improve\n",
      "60000/60000 [==============================] - 1s - loss: 0.0927 - val_loss: 0.0916\n",
      "Epoch 42/70\n",
      "58368/60000 [============================>.] - ETA: 0s - loss: 0.0927Epoch 00041: val_loss did not improve\n",
      "60000/60000 [==============================] - 1s - loss: 0.0927 - val_loss: 0.0916\n",
      "Epoch 43/70\n",
      "58624/60000 [============================>.] - ETA: 0s - loss: 0.0927Epoch 00042: val_loss did not improve\n",
      "60000/60000 [==============================] - 1s - loss: 0.0927 - val_loss: 0.0916\n",
      "Epoch 44/70\n",
      "58880/60000 [============================>.] - ETA: 0s - loss: 0.0927Epoch 00043: val_loss improved from 0.09155 to 0.09149, saving model to checkpoint_modelo_1.hdf5\n",
      "60000/60000 [==============================] - 2s - loss: 0.0927 - val_loss: 0.0915\n",
      "Epoch 45/70\n",
      "59392/60000 [============================>.] - ETA: 0s - loss: 0.0926Epoch 00044: val_loss improved from 0.09149 to 0.09148, saving model to checkpoint_modelo_1.hdf5\n",
      "60000/60000 [==============================] - 2s - loss: 0.0926 - val_loss: 0.0915\n",
      "Epoch 46/70\n",
      "58880/60000 [============================>.] - ETA: 0s - loss: 0.0926Epoch 00045: val_loss did not improve\n",
      "60000/60000 [==============================] - 2s - loss: 0.0926 - val_loss: 0.0915\n",
      "Epoch 47/70\n",
      "59904/60000 [============================>.] - ETA: 0s - loss: 0.0926Epoch 00046: val_loss improved from 0.09148 to 0.09146, saving model to checkpoint_modelo_1.hdf5\n",
      "60000/60000 [==============================] - 2s - loss: 0.0926 - val_loss: 0.0915\n",
      "Epoch 48/70\n",
      "58880/60000 [============================>.] - ETA: 0s - loss: 0.0926Epoch 00047: val_loss did not improve\n",
      "60000/60000 [==============================] - 1s - loss: 0.0926 - val_loss: 0.0915\n",
      "Epoch 49/70\n",
      "59136/60000 [============================>.] - ETA: 0s - loss: 0.0926Epoch 00048: val_loss did not improve\n",
      "60000/60000 [==============================] - 2s - loss: 0.0926 - val_loss: 0.0915\n",
      "Epoch 50/70\n",
      "58880/60000 [============================>.] - ETA: 0s - loss: 0.0926Epoch 00049: val_loss did not improve\n",
      "60000/60000 [==============================] - 2s - loss: 0.0926 - val_loss: 0.0915\n",
      "Epoch 51/70\n",
      "58624/60000 [============================>.] - ETA: 0s - loss: 0.0926Epoch 00050: val_loss improved from 0.09146 to 0.09143, saving model to checkpoint_modelo_1.hdf5\n",
      "60000/60000 [==============================] - 2s - loss: 0.0926 - val_loss: 0.0914\n",
      "Epoch 52/70\n",
      "59648/60000 [============================>.] - ETA: 0s - loss: 0.0926Epoch 00051: val_loss did not improve\n",
      "60000/60000 [==============================] - 2s - loss: 0.0926 - val_loss: 0.0915\n",
      "Epoch 53/70\n",
      "59904/60000 [============================>.] - ETA: 0s - loss: 0.0926Epoch 00052: val_loss did not improve\n",
      "60000/60000 [==============================] - 2s - loss: 0.0926 - val_loss: 0.0914\n",
      "Epoch 54/70\n",
      "58880/60000 [============================>.] - ETA: 0s - loss: 0.0925Epoch 00053: val_loss did not improve\n",
      "60000/60000 [==============================] - 2s - loss: 0.0926 - val_loss: 0.0915\n",
      "Epoch 55/70\n",
      "59392/60000 [============================>.] - ETA: 0s - loss: 0.0925Epoch 00054: val_loss did not improve\n",
      "60000/60000 [==============================] - 2s - loss: 0.0925 - val_loss: 0.0915\n",
      "Epoch 56/70\n",
      "59904/60000 [============================>.] - ETA: 0s - loss: 0.0925Epoch 00055: val_loss improved from 0.09143 to 0.09142, saving model to checkpoint_modelo_1.hdf5\n",
      "60000/60000 [==============================] - 2s - loss: 0.0925 - val_loss: 0.0914\n",
      "Epoch 57/70\n",
      "58368/60000 [============================>.] - ETA: 0s - loss: 0.0925Epoch 00056: val_loss did not improve\n",
      "60000/60000 [==============================] - 2s - loss: 0.0925 - val_loss: 0.0914\n",
      "Epoch 58/70\n",
      "59904/60000 [============================>.] - ETA: 0s - loss: 0.0925Epoch 00057: val_loss improved from 0.09142 to 0.09141, saving model to checkpoint_modelo_1.hdf5\n",
      "60000/60000 [==============================] - 2s - loss: 0.0925 - val_loss: 0.0914\n",
      "Epoch 59/70\n",
      "59904/60000 [============================>.] - ETA: 0s - loss: 0.0925Epoch 00058: val_loss did not improve\n",
      "60000/60000 [==============================] - 2s - loss: 0.0925 - val_loss: 0.0914\n",
      "Epoch 60/70\n",
      "58624/60000 [============================>.] - ETA: 0s - loss: 0.0925Epoch 00059: val_loss did not improve\n",
      "60000/60000 [==============================] - 2s - loss: 0.0925 - val_loss: 0.0914\n",
      "Epoch 61/70\n",
      "58368/60000 [============================>.] - ETA: 0s - loss: 0.0925Epoch 00060: val_loss did not improve\n",
      "60000/60000 [==============================] - 2s - loss: 0.0925 - val_loss: 0.0915\n",
      "Epoch 62/70\n",
      "58368/60000 [============================>.] - ETA: 0s - loss: 0.0925Epoch 00061: val_loss did not improve\n",
      "60000/60000 [==============================] - 1s - loss: 0.0925 - val_loss: 0.0914\n",
      "Epoch 63/70\n",
      "59648/60000 [============================>.] - ETA: 0s - loss: 0.0925Epoch 00062: val_loss improved from 0.09141 to 0.09136, saving model to checkpoint_modelo_1.hdf5\n",
      "60000/60000 [==============================] - 2s - loss: 0.0925 - val_loss: 0.0914\n",
      "Epoch 64/70\n",
      "59904/60000 [============================>.] - ETA: 0s - loss: 0.0925Epoch 00063: val_loss did not improve\n",
      "60000/60000 [==============================] - 1s - loss: 0.0925 - val_loss: 0.0914\n",
      "Epoch 65/70\n",
      "58624/60000 [============================>.] - ETA: 0s - loss: 0.0925Epoch 00064: val_loss did not improve\n",
      "60000/60000 [==============================] - 1s - loss: 0.0925 - val_loss: 0.0914\n",
      "Epoch 66/70\n",
      "58368/60000 [============================>.] - ETA: 0s - loss: 0.0925Epoch 00065: val_loss did not improve\n",
      "60000/60000 [==============================] - 1s - loss: 0.0925 - val_loss: 0.0915\n",
      "Epoch 67/70\n",
      "59648/60000 [============================>.] - ETA: 0s - loss: 0.0925Epoch 00066: val_loss improved from 0.09136 to 0.09133, saving model to checkpoint_modelo_1.hdf5\n",
      "60000/60000 [==============================] - 2s - loss: 0.0925 - val_loss: 0.0913\n",
      "Epoch 68/70\n",
      "59648/60000 [============================>.] - ETA: 0s - loss: 0.0925Epoch 00067: val_loss did not improve\n",
      "60000/60000 [==============================] - 1s - loss: 0.0925 - val_loss: 0.0914\n",
      "Epoch 69/70\n",
      "58112/60000 [============================>.] - ETA: 0s - loss: 0.0925Epoch 00068: val_loss did not improve\n",
      "60000/60000 [==============================] - 1s - loss: 0.0925 - val_loss: 0.0914\n",
      "Epoch 70/70\n"
     ]
    },
    {
     "name": "stdout",
     "output_type": "stream",
     "text": [
      "58368/60000 [============================>.] - ETA: 0s - loss: 0.0925Epoch 00069: val_loss did not improve\n",
      "60000/60000 [==============================] - 1s - loss: 0.0925 - val_loss: 0.0915\n"
     ]
    }
   ],
   "source": [
    "history_model_1 = autoencoder.fit(x_train, x_train,\n",
    "                                  epochs=70,\n",
    "                                  batch_size=256,\n",
    "                                  shuffle=True,\n",
    "                                  validation_data=(x_test, x_test),\n",
    "                                  callbacks=[checkpointer_1])"
   ]
  },
  {
   "cell_type": "code",
   "execution_count": null,
   "metadata": {
    "collapsed": true
   },
   "outputs": [],
   "source": [
    "encoded_imgs = encoder.predict(x_test)\n",
    "decoded_imgs = decoder.predict(encoded_imgs)"
   ]
  },
  {
   "cell_type": "code",
   "execution_count": null,
   "metadata": {},
   "outputs": [
    {
     "data": {
      "image/png": "[encoded data removed]",
      "text/plain": [
       "<matplotlib.figure.Figure at 0x7f79d55a10f0>"
      ]
     },
     "metadata": {},
     "output_type": "display_data"
    }
   ],
   "source": [
    "n = 15  # how many digits we will display\n",
    "plt.figure(figsize=(2*n, 4))\n",
    "for i in range(n):\n",
    "    # display original\n",
    "    ax = plt.subplot(2, n, i + 1)\n",
    "    plt.imshow(x_test[i].reshape(28, 28))\n",
    "    plt.gray()\n",
    "    ax.get_xaxis().set_visible(False)\n",
    "    ax.get_yaxis().set_visible(False)\n",
    "\n",
    "    # display reconstruction\n",
    "    ax = plt.subplot(2, n, i + 1 + n)\n",
    "    plt.imshow(decoded_imgs[i].reshape(28, 28))\n",
    "    plt.gray()\n",
    "    ax.get_xaxis().set_visible(False)\n",
    "    ax.get_yaxis().set_visible(False)\n",
    "plt.show()"
   ]
  },
  {
   "cell_type": "code",
   "execution_count": null,
   "metadata": {},
   "outputs": [
    {
     "data": {
      "image/png": "[encoded data removed]",
      "text/plain": [
       "<matplotlib.figure.Figure at 0x7f79d55a10b8>"
      ]
     },
     "metadata": {},
     "output_type": "display_data"
    }
   ],
   "source": [
    "# Grafico do treinamento\n",
    "plt.plot(history_model_1.history['loss'], 'b')\n",
    "plt.plot(history_model_1.history['val_loss'], 'r')\n",
    "plt.show()"
   ]
  },
  {
   "cell_type": "markdown",
   "metadata": {},
   "source": [
    "# Modelo 2: Fully Connected Neural Network de Apenas 1 camada com Regularização L1"
   ]
  },
  {
   "cell_type": "markdown",
   "metadata": {},
   "source": [
    "Os regularizadores permitem aplicar penalidades nos parâmetros do layer durante a etapa de otimização. As penalidades são incorporadas na função de custo que a rede otimiza."
   ]
  },
  {
   "cell_type": "code",
   "execution_count": null,
   "metadata": {
    "collapsed": true
   },
   "outputs": [],
   "source": [
    "input_img = Input(shape=(image_dim,))\n",
    "\n",
    "encoded_reg = Dense(32, activation='relu', activity_regularizer=regularizers.l1(5*10e-8))(input_img)\n",
    "decoded_reg = Dense(784, activation='sigmoid')(encoded_reg)\n",
    "\n",
    "autoencoder_reg = Model(input_img, decoded_reg)"
   ]
  },
  {
   "cell_type": "code",
   "execution_count": null,
   "metadata": {
    "collapsed": true
   },
   "outputs": [],
   "source": [
    "# carregando o modelo, se necessário\n",
    "#autoencoder.load_weights('checkpoint_modelo_2.hdf5')"
   ]
  },
  {
   "cell_type": "code",
   "execution_count": null,
   "metadata": {
    "collapsed": true
   },
   "outputs": [],
   "source": [
    "autoencoder_reg.compile(optimizer='adadelta', loss='binary_crossentropy')"
   ]
  },
  {
   "cell_type": "code",
   "execution_count": null,
   "metadata": {},
   "outputs": [
    {
     "name": "stdout",
     "output_type": "stream",
     "text": [
      "_________________________________________________________________\n",
      "Layer (type)                 Output Shape              Param #   \n",
      "=================================================================\n",
      "input_3 (InputLayer)         (None, 784)               0         \n",
      "_________________________________________________________________\n",
      "dense_3 (Dense)              (None, 32)                25120     \n",
      "_________________________________________________________________\n",
      "dense_4 (Dense)              (None, 784)               25872     \n",
      "=================================================================\n",
      "Total params: 50,992\n",
      "Trainable params: 50,992\n",
      "Non-trainable params: 0\n",
      "_________________________________________________________________\n"
     ]
    }
   ],
   "source": [
    "autoencoder_reg.summary()"
   ]
  },
  {
   "cell_type": "markdown",
   "metadata": {},
   "source": [
    "O modelo com regularização geralmente é menos passível de _overfitting_ e pode ser treinado por mais tempo. "
   ]
  },
  {
   "cell_type": "code",
   "execution_count": null,
   "metadata": {
    "collapsed": true
   },
   "outputs": [],
   "source": [
    "checkpointer_2 = ModelCheckpoint(filepath='checkpoint_modelo_2.hdf5', verbose=1, save_best_only=True)"
   ]
  },
  {
   "cell_type": "code",
   "execution_count": null,
   "metadata": {
    "scrolled": true
   },
   "outputs": [
    {
     "name": "stdout",
     "output_type": "stream",
     "text": [
      "Train on 60000 samples, validate on 10000 samples\n",
      "Epoch 1/300\n",
      "58880/60000 [============================>.] - ETA: 0s - loss: 0.3918Epoch 00000: val_loss improved from inf to 0.28357, saving model to checkpoint_modelo_2.hdf5\n",
      "60000/60000 [==============================] - 2s - loss: 0.3898 - val_loss: 0.2836\n",
      "Epoch 2/300\n",
      "59904/60000 [============================>.] - ETA: 0s - loss: 0.2775Epoch 00001: val_loss improved from 0.28357 to 0.26873, saving model to checkpoint_modelo_2.hdf5\n",
      "60000/60000 [==============================] - 2s - loss: 0.2775 - val_loss: 0.2687\n",
      "Epoch 3/300\n",
      "59904/60000 [============================>.] - ETA: 0s - loss: 0.2596Epoch 00002: val_loss improved from 0.26873 to 0.24827, saving model to checkpoint_modelo_2.hdf5\n",
      "60000/60000 [==============================] - 2s - loss: 0.2596 - val_loss: 0.2483\n",
      "Epoch 4/300\n",
      "58624/60000 [============================>.] - ETA: 0s - loss: 0.2283Epoch 00004: val_loss improved from 0.23260 to 0.22103, saving model to checkpoint_modelo_2.hdf5\n",
      "60000/60000 [==============================] - 2s - loss: 0.2281 - val_loss: 0.2210\n",
      "Epoch 6/300\n",
      "59392/60000 [============================>.] - ETA: 0s - loss: 0.2175Epoch 00005: val_loss improved from 0.22103 to 0.21133, saving model to checkpoint_modelo_2.hdf5\n",
      "60000/60000 [==============================] - 2s - loss: 0.2175 - val_loss: 0.2113\n",
      "Epoch 7/300\n",
      "58880/60000 [============================>.] - ETA: 0s - loss: 0.2086Epoch 00006: val_loss improved from 0.21133 to 0.20316, saving model to checkpoint_modelo_2.hdf5\n",
      "60000/60000 [==============================] - 2s - loss: 0.2086 - val_loss: 0.2032\n",
      "Epoch 8/300\n",
      "59904/60000 [============================>.] - ETA: 0s - loss: 0.2010Epoch 00007: val_loss improved from 0.20316 to 0.19614, saving model to checkpoint_modelo_2.hdf5\n",
      "60000/60000 [==============================] - 2s - loss: 0.2010 - val_loss: 0.1961\n",
      "Epoch 9/300\n",
      "59136/60000 [============================>.] - ETA: 0s - loss: 0.1944Epoch 00008: val_loss improved from 0.19614 to 0.18998, saving model to checkpoint_modelo_2.hdf5\n",
      "60000/60000 [==============================] - 2s - loss: 0.1944 - val_loss: 0.1900\n",
      "Epoch 10/300\n",
      "58624/60000 [============================>.] - ETA: 0s - loss: 0.1888Epoch 00009: val_loss improved from 0.18998 to 0.18487, saving model to checkpoint_modelo_2.hdf5\n",
      "60000/60000 [==============================] - 2s - loss: 0.1888 - val_loss: 0.1849\n",
      "Epoch 11/300\n",
      "59904/60000 [============================>.] - ETA: 0s - loss: 0.1840Epoch 00010: val_loss improved from 0.18487 to 0.18047, saving model to checkpoint_modelo_2.hdf5\n",
      "60000/60000 [==============================] - 2s - loss: 0.1840 - val_loss: 0.1805\n",
      "Epoch 12/300\n",
      "59392/60000 [============================>.] - ETA: 0s - loss: 0.1799Epoch 00011: val_loss improved from 0.18047 to 0.17656, saving model to checkpoint_modelo_2.hdf5\n",
      "60000/60000 [==============================] - 2s - loss: 0.1799 - val_loss: 0.1766\n",
      "Epoch 13/300\n",
      "59648/60000 [============================>.] - ETA: 0s - loss: 0.1762Epoch 00012: val_loss improved from 0.17656 to 0.17313, saving model to checkpoint_modelo_2.hdf5\n",
      "60000/60000 [==============================] - 2s - loss: 0.1762 - val_loss: 0.1731\n",
      "Epoch 14/300\n",
      "59648/60000 [============================>.] - ETA: 0s - loss: 0.1729Epoch 00013: val_loss improved from 0.17313 to 0.16997, saving model to checkpoint_modelo_2.hdf5\n",
      "60000/60000 [==============================] - 3s - loss: 0.1729 - val_loss: 0.1700\n",
      "Epoch 15/300\n",
      "58624/60000 [============================>.] - ETA: 0s - loss: 0.1699Epoch 00014: val_loss improved from 0.16997 to 0.16704, saving model to checkpoint_modelo_2.hdf5\n",
      "60000/60000 [==============================] - 2s - loss: 0.1698 - val_loss: 0.1670\n",
      "Epoch 16/300\n",
      "59648/60000 [============================>.] - ETA: 0s - loss: 0.1670Epoch 00015: val_loss improved from 0.16704 to 0.16437, saving model to checkpoint_modelo_2.hdf5\n",
      "60000/60000 [==============================] - 2s - loss: 0.1670 - val_loss: 0.1644\n",
      "Epoch 17/300\n",
      "59648/60000 [============================>.] - ETA: 0s - loss: 0.1644Epoch 00016: val_loss improved from 0.16437 to 0.16178, saving model to checkpoint_modelo_2.hdf5\n",
      "60000/60000 [==============================] - 2s - loss: 0.1644 - val_loss: 0.1618\n",
      "Epoch 18/300\n",
      "58112/60000 [============================>.] - ETA: 0s - loss: 0.1619Epoch 00017: val_loss improved from 0.16178 to 0.15935, saving model to checkpoint_modelo_2.hdf5\n",
      "60000/60000 [==============================] - 2s - loss: 0.1619 - val_loss: 0.1593\n",
      "Epoch 19/300\n",
      "58624/60000 [============================>.] - ETA: 0s - loss: 0.1595Epoch 00018: val_loss improved from 0.15935 to 0.15704, saving model to checkpoint_modelo_2.hdf5\n",
      "60000/60000 [==============================] - 2s - loss: 0.1595 - val_loss: 0.1570\n",
      "Epoch 20/300\n",
      "59648/60000 [============================>.] - ETA: 0s - loss: 0.1573Epoch 00019: val_loss improved from 0.15704 to 0.15487, saving model to checkpoint_modelo_2.hdf5\n",
      "60000/60000 [==============================] - 2s - loss: 0.1572 - val_loss: 0.1549\n",
      "Epoch 21/300\n",
      "59904/60000 [============================>.] - ETA: 0s - loss: 0.1551Epoch 00020: val_loss improved from 0.15487 to 0.15278, saving model to checkpoint_modelo_2.hdf5\n",
      "60000/60000 [==============================] - 2s - loss: 0.1551 - val_loss: 0.1528\n",
      "Epoch 22/300\n",
      "58624/60000 [============================>.] - ETA: 0s - loss: 0.1531Epoch 00021: val_loss improved from 0.15278 to 0.15074, saving model to checkpoint_modelo_2.hdf5\n",
      "60000/60000 [==============================] - 2s - loss: 0.1531 - val_loss: 0.1507\n",
      "Epoch 23/300\n",
      "59136/60000 [============================>.] - ETA: 0s - loss: 0.1512Epoch 00022: val_loss improved from 0.15074 to 0.14887, saving model to checkpoint_modelo_2.hdf5\n",
      "60000/60000 [==============================] - 2s - loss: 0.1512 - val_loss: 0.1489\n",
      "Epoch 24/300\n",
      "59392/60000 [============================>.] - ETA: 0s - loss: 0.1494Epoch 00023: val_loss improved from 0.14887 to 0.14714, saving model to checkpoint_modelo_2.hdf5\n",
      "60000/60000 [==============================] - 2s - loss: 0.1494 - val_loss: 0.1471\n",
      "Epoch 25/300\n",
      "59648/60000 [============================>.] - ETA: 0s - loss: 0.1477Epoch 00024: val_loss improved from 0.14714 to 0.14558, saving model to checkpoint_modelo_2.hdf5\n",
      "60000/60000 [==============================] - 2s - loss: 0.1477 - val_loss: 0.1456\n",
      "Epoch 26/300\n",
      "59648/60000 [============================>.] - ETA: 0s - loss: 0.1461Epoch 00025: val_loss improved from 0.14558 to 0.14395, saving model to checkpoint_modelo_2.hdf5\n",
      "60000/60000 [==============================] - 2s - loss: 0.1461 - val_loss: 0.1439\n",
      "Epoch 27/300\n",
      "58368/60000 [============================>.] - ETA: 0s - loss: 0.1447Epoch 00026: val_loss improved from 0.14395 to 0.14260, saving model to checkpoint_modelo_2.hdf5\n",
      "60000/60000 [==============================] - 2s - loss: 0.1447 - val_loss: 0.1426\n",
      "Epoch 28/300\n",
      "59904/60000 [============================>.] - ETA: 0s - loss: 0.1433Epoch 00027: val_loss improved from 0.14260 to 0.14121, saving model to checkpoint_modelo_2.hdf5\n",
      "60000/60000 [==============================] - 2s - loss: 0.1433 - val_loss: 0.1412\n",
      "Epoch 29/300\n",
      "59648/60000 [============================>.] - ETA: 0s - loss: 0.1420Epoch 00028: val_loss improved from 0.14121 to 0.13992, saving model to checkpoint_modelo_2.hdf5\n",
      "60000/60000 [==============================] - 2s - loss: 0.1420 - val_loss: 0.1399\n",
      "Epoch 30/300\n",
      "59648/60000 [============================>.] - ETA: 0s - loss: 0.1408Epoch 00029: val_loss improved from 0.13992 to 0.13870, saving model to checkpoint_modelo_2.hdf5\n",
      "60000/60000 [==============================] - 2s - loss: 0.1408 - val_loss: 0.1387\n",
      "Epoch 31/300\n",
      "58880/60000 [============================>.] - ETA: 0s - loss: 0.1397Epoch 00030: val_loss improved from 0.13870 to 0.13762, saving model to checkpoint_modelo_2.hdf5\n",
      "60000/60000 [==============================] - 2s - loss: 0.1396 - val_loss: 0.1376\n",
      "Epoch 32/300\n",
      "59648/60000 [============================>.] - ETA: 0s - loss: 0.1385Epoch 00031: val_loss improved from 0.13762 to 0.13651, saving model to checkpoint_modelo_2.hdf5\n",
      "60000/60000 [==============================] - 2s - loss: 0.1385 - val_loss: 0.1365\n",
      "Epoch 33/300\n"
     ]
    },
    {
     "name": "stdout",
     "output_type": "stream",
     "text": [
      "59136/60000 [============================>.] - ETA: 0s - loss: 0.1375Epoch 00032: val_loss improved from 0.13651 to 0.13551, saving model to checkpoint_modelo_2.hdf5\n",
      "60000/60000 [==============================] - 2s - loss: 0.1375 - val_loss: 0.1355\n",
      "Epoch 34/300\n",
      "59136/60000 [============================>.] - ETA: 0s - loss: 0.1365Epoch 00033: val_loss improved from 0.13551 to 0.13454, saving model to checkpoint_modelo_2.hdf5\n",
      "60000/60000 [==============================] - 2s - loss: 0.1365 - val_loss: 0.1345\n",
      "Epoch 35/300\n",
      "58368/60000 [============================>.] - ETA: 0s - loss: 0.1356Epoch 00034: val_loss improved from 0.13454 to 0.13361, saving model to checkpoint_modelo_2.hdf5\n",
      "60000/60000 [==============================] - 2s - loss: 0.1356 - val_loss: 0.1336\n",
      "Epoch 36/300\n",
      "59392/60000 [============================>.] - ETA: 0s - loss: 0.1347Epoch 00035: val_loss improved from 0.13361 to 0.13274, saving model to checkpoint_modelo_2.hdf5\n",
      "60000/60000 [==============================] - 2s - loss: 0.1347 - val_loss: 0.1327\n",
      "Epoch 37/300\n",
      "59136/60000 [============================>.] - ETA: 0s - loss: 0.1338Epoch 00036: val_loss improved from 0.13274 to 0.13193, saving model to checkpoint_modelo_2.hdf5\n",
      "60000/60000 [==============================] - 3s - loss: 0.1338 - val_loss: 0.1319\n",
      "Epoch 38/300\n",
      "59392/60000 [============================>.] - ETA: 0s - loss: 0.1330Epoch 00037: val_loss improved from 0.13193 to 0.13115, saving model to checkpoint_modelo_2.hdf5\n",
      "60000/60000 [==============================] - 2s - loss: 0.1330 - val_loss: 0.1312\n",
      "Epoch 39/300\n",
      "58368/60000 [============================>.] - ETA: 0s - loss: 0.1323Epoch 00038: val_loss improved from 0.13115 to 0.13042, saving model to checkpoint_modelo_2.hdf5\n",
      "60000/60000 [==============================] - 2s - loss: 0.1323 - val_loss: 0.1304\n",
      "Epoch 40/300\n",
      "59136/60000 [============================>.] - ETA: 0s - loss: 0.1316Epoch 00039: val_loss improved from 0.13042 to 0.12968, saving model to checkpoint_modelo_2.hdf5\n",
      "60000/60000 [==============================] - 2s - loss: 0.1315 - val_loss: 0.1297\n",
      "Epoch 41/300\n",
      "59904/60000 [============================>.] - ETA: 0s - loss: 0.1309Epoch 00040: val_loss improved from 0.12968 to 0.12903, saving model to checkpoint_modelo_2.hdf5\n",
      "60000/60000 [==============================] - 2s - loss: 0.1309 - val_loss: 0.1290\n",
      "Epoch 42/300\n",
      "59392/60000 [============================>.] - ETA: 0s - loss: 0.1302Epoch 00041: val_loss improved from 0.12903 to 0.12839, saving model to checkpoint_modelo_2.hdf5\n",
      "60000/60000 [==============================] - 2s - loss: 0.1302 - val_loss: 0.1284\n",
      "Epoch 43/300\n",
      "59904/60000 [============================>.] - ETA: 0s - loss: 0.1284Epoch 00044: val_loss improved from 0.12721 to 0.12665, saving model to checkpoint_modelo_2.hdf5\n",
      "60000/60000 [==============================] - 2s - loss: 0.1284 - val_loss: 0.1267\n",
      "Epoch 46/300\n",
      "59392/60000 [============================>.] - ETA: 0s - loss: 0.1279Epoch 00045: val_loss improved from 0.12665 to 0.12613, saving model to checkpoint_modelo_2.hdf5\n",
      "60000/60000 [==============================] - 2s - loss: 0.1279 - val_loss: 0.1261\n",
      "Epoch 47/300\n",
      "59136/60000 [============================>.] - ETA: 0s - loss: 0.1274Epoch 00046: val_loss improved from 0.12613 to 0.12564, saving model to checkpoint_modelo_2.hdf5\n",
      "60000/60000 [==============================] - 2s - loss: 0.1274 - val_loss: 0.1256\n",
      "Epoch 48/300\n",
      "59648/60000 [============================>.] - ETA: 0s - loss: 0.1269Epoch 00047: val_loss improved from 0.12564 to 0.12517, saving model to checkpoint_modelo_2.hdf5\n",
      "60000/60000 [==============================] - 2s - loss: 0.1269 - val_loss: 0.1252\n",
      "Epoch 49/300\n",
      "58880/60000 [============================>.] - ETA: 0s - loss: 0.1265Epoch 00048: val_loss improved from 0.12517 to 0.12472, saving model to checkpoint_modelo_2.hdf5\n",
      "60000/60000 [==============================] - 2s - loss: 0.1265 - val_loss: 0.1247\n",
      "Epoch 50/300\n",
      "59648/60000 [============================>.] - ETA: 0s - loss: 0.1260Epoch 00049: val_loss improved from 0.12472 to 0.12429, saving model to checkpoint_modelo_2.hdf5\n",
      "60000/60000 [==============================] - 2s - loss: 0.1260 - val_loss: 0.1243\n",
      "Epoch 51/300\n",
      "58624/60000 [============================>.] - ETA: 0s - loss: 0.1256Epoch 00050: val_loss improved from 0.12429 to 0.12388, saving model to checkpoint_modelo_2.hdf5\n",
      "60000/60000 [==============================] - 2s - loss: 0.1256 - val_loss: 0.1239\n",
      "Epoch 52/300\n",
      "59392/60000 [============================>.] - ETA: 0s - loss: 0.1252Epoch 00051: val_loss improved from 0.12388 to 0.12350, saving model to checkpoint_modelo_2.hdf5\n",
      "60000/60000 [==============================] - 2s - loss: 0.1252 - val_loss: 0.1235\n",
      "Epoch 53/300\n",
      "58368/60000 [============================>.] - ETA: 0s - loss: 0.1249Epoch 00052: val_loss improved from 0.12350 to 0.12313, saving model to checkpoint_modelo_2.hdf5\n",
      "60000/60000 [==============================] - 2s - loss: 0.1248 - val_loss: 0.1231\n",
      "Epoch 54/300\n",
      "59904/60000 [============================>.] - ETA: 0s - loss: 0.1245Epoch 00053: val_loss improved from 0.12313 to 0.12277, saving model to checkpoint_modelo_2.hdf5\n",
      "60000/60000 [==============================] - 2s - loss: 0.1245 - val_loss: 0.1228\n",
      "Epoch 55/300\n",
      "59904/60000 [============================>.] - ETA: 0s - loss: 0.1241Epoch 00054: val_loss improved from 0.12277 to 0.12243, saving model to checkpoint_modelo_2.hdf5\n",
      "60000/60000 [==============================] - 2s - loss: 0.1241 - val_loss: 0.1224\n",
      "Epoch 56/300\n",
      "58368/60000 [============================>.] - ETA: 0s - loss: 0.1238Epoch 00055: val_loss improved from 0.12243 to 0.12210, saving model to checkpoint_modelo_2.hdf5\n",
      "60000/60000 [==============================] - 2s - loss: 0.1238 - val_loss: 0.1221\n",
      "Epoch 57/300\n",
      "59648/60000 [============================>.] - ETA: 0s - loss: 0.1235Epoch 00056: val_loss improved from 0.12210 to 0.12179, saving model to checkpoint_modelo_2.hdf5\n",
      "60000/60000 [==============================] - 2s - loss: 0.1235 - val_loss: 0.1218\n",
      "Epoch 58/300\n",
      "59904/60000 [============================>.] - ETA: 0s - loss: 0.1232Epoch 00057: val_loss improved from 0.12179 to 0.12147, saving model to checkpoint_modelo_2.hdf5\n",
      "60000/60000 [==============================] - 2s - loss: 0.1232 - val_loss: 0.1215\n",
      "Epoch 59/300\n",
      "59648/60000 [============================>.] - ETA: 0s - loss: 0.1229Epoch 00058: val_loss improved from 0.12147 to 0.12118, saving model to checkpoint_modelo_2.hdf5\n",
      "60000/60000 [==============================] - 2s - loss: 0.1229 - val_loss: 0.1212\n",
      "Epoch 60/300\n",
      "59648/60000 [============================>.] - ETA: 0s - loss: 0.1226Epoch 00059: val_loss improved from 0.12118 to 0.12089, saving model to checkpoint_modelo_2.hdf5\n",
      "60000/60000 [==============================] - 3s - loss: 0.1226 - val_loss: 0.1209\n",
      "Epoch 61/300\n",
      "59136/60000 [============================>.] - ETA: 0s - loss: 0.1223Epoch 00060: val_loss improved from 0.12089 to 0.12062, saving model to checkpoint_modelo_2.hdf5\n",
      "60000/60000 [==============================] - 2s - loss: 0.1223 - val_loss: 0.1206\n",
      "Epoch 62/300\n",
      "59648/60000 [============================>.] - ETA: 0s - loss: 0.1221Epoch 00061: val_loss improved from 0.12062 to 0.12036, saving model to checkpoint_modelo_2.hdf5\n",
      "60000/60000 [==============================] - 2s - loss: 0.1220 - val_loss: 0.1204\n",
      "Epoch 63/300\n",
      "59904/60000 [============================>.] - ETA: 0s - loss: 0.1218Epoch 00062: val_loss improved from 0.12036 to 0.12010, saving model to checkpoint_modelo_2.hdf5\n",
      "60000/60000 [==============================] - 2s - loss: 0.1218 - val_loss: 0.1201\n",
      "Epoch 64/300\n",
      "58624/60000 [============================>.] - ETA: 0s - loss: 0.1215Epoch 00063: val_loss improved from 0.12010 to 0.11985, saving model to checkpoint_modelo_2.hdf5\n",
      "60000/60000 [==============================] - 2s - loss: 0.1215 - val_loss: 0.1198\n",
      "Epoch 65/300\n",
      "59904/60000 [============================>.] - ETA: 0s - loss: 0.1213Epoch 00064: val_loss improved from 0.11985 to 0.11961, saving model to checkpoint_modelo_2.hdf5\n",
      "60000/60000 [==============================] - 2s - loss: 0.1213 - val_loss: 0.1196\n",
      "Epoch 66/300\n",
      "59904/60000 [============================>.] - ETA: 0s - loss: 0.1211Epoch 00065: val_loss improved from 0.11961 to 0.11938, saving model to checkpoint_modelo_2.hdf5\n",
      "60000/60000 [==============================] - 2s - loss: 0.1210 - val_loss: 0.1194\n",
      "Epoch 67/300\n",
      "59392/60000 [============================>.] - ETA: 0s - loss: 0.1208Epoch 00066: val_loss improved from 0.11938 to 0.11915, saving model to checkpoint_modelo_2.hdf5\n",
      "60000/60000 [==============================] - 2s - loss: 0.1208 - val_loss: 0.1192\n",
      "Epoch 68/300\n",
      "59904/60000 [============================>.] - ETA: 0s - loss: 0.1206Epoch 00067: val_loss improved from 0.11915 to 0.11893, saving model to checkpoint_modelo_2.hdf5\n",
      "60000/60000 [==============================] - 2s - loss: 0.1206 - val_loss: 0.1189\n",
      "Epoch 69/300\n",
      "58624/60000 [============================>.] - ETA: 0s - loss: 0.1204Epoch 00068: val_loss improved from 0.11893 to 0.11872, saving model to checkpoint_modelo_2.hdf5\n",
      "60000/60000 [==============================] - 2s - loss: 0.1204 - val_loss: 0.1187\n",
      "Epoch 70/300\n",
      "58880/60000 [============================>.] - ETA: 0s - loss: 0.1202Epoch 00069: val_loss improved from 0.11872 to 0.11851, saving model to checkpoint_modelo_2.hdf5\n",
      "60000/60000 [==============================] - 2s - loss: 0.1202 - val_loss: 0.1185\n",
      "Epoch 71/300\n",
      "59392/60000 [============================>.] - ETA: 0s - loss: 0.1200Epoch 00070: val_loss improved from 0.11851 to 0.11829, saving model to checkpoint_modelo_2.hdf5\n",
      "60000/60000 [==============================] - 2s - loss: 0.1199 - val_loss: 0.1183\n",
      "Epoch 72/300\n",
      "58880/60000 [============================>.] - ETA: 0s - loss: 0.1197Epoch 00071: val_loss improved from 0.11829 to 0.11809, saving model to checkpoint_modelo_2.hdf5\n",
      "60000/60000 [==============================] - 2s - loss: 0.1197 - val_loss: 0.1181\n",
      "Epoch 73/300\n",
      "59136/60000 [============================>.] - ETA: 0s - loss: 0.1196Epoch 00072: val_loss improved from 0.11809 to 0.11789, saving model to checkpoint_modelo_2.hdf5\n",
      "60000/60000 [==============================] - 2s - loss: 0.1195 - val_loss: 0.1179\n",
      "Epoch 74/300\n",
      "59648/60000 [============================>.] - ETA: 0s - loss: 0.1194Epoch 00073: val_loss improved from 0.11789 to 0.11770, saving model to checkpoint_modelo_2.hdf5\n",
      "60000/60000 [==============================] - 2s - loss: 0.1193 - val_loss: 0.1177\n",
      "Epoch 75/300\n",
      "59904/60000 [============================>.] - ETA: 0s - loss: 0.1192Epoch 00074: val_loss improved from 0.11770 to 0.11751, saving model to checkpoint_modelo_2.hdf5\n",
      "60000/60000 [==============================] - 2s - loss: 0.1191 - val_loss: 0.1175\n",
      "Epoch 76/300\n",
      "59392/60000 [============================>.] - ETA: 0s - loss: 0.1190Epoch 00075: val_loss improved from 0.11751 to 0.11732, saving model to checkpoint_modelo_2.hdf5\n",
      "60000/60000 [==============================] - 2s - loss: 0.1190 - val_loss: 0.1173\n",
      "Epoch 77/300\n",
      "59904/60000 [============================>.] - ETA: 0s - loss: 0.1188Epoch 00076: val_loss improved from 0.11732 to 0.11715, saving model to checkpoint_modelo_2.hdf5\n",
      "60000/60000 [==============================] - 2s - loss: 0.1188 - val_loss: 0.1171\n",
      "Epoch 78/300\n",
      "59136/60000 [============================>.] - ETA: 0s - loss: 0.1186Epoch 00077: val_loss improved from 0.11715 to 0.11697, saving model to checkpoint_modelo_2.hdf5\n",
      "60000/60000 [==============================] - 2s - loss: 0.1186 - val_loss: 0.1170\n",
      "Epoch 79/300\n",
      "59648/60000 [============================>.] - ETA: 0s - loss: 0.1184Epoch 00078: val_loss improved from 0.11697 to 0.11680, saving model to checkpoint_modelo_2.hdf5\n",
      "60000/60000 [==============================] - 2s - loss: 0.1184 - val_loss: 0.1168\n",
      "Epoch 80/300\n",
      "58112/60000 [============================>.] - ETA: 0s - loss: 0.1183Epoch 00079: val_loss improved from 0.11680 to 0.11665, saving model to checkpoint_modelo_2.hdf5\n",
      "60000/60000 [==============================] - 2s - loss: 0.1183 - val_loss: 0.1166\n",
      "Epoch 81/300\n",
      "58880/60000 [============================>.] - ETA: 0s - loss: 0.1181Epoch 00080: val_loss improved from 0.11665 to 0.11649, saving model to checkpoint_modelo_2.hdf5\n",
      "60000/60000 [==============================] - 2s - loss: 0.1181 - val_loss: 0.1165\n",
      "Epoch 82/300\n",
      "59392/60000 [============================>.] - ETA: 0s - loss: 0.1180Epoch 00081: val_loss improved from 0.11649 to 0.11633, saving model to checkpoint_modelo_2.hdf5\n",
      "60000/60000 [==============================] - 2s - loss: 0.1179 - val_loss: 0.1163\n",
      "Epoch 83/300\n",
      "58880/60000 [============================>.] - ETA: 0s - loss: 0.1178Epoch 00082: val_loss improved from 0.11633 to 0.11619, saving model to checkpoint_modelo_2.hdf5\n",
      "60000/60000 [==============================] - 2s - loss: 0.1178 - val_loss: 0.1162\n",
      "Epoch 84/300\n",
      "59648/60000 [============================>.] - ETA: 0s - loss: 0.1175Epoch 00084: val_loss improved from 0.11605 to 0.11591, saving model to checkpoint_modelo_2.hdf5\n",
      "60000/60000 [==============================] - 2s - loss: 0.1175 - val_loss: 0.1159\n",
      "Epoch 86/300\n",
      "59392/60000 [============================>.] - ETA: 0s - loss: 0.1174Epoch 00085: val_loss improved from 0.11591 to 0.11578, saving model to checkpoint_modelo_2.hdf5\n",
      "60000/60000 [==============================] - 2s - loss: 0.1174 - val_loss: 0.1158\n",
      "Epoch 87/300\n",
      "58880/60000 [============================>.] - ETA: 0s - loss: 0.1173Epoch 00086: val_loss improved from 0.11578 to 0.11565, saving model to checkpoint_modelo_2.hdf5\n",
      "60000/60000 [==============================] - 2s - loss: 0.1172 - val_loss: 0.1157\n",
      "Epoch 88/300\n",
      "58112/60000 [============================>.] - ETA: 0s - loss: 0.1171Epoch 00087: val_loss improved from 0.11565 to 0.11553, saving model to checkpoint_modelo_2.hdf5\n",
      "60000/60000 [==============================] - 2s - loss: 0.1171 - val_loss: 0.1155\n",
      "Epoch 89/300\n",
      "58368/60000 [============================>.] - ETA: 0s - loss: 0.1170Epoch 00088: val_loss improved from 0.11553 to 0.11541, saving model to checkpoint_modelo_2.hdf5\n",
      "60000/60000 [==============================] - 2s - loss: 0.1170 - val_loss: 0.1154\n",
      "Epoch 90/300\n",
      "59648/60000 [============================>.] - ETA: 0s - loss: 0.1169Epoch 00089: val_loss improved from 0.11541 to 0.11528, saving model to checkpoint_modelo_2.hdf5\n",
      "60000/60000 [==============================] - 2s - loss: 0.1169 - val_loss: 0.1153\n",
      "Epoch 91/300\n",
      "59136/60000 [============================>.] - ETA: 0s - loss: 0.1168Epoch 00090: val_loss improved from 0.11528 to 0.11517, saving model to checkpoint_modelo_2.hdf5\n",
      "60000/60000 [==============================] - 2s - loss: 0.1167 - val_loss: 0.1152\n",
      "Epoch 92/300\n",
      "59904/60000 [============================>.] - ETA: 0s - loss: 0.1166Epoch 00091: val_loss improved from 0.11517 to 0.11506, saving model to checkpoint_modelo_2.hdf5\n",
      "60000/60000 [==============================] - 2s - loss: 0.1166 - val_loss: 0.1151\n",
      "Epoch 93/300\n",
      "58368/60000 [============================>.] - ETA: 0s - loss: 0.1165Epoch 00092: val_loss improved from 0.11506 to 0.11495, saving model to checkpoint_modelo_2.hdf5\n",
      "60000/60000 [==============================] - 3s - loss: 0.1165 - val_loss: 0.1149\n",
      "Epoch 94/300\n",
      "59392/60000 [============================>.] - ETA: 0s - loss: 0.1164Epoch 00093: val_loss improved from 0.11495 to 0.11484, saving model to checkpoint_modelo_2.hdf5\n",
      "60000/60000 [==============================] - 2s - loss: 0.1164 - val_loss: 0.1148\n",
      "Epoch 95/300\n",
      "58880/60000 [============================>.] - ETA: 0s - loss: 0.1163Epoch 00094: val_loss improved from 0.11484 to 0.11474, saving model to checkpoint_modelo_2.hdf5\n",
      "60000/60000 [==============================] - 3s - loss: 0.1163 - val_loss: 0.1147\n",
      "Epoch 96/300\n",
      "59904/60000 [============================>.] - ETA: 0s - loss: 0.1162Epoch 00095: val_loss improved from 0.11474 to 0.11463, saving model to checkpoint_modelo_2.hdf5\n",
      "60000/60000 [==============================] - 2s - loss: 0.1162 - val_loss: 0.1146\n",
      "Epoch 97/300\n",
      "58368/60000 [============================>.] - ETA: 0s - loss: 0.1161Epoch 00096: val_loss improved from 0.11463 to 0.11453, saving model to checkpoint_modelo_2.hdf5\n",
      "60000/60000 [==============================] - 2s - loss: 0.1161 - val_loss: 0.1145\n",
      "Epoch 98/300\n"
     ]
    },
    {
     "name": "stdout",
     "output_type": "stream",
     "text": [
      "59392/60000 [============================>.] - ETA: 0s - loss: 0.1160Epoch 00097: val_loss improved from 0.11453 to 0.11443, saving model to checkpoint_modelo_2.hdf5\n",
      "60000/60000 [==============================] - 2s - loss: 0.1160 - val_loss: 0.1144\n",
      "Epoch 99/300\n",
      "59904/60000 [============================>.] - ETA: 0s - loss: 0.1159Epoch 00098: val_loss improved from 0.11443 to 0.11433, saving model to checkpoint_modelo_2.hdf5\n",
      "60000/60000 [==============================] - 2s - loss: 0.1159 - val_loss: 0.1143\n",
      "Epoch 100/300\n",
      "59904/60000 [============================>.] - ETA: 0s - loss: 0.1158Epoch 00099: val_loss improved from 0.11433 to 0.11423, saving model to checkpoint_modelo_2.hdf5\n",
      "60000/60000 [==============================] - 2s - loss: 0.1158 - val_loss: 0.1142\n",
      "Epoch 101/300\n",
      "58368/60000 [============================>.] - ETA: 0s - loss: 0.1157Epoch 00100: val_loss improved from 0.11423 to 0.11413, saving model to checkpoint_modelo_2.hdf5\n",
      "60000/60000 [==============================] - 2s - loss: 0.1157 - val_loss: 0.1141\n",
      "Epoch 102/300\n",
      "58624/60000 [============================>.] - ETA: 0s - loss: 0.1156Epoch 00101: val_loss improved from 0.11413 to 0.11403, saving model to checkpoint_modelo_2.hdf5\n",
      "60000/60000 [==============================] - 2s - loss: 0.1156 - val_loss: 0.1140\n",
      "Epoch 103/300\n",
      "59392/60000 [============================>.] - ETA: 0s - loss: 0.1155Epoch 00102: val_loss improved from 0.11403 to 0.11394, saving model to checkpoint_modelo_2.hdf5\n",
      "60000/60000 [==============================] - 2s - loss: 0.1155 - val_loss: 0.1139\n",
      "Epoch 104/300\n",
      "59648/60000 [============================>.] - ETA: 0s - loss: 0.1154Epoch 00103: val_loss improved from 0.11394 to 0.11384, saving model to checkpoint_modelo_2.hdf5\n",
      "60000/60000 [==============================] - 3s - loss: 0.1154 - val_loss: 0.1138\n",
      "Epoch 105/300\n",
      "59648/60000 [============================>.] - ETA: 0s - loss: 0.1153Epoch 00104: val_loss improved from 0.11384 to 0.11375, saving model to checkpoint_modelo_2.hdf5\n",
      "60000/60000 [==============================] - 2s - loss: 0.1153 - val_loss: 0.1137\n",
      "Epoch 106/300\n",
      "58624/60000 [============================>.] - ETA: 0s - loss: 0.1152Epoch 00105: val_loss improved from 0.11375 to 0.11365, saving model to checkpoint_modelo_2.hdf5\n",
      "60000/60000 [==============================] - 2s - loss: 0.1152 - val_loss: 0.1136\n",
      "Epoch 107/300\n",
      "59904/60000 [============================>.] - ETA: 0s - loss: 0.1151Epoch 00106: val_loss improved from 0.11365 to 0.11356, saving model to checkpoint_modelo_2.hdf5\n",
      "60000/60000 [==============================] - 2s - loss: 0.1151 - val_loss: 0.1136\n",
      "Epoch 108/300\n",
      "58624/60000 [============================>.] - ETA: 0s - loss: 0.1150Epoch 00107: val_loss improved from 0.11356 to 0.11347, saving model to checkpoint_modelo_2.hdf5\n",
      "60000/60000 [==============================] - 2s - loss: 0.1150 - val_loss: 0.1135\n",
      "Epoch 109/300\n",
      "59392/60000 [============================>.] - ETA: 0s - loss: 0.1149Epoch 00108: val_loss improved from 0.11347 to 0.11338, saving model to checkpoint_modelo_2.hdf5\n",
      "60000/60000 [==============================] - 2s - loss: 0.1149 - val_loss: 0.1134\n",
      "Epoch 110/300\n",
      "59136/60000 [============================>.] - ETA: 0s - loss: 0.1148Epoch 00109: val_loss improved from 0.11338 to 0.11328, saving model to checkpoint_modelo_2.hdf5\n",
      "60000/60000 [==============================] - 2s - loss: 0.1148 - val_loss: 0.1133\n",
      "Epoch 111/300\n",
      "58624/60000 [============================>.] - ETA: 0s - loss: 0.1147Epoch 00110: val_loss improved from 0.11328 to 0.11319, saving model to checkpoint_modelo_2.hdf5\n",
      "60000/60000 [==============================] - 2s - loss: 0.1147 - val_loss: 0.1132\n",
      "Epoch 112/300\n",
      "58880/60000 [============================>.] - ETA: 0s - loss: 0.1146Epoch 00111: val_loss improved from 0.11319 to 0.11310, saving model to checkpoint_modelo_2.hdf5\n",
      "60000/60000 [==============================] - 2s - loss: 0.1146 - val_loss: 0.1131\n",
      "Epoch 113/300\n",
      "58624/60000 [============================>.] - ETA: 0s - loss: 0.1146Epoch 00112: val_loss improved from 0.11310 to 0.11302, saving model to checkpoint_modelo_2.hdf5\n",
      "60000/60000 [==============================] - 2s - loss: 0.1145 - val_loss: 0.1130\n",
      "Epoch 114/300\n",
      "59904/60000 [============================>.] - ETA: 0s - loss: 0.1144Epoch 00113: val_loss improved from 0.11302 to 0.11293, saving model to checkpoint_modelo_2.hdf5\n",
      "60000/60000 [==============================] - 2s - loss: 0.1144 - val_loss: 0.1129\n",
      "Epoch 115/300\n",
      "58368/60000 [============================>.] - ETA: 0s - loss: 0.1143Epoch 00114: val_loss improved from 0.11293 to 0.11285, saving model to checkpoint_modelo_2.hdf5\n",
      "60000/60000 [==============================] - 2s - loss: 0.1144 - val_loss: 0.1128\n",
      "Epoch 116/300\n",
      "58624/60000 [============================>.] - ETA: 0s - loss: 0.1143Epoch 00115: val_loss improved from 0.11285 to 0.11276, saving model to checkpoint_modelo_2.hdf5\n",
      "60000/60000 [==============================] - 2s - loss: 0.1143 - val_loss: 0.1128\n",
      "Epoch 117/300\n",
      "59136/60000 [============================>.] - ETA: 0s - loss: 0.1142Epoch 00116: val_loss improved from 0.11276 to 0.11268, saving model to checkpoint_modelo_2.hdf5\n",
      "60000/60000 [==============================] - 2s - loss: 0.1142 - val_loss: 0.1127\n",
      "Epoch 118/300\n",
      "59648/60000 [============================>.] - ETA: 0s - loss: 0.1141Epoch 00117: val_loss improved from 0.11268 to 0.11259, saving model to checkpoint_modelo_2.hdf5\n",
      "60000/60000 [==============================] - 2s - loss: 0.1141 - val_loss: 0.1126\n",
      "Epoch 119/300\n",
      "59392/60000 [============================>.] - ETA: 0s - loss: 0.1140Epoch 00118: val_loss improved from 0.11259 to 0.11251, saving model to checkpoint_modelo_2.hdf5\n",
      "60000/60000 [==============================] - 2s - loss: 0.1140 - val_loss: 0.1125\n",
      "Epoch 120/300\n",
      "58368/60000 [============================>.] - ETA: 0s - loss: 0.1140Epoch 00119: val_loss improved from 0.11251 to 0.11244, saving model to checkpoint_modelo_2.hdf5\n",
      "60000/60000 [==============================] - 2s - loss: 0.1139 - val_loss: 0.1124\n",
      "Epoch 121/300\n",
      "58624/60000 [============================>.] - ETA: 0s - loss: 0.1139Epoch 00120: val_loss improved from 0.11244 to 0.11235, saving model to checkpoint_modelo_2.hdf5\n",
      "60000/60000 [==============================] - 2s - loss: 0.1139 - val_loss: 0.1124\n",
      "Epoch 122/300\n",
      "59136/60000 [============================>.] - ETA: 0s - loss: 0.1138Epoch 00121: val_loss improved from 0.11235 to 0.11228, saving model to checkpoint_modelo_2.hdf5\n",
      "60000/60000 [==============================] - 2s - loss: 0.1138 - val_loss: 0.1123\n",
      "Epoch 123/300\n",
      "59904/60000 [============================>.] - ETA: 0s - loss: 0.1136Epoch 00123: val_loss improved from 0.11221 to 0.11214, saving model to checkpoint_modelo_2.hdf5\n",
      "60000/60000 [==============================] - 2s - loss: 0.1136 - val_loss: 0.1121\n",
      "Epoch 125/300\n",
      "58880/60000 [============================>.] - ETA: 0s - loss: 0.1136Epoch 00124: val_loss improved from 0.11214 to 0.11206, saving model to checkpoint_modelo_2.hdf5\n",
      "60000/60000 [==============================] - 2s - loss: 0.1135 - val_loss: 0.1121\n",
      "Epoch 126/300\n",
      "59904/60000 [============================>.] - ETA: 0s - loss: 0.1135Epoch 00125: val_loss improved from 0.11206 to 0.11200, saving model to checkpoint_modelo_2.hdf5\n",
      "60000/60000 [==============================] - 2s - loss: 0.1135 - val_loss: 0.1120\n",
      "Epoch 127/300\n",
      "59392/60000 [============================>.] - ETA: 0s - loss: 0.1134Epoch 00126: val_loss improved from 0.11200 to 0.11193, saving model to checkpoint_modelo_2.hdf5\n",
      "60000/60000 [==============================] - 2s - loss: 0.1134 - val_loss: 0.1119\n",
      "Epoch 128/300\n",
      "58880/60000 [============================>.] - ETA: 0s - loss: 0.1133Epoch 00127: val_loss improved from 0.11193 to 0.11186, saving model to checkpoint_modelo_2.hdf5\n",
      "60000/60000 [==============================] - 2s - loss: 0.1133 - val_loss: 0.1119\n",
      "Epoch 129/300\n",
      "58880/60000 [============================>.] - ETA: 0s - loss: 0.1133Epoch 00128: val_loss improved from 0.11186 to 0.11180, saving model to checkpoint_modelo_2.hdf5\n",
      "60000/60000 [==============================] - 3s - loss: 0.1133 - val_loss: 0.1118\n",
      "Epoch 130/300\n",
      "59392/60000 [============================>.] - ETA: 0s - loss: 0.1132Epoch 00129: val_loss improved from 0.11180 to 0.11174, saving model to checkpoint_modelo_2.hdf5\n",
      "60000/60000 [==============================] - 2s - loss: 0.1132 - val_loss: 0.1117\n",
      "Epoch 131/300\n",
      "58880/60000 [============================>.] - ETA: 0s - loss: 0.1131Epoch 00130: val_loss improved from 0.11174 to 0.11168, saving model to checkpoint_modelo_2.hdf5\n",
      "60000/60000 [==============================] - 2s - loss: 0.1131 - val_loss: 0.1117\n",
      "Epoch 132/300\n",
      "58880/60000 [============================>.] - ETA: 0s - loss: 0.1131Epoch 00131: val_loss improved from 0.11168 to 0.11161, saving model to checkpoint_modelo_2.hdf5\n",
      "60000/60000 [==============================] - 2s - loss: 0.1131 - val_loss: 0.1116\n",
      "Epoch 133/300\n",
      "58624/60000 [============================>.] - ETA: 0s - loss: 0.1130Epoch 00132: val_loss improved from 0.11161 to 0.11156, saving model to checkpoint_modelo_2.hdf5\n",
      "60000/60000 [==============================] - 2s - loss: 0.1130 - val_loss: 0.1116\n",
      "Epoch 134/300\n",
      "58624/60000 [============================>.] - ETA: 0s - loss: 0.1130Epoch 00133: val_loss improved from 0.11156 to 0.11150, saving model to checkpoint_modelo_2.hdf5\n",
      "60000/60000 [==============================] - 2s - loss: 0.1130 - val_loss: 0.1115\n",
      "Epoch 135/300\n",
      "59648/60000 [============================>.] - ETA: 0s - loss: 0.1129Epoch 00134: val_loss improved from 0.11150 to 0.11144, saving model to checkpoint_modelo_2.hdf5\n",
      "60000/60000 [==============================] - 2s - loss: 0.1129 - val_loss: 0.1114\n",
      "Epoch 136/300\n",
      "58880/60000 [============================>.] - ETA: 0s - loss: 0.1129Epoch 00135: val_loss improved from 0.11144 to 0.11139, saving model to checkpoint_modelo_2.hdf5\n",
      "60000/60000 [==============================] - 2s - loss: 0.1128 - val_loss: 0.1114\n",
      "Epoch 137/300\n",
      "58368/60000 [============================>.] - ETA: 0s - loss: 0.1128Epoch 00136: val_loss improved from 0.11139 to 0.11133, saving model to checkpoint_modelo_2.hdf5\n",
      "60000/60000 [==============================] - 2s - loss: 0.1128 - val_loss: 0.1113\n",
      "Epoch 138/300\n",
      "58624/60000 [============================>.] - ETA: 0s - loss: 0.1128Epoch 00137: val_loss improved from 0.11133 to 0.11128, saving model to checkpoint_modelo_2.hdf5\n",
      "60000/60000 [==============================] - 2s - loss: 0.1127 - val_loss: 0.1113\n",
      "Epoch 139/300\n",
      "59392/60000 [============================>.] - ETA: 0s - loss: 0.1127Epoch 00138: val_loss improved from 0.11128 to 0.11123, saving model to checkpoint_modelo_2.hdf5\n",
      "60000/60000 [==============================] - 2s - loss: 0.1127 - val_loss: 0.1112\n",
      "Epoch 140/300\n",
      "58624/60000 [============================>.] - ETA: 0s - loss: 0.1126Epoch 00139: val_loss improved from 0.11123 to 0.11117, saving model to checkpoint_modelo_2.hdf5\n",
      "60000/60000 [==============================] - 3s - loss: 0.1126 - val_loss: 0.1112\n",
      "Epoch 141/300\n",
      "58880/60000 [============================>.] - ETA: 0s - loss: 0.1126Epoch 00140: val_loss improved from 0.11117 to 0.11113, saving model to checkpoint_modelo_2.hdf5\n",
      "60000/60000 [==============================] - 3s - loss: 0.1126 - val_loss: 0.1111\n",
      "Epoch 142/300\n",
      "59136/60000 [============================>.] - ETA: 0s - loss: 0.1125Epoch 00141: val_loss improved from 0.11113 to 0.11107, saving model to checkpoint_modelo_2.hdf5\n",
      "60000/60000 [==============================] - 2s - loss: 0.1125 - val_loss: 0.1111\n",
      "Epoch 143/300\n",
      "59904/60000 [============================>.] - ETA: 0s - loss: 0.1125Epoch 00142: val_loss improved from 0.11107 to 0.11102, saving model to checkpoint_modelo_2.hdf5\n",
      "60000/60000 [==============================] - 2s - loss: 0.1125 - val_loss: 0.1110\n",
      "Epoch 144/300\n",
      "59392/60000 [============================>.] - ETA: 0s - loss: 0.1124Epoch 00143: val_loss improved from 0.11102 to 0.11098, saving model to checkpoint_modelo_2.hdf5\n",
      "60000/60000 [==============================] - 3s - loss: 0.1124 - val_loss: 0.1110\n",
      "Epoch 145/300\n",
      "58880/60000 [============================>.] - ETA: 0s - loss: 0.1124Epoch 00144: val_loss improved from 0.11098 to 0.11093, saving model to checkpoint_modelo_2.hdf5\n",
      "60000/60000 [==============================] - 2s - loss: 0.1124 - val_loss: 0.1109\n",
      "Epoch 146/300\n",
      "59648/60000 [============================>.] - ETA: 0s - loss: 0.1123Epoch 00145: val_loss improved from 0.11093 to 0.11089, saving model to checkpoint_modelo_2.hdf5\n",
      "60000/60000 [==============================] - 2s - loss: 0.1123 - val_loss: 0.1109\n",
      "Epoch 147/300\n",
      "58880/60000 [============================>.] - ETA: 0s - loss: 0.1123Epoch 00146: val_loss improved from 0.11089 to 0.11085, saving model to checkpoint_modelo_2.hdf5\n",
      "60000/60000 [==============================] - 2s - loss: 0.1123 - val_loss: 0.1108\n",
      "Epoch 148/300\n",
      "58368/60000 [============================>.] - ETA: 0s - loss: 0.1123Epoch 00147: val_loss improved from 0.11085 to 0.11080, saving model to checkpoint_modelo_2.hdf5\n",
      "60000/60000 [==============================] - 2s - loss: 0.1122 - val_loss: 0.1108\n",
      "Epoch 149/300\n",
      "59904/60000 [============================>.] - ETA: 0s - loss: 0.1122Epoch 00148: val_loss improved from 0.11080 to 0.11075, saving model to checkpoint_modelo_2.hdf5\n",
      "60000/60000 [==============================] - 2s - loss: 0.1122 - val_loss: 0.1108\n",
      "Epoch 150/300\n",
      "59392/60000 [============================>.] - ETA: 0s - loss: 0.1122Epoch 00149: val_loss improved from 0.11075 to 0.11071, saving model to checkpoint_modelo_2.hdf5\n",
      "60000/60000 [==============================] - 2s - loss: 0.1121 - val_loss: 0.1107\n",
      "Epoch 151/300\n",
      "58368/60000 [============================>.] - ETA: 0s - loss: 0.1121Epoch 00150: val_loss improved from 0.11071 to 0.11066, saving model to checkpoint_modelo_2.hdf5\n",
      "60000/60000 [==============================] - 2s - loss: 0.1121 - val_loss: 0.1107\n",
      "Epoch 152/300\n",
      "58880/60000 [============================>.] - ETA: 0s - loss: 0.1121Epoch 00151: val_loss improved from 0.11066 to 0.11063, saving model to checkpoint_modelo_2.hdf5\n",
      "60000/60000 [==============================] - 2s - loss: 0.1121 - val_loss: 0.1106\n",
      "Epoch 153/300\n",
      "59392/60000 [============================>.] - ETA: 0s - loss: 0.1120Epoch 00152: val_loss improved from 0.11063 to 0.11058, saving model to checkpoint_modelo_2.hdf5\n",
      "60000/60000 [==============================] - 2s - loss: 0.1120 - val_loss: 0.1106\n",
      "Epoch 154/300\n",
      "59648/60000 [============================>.] - ETA: 0s - loss: 0.1120Epoch 00153: val_loss improved from 0.11058 to 0.11054, saving model to checkpoint_modelo_2.hdf5\n",
      "60000/60000 [==============================] - 2s - loss: 0.1120 - val_loss: 0.1105\n",
      "Epoch 155/300\n",
      "59904/60000 [============================>.] - ETA: 0s - loss: 0.1119Epoch 00154: val_loss improved from 0.11054 to 0.11051, saving model to checkpoint_modelo_2.hdf5\n",
      "60000/60000 [==============================] - 2s - loss: 0.1119 - val_loss: 0.1105\n",
      "Epoch 156/300\n",
      "59904/60000 [============================>.] - ETA: 0s - loss: 0.1119Epoch 00155: val_loss improved from 0.11051 to 0.11046, saving model to checkpoint_modelo_2.hdf5\n",
      "60000/60000 [==============================] - 2s - loss: 0.1119 - val_loss: 0.1105\n",
      "Epoch 157/300\n",
      "59392/60000 [============================>.] - ETA: 0s - loss: 0.1119Epoch 00156: val_loss improved from 0.11046 to 0.11042, saving model to checkpoint_modelo_2.hdf5\n",
      "60000/60000 [==============================] - 2s - loss: 0.1119 - val_loss: 0.1104\n",
      "Epoch 158/300\n",
      "59136/60000 [============================>.] - ETA: 0s - loss: 0.1118Epoch 00157: val_loss improved from 0.11042 to 0.11039, saving model to checkpoint_modelo_2.hdf5\n",
      "60000/60000 [==============================] - 2s - loss: 0.1118 - val_loss: 0.1104\n",
      "Epoch 159/300\n",
      "59648/60000 [============================>.] - ETA: 0s - loss: 0.1118Epoch 00158: val_loss improved from 0.11039 to 0.11035, saving model to checkpoint_modelo_2.hdf5\n",
      "60000/60000 [==============================] - 2s - loss: 0.1118 - val_loss: 0.1103\n",
      "Epoch 160/300\n",
      "58368/60000 [============================>.] - ETA: 0s - loss: 0.1117Epoch 00159: val_loss improved from 0.11035 to 0.11031, saving model to checkpoint_modelo_2.hdf5\n",
      "60000/60000 [==============================] - 2s - loss: 0.1117 - val_loss: 0.1103\n",
      "Epoch 161/300\n"
     ]
    },
    {
     "name": "stdout",
     "output_type": "stream",
     "text": [
      "58368/60000 [============================>.] - ETA: 0s - loss: 0.1117Epoch 00160: val_loss improved from 0.11031 to 0.11027, saving model to checkpoint_modelo_2.hdf5\n",
      "60000/60000 [==============================] - 2s - loss: 0.1117 - val_loss: 0.1103\n",
      "Epoch 162/300\n",
      "58624/60000 [============================>.] - ETA: 0s - loss: 0.1117\n",
      "60000/60000 [==============================] - 4s - loss: 0.1117 - val_loss: 0.1102\n",
      "Epoch 163/300\n",
      "59904/60000 [============================>.] - ETA: 0s - loss: 0.1116Epoch 00162: val_loss improved from 0.11024 to 0.11020, saving model to checkpoint_modelo_2.hdf5\n",
      "60000/60000 [==============================] - 3s - loss: 0.1116 - val_loss: 0.1102\n",
      "Epoch 164/300\n",
      "58368/60000 [============================>.] - ETA: 0s - loss: 0.1116Epoch 00163: val_loss improved from 0.11020 to 0.11016, saving model to checkpoint_modelo_2.hdf5\n",
      "60000/60000 [==============================] - 2s - loss: 0.1116 - val_loss: 0.1102\n",
      "Epoch 165/300\n",
      "58880/60000 [============================>.] - ETA: 0s - loss: 0.1116Epoch 00164: val_loss improved from 0.11016 to 0.11012, saving model to checkpoint_modelo_2.hdf5\n",
      "60000/60000 [==============================] - 2s - loss: 0.1115 - val_loss: 0.1101\n",
      "Epoch 166/300\n",
      "58880/60000 [============================>.] - ETA: 0s - loss: 0.1115Epoch 00165: val_loss improved from 0.11012 to 0.11009, saving model to checkpoint_modelo_2.hdf5\n",
      "60000/60000 [==============================] - 2s - loss: 0.1115 - val_loss: 0.1101\n",
      "Epoch 167/300\n",
      "58880/60000 [============================>.] - ETA: 0s - loss: 0.1115Epoch 00166: val_loss improved from 0.11009 to 0.11005, saving model to checkpoint_modelo_2.hdf5\n",
      "60000/60000 [==============================] - 2s - loss: 0.1115 - val_loss: 0.1101\n",
      "Epoch 168/300\n",
      "59136/60000 [============================>.] - ETA: 0s - loss: 0.1115Epoch 00167: val_loss improved from 0.11005 to 0.11002, saving model to checkpoint_modelo_2.hdf5\n",
      "60000/60000 [==============================] - 2s - loss: 0.1114 - val_loss: 0.1100\n",
      "Epoch 169/300\n",
      "59136/60000 [============================>.] - ETA: 0s - loss: 0.1114Epoch 00168: val_loss improved from 0.11002 to 0.10998, saving model to checkpoint_modelo_2.hdf5\n",
      "60000/60000 [==============================] - 2s - loss: 0.1114 - val_loss: 0.1100\n",
      "Epoch 170/300\n",
      "58112/60000 [============================>.] - ETA: 0s - loss: 0.1114Epoch 00169: val_loss improved from 0.10998 to 0.10995, saving model to checkpoint_modelo_2.hdf5\n",
      "60000/60000 [==============================] - 2s - loss: 0.1114 - val_loss: 0.1100\n",
      "Epoch 171/300\n",
      "58368/60000 [============================>.] - ETA: 0s - loss: 0.1113Epoch 00170: val_loss improved from 0.10995 to 0.10992, saving model to checkpoint_modelo_2.hdf5\n",
      "60000/60000 [==============================] - 2s - loss: 0.1113 - val_loss: 0.1099\n",
      "Epoch 172/300\n",
      "59904/60000 [============================>.] - ETA: 0s - loss: 0.1113Epoch 00171: val_loss improved from 0.10992 to 0.10988, saving model to checkpoint_modelo_2.hdf5\n",
      "60000/60000 [==============================] - 2s - loss: 0.1113 - val_loss: 0.1099\n",
      "Epoch 173/300\n",
      "59136/60000 [============================>.] - ETA: 0s - loss: 0.1113Epoch 00172: val_loss improved from 0.10988 to 0.10985, saving model to checkpoint_modelo_2.hdf5\n",
      "60000/60000 [==============================] - 2s - loss: 0.1113 - val_loss: 0.1099\n",
      "Epoch 174/300\n",
      "59392/60000 [============================>.] - ETA: 0s - loss: 0.1113Epoch 00173: val_loss improved from 0.10985 to 0.10982, saving model to checkpoint_modelo_2.hdf5\n",
      "60000/60000 [==============================] - 2s - loss: 0.1112 - val_loss: 0.1098\n",
      "Epoch 175/300\n",
      "58368/60000 [============================>.] - ETA: 0s - loss: 0.1112Epoch 00174: val_loss improved from 0.10982 to 0.10979, saving model to checkpoint_modelo_2.hdf5\n",
      "60000/60000 [==============================] - 3s - loss: 0.1112 - val_loss: 0.1098\n",
      "Epoch 176/300\n",
      "59648/60000 [============================>.] - ETA: 0s - loss: 0.1112Epoch 00175: val_loss improved from 0.10979 to 0.10975, saving model to checkpoint_modelo_2.hdf5\n",
      "60000/60000 [==============================] - 2s - loss: 0.1112 - val_loss: 0.1098\n",
      "Epoch 177/300\n",
      "59648/60000 [============================>.] - ETA: 0s - loss: 0.1111Epoch 00176: val_loss improved from 0.10975 to 0.10972, saving model to checkpoint_modelo_2.hdf5\n",
      "60000/60000 [==============================] - 2s - loss: 0.1111 - val_loss: 0.1097\n",
      "Epoch 178/300\n",
      "58880/60000 [============================>.] - ETA: 0s - loss: 0.1111Epoch 00177: val_loss improved from 0.10972 to 0.10969, saving model to checkpoint_modelo_2.hdf5\n",
      "60000/60000 [==============================] - 2s - loss: 0.1111 - val_loss: 0.1097\n",
      "Epoch 179/300\n",
      "59904/60000 [============================>.] - ETA: 0s - loss: 0.1111Epoch 00178: val_loss improved from 0.10969 to 0.10966, saving model to checkpoint_modelo_2.hdf5\n",
      "60000/60000 [==============================] - 2s - loss: 0.1111 - val_loss: 0.1097\n",
      "Epoch 180/300\n",
      "58624/60000 [============================>.] - ETA: 0s - loss: 0.1111Epoch 00179: val_loss improved from 0.10966 to 0.10963, saving model to checkpoint_modelo_2.hdf5\n",
      "60000/60000 [==============================] - 2s - loss: 0.1110 - val_loss: 0.1096\n",
      "Epoch 181/300\n",
      "58368/60000 [============================>.] - ETA: 0s - loss: 0.1110Epoch 00180: val_loss improved from 0.10963 to 0.10959, saving model to checkpoint_modelo_2.hdf5\n",
      "60000/60000 [==============================] - 2s - loss: 0.1110 - val_loss: 0.1096\n",
      "Epoch 182/300\n",
      "58624/60000 [============================>.] - ETA: 0s - loss: 0.1110Epoch 00181: val_loss improved from 0.10959 to 0.10956, saving model to checkpoint_modelo_2.hdf5\n",
      "60000/60000 [==============================] - 2s - loss: 0.1110 - val_loss: 0.1096\n",
      "Epoch 183/300\n",
      "58624/60000 [============================>.] - ETA: 0s - loss: 0.1110Epoch 00182: val_loss improved from 0.10956 to 0.10954, saving model to checkpoint_modelo_2.hdf5\n",
      "60000/60000 [==============================] - 2s - loss: 0.1109 - val_loss: 0.1095\n",
      "Epoch 184/300\n",
      "59392/60000 [============================>.] - ETA: 0s - loss: 0.1109Epoch 00183: val_loss improved from 0.10954 to 0.10950, saving model to checkpoint_modelo_2.hdf5\n",
      "60000/60000 [==============================] - 2s - loss: 0.1109 - val_loss: 0.1095\n",
      "Epoch 185/300\n",
      "58368/60000 [============================>.] - ETA: 0s - loss: 0.1108Epoch 00184: val_loss improved from 0.10950 to 0.10948, saving model to checkpoint_modelo_2.hdf5\n",
      "60000/60000 [==============================] - 2s - loss: 0.1109 - val_loss: 0.1095\n",
      "Epoch 186/300\n",
      "59904/60000 [============================>.] - ETA: 0s - loss: 0.1109Epoch 00185: val_loss improved from 0.10948 to 0.10945, saving model to checkpoint_modelo_2.hdf5\n",
      "60000/60000 [==============================] - 3s - loss: 0.1108 - val_loss: 0.1095\n",
      "Epoch 187/300\n",
      "59136/60000 [============================>.] - ETA: 0s - loss: 0.1108Epoch 00186: val_loss improved from 0.10945 to 0.10942, saving model to checkpoint_modelo_2.hdf5\n",
      "60000/60000 [==============================] - 2s - loss: 0.1108 - val_loss: 0.1094\n",
      "Epoch 188/300\n",
      "59648/60000 [============================>.] - ETA: 0s - loss: 0.1108Epoch 00187: val_loss improved from 0.10942 to 0.10939, saving model to checkpoint_modelo_2.hdf5\n",
      "60000/60000 [==============================] - 2s - loss: 0.1108 - val_loss: 0.1094\n",
      "Epoch 189/300\n",
      "58624/60000 [============================>.] - ETA: 0s - loss: 0.1108Epoch 00188: val_loss improved from 0.10939 to 0.10937, saving model to checkpoint_modelo_2.hdf5\n",
      "60000/60000 [==============================] - 2s - loss: 0.1108 - val_loss: 0.1094\n",
      "Epoch 190/300\n",
      "59136/60000 [============================>.] - ETA: 0s - loss: 0.1108Epoch 00189: val_loss improved from 0.10937 to 0.10933, saving model to checkpoint_modelo_2.hdf5\n",
      "60000/60000 [==============================] - 2s - loss: 0.1107 - val_loss: 0.1093\n",
      "Epoch 191/300\n",
      "58880/60000 [============================>.] - ETA: 0s - loss: 0.1107Epoch 00190: val_loss improved from 0.10933 to 0.10930, saving model to checkpoint_modelo_2.hdf5\n",
      "60000/60000 [==============================] - 3s - loss: 0.1107 - val_loss: 0.1093\n",
      "Epoch 192/300\n",
      "58112/60000 [============================>.] - ETA: 0s - loss: 0.1107Epoch 00191: val_loss improved from 0.10930 to 0.10928, saving model to checkpoint_modelo_2.hdf5\n"
     ]
    },
    {
     "name": "stdout",
     "output_type": "stream",
     "text": [
      "60000/60000 [==============================] - 2s - loss: 0.1107 - val_loss: 0.1093\n",
      "Epoch 193/300\n",
      "58624/60000 [============================>.] - ETA: 0s - loss: 0.1106Epoch 00192: val_loss improved from 0.10928 to 0.10925, saving model to checkpoint_modelo_2.hdf5\n",
      "60000/60000 [==============================] - 2s - loss: 0.1106 - val_loss: 0.1093\n",
      "Epoch 194/300\n",
      "58624/60000 [============================>.] - ETA: 0s - loss: 0.1106Epoch 00193: val_loss improved from 0.10925 to 0.10922, saving model to checkpoint_modelo_2.hdf5\n",
      "60000/60000 [==============================] - 2s - loss: 0.1106 - val_loss: 0.1092\n",
      "Epoch 195/300\n",
      "58880/60000 [============================>.] - ETA: 0s - loss: 0.1106Epoch 00194: val_loss improved from 0.10922 to 0.10919, saving model to checkpoint_modelo_2.hdf5\n",
      "60000/60000 [==============================] - 4s - loss: 0.1106 - val_loss: 0.1092\n",
      "Epoch 196/300\n",
      "59392/60000 [============================>.] - ETA: 0s - loss: 0.1106Epoch 00195: val_loss improved from 0.10919 to 0.10917, saving model to checkpoint_modelo_2.hdf5\n",
      "60000/60000 [==============================] - 2s - loss: 0.1106 - val_loss: 0.1092\n",
      "Epoch 197/300\n",
      "58368/60000 [============================>.] - ETA: 0s - loss: 0.1105Epoch 00196: val_loss improved from 0.10917 to 0.10914, saving model to checkpoint_modelo_2.hdf5\n",
      "60000/60000 [==============================] - 2s - loss: 0.1105 - val_loss: 0.1091\n",
      "Epoch 198/300\n",
      "59648/60000 [============================>.] - ETA: 0s - loss: 0.1105Epoch 00197: val_loss improved from 0.10914 to 0.10912, saving model to checkpoint_modelo_2.hdf5\n",
      "60000/60000 [==============================] - 2s - loss: 0.1105 - val_loss: 0.1091\n",
      "Epoch 199/300\n",
      "58368/60000 [============================>.] - ETA: 0s - loss: 0.1105Epoch 00198: val_loss improved from 0.10912 to 0.10909, saving model to checkpoint_modelo_2.hdf5\n",
      "60000/60000 [==============================] - 2s - loss: 0.1105 - val_loss: 0.1091\n",
      "Epoch 200/300\n",
      " 6144/60000 [==>...........................] - ETA: 1s - loss: 0.1110Epoch 00199: val_loss improved from 0.10909 to 0.10907, saving model to checkpoint_modelo_2.hdf5\n",
      "60000/60000 [==============================] - 2s - loss: 0.1105 - val_loss: 0.1091\n",
      "Epoch 201/300\n",
      "58880/60000 [============================>.] - ETA: 0s - loss: 0.1104Epoch 00200: val_loss improved from 0.10907 to 0.10903, saving model to checkpoint_modelo_2.hdf5\n",
      "60000/60000 [==============================] - 2s - loss: 0.1104 - val_loss: 0.1090\n",
      "Epoch 202/300\n",
      "58112/60000 [============================>.] - ETA: 0s - loss: 0.1104Epoch 00201: val_loss improved from 0.10903 to 0.10902, saving model to checkpoint_modelo_2.hdf5\n",
      "60000/60000 [==============================] - 2s - loss: 0.1104 - val_loss: 0.1090\n",
      "Epoch 203/300\n",
      "59392/60000 [============================>.] - ETA: 0s - loss: 0.1104Epoch 00202: val_loss improved from 0.10902 to 0.10898, saving model to checkpoint_modelo_2.hdf5\n",
      "60000/60000 [==============================] - 2s - loss: 0.1104 - val_loss: 0.1090\n",
      "Epoch 204/300\n",
      "58880/60000 [============================>.] - ETA: 0s - loss: 0.1104Epoch 00203: val_loss improved from 0.10898 to 0.10896, saving model to checkpoint_modelo_2.hdf5\n",
      "60000/60000 [==============================] - 2s - loss: 0.1103 - val_loss: 0.1090\n",
      "Epoch 205/300\n",
      "59904/60000 [============================>.] - ETA: 0s - loss: 0.1103Epoch 00204: val_loss improved from 0.10896 to 0.10893, saving model to checkpoint_modelo_2.hdf5\n",
      "60000/60000 [==============================] - 2s - loss: 0.1103 - val_loss: 0.1089\n",
      "Epoch 206/300\n",
      "58624/60000 [============================>.] - ETA: 0s - loss: 0.1103Epoch 00205: val_loss improved from 0.10893 to 0.10891, saving model to checkpoint_modelo_2.hdf5\n",
      "60000/60000 [==============================] - 2s - loss: 0.1103 - val_loss: 0.1089\n",
      "Epoch 207/300\n",
      "58624/60000 [============================>.] - ETA: 0s - loss: 0.1103Epoch 00206: val_loss improved from 0.10891 to 0.10889, saving model to checkpoint_modelo_2.hdf5\n",
      "60000/60000 [==============================] - 2s - loss: 0.1103 - val_loss: 0.1089\n",
      "Epoch 208/300\n",
      "59392/60000 [============================>.] - ETA: 0s - loss: 0.1103Epoch 00207: val_loss improved from 0.10889 to 0.10886, saving model to checkpoint_modelo_2.hdf5\n",
      "60000/60000 [==============================] - 3s - loss: 0.1102 - val_loss: 0.1089\n",
      "Epoch 209/300\n",
      "58624/60000 [============================>.] - ETA: 0s - loss: 0.1102Epoch 00208: val_loss improved from 0.10886 to 0.10883, saving model to checkpoint_modelo_2.hdf5\n",
      "60000/60000 [==============================] - 2s - loss: 0.1102 - val_loss: 0.1088\n",
      "Epoch 210/300\n",
      "59136/60000 [============================>.] - ETA: 0s - loss: 0.1102Epoch 00209: val_loss improved from 0.10883 to 0.10881, saving model to checkpoint_modelo_2.hdf5\n",
      "60000/60000 [==============================] - 2s - loss: 0.1102 - val_loss: 0.1088\n",
      "Epoch 211/300\n",
      "59136/60000 [============================>.] - ETA: 0s - loss: 0.1102Epoch 00210: val_loss improved from 0.10881 to 0.10879, saving model to checkpoint_modelo_2.hdf5\n",
      "60000/60000 [==============================] - 2s - loss: 0.1102 - val_loss: 0.1088\n",
      "Epoch 212/300\n",
      "58880/60000 [============================>.] - ETA: 0s - loss: 0.1101Epoch 00211: val_loss improved from 0.10879 to 0.10876, saving model to checkpoint_modelo_2.hdf5\n",
      "60000/60000 [==============================] - 2s - loss: 0.1101 - val_loss: 0.1088\n",
      "Epoch 213/300\n",
      "58368/60000 [============================>.] - ETA: 0s - loss: 0.1101Epoch 00212: val_loss improved from 0.10876 to 0.10874, saving model to checkpoint_modelo_2.hdf5\n",
      "60000/60000 [==============================] - 2s - loss: 0.1101 - val_loss: 0.1087\n",
      "Epoch 214/300\n",
      "59392/60000 [============================>.] - ETA: 0s - loss: 0.1101Epoch 00213: val_loss improved from 0.10874 to 0.10872, saving model to checkpoint_modelo_2.hdf5\n",
      "60000/60000 [==============================] - 2s - loss: 0.1101 - val_loss: 0.1087\n",
      "Epoch 215/300\n",
      "59136/60000 [============================>.] - ETA: 0s - loss: 0.1101Epoch 00214: val_loss improved from 0.10872 to 0.10869, saving model to checkpoint_modelo_2.hdf5\n",
      "60000/60000 [==============================] - 2s - loss: 0.1101 - val_loss: 0.1087\n",
      "Epoch 216/300\n",
      "59392/60000 [============================>.] - ETA: 0s - loss: 0.1100Epoch 00215: val_loss improved from 0.10869 to 0.10867, saving model to checkpoint_modelo_2.hdf5\n",
      "60000/60000 [==============================] - 2s - loss: 0.1100 - val_loss: 0.1087\n",
      "Epoch 217/300\n",
      "59648/60000 [============================>.] - ETA: 0s - loss: 0.1100Epoch 00216: val_loss improved from 0.10867 to 0.10865, saving model to checkpoint_modelo_2.hdf5\n",
      "60000/60000 [==============================] - 2s - loss: 0.1100 - val_loss: 0.1086\n",
      "Epoch 218/300\n",
      "58624/60000 [============================>.] - ETA: 0s - loss: 0.1100Epoch 00217: val_loss improved from 0.10865 to 0.10863, saving model to checkpoint_modelo_2.hdf5\n",
      "60000/60000 [==============================] - 2s - loss: 0.1100 - val_loss: 0.1086\n",
      "Epoch 219/300\n",
      "59392/60000 [============================>.] - ETA: 0s - loss: 0.1100Epoch 00218: val_loss improved from 0.10863 to 0.10860, saving model to checkpoint_modelo_2.hdf5\n",
      "60000/60000 [==============================] - 2s - loss: 0.1100 - val_loss: 0.1086\n",
      "Epoch 220/300\n",
      "59392/60000 [============================>.] - ETA: 0s - loss: 0.1100Epoch 00219: val_loss improved from 0.10860 to 0.10858, saving model to checkpoint_modelo_2.hdf5\n",
      "60000/60000 [==============================] - 2s - loss: 0.1100 - val_loss: 0.1086\n",
      "Epoch 221/300\n",
      "59904/60000 [============================>.] - ETA: 0s - loss: 0.1099Epoch 00220: val_loss improved from 0.10858 to 0.10855, saving model to checkpoint_modelo_2.hdf5\n",
      "60000/60000 [==============================] - 2s - loss: 0.1099 - val_loss: 0.1086\n",
      "Epoch 222/300\n",
      "59904/60000 [============================>.] - ETA: 0s - loss: 0.1099Epoch 00221: val_loss improved from 0.10855 to 0.10854, saving model to checkpoint_modelo_2.hdf5\n",
      "60000/60000 [==============================] - 2s - loss: 0.1099 - val_loss: 0.1085\n",
      "Epoch 223/300\n",
      "59904/60000 [============================>.] - ETA: 0s - loss: 0.1099Epoch 00222: val_loss improved from 0.10854 to 0.10851, saving model to checkpoint_modelo_2.hdf5\n",
      "60000/60000 [==============================] - 2s - loss: 0.1099 - val_loss: 0.1085\n",
      "Epoch 224/300\n",
      "59904/60000 [============================>.] - ETA: 0s - loss: 0.1099Epoch 00223: val_loss improved from 0.10851 to 0.10849, saving model to checkpoint_modelo_2.hdf5\n",
      "60000/60000 [==============================] - 2s - loss: 0.1099 - val_loss: 0.1085\n",
      "Epoch 225/300\n",
      "58880/60000 [============================>.] - ETA: 0s - loss: 0.1099Epoch 00224: val_loss improved from 0.10849 to 0.10847, saving model to checkpoint_modelo_2.hdf5\n",
      "60000/60000 [==============================] - 2s - loss: 0.1098 - val_loss: 0.1085\n",
      "Epoch 226/300\n",
      "58880/60000 [============================>.] - ETA: 0s - loss: 0.1098Epoch 00225: val_loss improved from 0.10847 to 0.10845, saving model to checkpoint_modelo_2.hdf5\n",
      "60000/60000 [==============================] - 2s - loss: 0.1098 - val_loss: 0.1084\n",
      "Epoch 227/300\n",
      "59648/60000 [============================>.] - ETA: 0s - loss: 0.1098Epoch 00226: val_loss improved from 0.10845 to 0.10842, saving model to checkpoint_modelo_2.hdf5\n",
      "60000/60000 [==============================] - 2s - loss: 0.1098 - val_loss: 0.1084\n",
      "Epoch 228/300\n",
      "59392/60000 [============================>.] - ETA: 0s - loss: 0.1098Epoch 00227: val_loss improved from 0.10842 to 0.10840, saving model to checkpoint_modelo_2.hdf5\n",
      "60000/60000 [==============================] - 2s - loss: 0.1098 - val_loss: 0.1084\n",
      "Epoch 229/300\n",
      "59648/60000 [============================>.] - ETA: 0s - loss: 0.1098Epoch 00228: val_loss improved from 0.10840 to 0.10838, saving model to checkpoint_modelo_2.hdf5\n",
      "60000/60000 [==============================] - 2s - loss: 0.1098 - val_loss: 0.1084\n",
      "Epoch 230/300\n",
      "58880/60000 [============================>.] - ETA: 0s - loss: 0.1097Epoch 00229: val_loss improved from 0.10838 to 0.10836, saving model to checkpoint_modelo_2.hdf5\n",
      "60000/60000 [==============================] - 2s - loss: 0.1097 - val_loss: 0.1084\n",
      "Epoch 231/300\n",
      "58880/60000 [============================>.] - ETA: 0s - loss: 0.1097Epoch 00230: val_loss improved from 0.10836 to 0.10834, saving model to checkpoint_modelo_2.hdf5\n",
      "60000/60000 [==============================] - 2s - loss: 0.1097 - val_loss: 0.1083\n",
      "Epoch 232/300\n",
      "59392/60000 [============================>.] - ETA: 0s - loss: 0.1097Epoch 00231: val_loss improved from 0.10834 to 0.10832, saving model to checkpoint_modelo_2.hdf5\n",
      "60000/60000 [==============================] - 2s - loss: 0.1097 - val_loss: 0.1083\n",
      "Epoch 233/300\n",
      "58880/60000 [============================>.] - ETA: 0s - loss: 0.1097Epoch 00232: val_loss improved from 0.10832 to 0.10830, saving model to checkpoint_modelo_2.hdf5\n",
      "60000/60000 [==============================] - 2s - loss: 0.1097 - val_loss: 0.1083\n",
      "Epoch 234/300\n",
      "59136/60000 [============================>.] - ETA: 0s - loss: 0.1096Epoch 00233: val_loss improved from 0.10830 to 0.10828, saving model to checkpoint_modelo_2.hdf5\n",
      "60000/60000 [==============================] - 2s - loss: 0.1096 - val_loss: 0.1083\n",
      "Epoch 235/300\n",
      "58880/60000 [============================>.] - ETA: 0s - loss: 0.1096Epoch 00234: val_loss improved from 0.10828 to 0.10826, saving model to checkpoint_modelo_2.hdf5\n",
      "60000/60000 [==============================] - 2s - loss: 0.1096 - val_loss: 0.1083\n",
      "Epoch 236/300\n",
      "59904/60000 [============================>.] - ETA: 0s - loss: 0.1096Epoch 00235: val_loss improved from 0.10826 to 0.10824, saving model to checkpoint_modelo_2.hdf5\n",
      "60000/60000 [==============================] - 2s - loss: 0.1096 - val_loss: 0.1082\n",
      "Epoch 237/300\n",
      "59648/60000 [============================>.] - ETA: 0s - loss: 0.1096Epoch 00236: val_loss improved from 0.10824 to 0.10822, saving model to checkpoint_modelo_2.hdf5\n",
      "60000/60000 [==============================] - 2s - loss: 0.1096 - val_loss: 0.1082\n",
      "Epoch 238/300\n",
      "59136/60000 [============================>.] - ETA: 0s - loss: 0.1096Epoch 00237: val_loss improved from 0.10822 to 0.10820, saving model to checkpoint_modelo_2.hdf5\n",
      "60000/60000 [==============================] - 2s - loss: 0.1096 - val_loss: 0.1082\n",
      "Epoch 239/300\n",
      "59648/60000 [============================>.] - ETA: 0s - loss: 0.1096Epoch 00238: val_loss improved from 0.10820 to 0.10817, saving model to checkpoint_modelo_2.hdf5\n",
      "60000/60000 [==============================] - 2s - loss: 0.1095 - val_loss: 0.1082\n",
      "Epoch 240/300\n",
      "59648/60000 [============================>.] - ETA: 0s - loss: 0.1095Epoch 00240: val_loss improved from 0.10816 to 0.10814, saving model to checkpoint_modelo_2.hdf5\n",
      "60000/60000 [==============================] - 2s - loss: 0.1095 - val_loss: 0.1081\n",
      "Epoch 242/300\n",
      "58624/60000 [============================>.] - ETA: 0s - loss: 0.1095Epoch 00241: val_loss improved from 0.10814 to 0.10812, saving model to checkpoint_modelo_2.hdf5\n",
      "60000/60000 [==============================] - 2s - loss: 0.1095 - val_loss: 0.1081\n",
      "Epoch 243/300\n",
      "59904/60000 [============================>.] - ETA: 0s - loss: 0.1095Epoch 00242: val_loss improved from 0.10812 to 0.10810, saving model to checkpoint_modelo_2.hdf5\n",
      "60000/60000 [==============================] - 2s - loss: 0.1095 - val_loss: 0.1081\n",
      "Epoch 244/300\n",
      "59392/60000 [============================>.] - ETA: 0s - loss: 0.1095Epoch 00243: val_loss improved from 0.10810 to 0.10808, saving model to checkpoint_modelo_2.hdf5\n",
      "60000/60000 [==============================] - 2s - loss: 0.1094 - val_loss: 0.1081\n",
      "Epoch 245/300\n",
      "58368/60000 [============================>.] - ETA: 0s - loss: 0.1094Epoch 00244: val_loss improved from 0.10808 to 0.10806, saving model to checkpoint_modelo_2.hdf5\n",
      "60000/60000 [==============================] - 2s - loss: 0.1094 - val_loss: 0.1081\n",
      "Epoch 246/300\n",
      "59904/60000 [============================>.] - ETA: 0s - loss: 0.1094Epoch 00245: val_loss improved from 0.10806 to 0.10804, saving model to checkpoint_modelo_2.hdf5\n",
      "60000/60000 [==============================] - 2s - loss: 0.1094 - val_loss: 0.1080\n",
      "Epoch 247/300\n",
      "58624/60000 [============================>.] - ETA: 0s - loss: 0.1094Epoch 00246: val_loss improved from 0.10804 to 0.10802, saving model to checkpoint_modelo_2.hdf5\n",
      "60000/60000 [==============================] - 2s - loss: 0.1094 - val_loss: 0.1080\n",
      "Epoch 248/300\n",
      "58112/60000 [============================>.] - ETA: 0s - loss: 0.1094Epoch 00247: val_loss improved from 0.10802 to 0.10801, saving model to checkpoint_modelo_2.hdf5\n",
      "60000/60000 [==============================] - 2s - loss: 0.1094 - val_loss: 0.1080\n",
      "Epoch 249/300\n",
      "59648/60000 [============================>.] - ETA: 0s - loss: 0.1094Epoch 00248: val_loss improved from 0.10801 to 0.10798, saving model to checkpoint_modelo_2.hdf5\n",
      "60000/60000 [==============================] - 2s - loss: 0.1093 - val_loss: 0.1080\n",
      "Epoch 250/300\n",
      "58368/60000 [============================>.] - ETA: 0s - loss: 0.1093Epoch 00249: val_loss improved from 0.10798 to 0.10797, saving model to checkpoint_modelo_2.hdf5\n",
      "60000/60000 [==============================] - 2s - loss: 0.1093 - val_loss: 0.1080\n",
      "Epoch 251/300\n",
      "58624/60000 [============================>.] - ETA: 0s - loss: 0.1093Epoch 00250: val_loss improved from 0.10797 to 0.10795, saving model to checkpoint_modelo_2.hdf5\n",
      "60000/60000 [==============================] - 2s - loss: 0.1093 - val_loss: 0.1079\n",
      "Epoch 252/300\n",
      "58624/60000 [============================>.] - ETA: 0s - loss: 0.1093Epoch 00251: val_loss improved from 0.10795 to 0.10795, saving model to checkpoint_modelo_2.hdf5\n",
      "60000/60000 [==============================] - 2s - loss: 0.1093 - val_loss: 0.1079\n",
      "Epoch 253/300\n",
      "59904/60000 [============================>.] - ETA: 0s - loss: 0.1093Epoch 00252: val_loss improved from 0.10795 to 0.10791, saving model to checkpoint_modelo_2.hdf5\n",
      "60000/60000 [==============================] - 2s - loss: 0.1093 - val_loss: 0.1079\n",
      "Epoch 254/300\n",
      "58880/60000 [============================>.] - ETA: 0s - loss: 0.1093Epoch 00253: val_loss improved from 0.10791 to 0.10790, saving model to checkpoint_modelo_2.hdf5\n",
      "60000/60000 [==============================] - 2s - loss: 0.1092 - val_loss: 0.1079\n",
      "Epoch 255/300\n",
      "59136/60000 [============================>.] - ETA: 0s - loss: 0.1093Epoch 00254: val_loss improved from 0.10790 to 0.10787, saving model to checkpoint_modelo_2.hdf5\n"
     ]
    },
    {
     "name": "stdout",
     "output_type": "stream",
     "text": [
      "60000/60000 [==============================] - 3s - loss: 0.1092 - val_loss: 0.1079\n",
      "Epoch 256/300\n",
      "59904/60000 [============================>.] - ETA: 0s - loss: 0.1092Epoch 00255: val_loss improved from 0.10787 to 0.10786, saving model to checkpoint_modelo_2.hdf5\n",
      "60000/60000 [==============================] - 2s - loss: 0.1092 - val_loss: 0.1079\n",
      "Epoch 257/300\n",
      "59648/60000 [============================>.] - ETA: 0s - loss: 0.1092Epoch 00256: val_loss improved from 0.10786 to 0.10784, saving model to checkpoint_modelo_2.hdf5\n",
      "60000/60000 [==============================] - 2s - loss: 0.1092 - val_loss: 0.1078\n",
      "Epoch 258/300\n",
      "59136/60000 [============================>.] - ETA: 0s - loss: 0.1092Epoch 00257: val_loss improved from 0.10784 to 0.10783, saving model to checkpoint_modelo_2.hdf5\n",
      "60000/60000 [==============================] - 2s - loss: 0.1092 - val_loss: 0.1078\n",
      "Epoch 259/300\n",
      "58880/60000 [============================>.] - ETA: 0s - loss: 0.1091Epoch 00258: val_loss improved from 0.10783 to 0.10780, saving model to checkpoint_modelo_2.hdf5\n",
      "60000/60000 [==============================] - 2s - loss: 0.1092 - val_loss: 0.1078\n",
      "Epoch 260/300\n",
      "58624/60000 [============================>.] - ETA: 0s - loss: 0.1091Epoch 00259: val_loss improved from 0.10780 to 0.10779, saving model to checkpoint_modelo_2.hdf5\n",
      "60000/60000 [==============================] - 2s - loss: 0.1091 - val_loss: 0.1078\n",
      "Epoch 261/300\n",
      "58112/60000 [============================>.] - ETA: 0s - loss: 0.1092Epoch 00260: val_loss improved from 0.10779 to 0.10777, saving model to checkpoint_modelo_2.hdf5\n",
      "60000/60000 [==============================] - 2s - loss: 0.1091 - val_loss: 0.1078\n",
      "Epoch 262/300\n",
      "59904/60000 [============================>.] - ETA: 0s - loss: 0.1091Epoch 00261: val_loss improved from 0.10777 to 0.10775, saving model to checkpoint_modelo_2.hdf5\n",
      "60000/60000 [==============================] - 2s - loss: 0.1091 - val_loss: 0.1078\n",
      "Epoch 263/300\n",
      "59648/60000 [============================>.] - ETA: 0s - loss: 0.1091Epoch 00262: val_loss improved from 0.10775 to 0.10774, saving model to checkpoint_modelo_2.hdf5\n",
      "60000/60000 [==============================] - 2s - loss: 0.1091 - val_loss: 0.1077\n",
      "Epoch 264/300\n",
      "59392/60000 [============================>.] - ETA: 0s - loss: 0.1091Epoch 00263: val_loss improved from 0.10774 to 0.10771, saving model to checkpoint_modelo_2.hdf5\n",
      "60000/60000 [==============================] - 2s - loss: 0.1091 - val_loss: 0.1077\n",
      "Epoch 265/300\n",
      "58624/60000 [============================>.] - ETA: 0s - loss: 0.1091Epoch 00264: val_loss improved from 0.10771 to 0.10770, saving model to checkpoint_modelo_2.hdf5\n",
      "60000/60000 [==============================] - 2s - loss: 0.1091 - val_loss: 0.1077\n",
      "Epoch 266/300\n",
      "58368/60000 [============================>.] - ETA: 0s - loss: 0.1090Epoch 00265: val_loss improved from 0.10770 to 0.10768, saving model to checkpoint_modelo_2.hdf5\n",
      "60000/60000 [==============================] - 2s - loss: 0.1090 - val_loss: 0.1077\n",
      "Epoch 267/300\n",
      "59392/60000 [============================>.] - ETA: 0s - loss: 0.1090Epoch 00266: val_loss improved from 0.10768 to 0.10767, saving model to checkpoint_modelo_2.hdf5\n",
      "60000/60000 [==============================] - 3s - loss: 0.1090 - val_loss: 0.1077\n",
      "Epoch 268/300\n",
      "58624/60000 [============================>.] - ETA: 0s - loss: 0.1090Epoch 00267: val_loss improved from 0.10767 to 0.10765, saving model to checkpoint_modelo_2.hdf5\n",
      "60000/60000 [==============================] - 2s - loss: 0.1090 - val_loss: 0.1076\n",
      "Epoch 269/300\n",
      "58624/60000 [============================>.] - ETA: 0s - loss: 0.1090Epoch 00268: val_loss improved from 0.10765 to 0.10763, saving model to checkpoint_modelo_2.hdf5\n",
      "60000/60000 [==============================] - 2s - loss: 0.1090 - val_loss: 0.1076\n",
      "Epoch 270/300\n",
      "59136/60000 [============================>.] - ETA: 0s - loss: 0.1090Epoch 00269: val_loss improved from 0.10763 to 0.10761, saving model to checkpoint_modelo_2.hdf5\n",
      "60000/60000 [==============================] - 3s - loss: 0.1090 - val_loss: 0.1076\n",
      "Epoch 271/300\n",
      "58624/60000 [============================>.] - ETA: 0s - loss: 0.1090Epoch 00270: val_loss improved from 0.10761 to 0.10760, saving model to checkpoint_modelo_2.hdf5\n",
      "60000/60000 [==============================] - 3s - loss: 0.1089 - val_loss: 0.1076\n",
      "Epoch 272/300\n",
      "59648/60000 [============================>.] - ETA: 0s - loss: 0.1089Epoch 00271: val_loss improved from 0.10760 to 0.10758, saving model to checkpoint_modelo_2.hdf5\n",
      "60000/60000 [==============================] - 2s - loss: 0.1089 - val_loss: 0.1076\n",
      "Epoch 273/300\n",
      "59392/60000 [============================>.] - ETA: 0s - loss: 0.1089Epoch 00272: val_loss improved from 0.10758 to 0.10756, saving model to checkpoint_modelo_2.hdf5\n",
      "60000/60000 [==============================] - 2s - loss: 0.1089 - val_loss: 0.1076\n",
      "Epoch 274/300\n",
      "58368/60000 [============================>.] - ETA: 0s - loss: 0.1089Epoch 00273: val_loss improved from 0.10756 to 0.10755, saving model to checkpoint_modelo_2.hdf5\n",
      "60000/60000 [==============================] - 2s - loss: 0.1089 - val_loss: 0.1075\n",
      "Epoch 275/300\n",
      "59648/60000 [============================>.] - ETA: 0s - loss: 0.1089Epoch 00274: val_loss improved from 0.10755 to 0.10753, saving model to checkpoint_modelo_2.hdf5\n",
      "60000/60000 [==============================] - 2s - loss: 0.1089 - val_loss: 0.1075\n",
      "Epoch 276/300\n",
      "58624/60000 [============================>.] - ETA: 0s - loss: 0.1088Epoch 00275: val_loss improved from 0.10753 to 0.10752, saving model to checkpoint_modelo_2.hdf5\n",
      "60000/60000 [==============================] - 2s - loss: 0.1089 - val_loss: 0.1075\n",
      "Epoch 277/300\n",
      "59648/60000 [============================>.] - ETA: 0s - loss: 0.1089Epoch 00276: val_loss improved from 0.10752 to 0.10750, saving model to checkpoint_modelo_2.hdf5\n",
      "60000/60000 [==============================] - 2s - loss: 0.1088 - val_loss: 0.1075\n",
      "Epoch 278/300\n",
      "59136/60000 [============================>.] - ETA: 0s - loss: 0.1089Epoch 00277: val_loss improved from 0.10750 to 0.10748, saving model to checkpoint_modelo_2.hdf5\n",
      "60000/60000 [==============================] - 3s - loss: 0.1088 - val_loss: 0.1075\n",
      "Epoch 279/300\n",
      "11008/60000 [====>.........................] - ETA: 1s - loss: 0.1084\n",
      "60000/60000 [==============================] - 2s - loss: 0.1088 - val_loss: 0.1075\n",
      "Epoch 280/300\n",
      "59392/60000 [============================>.] - ETA: 0s - loss: 0.1088Epoch 00279: val_loss improved from 0.10747 to 0.10745, saving model to checkpoint_modelo_2.hdf5\n",
      "60000/60000 [==============================] - 2s - loss: 0.1088 - val_loss: 0.1075\n",
      "Epoch 281/300\n",
      "59136/60000 [============================>.] - ETA: 0s - loss: 0.1088Epoch 00280: val_loss improved from 0.10745 to 0.10744, saving model to checkpoint_modelo_2.hdf5\n",
      "60000/60000 [==============================] - 2s - loss: 0.1088 - val_loss: 0.1074\n",
      "Epoch 282/300\n",
      "59904/60000 [============================>.] - ETA: 0s - loss: 0.1088Epoch 00281: val_loss improved from 0.10744 to 0.10742, saving model to checkpoint_modelo_2.hdf5\n",
      "60000/60000 [==============================] - 2s - loss: 0.1088 - val_loss: 0.1074\n",
      "Epoch 283/300\n",
      "59136/60000 [============================>.] - ETA: 0s - loss: 0.1088Epoch 00282: val_loss improved from 0.10742 to 0.10741, saving model to checkpoint_modelo_2.hdf5\n",
      "60000/60000 [==============================] - 2s - loss: 0.1087 - val_loss: 0.1074\n",
      "Epoch 284/300\n",
      "59136/60000 [============================>.] - ETA: 0s - loss: 0.1087Epoch 00283: val_loss improved from 0.10741 to 0.10739, saving model to checkpoint_modelo_2.hdf5\n",
      "60000/60000 [==============================] - 2s - loss: 0.1087 - val_loss: 0.1074\n",
      "Epoch 285/300\n",
      "58624/60000 [============================>.] - ETA: 0s - loss: 0.1087Epoch 00284: val_loss improved from 0.10739 to 0.10738, saving model to checkpoint_modelo_2.hdf5\n",
      "60000/60000 [==============================] - 2s - loss: 0.1087 - val_loss: 0.1074\n",
      "Epoch 286/300\n",
      "58880/60000 [============================>.] - ETA: 0s - loss: 0.1087Epoch 00285: val_loss improved from 0.10738 to 0.10736, saving model to checkpoint_modelo_2.hdf5\n",
      "60000/60000 [==============================] - 2s - loss: 0.1087 - val_loss: 0.1074\n",
      "Epoch 287/300\n",
      "58880/60000 [============================>.] - ETA: 0s - loss: 0.1087Epoch 00286: val_loss improved from 0.10736 to 0.10735, saving model to checkpoint_modelo_2.hdf5\n",
      "60000/60000 [==============================] - 2s - loss: 0.1087 - val_loss: 0.1073\n",
      "Epoch 288/300\n",
      "58624/60000 [============================>.] - ETA: 0s - loss: 0.1087Epoch 00287: val_loss improved from 0.10735 to 0.10733, saving model to checkpoint_modelo_2.hdf5\n",
      "60000/60000 [==============================] - 2s - loss: 0.1087 - val_loss: 0.1073\n",
      "Epoch 289/300\n",
      "58624/60000 [============================>.] - ETA: 0s - loss: 0.1087Epoch 00288: val_loss improved from 0.10733 to 0.10732, saving model to checkpoint_modelo_2.hdf5\n",
      "60000/60000 [==============================] - 2s - loss: 0.1087 - val_loss: 0.1073\n",
      "Epoch 290/300\n",
      "58368/60000 [============================>.] - ETA: 0s - loss: 0.1087Epoch 00289: val_loss improved from 0.10732 to 0.10730, saving model to checkpoint_modelo_2.hdf5\n",
      "60000/60000 [==============================] - 2s - loss: 0.1086 - val_loss: 0.1073\n",
      "Epoch 291/300\n",
      "59392/60000 [============================>.] - ETA: 0s - loss: 0.1086Epoch 00290: val_loss improved from 0.10730 to 0.10729, saving model to checkpoint_modelo_2.hdf5\n",
      "60000/60000 [==============================] - 2s - loss: 0.1086 - val_loss: 0.1073\n",
      "Epoch 292/300\n",
      "59648/60000 [============================>.] - ETA: 0s - loss: 0.1086Epoch 00291: val_loss improved from 0.10729 to 0.10727, saving model to checkpoint_modelo_2.hdf5\n",
      "60000/60000 [==============================] - 2s - loss: 0.1086 - val_loss: 0.1073\n",
      "Epoch 293/300\n",
      "58368/60000 [============================>.] - ETA: 0s - loss: 0.1086Epoch 00292: val_loss improved from 0.10727 to 0.10725, saving model to checkpoint_modelo_2.hdf5\n",
      "60000/60000 [==============================] - 2s - loss: 0.1086 - val_loss: 0.1073\n",
      "Epoch 294/300\n",
      "59648/60000 [============================>.] - ETA: 0s - loss: 0.1086Epoch 00293: val_loss improved from 0.10725 to 0.10724, saving model to checkpoint_modelo_2.hdf5\n",
      "60000/60000 [==============================] - 2s - loss: 0.1086 - val_loss: 0.1072\n",
      "Epoch 295/300\n",
      "59136/60000 [============================>.] - ETA: 0s - loss: 0.1086Epoch 00294: val_loss improved from 0.10724 to 0.10723, saving model to checkpoint_modelo_2.hdf5\n",
      "60000/60000 [==============================] - 2s - loss: 0.1086 - val_loss: 0.1072\n",
      "Epoch 296/300\n",
      "59136/60000 [============================>.] - ETA: 0s - loss: 0.1086Epoch 00295: val_loss improved from 0.10723 to 0.10722, saving model to checkpoint_modelo_2.hdf5\n",
      "60000/60000 [==============================] - 2s - loss: 0.1086 - val_loss: 0.1072\n",
      "Epoch 297/300\n",
      "59648/60000 [============================>.] - ETA: 0s - loss: 0.1085Epoch 00296: val_loss improved from 0.10722 to 0.10720, saving model to checkpoint_modelo_2.hdf5\n",
      "60000/60000 [==============================] - 2s - loss: 0.1085 - val_loss: 0.1072\n",
      "Epoch 298/300\n",
      "59392/60000 [============================>.] - ETA: 0s - loss: 0.1085Epoch 00297: val_loss improved from 0.10720 to 0.10719, saving model to checkpoint_modelo_2.hdf5\n",
      "60000/60000 [==============================] - 2s - loss: 0.1085 - val_loss: 0.1072\n",
      "Epoch 299/300\n",
      "58880/60000 [============================>.] - ETA: 0s - loss: 0.1085Epoch 00298: val_loss improved from 0.10719 to 0.10717, saving model to checkpoint_modelo_2.hdf5\n",
      "60000/60000 [==============================] - 2s - loss: 0.1085 - val_loss: 0.1072\n",
      "Epoch 300/300\n",
      "59904/60000 [============================>.] - ETA: 0s - loss: 0.1085Epoch 00299: val_loss improved from 0.10717 to 0.10715, saving model to checkpoint_modelo_2.hdf5\n",
      "60000/60000 [==============================] - 2s - loss: 0.1085 - val_loss: 0.1072\n"
     ]
    }
   ],
   "source": [
    "history_model_2 = autoencoder_reg.fit(x_train, x_train,\n",
    "                                    epochs=300,\n",
    "                                    batch_size=256,\n",
    "                                    shuffle=True,\n",
    "                                    validation_data=(x_test, x_test),\n",
    "                                    callbacks=[checkpointer_2])"
   ]
  },
  {
   "cell_type": "code",
   "execution_count": null,
   "metadata": {},
   "outputs": [
    {
     "data": {
      "image/png": "[encoded data removed]",
      "text/plain": [
       "<matplotlib.figure.Figure at 0x7f79cee20c18>"
      ]
     },
     "metadata": {},
     "output_type": "display_data"
    }
   ],
   "source": [
    "# Grafico do treinamento\n",
    "plt.plot(history_model_2.history['loss'], 'b')\n",
    "plt.plot(history_model_2.history['val_loss'], 'r')\n",
    "plt.show()"
   ]
  },
  {
   "cell_type": "code",
   "execution_count": null,
   "metadata": {
    "collapsed": true
   },
   "outputs": [],
   "source": [
    "encoder_reg = Model(input_img, encoded_reg)"
   ]
  },
  {
   "cell_type": "code",
   "execution_count": null,
   "metadata": {
    "collapsed": true
   },
   "outputs": [],
   "source": [
    "#encoded_input = Input(shape=(encoding_dim,))\n",
    "decoder_layer_reg = autoencoder_reg.layers[-1]\n",
    "decoder_reg = Model(encoded_input, decoder_layer_reg(encoded_input))"
   ]
  },
  {
   "cell_type": "code",
   "execution_count": null,
   "metadata": {
    "collapsed": true
   },
   "outputs": [],
   "source": [
    "encoded_imgs_reg = encoder_reg.predict(x_test)\n",
    "decoded_imgs_reg = decoder_reg.predict(encoded_imgs_reg)"
   ]
  },
  {
   "cell_type": "code",
   "execution_count": null,
   "metadata": {},
   "outputs": [
    {
     "data": {
      "image/png": "[encoded data removed]",
      "text/plain": [
       "<matplotlib.figure.Figure at 0x7f79de1c8d68>"
      ]
     },
     "metadata": {},
     "output_type": "display_data"
    }
   ],
   "source": [
    "n = 15  # how many digits we will display\n",
    "plt.figure(figsize=(2*n, 4))\n",
    "for i in range(n):\n",
    "    # display original\n",
    "    ax = plt.subplot(2, n, i + 1)\n",
    "    plt.imshow(x_test[i].reshape(28, 28))\n",
    "    plt.gray()\n",
    "    ax.get_xaxis().set_visible(False)\n",
    "    ax.get_yaxis().set_visible(False)\n",
    "\n",
    "    # display reconstruction\n",
    "    ax = plt.subplot(2, n, i + 1 + n)\n",
    "    plt.imshow(decoded_imgs_reg[i].reshape(28, 28))\n",
    "    plt.gray()\n",
    "    ax.get_xaxis().set_visible(False)\n",
    "    ax.get_yaxis().set_visible(False)\n",
    "plt.show()"
   ]
  },
  {
   "cell_type": "markdown",
   "metadata": {},
   "source": [
    "Não há muita diferença na função de custo... A diferença maior é que a representação das imagens _encodadas_ é mais esparsa."
   ]
  },
  {
   "cell_type": "code",
   "execution_count": null,
   "metadata": {},
   "outputs": [
    {
     "data": {
      "text/plain": [
       "8.5702629"
      ]
     },
     "execution_count": 44,
     "metadata": {},
     "output_type": "execute_result"
    }
   ],
   "source": [
    "encoded_imgs.mean()"
   ]
  },
  {
   "cell_type": "code",
   "execution_count": null,
   "metadata": {},
   "outputs": [
    {
     "data": {
      "text/plain": [
       "2.2106755"
      ]
     },
     "execution_count": 45,
     "metadata": {},
     "output_type": "execute_result"
    }
   ],
   "source": [
    "encoded_imgs_reg.mean()"
   ]
  },
  {
   "cell_type": "markdown",
   "metadata": {},
   "source": [
    "# Modelo 3: Deep Neural Network de 6 camadas Totalmente Conectadas\n"
   ]
  },
  {
   "cell_type": "code",
   "execution_count": null,
   "metadata": {
    "collapsed": true
   },
   "outputs": [],
   "source": [
    "#input_img = Input(shape=(image_dim,))\n",
    "\n",
    "encoded_deep = Dense(128, activation='relu')(input_img)\n",
    "encoded_deep = Dense(64, activation='relu')(encoded_deep)\n",
    "encoded_deep = Dense(32, activation='relu')(encoded_deep)\n",
    "\n",
    "decoded_deep = Dense(64, activation='relu')(encoded_deep)\n",
    "decoded_deep = Dense(128, activation='relu')(decoded_deep)\n",
    "decoded_deep = Dense(784, activation='sigmoid')(decoded_deep)\n",
    "\n",
    "autoencoder_deep = Model(input_img, decoded_deep)"
   ]
  },
  {
   "cell_type": "code",
   "execution_count": null,
   "metadata": {
    "collapsed": true
   },
   "outputs": [],
   "source": [
    "# carregando o modelo, se necessário\n",
    "#autoencoder.load_weights('checkpoint_modelo_3.hdf5')"
   ]
  },
  {
   "cell_type": "code",
   "execution_count": null,
   "metadata": {
    "collapsed": true
   },
   "outputs": [],
   "source": [
    "autoencoder_deep.compile(optimizer='adadelta', loss='binary_crossentropy')"
   ]
  },
  {
   "cell_type": "code",
   "execution_count": null,
   "metadata": {},
   "outputs": [
    {
     "name": "stdout",
     "output_type": "stream",
     "text": [
      "_________________________________________________________________\n",
      "Layer (type)                 Output Shape              Param #   \n",
      "=================================================================\n",
      "input_3 (InputLayer)         (None, 784)               0         \n",
      "_________________________________________________________________\n",
      "dense_5 (Dense)              (None, 128)               100480    \n",
      "_________________________________________________________________\n",
      "dense_6 (Dense)              (None, 64)                8256      \n",
      "_________________________________________________________________\n",
      "dense_7 (Dense)              (None, 32)                2080      \n",
      "_________________________________________________________________\n",
      "dense_8 (Dense)              (None, 64)                2112      \n",
      "_________________________________________________________________\n",
      "dense_9 (Dense)              (None, 128)               8320      \n",
      "_________________________________________________________________\n",
      "dense_10 (Dense)             (None, 784)               101136    \n",
      "=================================================================\n",
      "Total params: 222,384\n",
      "Trainable params: 222,384\n",
      "Non-trainable params: 0\n",
      "_________________________________________________________________\n"
     ]
    }
   ],
   "source": [
    "autoencoder_deep.summary()"
   ]
  },
  {
   "cell_type": "code",
   "execution_count": null,
   "metadata": {
    "collapsed": true
   },
   "outputs": [],
   "source": [
    "checkpointer_3 = ModelCheckpoint(filepath='checkpoint_modelo_3.hdf5', verbose=1, save_best_only=True)"
   ]
  },
  {
   "cell_type": "code",
   "execution_count": null,
   "metadata": {
    "scrolled": false
   },
   "outputs": [
    {
     "name": "stdout",
     "output_type": "stream",
     "text": [
      "Train on 60000 samples, validate on 10000 samples\n",
      "Epoch 1/200\n",
      "59392/60000 [============================>.] - ETA: 0s - loss: 0.3353Epoch 00000: val_loss improved from inf to 0.26310, saving model to checkpoint_modelo_3.hdf5\n",
      "60000/60000 [==============================] - 4s - loss: 0.3345 - val_loss: 0.2631\n",
      "Epoch 2/200\n",
      "58880/60000 [============================>.] - ETA: 0s - loss: 0.2564Epoch 00001: val_loss improved from 0.26310 to 0.24805, saving model to checkpoint_modelo_3.hdf5\n",
      "60000/60000 [==============================] - 3s - loss: 0.2563 - val_loss: 0.2480\n",
      "Epoch 3/200\n",
      "59904/60000 [============================>.] - ETA: 0s - loss: 0.2426Epoch 00002: val_loss improved from 0.24805 to 0.23606, saving model to checkpoint_modelo_3.hdf5\n",
      "60000/60000 [==============================] - 4s - loss: 0.2426 - val_loss: 0.2361\n",
      "Epoch 4/200\n",
      "59136/60000 [============================>.] - ETA: 0s - loss: 0.2296Epoch 00003: val_loss improved from 0.23606 to 0.22315, saving model to checkpoint_modelo_3.hdf5\n",
      "60000/60000 [==============================] - 4s - loss: 0.2295 - val_loss: 0.2232\n",
      "Epoch 5/200\n",
      "59392/60000 [============================>.] - ETA: 0s - loss: 0.2188Epoch 00004: val_loss improved from 0.22315 to 0.20980, saving model to checkpoint_modelo_3.hdf5\n",
      "60000/60000 [==============================] - 3s - loss: 0.2187 - val_loss: 0.2098\n",
      "Epoch 6/200\n",
      "58880/60000 [============================>.] - ETA: 0s - loss: 0.2044Epoch 00005: val_loss improved from 0.20980 to 0.19807, saving model to checkpoint_modelo_3.hdf5\n",
      "60000/60000 [==============================] - 4s - loss: 0.2042 - val_loss: 0.1981\n",
      "Epoch 7/200\n",
      "59648/60000 [============================>.] - ETA: 0s - loss: 0.1964Epoch 00006: val_loss improved from 0.19807 to 0.19198, saving model to checkpoint_modelo_3.hdf5\n",
      "60000/60000 [==============================] - 4s - loss: 0.1964 - val_loss: 0.1920\n",
      "Epoch 8/200\n",
      "58880/60000 [============================>.] - ETA: 0s - loss: 0.1898Epoch 00007: val_loss improved from 0.19198 to 0.18493, saving model to checkpoint_modelo_3.hdf5\n",
      "60000/60000 [==============================] - 4s - loss: 0.1898 - val_loss: 0.1849\n",
      "Epoch 9/200\n",
      "59392/60000 [============================>.] - ETA: 0s - loss: 0.1820Epoch 00008: val_loss improved from 0.18493 to 0.17694, saving model to checkpoint_modelo_3.hdf5\n",
      "60000/60000 [==============================] - 3s - loss: 0.1819 - val_loss: 0.1769\n",
      "Epoch 10/200\n",
      "59648/60000 [============================>.] - ETA: 0s - loss: 0.1751Epoch 00009: val_loss improved from 0.17694 to 0.16978, saving model to checkpoint_modelo_3.hdf5\n",
      "60000/60000 [==============================] - 4s - loss: 0.1750 - val_loss: 0.1698\n",
      "Epoch 11/200\n",
      "59648/60000 [============================>.] - ETA: 0s - loss: 0.1648Epoch 00011: val_loss improved from 0.16522 to 0.16174, saving model to checkpoint_modelo_3.hdf5\n",
      "60000/60000 [==============================] - 3s - loss: 0.1648 - val_loss: 0.1617\n",
      "Epoch 13/200\n",
      "58880/60000 [============================>.] - ETA: 0s - loss: 0.1605Epoch 00012: val_loss improved from 0.16174 to 0.15642, saving model to checkpoint_modelo_3.hdf5\n",
      "60000/60000 [==============================] - 4s - loss: 0.1604 - val_loss: 0.1564\n",
      "Epoch 14/200\n",
      "59392/60000 [============================>.] - ETA: 0s - loss: 0.1568Epoch 00013: val_loss improved from 0.15642 to 0.15360, saving model to checkpoint_modelo_3.hdf5\n",
      "60000/60000 [==============================] - 4s - loss: 0.1568 - val_loss: 0.1536\n",
      "Epoch 15/200\n",
      "59136/60000 [============================>.] - ETA: 0s - loss: 0.1540Epoch 00014: val_loss improved from 0.15360 to 0.15139, saving model to checkpoint_modelo_3.hdf5\n",
      "60000/60000 [==============================] - 4s - loss: 0.1539 - val_loss: 0.1514\n",
      "Epoch 16/200\n",
      "59648/60000 [============================>.] - ETA: 0s - loss: 0.1512Epoch 00015: val_loss improved from 0.15139 to 0.14824, saving model to checkpoint_modelo_3.hdf5\n",
      "60000/60000 [==============================] - 4s - loss: 0.1512 - val_loss: 0.1482\n",
      "Epoch 17/200\n",
      "58880/60000 [============================>.] - ETA: 0s - loss: 0.1484Epoch 00016: val_loss improved from 0.14824 to 0.14636, saving model to checkpoint_modelo_3.hdf5\n",
      "60000/60000 [==============================] - 4s - loss: 0.1484 - val_loss: 0.1464\n",
      "Epoch 18/200\n",
      "59648/60000 [============================>.] - ETA: 0s - loss: 0.1457Epoch 00017: val_loss improved from 0.14636 to 0.14216, saving model to checkpoint_modelo_3.hdf5\n",
      "60000/60000 [==============================] - 3s - loss: 0.1457 - val_loss: 0.1422\n",
      "Epoch 19/200\n",
      "58880/60000 [============================>.] - ETA: 0s - loss: 0.1432Epoch 00018: val_loss did not improve\n",
      "60000/60000 [==============================] - 2s - loss: 0.1432 - val_loss: 0.1436\n",
      "Epoch 20/200\n",
      "58880/60000 [============================>.] - ETA: 0s - loss: 0.1410Epoch 00019: val_loss improved from 0.14216 to 0.13785, saving model to checkpoint_modelo_3.hdf5\n",
      "60000/60000 [==============================] - 3s - loss: 0.1409 - val_loss: 0.1379\n",
      "Epoch 21/200\n",
      "59136/60000 [============================>.] - ETA: 0s - loss: 0.1390Epoch 00020: val_loss improved from 0.13785 to 0.13602, saving model to checkpoint_modelo_3.hdf5\n",
      "60000/60000 [==============================] - 4s - loss: 0.1390 - val_loss: 0.1360\n",
      "Epoch 22/200\n",
      "59392/60000 [============================>.] - ETA: 0s - loss: 0.1376Epoch 00021: val_loss did not improve\n",
      "60000/60000 [==============================] - 3s - loss: 0.1376 - val_loss: 0.1365\n",
      "Epoch 23/200\n",
      "59392/60000 [============================>.] - ETA: 0s - loss: 0.1362Epoch 00022: val_loss improved from 0.13602 to 0.13414, saving model to checkpoint_modelo_3.hdf5\n",
      "60000/60000 [==============================] - 4s - loss: 0.1362 - val_loss: 0.1341\n",
      "Epoch 24/200\n",
      "59392/60000 [============================>.] - ETA: 0s - loss: 0.1349Epoch 00023: val_loss improved from 0.13414 to 0.13285, saving model to checkpoint_modelo_3.hdf5\n",
      "60000/60000 [==============================] - 4s - loss: 0.1349 - val_loss: 0.1328\n",
      "Epoch 25/200\n",
      "59904/60000 [============================>.] - ETA: 0s - loss: 0.1339Epoch 00024: val_loss improved from 0.13285 to 0.13163, saving model to checkpoint_modelo_3.hdf5\n",
      "60000/60000 [==============================] - 4s - loss: 0.1338 - val_loss: 0.1316\n",
      "Epoch 26/200\n",
      "59392/60000 [============================>.] - ETA: 0s - loss: 0.1329Epoch 00025: val_loss improved from 0.13163 to 0.13051, saving model to checkpoint_modelo_3.hdf5\n",
      "60000/60000 [==============================] - 3s - loss: 0.1328 - val_loss: 0.1305\n",
      "Epoch 27/200\n",
      "59136/60000 [============================>.] - ETA: 0s - loss: 0.1318Epoch 00026: val_loss improved from 0.13051 to 0.13037, saving model to checkpoint_modelo_3.hdf5\n",
      "60000/60000 [==============================] - 3s - loss: 0.1318 - val_loss: 0.1304\n",
      "Epoch 28/200\n",
      "59136/60000 [============================>.] - ETA: 0s - loss: 0.1307Epoch 00027: val_loss improved from 0.13037 to 0.12900, saving model to checkpoint_modelo_3.hdf5\n",
      "60000/60000 [==============================] - 4s - loss: 0.1306 - val_loss: 0.1290\n",
      "Epoch 29/200\n",
      "59136/60000 [============================>.] - ETA: 0s - loss: 0.1296Epoch 00028: val_loss improved from 0.12900 to 0.12829, saving model to checkpoint_modelo_3.hdf5\n",
      "60000/60000 [==============================] - 3s - loss: 0.1296 - val_loss: 0.1283\n",
      "Epoch 30/200\n",
      "59648/60000 [============================>.] - ETA: 0s - loss: 0.1286Epoch 00029: val_loss improved from 0.12829 to 0.12693, saving model to checkpoint_modelo_3.hdf5\n",
      "60000/60000 [==============================] - 4s - loss: 0.1286 - val_loss: 0.1269\n",
      "Epoch 31/200\n",
      "59392/60000 [============================>.] - ETA: 0s - loss: 0.1277Epoch 00030: val_loss improved from 0.12693 to 0.12685, saving model to checkpoint_modelo_3.hdf5\n",
      "60000/60000 [==============================] - 4s - loss: 0.1277 - val_loss: 0.1269\n",
      "Epoch 32/200\n",
      "59392/60000 [============================>.] - ETA: 0s - loss: 0.1267Epoch 00031: val_loss improved from 0.12685 to 0.12644, saving model to checkpoint_modelo_3.hdf5\n",
      "60000/60000 [==============================] - 5s - loss: 0.1267 - val_loss: 0.1264\n",
      "Epoch 33/200\n",
      "59392/60000 [============================>.] - ETA: 0s - loss: 0.1259Epoch 00032: val_loss improved from 0.12644 to 0.12504, saving model to checkpoint_modelo_3.hdf5\n",
      "60000/60000 [==============================] - 3s - loss: 0.1259 - val_loss: 0.1250\n",
      "Epoch 34/200\n",
      "58880/60000 [============================>.] - ETA: 0s - loss: 0.1250Epoch 00033: val_loss improved from 0.12504 to 0.12355, saving model to checkpoint_modelo_3.hdf5\n",
      "60000/60000 [==============================] - 3s - loss: 0.1250 - val_loss: 0.1235\n",
      "Epoch 35/200\n",
      "59648/60000 [============================>.] - ETA: 0s - loss: 0.1241Epoch 00034: val_loss improved from 0.12355 to 0.12263, saving model to checkpoint_modelo_3.hdf5\n",
      "60000/60000 [==============================] - 4s - loss: 0.1241 - val_loss: 0.1226\n",
      "Epoch 36/200\n",
      "59648/60000 [============================>.] - ETA: 0s - loss: 0.1233Epoch 00035: val_loss improved from 0.12263 to 0.12144, saving model to checkpoint_modelo_3.hdf5\n",
      "59648/60000 [============================>.] - ETA: 0s - loss: 0.1225Epoch 00036: val_loss improved from 0.12144 to 0.12124, saving model to checkpoint_modelo_3.hdf5\n",
      "60000/60000 [==============================] - 4s - loss: 0.1225 - val_loss: 0.1212\n",
      "Epoch 38/200\n",
      "58880/60000 [============================>.] - ETA: 0s - loss: 0.1216Epoch 00037: val_loss improved from 0.12124 to 0.12047, saving model to checkpoint_modelo_3.hdf5\n",
      "60000/60000 [==============================] - 4s - loss: 0.1216 - val_loss: 0.1205\n",
      "Epoch 39/200\n",
      "58880/60000 [============================>.] - ETA: 0s - loss: 0.1209Epoch 00038: val_loss improved from 0.12047 to 0.11931, saving model to checkpoint_modelo_3.hdf5\n",
      "60000/60000 [==============================] - 4s - loss: 0.1209 - val_loss: 0.1193\n",
      "Epoch 40/200\n",
      "59904/60000 [============================>.] - ETA: 0s - loss: 0.1202Epoch 00039: val_loss improved from 0.11931 to 0.11848, saving model to checkpoint_modelo_3.hdf5\n",
      "60000/60000 [==============================] - 3s - loss: 0.1202 - val_loss: 0.1185\n",
      "Epoch 41/200\n",
      "59648/60000 [============================>.] - ETA: 0s - loss: 0.1194Epoch 00040: val_loss improved from 0.11848 to 0.11758, saving model to checkpoint_modelo_3.hdf5\n",
      "60000/60000 [==============================] - 3s - loss: 0.1194 - val_loss: 0.1176\n",
      "Epoch 42/200\n",
      "59904/60000 [============================>.] - ETA: 0s - loss: 0.1186Epoch 00041: val_loss improved from 0.11758 to 0.11717, saving model to checkpoint_modelo_3.hdf5\n",
      "60000/60000 [==============================] - 3s - loss: 0.1186 - val_loss: 0.1172\n",
      "Epoch 43/200\n",
      "59136/60000 [============================>.] - ETA: 0s - loss: 0.1178Epoch 00042: val_loss improved from 0.11717 to 0.11699, saving model to checkpoint_modelo_3.hdf5\n",
      "60000/60000 [==============================] - 4s - loss: 0.1178 - val_loss: 0.1170\n",
      "Epoch 44/200\n",
      "58880/60000 [============================>.] - ETA: 0s - loss: 0.1172Epoch 00043: val_loss improved from 0.11699 to 0.11621, saving model to checkpoint_modelo_3.hdf5\n",
      "60000/60000 [==============================] - 4s - loss: 0.1172 - val_loss: 0.1162\n",
      "Epoch 45/200\n",
      "59904/60000 [============================>.] - ETA: 0s - loss: 0.1164Epoch 00044: val_loss did not improve\n",
      "60000/60000 [==============================] - 2s - loss: 0.1164 - val_loss: 0.1169\n",
      "Epoch 46/200\n",
      "59392/60000 [============================>.] - ETA: 0s - loss: 0.1158Epoch 00045: val_loss improved from 0.11621 to 0.11417, saving model to checkpoint_modelo_3.hdf5\n",
      "60000/60000 [==============================] - 4s - loss: 0.1158 - val_loss: 0.1142\n",
      "Epoch 47/200\n",
      "59392/60000 [============================>.] - ETA: 0s - loss: 0.1150Epoch 00046: val_loss improved from 0.11417 to 0.11349, saving model to checkpoint_modelo_3.hdf5\n",
      "60000/60000 [==============================] - 3s - loss: 0.1150 - val_loss: 0.1135\n",
      "Epoch 48/200\n",
      "59648/60000 [============================>.] - ETA: 0s - loss: 0.1145Epoch 00047: val_loss improved from 0.11349 to 0.11328, saving model to checkpoint_modelo_3.hdf5\n",
      "60000/60000 [==============================] - 4s - loss: 0.1145 - val_loss: 0.1133\n",
      "Epoch 49/200\n",
      "59392/60000 [============================>.] - ETA: 0s - loss: 0.1139Epoch 00048: val_loss improved from 0.11328 to 0.11170, saving model to checkpoint_modelo_3.hdf5\n",
      "60000/60000 [==============================] - 3s - loss: 0.1140 - val_loss: 0.1117\n",
      "Epoch 50/200\n",
      "59648/60000 [============================>.] - ETA: 0s - loss: 0.1135Epoch 00049: val_loss improved from 0.11170 to 0.11117, saving model to checkpoint_modelo_3.hdf5\n",
      "60000/60000 [==============================] - 4s - loss: 0.1134 - val_loss: 0.1112\n",
      "Epoch 51/200\n",
      "59136/60000 [============================>.] - ETA: 0s - loss: 0.1128Epoch 00050: val_loss did not improve\n",
      "60000/60000 [==============================] - 3s - loss: 0.1128 - val_loss: 0.1117\n",
      "Epoch 52/200\n",
      "59904/60000 [============================>.] - ETA: 0s - loss: 0.1124Epoch 00051: val_loss did not improve\n",
      "60000/60000 [==============================] - 3s - loss: 0.1124 - val_loss: 0.1130\n",
      "Epoch 53/200\n",
      "59648/60000 [============================>.] - ETA: 0s - loss: 0.1118Epoch 00052: val_loss improved from 0.11117 to 0.10976, saving model to checkpoint_modelo_3.hdf5\n",
      "60000/60000 [==============================] - 4s - loss: 0.1118 - val_loss: 0.1098\n",
      "Epoch 54/200\n",
      "59136/60000 [============================>.] - ETA: 0s - loss: 0.1115Epoch 00053: val_loss did not improve\n",
      "60000/60000 [==============================] - 2s - loss: 0.1114 - val_loss: 0.1109\n",
      "Epoch 55/200\n",
      "59648/60000 [============================>.] - ETA: 0s - loss: 0.1110Epoch 00054: val_loss improved from 0.10976 to 0.10920, saving model to checkpoint_modelo_3.hdf5\n",
      "60000/60000 [==============================] - 4s - loss: 0.1109 - val_loss: 0.1092\n",
      "Epoch 56/200\n",
      "58880/60000 [============================>.] - ETA: 0s - loss: 0.1106Epoch 00055: val_loss improved from 0.10920 to 0.10890, saving model to checkpoint_modelo_3.hdf5\n",
      "60000/60000 [==============================] - 3s - loss: 0.1106 - val_loss: 0.1089\n",
      "Epoch 57/200\n",
      "58880/60000 [============================>.] - ETA: 0s - loss: 0.1102Epoch 00056: val_loss did not improve\n",
      "60000/60000 [==============================] - 2s - loss: 0.1102 - val_loss: 0.1095\n",
      "Epoch 58/200\n",
      "59392/60000 [============================>.] - ETA: 0s - loss: 0.1100Epoch 00057: val_loss did not improve\n",
      "60000/60000 [==============================] - 2s - loss: 0.1100 - val_loss: 0.1092\n",
      "Epoch 59/200\n",
      "58880/60000 [============================>.] - ETA: 0s - loss: 0.1096Epoch 00058: val_loss improved from 0.10890 to 0.10834, saving model to checkpoint_modelo_3.hdf5\n",
      "60000/60000 [==============================] - 4s - loss: 0.1096 - val_loss: 0.1083\n",
      "Epoch 60/200\n",
      "59392/60000 [============================>.] - ETA: 0s - loss: 0.1093Epoch 00059: val_loss improved from 0.10834 to 0.10834, saving model to checkpoint_modelo_3.hdf5\n",
      "60000/60000 [==============================] - 4s - loss: 0.1093 - val_loss: 0.1083\n",
      "Epoch 61/200\n",
      "59392/60000 [============================>.] - ETA: 0s - loss: 0.1089Epoch 00060: val_loss improved from 0.10834 to 0.10822, saving model to checkpoint_modelo_3.hdf5\n",
      "60000/60000 [==============================] - 4s - loss: 0.1089 - val_loss: 0.1082\n",
      "Epoch 62/200\n",
      "59648/60000 [============================>.] - ETA: 0s - loss: 0.1086Epoch 00061: val_loss did not improve\n",
      "60000/60000 [==============================] - 2s - loss: 0.1086 - val_loss: 0.1082\n",
      "Epoch 63/200\n",
      "60000/60000 [==============================] - 4s - loss: 0.1082 - val_loss: 0.1064\n",
      "Epoch 64/200\n",
      "59904/60000 [============================>.] - ETA: 0s - loss: 0.1080Epoch 00063: val_loss did not improve\n",
      "60000/60000 [==============================] - 2s - loss: 0.1080 - val_loss: 0.1065\n",
      "Epoch 65/200\n",
      "59648/60000 [============================>.] - ETA: 0s - loss: 0.1077Epoch 00064: val_loss did not improve\n",
      "60000/60000 [==============================] - 2s - loss: 0.1077 - val_loss: 0.1074\n",
      "Epoch 66/200\n",
      "59136/60000 [============================>.] - ETA: 0s - loss: 0.1073Epoch 00065: val_loss improved from 0.10641 to 0.10633, saving model to checkpoint_modelo_3.hdf5\n",
      "60000/60000 [==============================] - 4s - loss: 0.1073 - val_loss: 0.1063\n",
      "Epoch 67/200\n"
     ]
    },
    {
     "name": "stdout",
     "output_type": "stream",
     "text": [
      "59904/60000 [============================>.] - ETA: 0s - loss: 0.1071Epoch 00066: val_loss improved from 0.10633 to 0.10599, saving model to checkpoint_modelo_3.hdf5\n",
      "60000/60000 [==============================] - 3s - loss: 0.1071 - val_loss: 0.1060\n",
      "Epoch 68/200\n",
      "59136/60000 [============================>.] - ETA: 0s - loss: 0.1067Epoch 00067: val_loss did not improve\n",
      "60000/60000 [==============================] - 2s - loss: 0.1068 - val_loss: 0.1066\n",
      "Epoch 69/200\n",
      "59136/60000 [============================>.] - ETA: 0s - loss: 0.1066Epoch 00068: val_loss improved from 0.10599 to 0.10550, saving model to checkpoint_modelo_3.hdf5\n",
      "60000/60000 [==============================] - 4s - loss: 0.1065 - val_loss: 0.1055\n",
      "Epoch 70/200\n",
      "58880/60000 [============================>.] - ETA: 0s - loss: 0.1062Epoch 00069: val_loss did not improve\n",
      "60000/60000 [==============================] - 2s - loss: 0.1062 - val_loss: 0.1059\n",
      "Epoch 71/200\n",
      "59648/60000 [============================>.] - ETA: 0s - loss: 0.1057Epoch 00070: val_loss improved from 0.10550 to 0.10421, saving model to checkpoint_modelo_3.hdf5\n",
      "60000/60000 [==============================] - 4s - loss: 0.1058 - val_loss: 0.1042\n",
      "Epoch 72/200\n",
      "59904/60000 [============================>.] - ETA: 0s - loss: 0.1057Epoch 00071: val_loss did not improve\n",
      "60000/60000 [==============================] - 2s - loss: 0.1057 - val_loss: 0.1043\n",
      "Epoch 73/200\n",
      "59392/60000 [============================>.] - ETA: 0s - loss: 0.1051Epoch 00072: val_loss did not improve\n",
      "60000/60000 [==============================] - 2s - loss: 0.1051 - val_loss: 0.1048\n",
      "Epoch 74/200\n",
      "59392/60000 [============================>.] - ETA: 0s - loss: 0.1050Epoch 00073: val_loss improved from 0.10421 to 0.10392, saving model to checkpoint_modelo_3.hdf5\n",
      "60000/60000 [==============================] - 4s - loss: 0.1051 - val_loss: 0.1039\n",
      "Epoch 75/200\n",
      "59904/60000 [============================>.] - ETA: 0s - loss: 0.1047Epoch 00074: val_loss improved from 0.10392 to 0.10257, saving model to checkpoint_modelo_3.hdf5\n",
      "60000/60000 [==============================] - 3s - loss: 0.1047 - val_loss: 0.1026\n",
      "Epoch 76/200\n",
      "59648/60000 [============================>.] - ETA: 0s - loss: 0.1044Epoch 00075: val_loss did not improve\n",
      "60000/60000 [==============================] - 2s - loss: 0.1044 - val_loss: 0.1027\n",
      "Epoch 77/200\n",
      "59136/60000 [============================>.] - ETA: 0s - loss: 0.1042Epoch 00076: val_loss did not improve\n",
      "60000/60000 [==============================] - 3s - loss: 0.1042 - val_loss: 0.1031\n",
      "Epoch 78/200\n",
      "59136/60000 [============================>.] - ETA: 0s - loss: 0.1039Epoch 00077: val_loss did not improve\n",
      "60000/60000 [==============================] - 3s - loss: 0.1039 - val_loss: 0.1030\n",
      "Epoch 79/200\n",
      "58880/60000 [============================>.] - ETA: 0s - loss: 0.1036Epoch 00078: val_loss improved from 0.10257 to 0.10246, saving model to checkpoint_modelo_3.hdf5\n",
      "60000/60000 [==============================] - 3s - loss: 0.1036 - val_loss: 0.1025\n",
      "Epoch 80/200\n",
      "59648/60000 [============================>.] - ETA: 0s - loss: 0.1034Epoch 00079: val_loss improved from 0.10246 to 0.10156, saving model to checkpoint_modelo_3.hdf5\n",
      "60000/60000 [==============================] - 4s - loss: 0.1033 - val_loss: 0.1016\n",
      "Epoch 81/200\n",
      "58880/60000 [============================>.] - ETA: 0s - loss: 0.1030Epoch 00080: val_loss did not improve\n",
      "60000/60000 [==============================] - 2s - loss: 0.1030 - val_loss: 0.1027\n",
      "Epoch 82/200\n",
      "59648/60000 [============================>.] - ETA: 0s - loss: 0.1028Epoch 00081: val_loss improved from 0.10156 to 0.10107, saving model to checkpoint_modelo_3.hdf5\n",
      "60000/60000 [==============================] - 4s - loss: 0.1028 - val_loss: 0.1011\n",
      "Epoch 83/200\n",
      "59136/60000 [============================>.] - ETA: 0s - loss: 0.1024Epoch 00082: val_loss did not improve\n",
      "60000/60000 [==============================] - 2s - loss: 0.1025 - val_loss: 0.1020\n",
      "Epoch 84/200\n",
      "59392/60000 [============================>.] - ETA: 0s - loss: 0.1024Epoch 00083: val_loss did not improve\n",
      "60000/60000 [==============================] - 3s - loss: 0.1024 - val_loss: 0.1013\n",
      "Epoch 85/200\n",
      "59136/60000 [============================>.] - ETA: 0s - loss: 0.1022Epoch 00084: val_loss did not improve\n",
      "60000/60000 [==============================] - 2s - loss: 0.1021 - val_loss: 0.1013\n",
      "Epoch 86/200\n",
      "59648/60000 [============================>.] - ETA: 0s - loss: 0.1020Epoch 00085: val_loss improved from 0.10107 to 0.10028, saving model to checkpoint_modelo_3.hdf5\n",
      "60000/60000 [==============================] - 4s - loss: 0.1020 - val_loss: 0.1003\n",
      "Epoch 87/200\n",
      "59904/60000 [============================>.] - ETA: 0s - loss: 0.1017Epoch 00086: val_loss did not improve\n",
      "60000/60000 [==============================] - 2s - loss: 0.1017 - val_loss: 0.1009\n",
      "Epoch 88/200\n",
      "59136/60000 [============================>.] - ETA: 0s - loss: 0.1014Epoch 00087: val_loss did not improve\n",
      "60000/60000 [==============================] - 3s - loss: 0.1014 - val_loss: 0.1012\n",
      "Epoch 89/200\n",
      "59904/60000 [============================>.] - ETA: 0s - loss: 0.1012Epoch 00088: val_loss did not improve\n",
      "60000/60000 [==============================] - 3s - loss: 0.1012 - val_loss: 0.1017\n",
      "Epoch 90/200\n",
      "59136/60000 [============================>.] - ETA: 0s - loss: 0.1011Epoch 00089: val_loss improved from 0.10028 to 0.09940, saving model to checkpoint_modelo_3.hdf5\n",
      "60000/60000 [==============================] - 4s - loss: 0.1011 - val_loss: 0.0994\n",
      "Epoch 91/200\n",
      "58880/60000 [============================>.] - ETA: 0s - loss: 0.1008Epoch 00090: val_loss did not improve\n",
      "60000/60000 [==============================] - 2s - loss: 0.1008 - val_loss: 0.1006\n",
      "Epoch 92/200\n",
      "59648/60000 [============================>.] - ETA: 0s - loss: 0.1005Epoch 00092: val_loss improved from 0.09940 to 0.09908, saving model to checkpoint_modelo_3.hdf5\n",
      "60000/60000 [==============================] - 4s - loss: 0.1005 - val_loss: 0.0991\n",
      "Epoch 94/200\n",
      "58880/60000 [============================>.] - ETA: 0s - loss: 0.1003Epoch 00093: val_loss improved from 0.09908 to 0.09907, saving model to checkpoint_modelo_3.hdf5\n",
      "60000/60000 [==============================] - 3s - loss: 0.1003 - val_loss: 0.0991\n",
      "Epoch 95/200\n",
      "59648/60000 [============================>.] - ETA: 0s - loss: 0.1001Epoch 00094: val_loss improved from 0.09907 to 0.09871, saving model to checkpoint_modelo_3.hdf5\n",
      "60000/60000 [==============================] - 4s - loss: 0.1001 - val_loss: 0.0987\n",
      "Epoch 96/200\n",
      "59904/60000 [============================>.] - ETA: 0s - loss: 0.0999Epoch 00095: val_loss did not improve\n",
      "60000/60000 [==============================] - 2s - loss: 0.0999 - val_loss: 0.0989\n",
      "Epoch 97/200\n",
      "59136/60000 [============================>.] - ETA: 0s - loss: 0.0997Epoch 00096: val_loss did not improve\n",
      "60000/60000 [==============================] - 3s - loss: 0.0997 - val_loss: 0.0991\n",
      "Epoch 98/200\n",
      "59904/60000 [============================>.] - ETA: 0s - loss: 0.0996Epoch 00097: val_loss improved from 0.09871 to 0.09792, saving model to checkpoint_modelo_3.hdf5\n",
      "60000/60000 [==============================] - 4s - loss: 0.0996 - val_loss: 0.0979\n",
      "Epoch 99/200\n",
      "59648/60000 [============================>.] - ETA: 0s - loss: 0.0994Epoch 00098: val_loss did not improve\n",
      "60000/60000 [==============================] - 2s - loss: 0.0994 - val_loss: 0.0979\n",
      "Epoch 100/200\n",
      "58880/60000 [============================>.] - ETA: 0s - loss: 0.0992Epoch 00099: val_loss did not improve\n",
      "60000/60000 [==============================] - 2s - loss: 0.0992 - val_loss: 0.0984\n",
      "Epoch 101/200\n",
      "59648/60000 [============================>.] - ETA: 0s - loss: 0.0991Epoch 00100: val_loss did not improve\n",
      "60000/60000 [==============================] - 2s - loss: 0.0991 - val_loss: 0.0983\n",
      "Epoch 102/200\n",
      "59648/60000 [============================>.] - ETA: 0s - loss: 0.0989Epoch 00101: val_loss did not improve\n",
      "60000/60000 [==============================] - 3s - loss: 0.0989 - val_loss: 0.0980\n",
      "Epoch 103/200\n",
      "58880/60000 [============================>.] - ETA: 0s - loss: 0.0987Epoch 00102: val_loss improved from 0.09792 to 0.09736, saving model to checkpoint_modelo_3.hdf5\n",
      "60000/60000 [==============================] - 4s - loss: 0.0987 - val_loss: 0.0974\n",
      "Epoch 104/200\n",
      "58880/60000 [============================>.] - ETA: 0s - loss: 0.0987Epoch 00103: val_loss did not improve\n",
      "60000/60000 [==============================] - 3s - loss: 0.0987 - val_loss: 0.0981\n",
      "Epoch 105/200\n",
      "59904/60000 [============================>.] - ETA: 0s - loss: 0.0985Epoch 00104: val_loss did not improve\n",
      "60000/60000 [==============================] - 2s - loss: 0.0985 - val_loss: 0.0979\n",
      "Epoch 106/200\n",
      "59904/60000 [============================>.] - ETA: 0s - loss: 0.0984Epoch 00105: val_loss did not improve\n",
      "60000/60000 [==============================] - 3s - loss: 0.0983 - val_loss: 0.0975\n",
      "Epoch 107/200\n",
      "58880/60000 [============================>.] - ETA: 0s - loss: 0.0983Epoch 00106: val_loss improved from 0.09736 to 0.09698, saving model to checkpoint_modelo_3.hdf5\n",
      "60000/60000 [==============================] - 3s - loss: 0.0983 - val_loss: 0.0970\n",
      "Epoch 108/200\n",
      "59648/60000 [============================>.] - ETA: 0s - loss: 0.0980Epoch 00107: val_loss did not improve\n",
      "60000/60000 [==============================] - 2s - loss: 0.0980 - val_loss: 0.0983\n",
      "Epoch 109/200\n",
      "58880/60000 [============================>.] - ETA: 0s - loss: 0.0979Epoch 00108: val_loss did not improve\n",
      "60000/60000 [==============================] - 2s - loss: 0.0980 - val_loss: 0.0975\n",
      "Epoch 110/200\n",
      "58880/60000 [============================>.] - ETA: 0s - loss: 0.0979Epoch 00109: val_loss improved from 0.09698 to 0.09635, saving model to checkpoint_modelo_3.hdf5\n",
      "60000/60000 [==============================] - 4s - loss: 0.0979 - val_loss: 0.0964\n",
      "Epoch 111/200\n",
      "59136/60000 [============================>.] - ETA: 0s - loss: 0.0978Epoch 00110: val_loss did not improve\n",
      "60000/60000 [==============================] - 3s - loss: 0.0978 - val_loss: 0.0971\n",
      "Epoch 112/200\n",
      "59392/60000 [============================>.] - ETA: 0s - loss: 0.0976Epoch 00111: val_loss did not improve\n",
      "60000/60000 [==============================] - 3s - loss: 0.0977 - val_loss: 0.0970\n",
      "Epoch 113/200\n",
      "59904/60000 [============================>.] - ETA: 0s - loss: 0.0975Epoch 00112: val_loss improved from 0.09635 to 0.09620, saving model to checkpoint_modelo_3.hdf5\n",
      "60000/60000 [==============================] - 5s - loss: 0.0975 - val_loss: 0.0962\n",
      "Epoch 114/200\n",
      "59648/60000 [============================>.] - ETA: 0s - loss: 0.0974Epoch 00113: val_loss did not improve\n",
      "60000/60000 [==============================] - 3s - loss: 0.0974 - val_loss: 0.0970\n",
      "Epoch 115/200\n",
      "59392/60000 [============================>.] - ETA: 0s - loss: 0.0974Epoch 00114: val_loss did not improve\n",
      "60000/60000 [==============================] - 2s - loss: 0.0974 - val_loss: 0.0965\n",
      "Epoch 116/200\n",
      "58880/60000 [============================>.] - ETA: 0s - loss: 0.0972Epoch 00115: val_loss improved from 0.09620 to 0.09619, saving model to checkpoint_modelo_3.hdf5\n",
      "60000/60000 [==============================] - 4s - loss: 0.0972 - val_loss: 0.0962\n",
      "Epoch 117/200\n",
      "59392/60000 [============================>.] - ETA: 0s - loss: 0.0971Epoch 00116: val_loss improved from 0.09619 to 0.09612, saving model to checkpoint_modelo_3.hdf5\n",
      "60000/60000 [==============================] - 4s - loss: 0.0971 - val_loss: 0.0961\n",
      "Epoch 118/200\n",
      "59904/60000 [============================>.] - ETA: 0s - loss: 0.0970Epoch 00117: val_loss did not improve\n",
      "60000/60000 [==============================] - 2s - loss: 0.0970 - val_loss: 0.0961\n",
      "Epoch 119/200\n",
      "59648/60000 [============================>.] - ETA: 0s - loss: 0.0968Epoch 00118: val_loss improved from 0.09612 to 0.09574, saving model to checkpoint_modelo_3.hdf5\n",
      "60000/60000 [==============================] - 5s - loss: 0.0968 - val_loss: 0.0957\n",
      "Epoch 120/200\n",
      "59392/60000 [============================>.] - ETA: 0s - loss: 0.0968Epoch 00119: val_loss did not improve\n",
      "60000/60000 [==============================] - 3s - loss: 0.0968 - val_loss: 0.0967\n",
      "Epoch 121/200\n",
      "59648/60000 [============================>.] - ETA: 0s - loss: 0.0965Epoch 00121: val_loss did not improve\n",
      "60000/60000 [==============================] - 2s - loss: 0.0965 - val_loss: 0.0959\n",
      "Epoch 123/200\n",
      "59904/60000 [============================>.] - ETA: 0s - loss: 0.0964Epoch 00122: val_loss did not improve\n",
      "60000/60000 [==============================] - 3s - loss: 0.0964 - val_loss: 0.0967\n",
      "Epoch 124/200\n",
      "59648/60000 [============================>.] - ETA: 0s - loss: 0.0964Epoch 00123: val_loss improved from 0.09574 to 0.09525, saving model to checkpoint_modelo_3.hdf5\n",
      "60000/60000 [==============================] - 4s - loss: 0.0964 - val_loss: 0.0952\n",
      "Epoch 125/200\n",
      "58880/60000 [============================>.] - ETA: 0s - loss: 0.0963Epoch 00124: val_loss did not improve\n",
      "60000/60000 [==============================] - 2s - loss: 0.0963 - val_loss: 0.0955\n",
      "Epoch 126/200\n",
      "59136/60000 [============================>.] - ETA: 0s - loss: 0.0962Epoch 00125: val_loss did not improve\n",
      "60000/60000 [==============================] - 2s - loss: 0.0962 - val_loss: 0.0955\n",
      "Epoch 127/200\n",
      "59904/60000 [============================>.] - ETA: 0s - loss: 0.0960Epoch 00126: val_loss did not improve\n",
      "60000/60000 [==============================] - 2s - loss: 0.0960 - val_loss: 0.0957\n",
      "Epoch 128/200\n",
      "59904/60000 [============================>.] - ETA: 0s - loss: 0.0960Epoch 00127: val_loss did not improve\n",
      "60000/60000 [==============================] - 3s - loss: 0.0960 - val_loss: 0.0953\n",
      "Epoch 129/200\n",
      "59904/60000 [============================>.] - ETA: 0s - loss: 0.0959Epoch 00128: val_loss did not improve\n",
      "60000/60000 [==============================] - 2s - loss: 0.0959 - val_loss: 0.0957\n",
      "Epoch 130/200\n",
      "59136/60000 [============================>.] - ETA: 0s - loss: 0.0958Epoch 00129: val_loss did not improve\n",
      "60000/60000 [==============================] - 3s - loss: 0.0958 - val_loss: 0.0954\n",
      "Epoch 131/200\n",
      "58880/60000 [============================>.] - ETA: 0s - loss: 0.0956Epoch 00130: val_loss improved from 0.09525 to 0.09508, saving model to checkpoint_modelo_3.hdf5\n",
      "60000/60000 [==============================] - 3s - loss: 0.0957 - val_loss: 0.0951\n",
      "Epoch 132/200\n",
      "59392/60000 [============================>.] - ETA: 0s - loss: 0.0956Epoch 00131: val_loss improved from 0.09508 to 0.09468, saving model to checkpoint_modelo_3.hdf5\n",
      "60000/60000 [==============================] - 4s - loss: 0.0956 - val_loss: 0.0947\n",
      "Epoch 133/200\n",
      "58880/60000 [============================>.] - ETA: 0s - loss: 0.0954Epoch 00132: val_loss improved from 0.09468 to 0.09461, saving model to checkpoint_modelo_3.hdf5\n",
      "60000/60000 [==============================] - 3s - loss: 0.0954 - val_loss: 0.0946\n",
      "Epoch 134/200\n",
      "59648/60000 [============================>.] - ETA: 0s - loss: 0.0954Epoch 00133: val_loss did not improve\n",
      "60000/60000 [==============================] - 2s - loss: 0.0954 - val_loss: 0.0958\n",
      "Epoch 135/200\n",
      "59136/60000 [============================>.] - ETA: 0s - loss: 0.0952Epoch 00134: val_loss did not improve\n",
      "60000/60000 [==============================] - 2s - loss: 0.0952 - val_loss: 0.0947\n",
      "Epoch 136/200\n",
      "59648/60000 [============================>.] - ETA: 0s - loss: 0.0952Epoch 00135: val_loss improved from 0.09461 to 0.09362, saving model to checkpoint_modelo_3.hdf5\n",
      "60000/60000 [==============================] - 3s - loss: 0.0952 - val_loss: 0.0936\n",
      "Epoch 137/200\n",
      "59392/60000 [============================>.] - ETA: 0s - loss: 0.0951Epoch 00136: val_loss did not improve\n",
      "60000/60000 [==============================] - 2s - loss: 0.0951 - val_loss: 0.0947\n",
      "Epoch 138/200\n",
      "59648/60000 [============================>.] - ETA: 0s - loss: 0.0949Epoch 00137: val_loss did not improve\n",
      "60000/60000 [==============================] - 3s - loss: 0.0949 - val_loss: 0.0952\n",
      "Epoch 139/200\n",
      "59904/60000 [============================>.] - ETA: 0s - loss: 0.0949Epoch 00138: val_loss did not improve\n",
      "60000/60000 [==============================] - 2s - loss: 0.0949 - val_loss: 0.0938\n",
      "Epoch 140/200\n",
      "59648/60000 [============================>.] - ETA: 0s - loss: 0.0949Epoch 00139: val_loss did not improve\n",
      "60000/60000 [==============================] - 2s - loss: 0.0949 - val_loss: 0.0937\n",
      "Epoch 141/200\n"
     ]
    },
    {
     "name": "stdout",
     "output_type": "stream",
     "text": [
      "59648/60000 [============================>.] - ETA: 0s - loss: 0.0947Epoch 00140: val_loss improved from 0.09362 to 0.09312, saving model to checkpoint_modelo_3.hdf5\n",
      "60000/60000 [==============================] - 4s - loss: 0.0947 - val_loss: 0.0931\n",
      "Epoch 142/200\n",
      "59392/60000 [============================>.] - ETA: 0s - loss: 0.0945Epoch 00141: val_loss did not improve\n",
      "60000/60000 [==============================] - 2s - loss: 0.0945 - val_loss: 0.0937\n",
      "Epoch 143/200\n",
      "59136/60000 [============================>.] - ETA: 0s - loss: 0.0947Epoch 00142: val_loss did not improve\n",
      "60000/60000 [==============================] - 2s - loss: 0.0946 - val_loss: 0.0939\n",
      "Epoch 144/200\n",
      "59904/60000 [============================>.] - ETA: 0s - loss: 0.0943Epoch 00143: val_loss did not improve\n",
      "60000/60000 [==============================] - 2s - loss: 0.0943 - val_loss: 0.0943\n",
      "Epoch 145/200\n",
      "59392/60000 [============================>.] - ETA: 0s - loss: 0.0943Epoch 00144: val_loss did not improve\n",
      "60000/60000 [==============================] - 2s - loss: 0.0942 - val_loss: 0.0937\n",
      "Epoch 146/200\n",
      "58880/60000 [============================>.] - ETA: 0s - loss: 0.0942Epoch 00145: val_loss did not improve\n",
      "60000/60000 [==============================] - 3s - loss: 0.0942 - val_loss: 0.0937\n",
      "Epoch 147/200\n",
      "59136/60000 [============================>.] - ETA: 0s - loss: 0.0941Epoch 00146: val_loss did not improve\n",
      "60000/60000 [==============================] - 2s - loss: 0.0941 - val_loss: 0.0935\n",
      "Epoch 148/200\n",
      "59392/60000 [============================>.] - ETA: 0s - loss: 0.0940Epoch 00147: val_loss improved from 0.09312 to 0.09297, saving model to checkpoint_modelo_3.hdf5\n",
      "60000/60000 [==============================] - 4s - loss: 0.0940 - val_loss: 0.0930\n",
      "Epoch 149/200\n",
      "58880/60000 [============================>.] - ETA: 0s - loss: 0.0940Epoch 00148: val_loss did not improve\n",
      "60000/60000 [==============================] - 2s - loss: 0.0940 - val_loss: 0.0930\n",
      "Epoch 150/200\n",
      "59136/60000 [============================>.] - ETA: 0s - loss: 0.0939Epoch 00149: val_loss did not improve\n",
      "60000/60000 [==============================] - 3s - loss: 0.0939 - val_loss: 0.0930\n",
      "Epoch 151/200\n",
      "58880/60000 [============================>.] - ETA: 0s - loss: 0.0937Epoch 00150: val_loss did not improve\n",
      "60000/60000 [==============================] - 2s - loss: 0.0938 - val_loss: 0.0933\n",
      "Epoch 152/200\n",
      "59136/60000 [============================>.] - ETA: 0s - loss: 0.0934Epoch 00152: val_loss did not improve\n",
      "60000/60000 [==============================] - 3s - loss: 0.0935 - val_loss: 0.0934\n",
      "Epoch 154/200\n",
      "59392/60000 [============================>.] - ETA: 0s - loss: 0.0935Epoch 00153: val_loss improved from 0.09274 to 0.09260, saving model to checkpoint_modelo_3.hdf5\n",
      "60000/60000 [==============================] - 4s - loss: 0.0935 - val_loss: 0.0926\n",
      "Epoch 155/200\n",
      "59136/60000 [============================>.] - ETA: 0s - loss: 0.0935Epoch 00154: val_loss improved from 0.09260 to 0.09216, saving model to checkpoint_modelo_3.hdf5\n",
      "60000/60000 [==============================] - 4s - loss: 0.0934 - val_loss: 0.0922\n",
      "Epoch 156/200\n",
      "59648/60000 [============================>.] - ETA: 0s - loss: 0.0934Epoch 00155: val_loss did not improve\n",
      "60000/60000 [==============================] - 3s - loss: 0.0934 - val_loss: 0.0938\n",
      "Epoch 157/200\n",
      "58880/60000 [============================>.] - ETA: 0s - loss: 0.0933Epoch 00156: val_loss did not improve\n",
      "60000/60000 [==============================] - 3s - loss: 0.0933 - val_loss: 0.0925\n",
      "Epoch 158/200\n",
      "59136/60000 [============================>.] - ETA: 0s - loss: 0.0932Epoch 00157: val_loss did not improve\n",
      "60000/60000 [==============================] - 3s - loss: 0.0932 - val_loss: 0.0925\n",
      "Epoch 159/200\n",
      "59648/60000 [============================>.] - ETA: 0s - loss: 0.0932Epoch 00158: val_loss did not improve\n",
      "60000/60000 [==============================] - 3s - loss: 0.0932 - val_loss: 0.0929\n",
      "Epoch 160/200\n",
      "59136/60000 [============================>.] - ETA: 0s - loss: 0.0930Epoch 00159: val_loss did not improve\n",
      "60000/60000 [==============================] - 2s - loss: 0.0930 - val_loss: 0.0930\n",
      "Epoch 161/200\n",
      "59136/60000 [============================>.] - ETA: 0s - loss: 0.0929Epoch 00160: val_loss did not improve\n",
      "60000/60000 [==============================] - 2s - loss: 0.0930 - val_loss: 0.0922\n",
      "Epoch 162/200\n",
      "59648/60000 [============================>.] - ETA: 0s - loss: 0.0929Epoch 00161: val_loss did not improve\n",
      "60000/60000 [==============================] - 2s - loss: 0.0929 - val_loss: 0.0925\n",
      "Epoch 163/200\n",
      "58880/60000 [============================>.] - ETA: 0s - loss: 0.0929Epoch 00162: val_loss did not improve\n",
      "60000/60000 [==============================] - 2s - loss: 0.0929 - val_loss: 0.0925\n",
      "Epoch 164/200\n",
      "59904/60000 [============================>.] - ETA: 0s - loss: 0.0927Epoch 00163: val_loss did not improve\n",
      "60000/60000 [==============================] - 3s - loss: 0.0927 - val_loss: 0.0925\n",
      "Epoch 165/200\n",
      "59392/60000 [============================>.] - ETA: 0s - loss: 0.0928Epoch 00164: val_loss improved from 0.09216 to 0.09189, saving model to checkpoint_modelo_3.hdf5\n",
      "60000/60000 [==============================] - 4s - loss: 0.0928 - val_loss: 0.0919\n",
      "Epoch 166/200\n",
      "59904/60000 [============================>.] - ETA: 0s - loss: 0.0926Epoch 00165: val_loss did not improve\n",
      "60000/60000 [==============================] - 3s - loss: 0.0927 - val_loss: 0.0930\n",
      "Epoch 167/200\n",
      "59136/60000 [============================>.] - ETA: 0s - loss: 0.0925Epoch 00166: val_loss improved from 0.09189 to 0.09172, saving model to checkpoint_modelo_3.hdf5\n",
      "60000/60000 [==============================] - 4s - loss: 0.0925 - val_loss: 0.0917\n",
      "Epoch 168/200\n",
      "59136/60000 [============================>.] - ETA: 0s - loss: 0.0925Epoch 00167: val_loss improved from 0.09172 to 0.09153, saving model to checkpoint_modelo_3.hdf5\n",
      "60000/60000 [==============================] - 5s - loss: 0.0925 - val_loss: 0.0915\n",
      "Epoch 169/200\n",
      "58880/60000 [============================>.] - ETA: 0s - loss: 0.0924Epoch 00168: val_loss did not improve\n",
      "60000/60000 [==============================] - 2s - loss: 0.0924 - val_loss: 0.0921\n",
      "Epoch 170/200\n",
      "59648/60000 [============================>.] - ETA: 0s - loss: 0.0924Epoch 00169: val_loss did not improve\n",
      "60000/60000 [==============================] - 2s - loss: 0.0924 - val_loss: 0.0924\n",
      "Epoch 171/200\n",
      "59904/60000 [============================>.] - ETA: 0s - loss: 0.0922Epoch 00170: val_loss did not improve\n",
      "60000/60000 [==============================] - 2s - loss: 0.0922 - val_loss: 0.0928\n",
      "Epoch 172/200\n",
      "59648/60000 [============================>.] - ETA: 0s - loss: 0.0923Epoch 00171: val_loss improved from 0.09153 to 0.09114, saving model to checkpoint_modelo_3.hdf5\n",
      "60000/60000 [==============================] - 4s - loss: 0.0922 - val_loss: 0.0911\n",
      "Epoch 173/200\n",
      "58880/60000 [============================>.] - ETA: 0s - loss: 0.0922Epoch 00172: val_loss did not improve\n",
      "60000/60000 [==============================] - 2s - loss: 0.0922 - val_loss: 0.0922\n",
      "Epoch 174/200\n",
      "59904/60000 [============================>.] - ETA: 0s - loss: 0.0921Epoch 00173: val_loss did not improve\n",
      "60000/60000 [==============================] - 3s - loss: 0.0921 - val_loss: 0.0921\n",
      "Epoch 175/200\n",
      "59648/60000 [============================>.] - ETA: 0s - loss: 0.0920Epoch 00174: val_loss did not improve\n",
      "60000/60000 [==============================] - 2s - loss: 0.0920 - val_loss: 0.0914\n",
      "Epoch 176/200\n",
      "59904/60000 [============================>.] - ETA: 0s - loss: 0.0919Epoch 00175: val_loss improved from 0.09114 to 0.09095, saving model to checkpoint_modelo_3.hdf5\n",
      "60000/60000 [==============================] - 4s - loss: 0.0919 - val_loss: 0.0910\n",
      "Epoch 177/200\n",
      "59648/60000 [============================>.] - ETA: 0s - loss: 0.0919Epoch 00176: val_loss did not improve\n",
      "60000/60000 [==============================] - 3s - loss: 0.0919 - val_loss: 0.0914\n",
      "Epoch 178/200\n",
      "59904/60000 [============================>.] - ETA: 0s - loss: 0.0919Epoch 00177: val_loss did not improve\n",
      "60000/60000 [==============================] - 2s - loss: 0.0919 - val_loss: 0.0912\n",
      "Epoch 179/200\n",
      "59648/60000 [============================>.] - ETA: 0s - loss: 0.0918Epoch 00178: val_loss did not improve\n"
     ]
    },
    {
     "name": "stdout",
     "output_type": "stream",
     "text": [
      "60000/60000 [==============================] - 2s - loss: 0.0918 - val_loss: 0.0919\n",
      "Epoch 180/200\n",
      "59136/60000 [============================>.] - ETA: 0s - loss: 0.0918Epoch 00179: val_loss did not improve\n",
      "60000/60000 [==============================] - 2s - loss: 0.0918 - val_loss: 0.0918\n",
      "Epoch 181/200\n",
      "59648/60000 [============================>.] - ETA: 0s - loss: 0.0916Epoch 00180: val_loss did not improve\n",
      "60000/60000 [==============================] - 2s - loss: 0.0916 - val_loss: 0.0910\n",
      "Epoch 182/200\n",
      "58880/60000 [============================>.] - ETA: 0s - loss: 0.0917Epoch 00181: val_loss improved from 0.09095 to 0.09047, saving model to checkpoint_modelo_3.hdf5\n",
      "60000/60000 [==============================] - 4s - loss: 0.0917 - val_loss: 0.0905\n",
      "Epoch 183/200\n",
      "20736/60000 [=========>....................] - ETA: 1s - loss: 0.0914Epoch 00182: val_loss did not improve\n",
      "60000/60000 [==============================] - 3s - loss: 0.0915 - val_loss: 0.0907\n",
      "Epoch 184/200\n",
      "59392/60000 [============================>.] - ETA: 0s - loss: 0.0914Epoch 00183: val_loss did not improve\n",
      "60000/60000 [==============================] - 3s - loss: 0.0914 - val_loss: 0.0910\n",
      "Epoch 185/200\n",
      "58880/60000 [============================>.] - ETA: 0s - loss: 0.0914Epoch 00184: val_loss did not improve\n",
      "60000/60000 [==============================] - 2s - loss: 0.0914 - val_loss: 0.0910\n",
      "Epoch 186/200\n",
      "59136/60000 [============================>.] - ETA: 0s - loss: 0.0913Epoch 00185: val_loss did not improve\n",
      "60000/60000 [==============================] - 3s - loss: 0.0913 - val_loss: 0.0911\n",
      "Epoch 187/200\n",
      "59904/60000 [============================>.] - ETA: 0s - loss: 0.0914Epoch 00186: val_loss did not improve\n",
      "60000/60000 [==============================] - 2s - loss: 0.0914 - val_loss: 0.0913\n",
      "Epoch 188/200\n",
      "58880/60000 [============================>.] - ETA: 0s - loss: 0.0912Epoch 00187: val_loss did not improve\n",
      "60000/60000 [==============================] - 2s - loss: 0.0912 - val_loss: 0.0906\n",
      "Epoch 189/200\n",
      "59648/60000 [============================>.] - ETA: 0s - loss: 0.0911Epoch 00188: val_loss did not improve\n",
      "60000/60000 [==============================] - 2s - loss: 0.0911 - val_loss: 0.0907\n",
      "Epoch 190/200\n",
      "58880/60000 [============================>.] - ETA: 0s - loss: 0.0912Epoch 00189: val_loss did not improve\n",
      "60000/60000 [==============================] - 2s - loss: 0.0912 - val_loss: 0.0914\n",
      "Epoch 191/200\n",
      "58880/60000 [============================>.] - ETA: 0s - loss: 0.0911Epoch 00190: val_loss did not improve\n",
      "60000/60000 [==============================] - 3s - loss: 0.0911 - val_loss: 0.0905\n",
      "Epoch 192/200\n",
      "59648/60000 [============================>.] - ETA: 0s - loss: 0.0910Epoch 00191: val_loss did not improve\n",
      "60000/60000 [==============================] - 3s - loss: 0.0910 - val_loss: 0.0906\n",
      "Epoch 193/200\n",
      "59392/60000 [============================>.] - ETA: 0s - loss: 0.0909Epoch 00192: val_loss improved from 0.09047 to 0.09006, saving model to checkpoint_modelo_3.hdf5\n",
      "60000/60000 [==============================] - 4s - loss: 0.0909 - val_loss: 0.0901\n",
      "Epoch 194/200\n",
      "59904/60000 [============================>.] - ETA: 0s - loss: 0.0909Epoch 00193: val_loss did not improve\n",
      "60000/60000 [==============================] - 3s - loss: 0.0909 - val_loss: 0.0901\n",
      "Epoch 195/200\n",
      "59392/60000 [============================>.] - ETA: 0s - loss: 0.0908Epoch 00194: val_loss did not improve\n",
      "60000/60000 [==============================] - 3s - loss: 0.0908 - val_loss: 0.0901\n",
      "Epoch 196/200\n",
      "59904/60000 [============================>.] - ETA: 0s - loss: 0.0907Epoch 00195: val_loss did not improve\n",
      "60000/60000 [==============================] - 3s - loss: 0.0907 - val_loss: 0.0909\n",
      "Epoch 197/200\n",
      "58880/60000 [============================>.] - ETA: 0s - loss: 0.0907Epoch 00196: val_loss did not improve\n",
      "60000/60000 [==============================] - 2s - loss: 0.0907 - val_loss: 0.0901\n",
      "Epoch 198/200\n",
      "58880/60000 [============================>.] - ETA: 0s - loss: 0.0907Epoch 00197: val_loss improved from 0.09006 to 0.08985, saving model to checkpoint_modelo_3.hdf5\n",
      "60000/60000 [==============================] - 3s - loss: 0.0907 - val_loss: 0.0898\n",
      "Epoch 199/200\n",
      "58880/60000 [============================>.] - ETA: 0s - loss: 0.0905Epoch 00198: val_loss improved from 0.08985 to 0.08929, saving model to checkpoint_modelo_3.hdf5\n",
      "60000/60000 [==============================] - 3s - loss: 0.0905 - val_loss: 0.0893\n",
      "Epoch 200/200\n",
      "59648/60000 [============================>.] - ETA: 0s - loss: 0.0906Epoch 00199: val_loss did not improve\n",
      "60000/60000 [==============================] - 2s - loss: 0.0906 - val_loss: 0.0904\n"
     ]
    }
   ],
   "source": [
    "history_model_3 = autoencoder_deep.fit(x_train, x_train,\n",
    "                                        epochs=200,\n",
    "                                        batch_size=256,\n",
    "                                        shuffle=True,\n",
    "                                        validation_data=(x_test, x_test),\n",
    "                                        callbacks=[checkpointer_3])"
   ]
  },
  {
   "cell_type": "code",
   "execution_count": null,
   "metadata": {},
   "outputs": [
    {
     "data": {
      "image/png": "[encoded data removed]",
      "text/plain": [
       "<matplotlib.figure.Figure at 0x7f79c8a6e358>"
      ]
     },
     "metadata": {},
     "output_type": "display_data"
    }
   ],
   "source": [
    "# Grafico do treinamento\n",
    "plt.plot(history_model_3.history['loss'], 'b')\n",
    "plt.plot(history_model_3.history['val_loss'], 'r')\n",
    "plt.show()"
   ]
  },
  {
   "cell_type": "code",
   "execution_count": null,
   "metadata": {
    "collapsed": true
   },
   "outputs": [],
   "source": [
    "encoder_deep = Model(input_img, encoded_deep)"
   ]
  },
  {
   "cell_type": "code",
   "execution_count": null,
   "metadata": {
    "collapsed": true
   },
   "outputs": [],
   "source": [
    "#encoded_input = Input(shape=(encoding_dim,))\n",
    "\n",
    "decoder_layer_deep = autoencoder_deep.layers[-3]\n",
    "decoder_deep = Model(encoded_input, decoder_layer_deep(encoded_input))\n",
    "decoder_deep_new = Sequential()\n",
    "decoder_deep_new.add(decoder_deep)\n",
    "decoder_deep_new.add(autoencoder_deep.layers[-2])\n",
    "decoder_deep_new.add(autoencoder_deep.layers[-1])"
   ]
  },
  {
   "cell_type": "code",
   "execution_count": null,
   "metadata": {
    "collapsed": true
   },
   "outputs": [],
   "source": [
    "decoded_imgs_deep = autoencoder_deep.predict(x_test)"
   ]
  },
  {
   "cell_type": "code",
   "execution_count": null,
   "metadata": {},
   "outputs": [
    {
     "data": {
      "image/png": "[encoded data removed]",
      "text/plain": [
       "<matplotlib.figure.Figure at 0x7f79dcaf02b0>"
      ]
     },
     "metadata": {},
     "output_type": "display_data"
    }
   ],
   "source": [
    "n = 15  # how many digits we will display\n",
    "plt.figure(figsize=(2*n, 4))\n",
    "for i in range(n):\n",
    "    # display original\n",
    "    ax = plt.subplot(2, n, i + 1)\n",
    "    plt.imshow(x_test[i].reshape(28, 28))\n",
    "    plt.gray()\n",
    "    ax.get_xaxis().set_visible(False)\n",
    "    ax.get_yaxis().set_visible(False)\n",
    "\n",
    "    # display reconstruction\n",
    "    ax = plt.subplot(2, n, i + 1 + n)\n",
    "    plt.imshow(decoded_imgs_deep[i].reshape(28, 28))\n",
    "    plt.gray()\n",
    "    ax.get_xaxis().set_visible(False)\n",
    "    ax.get_yaxis().set_visible(False)\n",
    "plt.show()"
   ]
  },
  {
   "cell_type": "markdown",
   "metadata": {},
   "source": [
    "# Modelo 4: Deep Convolutional Network"
   ]
  },
  {
   "cell_type": "markdown",
   "metadata": {},
   "source": [
    "![Convolutional AutoEncoder](https://cdn-images-1.medium.com/max/1600/1*8ixTe1VHLsmKB3AquWdxpQ.png)"
   ]
  },
  {
   "cell_type": "code",
   "execution_count": null,
   "metadata": {},
   "outputs": [
    {
     "data": {
      "text/plain": [
       "'channels_last'"
      ]
     },
     "execution_count": 57,
     "metadata": {},
     "output_type": "execute_result"
    }
   ],
   "source": [
    "K.image_data_format()"
   ]
  },
  {
   "cell_type": "code",
   "execution_count": null,
   "metadata": {
    "collapsed": true
   },
   "outputs": [],
   "source": [
    "input_img_conv = Input(shape=(28, 28, 1))\n",
    "\n",
    "encoded_conv = Conv2D(16, (3, 3), activation='relu', padding='same')(input_img_conv)\n",
    "encoded_conv = MaxPooling2D((2, 2), padding='same')(encoded_conv)\n",
    "encoded_conv = Conv2D(8, (3, 3), activation='relu', padding='same')(encoded_conv)\n",
    "encoded_conv = MaxPooling2D((2, 2), padding='same')(encoded_conv)\n",
    "encoded_conv = Conv2D(8, (3, 3), activation='relu', padding='same')(encoded_conv)\n",
    "encoded_conv = MaxPooling2D((2, 2), padding='same')(encoded_conv)\n",
    "\n",
    "# (4, 4, 8) => 128\n",
    "\n",
    "decoded_conv = Conv2D(8, (3, 3), activation='relu', padding='same')(encoded_conv)\n",
    "decoded_conv = UpSampling2D((2, 2))(decoded_conv)\n",
    "decoded_conv = Conv2D(8, (3, 3), activation='relu', padding='same')(decoded_conv)\n",
    "decoded_conv = UpSampling2D((2, 2))(decoded_conv)\n",
    "decoded_conv = Conv2D(16, (3, 3), activation='relu')(decoded_conv)\n",
    "decoded_conv = UpSampling2D((2, 2))(decoded_conv)\n",
    "decoded_conv = Conv2D(1, (3, 3), activation='sigmoid', padding='same')(decoded_conv)"
   ]
  },
  {
   "cell_type": "code",
   "execution_count": null,
   "metadata": {
    "collapsed": true
   },
   "outputs": [],
   "source": [
    "autoencoder_conv = Model(input_img_conv, decoded_conv)"
   ]
  },
  {
   "cell_type": "code",
   "execution_count": null,
   "metadata": {
    "collapsed": true
   },
   "outputs": [],
   "source": [
    "# carregando o modelo, se necessário\n",
    "#autoencoder.load_weights('checkpoint_modelo_4.hdf5')"
   ]
  },
  {
   "cell_type": "code",
   "execution_count": null,
   "metadata": {
    "collapsed": true
   },
   "outputs": [],
   "source": [
    "autoencoder_conv.compile(optimizer='adadelta', loss='binary_crossentropy')"
   ]
  },
  {
   "cell_type": "code",
   "execution_count": null,
   "metadata": {},
   "outputs": [
    {
     "name": "stdout",
     "output_type": "stream",
     "text": [
      "_________________________________________________________________\n",
      "Layer (type)                 Output Shape              Param #   \n",
      "=================================================================\n",
      "input_4 (InputLayer)         (None, 28, 28, 1)         0         \n",
      "_________________________________________________________________\n",
      "conv2d_1 (Conv2D)            (None, 28, 28, 16)        160       \n",
      "_________________________________________________________________\n",
      "max_pooling2d_1 (MaxPooling2 (None, 14, 14, 16)        0         \n",
      "_________________________________________________________________\n",
      "conv2d_2 (Conv2D)            (None, 14, 14, 8)         1160      \n",
      "_________________________________________________________________\n",
      "max_pooling2d_2 (MaxPooling2 (None, 7, 7, 8)           0         \n",
      "_________________________________________________________________\n",
      "conv2d_3 (Conv2D)            (None, 7, 7, 8)           584       \n",
      "_________________________________________________________________\n",
      "max_pooling2d_3 (MaxPooling2 (None, 4, 4, 8)           0         \n",
      "_________________________________________________________________\n",
      "conv2d_4 (Conv2D)            (None, 4, 4, 8)           584       \n",
      "_________________________________________________________________\n",
      "up_sampling2d_1 (UpSampling2 (None, 8, 8, 8)           0         \n",
      "_________________________________________________________________\n",
      "conv2d_5 (Conv2D)            (None, 8, 8, 8)           584       \n",
      "_________________________________________________________________\n",
      "up_sampling2d_2 (UpSampling2 (None, 16, 16, 8)         0         \n",
      "_________________________________________________________________\n",
      "conv2d_6 (Conv2D)            (None, 14, 14, 16)        1168      \n",
      "_________________________________________________________________\n",
      "up_sampling2d_3 (UpSampling2 (None, 28, 28, 16)        0         \n",
      "_________________________________________________________________\n",
      "conv2d_7 (Conv2D)            (None, 28, 28, 1)         145       \n",
      "=================================================================\n",
      "Total params: 4,385\n",
      "Trainable params: 4,385\n",
      "Non-trainable params: 0\n",
      "_________________________________________________________________\n"
     ]
    }
   ],
   "source": [
    "autoencoder_conv.summary()"
   ]
  },
  {
   "cell_type": "code",
   "execution_count": null,
   "metadata": {
    "collapsed": true
   },
   "outputs": [],
   "source": [
    "checkpointer_4 = ModelCheckpoint(filepath='checkpoint_modelo_4.hdf5', verbose=1, save_best_only=True)"
   ]
  },
  {
   "cell_type": "code",
   "execution_count": null,
   "metadata": {
    "scrolled": true
   },
   "outputs": [
    {
     "name": "stdout",
     "output_type": "stream",
     "text": [
      "Train on 60000 samples, validate on 10000 samples\n",
      "Epoch 1/100\n",
      "59904/60000 [============================>.] - ETA: 0s - loss: 0.2560Epoch 00000: val_loss improved from inf to 0.18620, saving model to checkpoint_modelo_4.hdf5\n",
      "60000/60000 [==============================] - 41s - loss: 0.2559 - val_loss: 0.1862\n",
      "Epoch 2/100\n",
      "59904/60000 [============================>.] - ETA: 0s - loss: 0.1802Epoch 00001: val_loss improved from 0.18620 to 0.17247, saving model to checkpoint_modelo_4.hdf5\n",
      "60000/60000 [==============================] - 40s - loss: 0.1802 - val_loss: 0.1725\n",
      "Epoch 3/100\n",
      "59904/60000 [============================>.] - ETA: 0s - loss: 0.1670Epoch 00002: val_loss improved from 0.17247 to 0.16098, saving model to checkpoint_modelo_4.hdf5\n",
      "60000/60000 [==============================] - 41s - loss: 0.1670 - val_loss: 0.1610\n",
      "Epoch 4/100\n",
      "59904/60000 [============================>.] - ETA: 0s - loss: 0.1579Epoch 00003: val_loss improved from 0.16098 to 0.15063, saving model to checkpoint_modelo_4.hdf5\n",
      "60000/60000 [==============================] - 40s - loss: 0.1579 - val_loss: 0.1506\n",
      "Epoch 5/100\n",
      "59904/60000 [============================>.] - ETA: 0s - loss: 0.1507Epoch 00004: val_loss improved from 0.15063 to 0.14896, saving model to checkpoint_modelo_4.hdf5\n",
      "60000/60000 [==============================] - 40s - loss: 0.1507 - val_loss: 0.1490\n",
      "Epoch 6/100\n",
      "59904/60000 [============================>.] - ETA: 0s - loss: 0.1450Epoch 00005: val_loss improved from 0.14896 to 0.14203, saving model to checkpoint_modelo_4.hdf5\n",
      "60000/60000 [==============================] - 41s - loss: 0.1450 - val_loss: 0.1420\n",
      "Epoch 7/100\n",
      "59904/60000 [============================>.] - ETA: 0s - loss: 0.1407Epoch 00006: val_loss improved from 0.14203 to 0.13688, saving model to checkpoint_modelo_4.hdf5\n",
      "60000/60000 [==============================] - 40s - loss: 0.1407 - val_loss: 0.1369\n",
      "Epoch 8/100\n",
      "59904/60000 [============================>.] - ETA: 0s - loss: 0.1373Epoch 00007: val_loss did not improve\n",
      "60000/60000 [==============================] - 40s - loss: 0.1373 - val_loss: 0.1369\n",
      "Epoch 9/100\n",
      "59904/60000 [============================>.] - ETA: 0s - loss: 0.1343Epoch 00008: val_loss improved from 0.13688 to 0.13098, saving model to checkpoint_modelo_4.hdf5\n",
      "60000/60000 [==============================] - 41s - loss: 0.1343 - val_loss: 0.1310\n",
      "Epoch 10/100\n",
      "59904/60000 [============================>.] - ETA: 0s - loss: 0.1321Epoch 00009: val_loss did not improve\n",
      "60000/60000 [==============================] - 40s - loss: 0.1321 - val_loss: 0.1326\n",
      "Epoch 11/100\n",
      "59904/60000 [============================>.] - ETA: 0s - loss: 0.1302Epoch 00010: val_loss improved from 0.13098 to 0.12805, saving model to checkpoint_modelo_4.hdf5\n",
      "60000/60000 [==============================] - 41s - loss: 0.1303 - val_loss: 0.1280\n",
      "Epoch 12/100\n",
      "59904/60000 [============================>.] - ETA: 0s - loss: 0.1284Epoch 00011: val_loss did not improve\n",
      "60000/60000 [==============================] - 40s - loss: 0.1284 - val_loss: 0.1282\n",
      "Epoch 13/100\n",
      "56320/60000 [===========================>..] - ETA: 2s - loss: 0.1269Epoch 00012: val_loss improved from 0.12805 to 0.12405, saving model to checkpoint_modelo_4.hdf5\n",
      "60000/60000 [==============================] - 40s - loss: 0.1268 - val_loss: 0.1241\n",
      "Epoch 14/100\n",
      "59904/60000 [============================>.] - ETA: 0s - loss: 0.1253Epoch 00013: val_loss improved from 0.12405 to 0.12388, saving model to checkpoint_modelo_4.hdf5\n",
      "60000/60000 [==============================] - 40s - loss: 0.1253 - val_loss: 0.1239\n",
      "Epoch 15/100\n",
      "59904/60000 [============================>.] - ETA: 0s - loss: 0.1240Epoch 00014: val_loss improved from 0.12388 to 0.12286, saving model to checkpoint_modelo_4.hdf5\n",
      "60000/60000 [==============================] - 41s - loss: 0.1240 - val_loss: 0.1229\n",
      "Epoch 16/100\n",
      "59904/60000 [============================>.] - ETA: 0s - loss: 0.1226Epoch 00015: val_loss did not improve\n",
      "60000/60000 [==============================] - 40s - loss: 0.1226 - val_loss: 0.1231\n",
      "Epoch 17/100\n",
      "59904/60000 [============================>.] - ETA: 0s - loss: 0.1214Epoch 00016: val_loss improved from 0.12286 to 0.12036, saving model to checkpoint_modelo_4.hdf5\n",
      "60000/60000 [==============================] - 41s - loss: 0.1214 - val_loss: 0.1204\n",
      "Epoch 18/100\n",
      "59904/60000 [============================>.] - ETA: 0s - loss: 0.1205Epoch 00017: val_loss improved from 0.12036 to 0.11787, saving model to checkpoint_modelo_4.hdf5\n",
      "60000/60000 [==============================] - 40s - loss: 0.1205 - val_loss: 0.1179\n",
      "Epoch 19/100\n",
      "59904/60000 [============================>.] - ETA: 0s - loss: 0.1195Epoch 00018: val_loss improved from 0.11787 to 0.11679, saving model to checkpoint_modelo_4.hdf5\n",
      "60000/60000 [==============================] - 41s - loss: 0.1195 - val_loss: 0.1168\n",
      "Epoch 20/100\n",
      "59904/60000 [============================>.] - ETA: 0s - loss: 0.1183Epoch 00019: val_loss improved from 0.11679 to 0.11562, saving model to checkpoint_modelo_4.hdf5\n",
      "60000/60000 [==============================] - 40s - loss: 0.1183 - val_loss: 0.1156\n",
      "Epoch 21/100\n",
      "59904/60000 [============================>.] - ETA: 0s - loss: 0.1174Epoch 00020: val_loss did not improve\n",
      "60000/60000 [==============================] - 39s - loss: 0.1175 - val_loss: 0.1215\n",
      "Epoch 22/100\n",
      "59904/60000 [============================>.] - ETA: 0s - loss: 0.1165Epoch 00021: val_loss improved from 0.11562 to 0.11320, saving model to checkpoint_modelo_4.hdf5\n",
      "60000/60000 [==============================] - 41s - loss: 0.1164 - val_loss: 0.1132\n",
      "Epoch 23/100\n",
      "59904/60000 [============================>.] - ETA: 0s - loss: 0.1156Epoch 00022: val_loss did not improve\n",
      "60000/60000 [==============================] - 39s - loss: 0.1156 - val_loss: 0.1147\n",
      "Epoch 24/100\n",
      "59904/60000 [============================>.] - ETA: 0s - loss: 0.1148Epoch 00023: val_loss did not improve\n",
      "60000/60000 [==============================] - 39s - loss: 0.1148 - val_loss: 0.1142\n",
      "Epoch 25/100\n",
      "59904/60000 [============================>.] - ETA: 0s - loss: 0.1141Epoch 00024: val_loss improved from 0.11320 to 0.11194, saving model to checkpoint_modelo_4.hdf5\n",
      "60000/60000 [==============================] - 41s - loss: 0.1141 - val_loss: 0.1119\n",
      "Epoch 26/100\n",
      "59904/60000 [============================>.] - ETA: 0s - loss: 0.1132Epoch 00025: val_loss improved from 0.11194 to 0.11091, saving model to checkpoint_modelo_4.hdf5\n",
      "60000/60000 [==============================] - 41s - loss: 0.1132 - val_loss: 0.1109\n",
      "Epoch 27/100\n",
      "59904/60000 [============================>.] - ETA: 0s - loss: 0.1124Epoch 00026: val_loss improved from 0.11091 to 0.11005, saving model to checkpoint_modelo_4.hdf5\n",
      "60000/60000 [==============================] - 40s - loss: 0.1124 - val_loss: 0.1100\n",
      "Epoch 28/100\n",
      "59904/60000 [============================>.] - ETA: 0s - loss: 0.1117Epoch 00027: val_loss improved from 0.11005 to 0.10999, saving model to checkpoint_modelo_4.hdf5\n",
      "60000/60000 [==============================] - 42s - loss: 0.1117 - val_loss: 0.1100\n",
      "Epoch 29/100\n",
      "59904/60000 [============================>.] - ETA: 0s - loss: 0.1112Epoch 00028: val_loss improved from 0.10999 to 0.10909, saving model to checkpoint_modelo_4.hdf5\n",
      "60000/60000 [==============================] - 41s - loss: 0.1112 - val_loss: 0.1091\n",
      "Epoch 30/100\n",
      "59904/60000 [============================>.] - ETA: 0s - loss: 0.1107Epoch 00029: val_loss did not improve\n",
      "60000/60000 [==============================] - 39s - loss: 0.1107 - val_loss: 0.1092\n",
      "Epoch 31/100\n",
      "59904/60000 [============================>.] - ETA: 0s - loss: 0.1102Epoch 00030: val_loss improved from 0.10909 to 0.10681, saving model to checkpoint_modelo_4.hdf5\n",
      "60000/60000 [==============================] - 41s - loss: 0.1102 - val_loss: 0.1068\n",
      "Epoch 32/100\n",
      "59904/60000 [============================>.] - ETA: 0s - loss: 0.1095Epoch 00031: val_loss did not improve\n",
      "60000/60000 [==============================] - 40s - loss: 0.1095 - val_loss: 0.1083\n",
      "Epoch 33/100\n",
      "56832/60000 [===========================>..] - ETA: 2s - loss: 0.1093Epoch 00032: val_loss improved from 0.10681 to 0.10664, saving model to checkpoint_modelo_4.hdf5\n",
      "60000/60000 [==============================] - 40s - loss: 0.1093 - val_loss: 0.1066\n",
      "Epoch 34/100\n",
      "59904/60000 [============================>.] - ETA: 0s - loss: 0.1088Epoch 00033: val_loss did not improve\n",
      "60000/60000 [==============================] - 39s - loss: 0.1088 - val_loss: 0.1076\n",
      "Epoch 35/100\n",
      "59904/60000 [============================>.] - ETA: 0s - loss: 0.1084Epoch 00034: val_loss did not improve\n",
      "60000/60000 [==============================] - 39s - loss: 0.1084 - val_loss: 0.1072\n",
      "Epoch 36/100\n",
      "59904/60000 [============================>.] - ETA: 0s - loss: 0.1080Epoch 00035: val_loss improved from 0.10664 to 0.10622, saving model to checkpoint_modelo_4.hdf5\n",
      "60000/60000 [==============================] - 40s - loss: 0.1080 - val_loss: 0.1062\n",
      "Epoch 37/100\n",
      "59904/60000 [============================>.] - ETA: 0s - loss: 0.1077Epoch 00036: val_loss did not improve\n",
      "60000/60000 [==============================] - 39s - loss: 0.1077 - val_loss: 0.1086\n",
      "Epoch 38/100\n",
      "59904/60000 [============================>.] - ETA: 0s - loss: 0.1071Epoch 00038: val_loss did not improve\n",
      "60000/60000 [==============================] - 39s - loss: 0.1071 - val_loss: 0.1061\n",
      "Epoch 40/100\n",
      "59904/60000 [============================>.] - ETA: 0s - loss: 0.1066Epoch 00039: val_loss improved from 0.10600 to 0.10565, saving model to checkpoint_modelo_4.hdf5\n",
      "60000/60000 [==============================] - 41s - loss: 0.1066 - val_loss: 0.1056\n",
      "Epoch 41/100\n",
      "59904/60000 [============================>.] - ETA: 0s - loss: 0.1062Epoch 00040: val_loss did not improve\n",
      "60000/60000 [==============================] - 39s - loss: 0.1062 - val_loss: 0.1058\n",
      "Epoch 42/100\n",
      "59904/60000 [============================>.] - ETA: 0s - loss: 0.1060Epoch 00041: val_loss improved from 0.10565 to 0.10527, saving model to checkpoint_modelo_4.hdf5\n",
      "60000/60000 [==============================] - 40s - loss: 0.1060 - val_loss: 0.1053\n",
      "Epoch 43/100\n",
      "59904/60000 [============================>.] - ETA: 0s - loss: 0.1058Epoch 00042: val_loss improved from 0.10527 to 0.10351, saving model to checkpoint_modelo_4.hdf5\n",
      "60000/60000 [==============================] - 41s - loss: 0.1058 - val_loss: 0.1035\n",
      "Epoch 44/100\n",
      "59904/60000 [============================>.] - ETA: 0s - loss: 0.1056Epoch 00043: val_loss did not improve\n",
      "60000/60000 [==============================] - 39s - loss: 0.1056 - val_loss: 0.1039\n",
      "Epoch 45/100\n",
      "59904/60000 [============================>.] - ETA: 0s - loss: 0.1054Epoch 00044: val_loss did not improve\n",
      "60000/60000 [==============================] - 39s - loss: 0.1053 - val_loss: 0.1053\n",
      "Epoch 46/100\n",
      "59904/60000 [============================>.] - ETA: 0s - loss: 0.1053Epoch 00045: val_loss improved from 0.10351 to 0.10324, saving model to checkpoint_modelo_4.hdf5\n",
      "60000/60000 [==============================] - 41s - loss: 0.1053 - val_loss: 0.1032\n",
      "Epoch 47/100\n",
      "59904/60000 [============================>.] - ETA: 0s - loss: 0.1050Epoch 00046: val_loss did not improve\n",
      "60000/60000 [==============================] - 39s - loss: 0.1050 - val_loss: 0.1047\n",
      "Epoch 48/100\n",
      "59904/60000 [============================>.] - ETA: 0s - loss: 0.1047Epoch 00047: val_loss improved from 0.10324 to 0.10252, saving model to checkpoint_modelo_4.hdf5\n",
      "60000/60000 [==============================] - 40s - loss: 0.1047 - val_loss: 0.1025\n",
      "Epoch 49/100\n",
      "59904/60000 [============================>.] - ETA: 0s - loss: 0.1045Epoch 00048: val_loss did not improve\n",
      "60000/60000 [==============================] - 40s - loss: 0.1045 - val_loss: 0.1033\n",
      "Epoch 50/100\n",
      "59904/60000 [============================>.] - ETA: 0s - loss: 0.1043Epoch 00049: val_loss did not improve\n",
      "60000/60000 [==============================] - 39s - loss: 0.1043 - val_loss: 0.1028\n",
      "Epoch 51/100\n",
      "59904/60000 [============================>.] - ETA: 0s - loss: 0.1040Epoch 00050: val_loss did not improve\n",
      "60000/60000 [==============================] - 39s - loss: 0.1040 - val_loss: 0.1028\n",
      "Epoch 52/100\n",
      "59904/60000 [============================>.] - ETA: 0s - loss: 0.1037Epoch 00051: val_loss did not improve\n",
      "60000/60000 [==============================] - 39s - loss: 0.1037 - val_loss: 0.1035\n",
      "Epoch 53/100\n",
      "59904/60000 [============================>.] - ETA: 0s - loss: 0.1034Epoch 00052: val_loss improved from 0.10252 to 0.10202, saving model to checkpoint_modelo_4.hdf5\n",
      "60000/60000 [==============================] - 40s - loss: 0.1034 - val_loss: 0.1020\n",
      "Epoch 54/100\n",
      "59904/60000 [============================>.] - ETA: 0s - loss: 0.1031Epoch 00053: val_loss improved from 0.10202 to 0.10200, saving model to checkpoint_modelo_4.hdf5\n",
      "60000/60000 [==============================] - 41s - loss: 0.1031 - val_loss: 0.1020\n",
      "Epoch 55/100\n",
      "59904/60000 [============================>.] - ETA: 0s - loss: 0.1030Epoch 00054: val_loss did not improve\n",
      "60000/60000 [==============================] - 39s - loss: 0.1030 - val_loss: 0.1031\n",
      "Epoch 56/100\n",
      "59904/60000 [============================>.] - ETA: 0s - loss: 0.1025Epoch 00055: val_loss improved from 0.10200 to 0.10118, saving model to checkpoint_modelo_4.hdf5\n",
      "60000/60000 [==============================] - 40s - loss: 0.1025 - val_loss: 0.1012\n",
      "Epoch 57/100\n",
      "59904/60000 [============================>.] - ETA: 0s - loss: 0.1026Epoch 00056: val_loss did not improve\n",
      "60000/60000 [==============================] - 39s - loss: 0.1026 - val_loss: 0.1030\n",
      "Epoch 58/100\n",
      "59904/60000 [============================>.] - ETA: 0s - loss: 0.1023Epoch 00057: val_loss did not improve\n",
      "60000/60000 [==============================] - 39s - loss: 0.1023 - val_loss: 0.1014\n",
      "Epoch 59/100\n",
      "59904/60000 [============================>.] - ETA: 0s - loss: 0.1021Epoch 00058: val_loss did not improve\n",
      "60000/60000 [==============================] - 39s - loss: 0.1021 - val_loss: 0.1020\n",
      "Epoch 60/100\n",
      "59904/60000 [============================>.] - ETA: 0s - loss: 0.1019Epoch 00059: val_loss improved from 0.10118 to 0.10116, saving model to checkpoint_modelo_4.hdf5\n",
      "60000/60000 [==============================] - 40s - loss: 0.1019 - val_loss: 0.1012\n",
      "Epoch 61/100\n",
      "59904/60000 [============================>.] - ETA: 0s - loss: 0.1015Epoch 00060: val_loss did not improve\n",
      "60000/60000 [==============================] - 39s - loss: 0.1015 - val_loss: 0.1014\n",
      "Epoch 62/100\n",
      "59904/60000 [============================>.] - ETA: 0s - loss: 0.1014Epoch 00061: val_loss did not improve\n",
      "60000/60000 [==============================] - 39s - loss: 0.1014 - val_loss: 0.1023\n",
      "Epoch 63/100\n",
      "59904/60000 [============================>.] - ETA: 0s - loss: 0.1012Epoch 00062: val_loss improved from 0.10116 to 0.09974, saving model to checkpoint_modelo_4.hdf5\n",
      "60000/60000 [==============================] - 40s - loss: 0.1012 - val_loss: 0.0997\n",
      "Epoch 64/100\n",
      "59904/60000 [============================>.] - ETA: 0s - loss: 0.1012Epoch 00063: val_loss improved from 0.09974 to 0.09857, saving model to checkpoint_modelo_4.hdf5\n",
      "60000/60000 [==============================] - 41s - loss: 0.1011 - val_loss: 0.0986\n",
      "Epoch 65/100\n",
      "59904/60000 [============================>.] - ETA: 0s - loss: 0.1006Epoch 00064: val_loss did not improve\n",
      "60000/60000 [==============================] - 39s - loss: 0.1006 - val_loss: 0.0998\n",
      "Epoch 66/100\n",
      "59904/60000 [============================>.] - ETA: 0s - loss: 0.1009Epoch 00065: val_loss did not improve\n",
      "60000/60000 [==============================] - 39s - loss: 0.1009 - val_loss: 0.1005\n",
      "Epoch 67/100\n",
      "59904/60000 [============================>.] - ETA: 0s - loss: 0.1007Epoch 00066: val_loss did not improve\n",
      "60000/60000 [==============================] - 40s - loss: 0.1007 - val_loss: 0.1007\n",
      "Epoch 68/100\n",
      "59904/60000 [============================>.] - ETA: 0s - loss: 0.1005Epoch 00067: val_loss did not improve\n",
      "60000/60000 [==============================] - 39s - loss: 0.1005 - val_loss: 0.0999\n",
      "Epoch 69/100\n",
      "59904/60000 [============================>.] - ETA: 0s - loss: 0.1002Epoch 00068: val_loss improved from 0.09857 to 0.09856, saving model to checkpoint_modelo_4.hdf5\n",
      "60000/60000 [==============================] - 40s - loss: 0.1002 - val_loss: 0.0986\n",
      "Epoch 70/100\n",
      "59904/60000 [============================>.] - ETA: 0s - loss: 0.1001Epoch 00069: val_loss did not improve\n"
     ]
    },
    {
     "name": "stdout",
     "output_type": "stream",
     "text": [
      "60000/60000 [==============================] - 39s - loss: 0.1001 - val_loss: 0.0992\n",
      "Epoch 71/100\n",
      "59904/60000 [============================>.] - ETA: 0s - loss: 0.0997Epoch 00070: val_loss did not improve\n",
      "60000/60000 [==============================] - 39s - loss: 0.0997 - val_loss: 0.0997\n",
      "Epoch 72/100\n",
      "59904/60000 [============================>.] - ETA: 0s - loss: 0.0998Epoch 00071: val_loss improved from 0.09856 to 0.09827, saving model to checkpoint_modelo_4.hdf5\n",
      "60000/60000 [==============================] - 40s - loss: 0.0998 - val_loss: 0.0983\n",
      "Epoch 73/100\n",
      "59904/60000 [============================>.] - ETA: 0s - loss: 0.0993Epoch 00072: val_loss improved from 0.09827 to 0.09820, saving model to checkpoint_modelo_4.hdf5\n",
      "60000/60000 [==============================] - 40s - loss: 0.0993 - val_loss: 0.0982\n",
      "Epoch 74/100\n",
      "59904/60000 [============================>.] - ETA: 0s - loss: 0.0993Epoch 00073: val_loss improved from 0.09820 to 0.09768, saving model to checkpoint_modelo_4.hdf5\n",
      "60000/60000 [==============================] - 40s - loss: 0.0993 - val_loss: 0.0977\n",
      "Epoch 75/100\n",
      "59904/60000 [============================>.] - ETA: 0s - loss: 0.0994Epoch 00074: val_loss did not improve\n",
      "60000/60000 [==============================] - 39s - loss: 0.0994 - val_loss: 0.0984\n",
      "Epoch 76/100\n",
      "59904/60000 [============================>.] - ETA: 0s - loss: 0.0996Epoch 00075: val_loss improved from 0.09768 to 0.09765, saving model to checkpoint_modelo_4.hdf5\n",
      "60000/60000 [==============================] - 41s - loss: 0.0996 - val_loss: 0.0977\n",
      "Epoch 77/100\n",
      "59904/60000 [============================>.] - ETA: 0s - loss: 0.0995Epoch 00076: val_loss did not improve\n",
      "60000/60000 [==============================] - 39s - loss: 0.0995 - val_loss: 0.0993\n",
      "Epoch 78/100\n",
      "59904/60000 [============================>.] - ETA: 0s - loss: 0.0993Epoch 00077: val_loss did not improve\n",
      "60000/60000 [==============================] - 39s - loss: 0.0993 - val_loss: 0.0981\n",
      "Epoch 79/100\n",
      "59904/60000 [============================>.] - ETA: 0s - loss: 0.0992Epoch 00078: val_loss did not improve\n",
      "60000/60000 [==============================] - 40s - loss: 0.0992 - val_loss: 0.0982\n",
      "Epoch 80/100\n",
      "59904/60000 [============================>.] - ETA: 0s - loss: 0.0993Epoch 00079: val_loss did not improve\n",
      "60000/60000 [==============================] - 39s - loss: 0.0993 - val_loss: 0.0991\n",
      "Epoch 81/100\n",
      "59904/60000 [============================>.] - ETA: 0s - loss: 0.0991Epoch 00080: val_loss did not improve\n",
      "60000/60000 [==============================] - 39s - loss: 0.0991 - val_loss: 0.0977\n",
      "Epoch 82/100\n",
      "59904/60000 [============================>.] - ETA: 0s - loss: 0.0991Epoch 00081: val_loss improved from 0.09765 to 0.09763, saving model to checkpoint_modelo_4.hdf5\n",
      "60000/60000 [==============================] - 41s - loss: 0.0991 - val_loss: 0.0976\n",
      "Epoch 83/100\n",
      "59904/60000 [============================>.] - ETA: 0s - loss: 0.0990Epoch 00082: val_loss did not improve\n",
      "60000/60000 [==============================] - 39s - loss: 0.0990 - val_loss: 0.0986\n",
      "Epoch 84/100\n",
      "59904/60000 [============================>.] - ETA: 0s - loss: 0.0989Epoch 00083: val_loss did not improve\n",
      "60000/60000 [==============================] - 39s - loss: 0.0989 - val_loss: 0.0981\n",
      "Epoch 85/100\n",
      "59904/60000 [============================>.] - ETA: 0s - loss: 0.0987Epoch 00084: val_loss improved from 0.09763 to 0.09681, saving model to checkpoint_modelo_4.hdf5\n",
      "60000/60000 [==============================] - 40s - loss: 0.0987 - val_loss: 0.0968\n",
      "Epoch 86/100\n",
      "59904/60000 [============================>.] - ETA: 0s - loss: 0.0986Epoch 00085: val_loss did not improve\n",
      "60000/60000 [==============================] - 39s - loss: 0.0986 - val_loss: 0.0976\n",
      "Epoch 87/100\n",
      "59904/60000 [============================>.] - ETA: 0s - loss: 0.0986Epoch 00086: val_loss did not improve\n",
      "60000/60000 [==============================] - 39s - loss: 0.0986 - val_loss: 0.0973\n",
      "Epoch 88/100\n",
      "59904/60000 [============================>.] - ETA: 0s - loss: 0.0981Epoch 00087: val_loss did not improve\n",
      "60000/60000 [==============================] - 39s - loss: 0.0981 - val_loss: 0.0969\n",
      "Epoch 89/100\n",
      "59904/60000 [============================>.] - ETA: 0s - loss: 0.0983Epoch 00088: val_loss did not improve\n",
      "60000/60000 [==============================] - 39s - loss: 0.0983 - val_loss: 0.0981\n",
      "Epoch 90/100\n",
      "59904/60000 [============================>.] - ETA: 0s - loss: 0.0980Epoch 00089: val_loss improved from 0.09681 to 0.09609, saving model to checkpoint_modelo_4.hdf5\n",
      "60000/60000 [==============================] - 41s - loss: 0.0980 - val_loss: 0.0961\n",
      "Epoch 91/100\n",
      "59904/60000 [============================>.] - ETA: 0s - loss: 0.0981Epoch 00090: val_loss did not improve\n",
      "60000/60000 [==============================] - 39s - loss: 0.0981 - val_loss: 0.0964\n",
      "Epoch 92/100\n",
      "59904/60000 [============================>.] - ETA: 0s - loss: 0.0982Epoch 00091: val_loss did not improve\n",
      "60000/60000 [==============================] - 39s - loss: 0.0982 - val_loss: 0.0968\n",
      "Epoch 93/100\n",
      "59904/60000 [============================>.] - ETA: 0s - loss: 0.0981Epoch 00092: val_loss did not improve\n",
      "60000/60000 [==============================] - 39s - loss: 0.0981 - val_loss: 0.0970\n",
      "Epoch 94/100\n",
      "59904/60000 [============================>.] - ETA: 0s - loss: 0.0980Epoch 00093: val_loss did not improve\n",
      "60000/60000 [==============================] - 40s - loss: 0.0980 - val_loss: 0.0967\n",
      "Epoch 95/100\n",
      "59904/60000 [============================>.] - ETA: 0s - loss: 0.0979Epoch 00094: val_loss did not improve\n",
      "60000/60000 [==============================] - 39s - loss: 0.0979 - val_loss: 0.0984\n",
      "Epoch 96/100\n",
      "59904/60000 [============================>.] - ETA: 0s - loss: 0.0979Epoch 00095: val_loss did not improve\n",
      "60000/60000 [==============================] - 39s - loss: 0.0979 - val_loss: 0.0965\n",
      "Epoch 97/100\n",
      "59904/60000 [============================>.] - ETA: 0s - loss: 0.0977Epoch 00096: val_loss did not improve\n",
      "60000/60000 [==============================] - 39s - loss: 0.0977 - val_loss: 0.0961\n",
      "Epoch 98/100\n",
      "59904/60000 [============================>.] - ETA: 0s - loss: 0.0977Epoch 00097: val_loss did not improve\n",
      "60000/60000 [==============================] - 40s - loss: 0.0977 - val_loss: 0.0969\n",
      "Epoch 99/100\n",
      "59904/60000 [============================>.] - ETA: 0s - loss: 0.0978Epoch 00098: val_loss did not improve\n",
      "60000/60000 [==============================] - 39s - loss: 0.0978 - val_loss: 0.0962\n",
      "Epoch 100/100\n",
      "59904/60000 [============================>.] - ETA: 0s - loss: 0.0975Epoch 00099: val_loss did not improve\n",
      "60000/60000 [==============================] - 39s - loss: 0.0975 - val_loss: 0.0961\n"
     ]
    }
   ],
   "source": [
    "history_model_4 = autoencoder_conv.fit(x_train_conv, x_train_conv,\n",
    "                                        epochs=100,\n",
    "                                        batch_size=256,\n",
    "                                        shuffle=True,\n",
    "                                        validation_data=(x_test_conv, x_test_conv),\n",
    "                                        callbacks=[checkpointer_4])"
   ]
  },
  {
   "cell_type": "code",
   "execution_count": 26,
   "metadata": {},
   "outputs": [
    {
     "ename": "NameError",
     "evalue": "name 'history_model_4' is not defined",
     "output_type": "error",
     "traceback": [
      "\u001b[0;31m---------------------------------------------------------------------------\u001b[0m",
      "\u001b[0;31mNameError\u001b[0m                                 Traceback (most recent call last)",
      "\u001b[0;32m<ipython-input-26-69820721ee6c>\u001b[0m in \u001b[0;36m<module>\u001b[0;34m()\u001b[0m\n\u001b[1;32m      1\u001b[0m \u001b[0;31m# Grafico do treinamento\u001b[0m\u001b[0;34m\u001b[0m\u001b[0;34m\u001b[0m\u001b[0m\n\u001b[0;32m----> 2\u001b[0;31m \u001b[0mplt\u001b[0m\u001b[0;34m.\u001b[0m\u001b[0mplot\u001b[0m\u001b[0;34m(\u001b[0m\u001b[0mhistory_model_4\u001b[0m\u001b[0;34m.\u001b[0m\u001b[0mhistory\u001b[0m\u001b[0;34m[\u001b[0m\u001b[0;34m'loss'\u001b[0m\u001b[0;34m]\u001b[0m\u001b[0;34m,\u001b[0m \u001b[0;34m'b'\u001b[0m\u001b[0;34m)\u001b[0m\u001b[0;34m\u001b[0m\u001b[0m\n\u001b[0m\u001b[1;32m      3\u001b[0m \u001b[0mplt\u001b[0m\u001b[0;34m.\u001b[0m\u001b[0mplot\u001b[0m\u001b[0;34m(\u001b[0m\u001b[0mhistory_model_4\u001b[0m\u001b[0;34m.\u001b[0m\u001b[0mhistory\u001b[0m\u001b[0;34m[\u001b[0m\u001b[0;34m'val_loss'\u001b[0m\u001b[0;34m]\u001b[0m\u001b[0;34m,\u001b[0m \u001b[0;34m'r'\u001b[0m\u001b[0;34m)\u001b[0m\u001b[0;34m\u001b[0m\u001b[0m\n\u001b[1;32m      4\u001b[0m \u001b[0mplt\u001b[0m\u001b[0;34m.\u001b[0m\u001b[0mshow\u001b[0m\u001b[0;34m(\u001b[0m\u001b[0;34m)\u001b[0m\u001b[0;34m\u001b[0m\u001b[0m\n",
      "\u001b[0;31mNameError\u001b[0m: name 'history_model_4' is not defined"
     ]
    }
   ],
   "source": [
    "# Grafico do treinamento\n",
    "plt.plot(history_model_4.history['loss'], 'b')\n",
    "plt.plot(history_model_4.history['val_loss'], 'r')\n",
    "plt.show()"
   ]
  },
  {
   "cell_type": "code",
   "execution_count": null,
   "metadata": {
    "collapsed": true
   },
   "outputs": [],
   "source": [
    "decoded_imgs_conv = autoencoder_conv.predict(x_test_conv)"
   ]
  },
  {
   "cell_type": "code",
   "execution_count": null,
   "metadata": {},
   "outputs": [
    {
     "data": {
      "image/png": "[encoded data removed]",
      "text/plain": [
       "<matplotlib.figure.Figure at 0x7f79c822b518>"
      ]
     },
     "metadata": {},
     "output_type": "display_data"
    }
   ],
   "source": [
    "n = 15  # how many digits we will display\n",
    "plt.figure(figsize=(2*n, 4))\n",
    "for i in range(n):\n",
    "    # display original\n",
    "    ax = plt.subplot(2, n, i + 1)\n",
    "    plt.imshow(x_test[i].reshape(28, 28))\n",
    "    plt.gray()\n",
    "    ax.get_xaxis().set_visible(False)\n",
    "    ax.get_yaxis().set_visible(False)\n",
    "\n",
    "    # display reconstruction\n",
    "    ax = plt.subplot(2, n, i + 1 + n)\n",
    "    plt.imshow(decoded_imgs_conv[i].reshape(28, 28))\n",
    "    plt.gray()\n",
    "    ax.get_xaxis().set_visible(False)\n",
    "    ax.get_yaxis().set_visible(False)\n",
    "plt.show()"
   ]
  },
  {
   "cell_type": "markdown",
   "metadata": {},
   "source": [
    "# Modelo 5: Aplicação em Eliminação de Ruído"
   ]
  },
  {
   "cell_type": "code",
   "execution_count": 19,
   "metadata": {
    "collapsed": true
   },
   "outputs": [],
   "source": [
    "input_img_conv = Input(shape=(28, 28, 1))\n",
    "\n",
    "encoded_conv2 = Conv2D(16, (3, 3), activation='relu', padding='same')(input_img_conv)\n",
    "encoded_conv2 = MaxPooling2D((2, 2), padding='same')(encoded_conv2)\n",
    "encoded_conv2 = Conv2D(8, (3, 3), activation='relu', padding='same')(encoded_conv2)\n",
    "encoded_conv2 = MaxPooling2D((2, 2), padding='same')(encoded_conv2)\n",
    "encoded_conv2 = Conv2D(8, (3, 3), activation='relu', padding='same')(encoded_conv2)\n",
    "encoded_conv2 = MaxPooling2D((2, 2), padding='same')(encoded_conv2)\n",
    "\n",
    "# (4, 4, 8) => 128\n",
    "\n",
    "decoded_conv2 = Conv2D(8, (3, 3), activation='relu', padding='same')(encoded_conv2)\n",
    "decoded_conv2 = UpSampling2D((2, 2))(decoded_conv2)\n",
    "decoded_conv2 = Conv2D(8, (3, 3), activation='relu', padding='same')(decoded_conv2)\n",
    "decoded_conv2 = UpSampling2D((2, 2))(decoded_conv2)\n",
    "decoded_conv2 = Conv2D(16, (3, 3), activation='relu')(decoded_conv2)\n",
    "decoded_conv2 = UpSampling2D((2, 2))(decoded_conv2)\n",
    "decoded_conv2 = Conv2D(1, (3, 3), activation='sigmoid', padding='same')(decoded_conv2)\n",
    "\n"
   ]
  },
  {
   "cell_type": "code",
   "execution_count": 20,
   "metadata": {
    "collapsed": true
   },
   "outputs": [],
   "source": [
    "autoencoder_conv_denoise = Model(input_img_conv, decoded_conv2)"
   ]
  },
  {
   "cell_type": "code",
   "execution_count": 21,
   "metadata": {
    "collapsed": true
   },
   "outputs": [],
   "source": [
    "# carregando o modelo, se necessário\n",
    "#autoencoder.load_weights('checkpoint_modelo_5.hdf5')"
   ]
  },
  {
   "cell_type": "code",
   "execution_count": 22,
   "metadata": {
    "collapsed": true
   },
   "outputs": [],
   "source": [
    "autoencoder_conv_denoise.compile(optimizer='adadelta', loss='binary_crossentropy')"
   ]
  },
  {
   "cell_type": "code",
   "execution_count": 23,
   "metadata": {
    "collapsed": true
   },
   "outputs": [],
   "source": [
    "checkpointer_5 = ModelCheckpoint(filepath='checkpoint_modelo_5.hdf5', verbose=1, save_best_only=True)"
   ]
  },
  {
   "cell_type": "code",
   "execution_count": null,
   "metadata": {
    "scrolled": true
   },
   "outputs": [
    {
     "name": "stdout",
     "output_type": "stream",
     "text": [
      "Train on 60000 samples, validate on 10000 samples\n",
      "Epoch 1/100\n",
      "59904/60000 [============================>.] - ETA: 0s - loss: 0.3184Epoch 00000: val_loss improved from inf to 0.24104, saving model to checkpoint_modelo_5.hdf5\n",
      "60000/60000 [==============================] - 44s - loss: 0.3183 - val_loss: 0.2410\n",
      "Epoch 2/100\n",
      "59904/60000 [============================>.] - ETA: 0s - loss: 0.2243Epoch 00001: val_loss improved from 0.24104 to 0.20740, saving model to checkpoint_modelo_5.hdf5\n",
      "60000/60000 [==============================] - 43s - loss: 0.2242 - val_loss: 0.2074\n",
      "Epoch 3/100\n",
      "59904/60000 [============================>.] - ETA: 0s - loss: 0.2019Epoch 00002: val_loss improved from 0.20740 to 0.19006, saving model to checkpoint_modelo_5.hdf5\n",
      "60000/60000 [==============================] - 44s - loss: 0.2019 - val_loss: 0.1901\n",
      "Epoch 4/100\n",
      "59904/60000 [============================>.] - ETA: 0s - loss: 0.1878Epoch 00003: val_loss improved from 0.19006 to 0.17967, saving model to checkpoint_modelo_5.hdf5\n",
      "60000/60000 [==============================] - 44s - loss: 0.1878 - val_loss: 0.1797\n",
      "Epoch 5/100\n",
      "59904/60000 [============================>.] - ETA: 0s - loss: 0.1787Epoch 00004: val_loss improved from 0.17967 to 0.17312, saving model to checkpoint_modelo_5.hdf5\n",
      "60000/60000 [==============================] - 44s - loss: 0.1787 - val_loss: 0.1731\n",
      "Epoch 6/100\n",
      "59904/60000 [============================>.] - ETA: 0s - loss: 0.1728Epoch 00005: val_loss improved from 0.17312 to 0.17158, saving model to checkpoint_modelo_5.hdf5\n",
      "60000/60000 [==============================] - 43s - loss: 0.1728 - val_loss: 0.1716\n",
      "Epoch 7/100\n",
      "59904/60000 [============================>.] - ETA: 0s - loss: 0.1685Epoch 00006: val_loss improved from 0.17158 to 0.16497, saving model to checkpoint_modelo_5.hdf5\n",
      "60000/60000 [==============================] - 43s - loss: 0.1685 - val_loss: 0.1650\n",
      "Epoch 8/100\n",
      "59904/60000 [============================>.] - ETA: 0s - loss: 0.1652Epoch 00007: val_loss improved from 0.16497 to 0.16151, saving model to checkpoint_modelo_5.hdf5\n",
      "60000/60000 [==============================] - 44s - loss: 0.1652 - val_loss: 0.1615\n",
      "Epoch 9/100\n",
      "59904/60000 [============================>.] - ETA: 0s - loss: 0.1623Epoch 00008: val_loss did not improve\n",
      "60000/60000 [==============================] - 42s - loss: 0.1623 - val_loss: 0.1642\n",
      "Epoch 10/100\n",
      "59904/60000 [============================>.] - ETA: 0s - loss: 0.1599Epoch 00009: val_loss improved from 0.16151 to 0.15975, saving model to checkpoint_modelo_5.hdf5\n",
      "60000/60000 [==============================] - 44s - loss: 0.1599 - val_loss: 0.1597\n",
      "Epoch 11/100\n",
      "59904/60000 [============================>.] - ETA: 0s - loss: 0.1578Epoch 00010: val_loss improved from 0.15975 to 0.15632, saving model to checkpoint_modelo_5.hdf5\n",
      "60000/60000 [==============================] - 43s - loss: 0.1578 - val_loss: 0.1563\n",
      "Epoch 12/100\n",
      "59904/60000 [============================>.] - ETA: 0s - loss: 0.1559Epoch 00011: val_loss did not improve\n",
      "60000/60000 [==============================] - 42s - loss: 0.1559 - val_loss: 0.1580\n",
      "Epoch 13/100\n",
      "59904/60000 [============================>.] - ETA: 0s - loss: 0.1537Epoch 00012: val_loss improved from 0.15632 to 0.15131, saving model to checkpoint_modelo_5.hdf5\n",
      "60000/60000 [==============================] - 43s - loss: 0.1537 - val_loss: 0.1513\n",
      "Epoch 14/100\n",
      "59904/60000 [============================>.] - ETA: 0s - loss: 0.1522Epoch 00013: val_loss improved from 0.15131 to 0.15011, saving model to checkpoint_modelo_5.hdf5\n",
      "60000/60000 [==============================] - 43s - loss: 0.1522 - val_loss: 0.1501\n",
      "Epoch 15/100\n",
      "59904/60000 [============================>.] - ETA: 0s - loss: 0.1510Epoch 00014: val_loss did not improve\n",
      "60000/60000 [==============================] - 42s - loss: 0.1511 - val_loss: 0.1513\n",
      "Epoch 16/100\n",
      "59904/60000 [============================>.] - ETA: 0s - loss: 0.1500Epoch 00015: val_loss improved from 0.15011 to 0.14716, saving model to checkpoint_modelo_5.hdf5\n",
      "60000/60000 [==============================] - 43s - loss: 0.1500 - val_loss: 0.1472\n",
      "Epoch 17/100\n",
      "59904/60000 [============================>.] - ETA: 0s - loss: 0.1487Epoch 00016: val_loss improved from 0.14716 to 0.14595, saving model to checkpoint_modelo_5.hdf5\n",
      "60000/60000 [==============================] - 43s - loss: 0.1487 - val_loss: 0.1460\n",
      "Epoch 18/100\n",
      "59904/60000 [============================>.] - ETA: 0s - loss: 0.1474Epoch 00017: val_loss did not improve\n",
      "60000/60000 [==============================] - 42s - loss: 0.1474 - val_loss: 0.1470\n",
      "Epoch 19/100\n",
      "59904/60000 [============================>.] - ETA: 0s - loss: 0.1467Epoch 00018: val_loss did not improve\n",
      "60000/60000 [==============================] - 42s - loss: 0.1467 - val_loss: 0.1517\n",
      "Epoch 20/100\n",
      "59904/60000 [============================>.] - ETA: 0s - loss: 0.1457Epoch 00019: val_loss did not improve\n",
      "60000/60000 [==============================] - 42s - loss: 0.1457 - val_loss: 0.1471\n",
      "Epoch 21/100\n",
      "59904/60000 [============================>.] - ETA: 0s - loss: 0.1452Epoch 00020: val_loss improved from 0.14595 to 0.14286, saving model to checkpoint_modelo_5.hdf5\n",
      "60000/60000 [==============================] - 44s - loss: 0.1452 - val_loss: 0.1429\n",
      "Epoch 22/100\n",
      "59904/60000 [============================>.] - ETA: 0s - loss: 0.1442Epoch 00021: val_loss improved from 0.14286 to 0.14119, saving model to checkpoint_modelo_5.hdf5\n",
      "60000/60000 [==============================] - 44s - loss: 0.1442 - val_loss: 0.1412\n",
      "Epoch 23/100\n",
      "59904/60000 [============================>.] - ETA: 0s - loss: 0.1432Epoch 00022: val_loss improved from 0.14119 to 0.14022, saving model to checkpoint_modelo_5.hdf5\n",
      "60000/60000 [==============================] - 44s - loss: 0.1432 - val_loss: 0.1402\n",
      "Epoch 24/100\n",
      "59904/60000 [============================>.] - ETA: 0s - loss: 0.1425Epoch 00023: val_loss did not improve\n",
      "60000/60000 [==============================] - 42s - loss: 0.1425 - val_loss: 0.1406\n",
      "Epoch 25/100\n",
      "59904/60000 [============================>.] - ETA: 0s - loss: 0.1418- ETA: 2s - lEpoch 00024: val_loss improved from 0.14022 to 0.13932, saving model to checkpoint_modelo_5.hdf5\n",
      "60000/60000 [==============================] - 44s - loss: 0.1418 - val_loss: 0.1393\n",
      "Epoch 26/100\n",
      "59904/60000 [============================>.] - ETA: 0s - loss: 0.1414Epoch 00025: val_loss did not improve\n",
      "60000/60000 [==============================] - 42s - loss: 0.1414 - val_loss: 0.1395\n",
      "Epoch 27/100\n",
      "59904/60000 [============================>.] - ETA: 0s - loss: 0.1409Epoch 00026: val_loss improved from 0.13932 to 0.13801, saving model to checkpoint_modelo_5.hdf5\n",
      "60000/60000 [==============================] - 43s - loss: 0.1409 - val_loss: 0.1380\n",
      "Epoch 28/100\n",
      "59904/60000 [============================>.] - ETA: 0s - loss: 0.1400Epoch 00027: val_loss did not improve\n",
      "60000/60000 [==============================] - 42s - loss: 0.1400 - val_loss: 0.1402\n",
      "Epoch 29/100\n",
      "59904/60000 [============================>.] - ETA: 0s - loss: 0.1398Epoch 00028: val_loss improved from 0.13801 to 0.13738, saving model to checkpoint_modelo_5.hdf5\n",
      "60000/60000 [==============================] - 44s - loss: 0.1398 - val_loss: 0.1374\n",
      "Epoch 30/100\n",
      "59904/60000 [============================>.] - ETA: 0s - loss: 0.1391Epoch 00029: val_loss did not improve\n",
      "60000/60000 [==============================] - 42s - loss: 0.1391 - val_loss: 0.1378\n",
      "Epoch 31/100\n",
      "59904/60000 [============================>.] - ETA: 0s - loss: 0.1386Epoch 00030: val_loss did not improve\n",
      "60000/60000 [==============================] - 42s - loss: 0.1386 - val_loss: 0.1376\n",
      "Epoch 32/100\n",
      "59904/60000 [============================>.] - ETA: 0s - loss: 0.1379Epoch 00031: val_loss did not improve\n",
      "60000/60000 [==============================] - 42s - loss: 0.1379 - val_loss: 0.1382\n",
      "Epoch 33/100\n",
      "59904/60000 [============================>.] - ETA: 0s - loss: 0.1374Epoch 00032: val_loss did not improve\n",
      "60000/60000 [==============================] - 42s - loss: 0.1374 - val_loss: 0.1375\n",
      "Epoch 34/100\n",
      "59904/60000 [============================>.] - ETA: 0s - loss: 0.1371Epoch 00033: val_loss improved from 0.13738 to 0.13517, saving model to checkpoint_modelo_5.hdf5\n"
     ]
    },
    {
     "name": "stdout",
     "output_type": "stream",
     "text": [
      "60000/60000 [==============================] - 43s - loss: 0.1371 - val_loss: 0.1352\n",
      "Epoch 35/100\n",
      "59904/60000 [============================>.] - ETA: 0s - loss: 0.1366Epoch 00034: val_loss improved from 0.13517 to 0.13357, saving model to checkpoint_modelo_5.hdf5\n",
      "60000/60000 [==============================] - 44s - loss: 0.1366 - val_loss: 0.1336\n",
      "Epoch 36/100\n",
      "59904/60000 [============================>.] - ETA: 0s - loss: 0.1359Epoch 00035: val_loss did not improve\n",
      "60000/60000 [==============================] - 42s - loss: 0.1359 - val_loss: 0.1369\n",
      "Epoch 37/100\n",
      "59904/60000 [============================>.] - ETA: 0s - loss: 0.1357Epoch 00036: val_loss did not improve\n",
      "60000/60000 [==============================] - 42s - loss: 0.1357 - val_loss: 0.1370\n",
      "Epoch 38/100\n",
      "59904/60000 [============================>.] - ETA: 0s - loss: 0.1357Epoch 00037: val_loss did not improve\n",
      "60000/60000 [==============================] - 42s - loss: 0.1357 - val_loss: 0.1352\n",
      "Epoch 39/100\n",
      "59904/60000 [============================>.] - ETA: 0s - loss: 0.1350Epoch 00038: val_loss did not improve\n",
      "60000/60000 [==============================] - 42s - loss: 0.1350 - val_loss: 0.1354\n",
      "Epoch 40/100\n",
      "59904/60000 [============================>.] - ETA: 0s - loss: 0.1346Epoch 00039: val_loss did not improve\n",
      "60000/60000 [==============================] - 44s - loss: 0.1346 - val_loss: 0.1347\n",
      "Epoch 41/100\n",
      "59904/60000 [============================>.] - ETA: 0s - loss: 0.1343Epoch 00040: val_loss improved from 0.13357 to 0.13109, saving model to checkpoint_modelo_5.hdf5\n",
      "60000/60000 [==============================] - 51s - loss: 0.1343 - val_loss: 0.1311\n",
      "Epoch 42/100\n",
      "59904/60000 [============================>.] - ETA: 0s - loss: 0.1336Epoch 00042: val_loss did not improve\n",
      "60000/60000 [==============================] - 57s - loss: 0.1336 - val_loss: 0.1352\n",
      "Epoch 44/100\n",
      "59904/60000 [============================>.] - ETA: 0s - loss: 0.1332Epoch 00043: val_loss improved from 0.13109 to 0.13075, saving model to checkpoint_modelo_5.hdf5\n",
      "60000/60000 [==============================] - 55s - loss: 0.1332 - val_loss: 0.1307\n",
      "Epoch 45/100\n",
      "59904/60000 [============================>.] - ETA: 0s - loss: 0.1330Epoch 00044: val_loss did not improve\n",
      "60000/60000 [==============================] - 61s - loss: 0.1330 - val_loss: 0.1310\n",
      "Epoch 46/100\n",
      "59904/60000 [============================>.] - ETA: 0s - loss: 0.1327Epoch 00045: val_loss did not improve\n",
      "60000/60000 [==============================] - 61s - loss: 0.1327 - val_loss: 0.1317\n",
      "Epoch 47/100\n",
      "59904/60000 [============================>.] - ETA: 0s - loss: 0.1328Epoch 00046: val_loss did not improve\n",
      "60000/60000 [==============================] - 61s - loss: 0.1328 - val_loss: 0.1317\n",
      "Epoch 48/100\n",
      "59904/60000 [============================>.] - ETA: 0s - loss: 0.1323Epoch 00047: val_loss did not improve\n",
      "60000/60000 [==============================] - 61s - loss: 0.1322 - val_loss: 0.1311\n",
      "Epoch 49/100\n",
      "59904/60000 [============================>.] - ETA: 0s - loss: 0.1316Epoch 00049: val_loss did not improve\n",
      "60000/60000 [==============================] - 43s - loss: 0.1316 - val_loss: 0.1323\n",
      "Epoch 51/100\n",
      "59904/60000 [============================>.] - ETA: 0s - loss: 0.1316Epoch 00050: val_loss did not improve\n",
      "60000/60000 [==============================] - 42s - loss: 0.1316 - val_loss: 0.1322\n",
      "Epoch 52/100\n",
      "59904/60000 [============================>.] - ETA: 0s - loss: 0.1314Epoch 00051: val_loss did not improve\n",
      "60000/60000 [==============================] - 42s - loss: 0.1314 - val_loss: 0.1323\n",
      "Epoch 53/100\n",
      "59904/60000 [============================>.] - ETA: 0s - loss: 0.1311Epoch 00052: val_loss improved from 0.12965 to 0.12964, saving model to checkpoint_modelo_5.hdf5\n",
      "60000/60000 [==============================] - 44s - loss: 0.1311 - val_loss: 0.1296\n",
      "Epoch 54/100\n",
      "59904/60000 [============================>.] - ETA: 0s - loss: 0.1309Epoch 00053: val_loss did not improve\n",
      "60000/60000 [==============================] - 42s - loss: 0.1309 - val_loss: 0.1318\n",
      "Epoch 55/100\n",
      "59904/60000 [============================>.] - ETA: 0s - loss: 0.1308Epoch 00054: val_loss did not improve\n",
      "60000/60000 [==============================] - 42s - loss: 0.1308 - val_loss: 0.1318\n",
      "Epoch 56/100\n",
      "59904/60000 [============================>.] - ETA: 0s - loss: 0.1305Epoch 00055: val_loss did not improve\n",
      "60000/60000 [==============================] - 41s - loss: 0.1305 - val_loss: 0.1321\n",
      "Epoch 57/100\n",
      "59904/60000 [============================>.] - ETA: 0s - loss: 0.1304Epoch 00056: val_loss did not improve\n",
      "60000/60000 [==============================] - 42s - loss: 0.1304 - val_loss: 0.1302\n",
      "Epoch 58/100\n",
      "59904/60000 [============================>.] - ETA: 0s - loss: 0.1301Epoch 00057: val_loss improved from 0.12964 to 0.12746, saving model to checkpoint_modelo_5.hdf5\n",
      "60000/60000 [==============================] - 42s - loss: 0.1301 - val_loss: 0.1275\n",
      "Epoch 59/100\n",
      "59904/60000 [============================>.] - ETA: 0s - loss: 0.1301Epoch 00058: val_loss did not improve\n",
      "60000/60000 [==============================] - 42s - loss: 0.1301 - val_loss: 0.1299\n",
      "Epoch 60/100\n",
      "59904/60000 [============================>.] - ETA: 0s - loss: 0.1299Epoch 00059: val_loss did not improve\n",
      "60000/60000 [==============================] - 42s - loss: 0.1299 - val_loss: 0.1277\n",
      "Epoch 61/100\n",
      "59648/60000 [============================>.] - ETA: 0s - loss: 0.1299\n",
      "Epoch 62/100\n",
      "59904/60000 [============================>.] - ETA: 0s - loss: 0.1296Epoch 00061: val_loss did not improve\n",
      "60000/60000 [==============================] - 42s - loss: 0.1296 - val_loss: 0.1288\n",
      "Epoch 63/100\n",
      "59904/60000 [============================>.] - ETA: 0s - loss: 0.1296Epoch 00062: val_loss improved from 0.12746 to 0.12701, saving model to checkpoint_modelo_5.hdf5\n",
      "60000/60000 [==============================] - 45s - loss: 0.1296 - val_loss: 0.1270\n",
      "Epoch 64/100\n",
      "59904/60000 [============================>.] - ETA: 0s - loss: 0.1293Epoch 00063: val_loss did not improve\n",
      "60000/60000 [==============================] - 43s - loss: 0.1293 - val_loss: 0.1299\n",
      "Epoch 65/100\n",
      "59904/60000 [============================>.] - ETA: 0s - loss: 0.1292Epoch 00064: val_loss did not improve\n",
      "60000/60000 [==============================] - 42s - loss: 0.1292 - val_loss: 0.1282\n",
      "Epoch 66/100\n",
      "59904/60000 [============================>.] - ETA: 0s - loss: 0.1289Epoch 00065: val_loss did not improve\n",
      "60000/60000 [==============================] - 42s - loss: 0.1289 - val_loss: 0.1275\n",
      "Epoch 67/100\n",
      "59904/60000 [============================>.] - ETA: 0s - loss: 0.1285Epoch 00066: val_loss did not improve\n",
      "60000/60000 [==============================] - 42s - loss: 0.1285 - val_loss: 0.1271\n",
      "Epoch 68/100\n",
      "59904/60000 [============================>.] - ETA: 0s - loss: 0.1286Epoch 00067: val_loss did not improve\n",
      "60000/60000 [==============================] - 42s - loss: 0.1286 - val_loss: 0.1331\n",
      "Epoch 69/100\n",
      "59904/60000 [============================>.] - ETA: 0s - loss: 0.1285Epoch 00068: val_loss improved from 0.12701 to 0.12678, saving model to checkpoint_modelo_5.hdf5\n",
      "60000/60000 [==============================] - 44s - loss: 0.1285 - val_loss: 0.1268\n",
      "Epoch 70/100\n",
      "59904/60000 [============================>.] - ETA: 0s - loss: 0.1287Epoch 00069: val_loss improved from 0.12678 to 0.12646, saving model to checkpoint_modelo_5.hdf5\n",
      "60000/60000 [==============================] - 43s - loss: 0.1287 - val_loss: 0.1265\n",
      "Epoch 71/100\n",
      "59904/60000 [============================>.] - ETA: 0s - loss: 0.1285Epoch 00070: val_loss did not improve\n",
      "60000/60000 [==============================] - 42s - loss: 0.1285 - val_loss: 0.1291\n",
      "Epoch 72/100\n",
      "59904/60000 [============================>.] - ETA: 0s - loss: 0.1285Epoch 00071: val_loss improved from 0.12646 to 0.12588, saving model to checkpoint_modelo_5.hdf5\n",
      "60000/60000 [==============================] - 43s - loss: 0.1285 - val_loss: 0.1259\n",
      "Epoch 73/100\n",
      "59904/60000 [============================>.] - ETA: 0s - loss: 0.1282Epoch 00072: val_loss did not improve\n",
      "60000/60000 [==============================] - 42s - loss: 0.1282 - val_loss: 0.1261\n",
      "Epoch 74/100\n",
      "59904/60000 [============================>.] - ETA: 0s - loss: 0.1280Epoch 00073: val_loss did not improve\n"
     ]
    },
    {
     "name": "stdout",
     "output_type": "stream",
     "text": [
      "60000/60000 [==============================] - 41s - loss: 0.1280 - val_loss: 0.1281\n",
      "Epoch 75/100\n",
      "59904/60000 [============================>.] - ETA: 0s - loss: 0.1278Epoch 00074: val_loss did not improve\n",
      "60000/60000 [==============================] - 43s - loss: 0.1278 - val_loss: 0.1261\n",
      "Epoch 76/100\n",
      "59904/60000 [============================>.] - ETA: 0s - loss: 0.1270Epoch 00086: val_loss did not improve\n",
      "60000/60000 [==============================] - 42s - loss: 0.1270 - val_loss: 0.1255\n",
      "Epoch 88/100\n",
      "59904/60000 [============================>.] - ETA: 0s - loss: 0.1266Epoch 00087: val_loss did not improve\n",
      "60000/60000 [==============================] - 42s - loss: 0.1266 - val_loss: 0.1268\n",
      "Epoch 89/100\n",
      "59904/60000 [============================>.] - ETA: 0s - loss: 0.1265Epoch 00088: val_loss did not improve\n",
      "60000/60000 [==============================] - 42s - loss: 0.1266 - val_loss: 0.1271\n",
      "Epoch 90/100\n",
      "59904/60000 [============================>.] - ETA: 0s - loss: 0.1262Epoch 00089: val_loss did not improve\n",
      "60000/60000 [==============================] - 42s - loss: 0.1262 - val_loss: 0.1262\n",
      "Epoch 91/100\n",
      "59904/60000 [============================>.] - ETA: 0s - loss: 0.1265Epoch 00090: val_loss did not improve\n",
      "60000/60000 [==============================] - 42s - loss: 0.1265 - val_loss: 0.1282\n",
      "Epoch 92/100\n",
      "59904/60000 [============================>.] - ETA: 0s - loss: 0.1264Epoch 00091: val_loss improved from 0.12536 to 0.12368, saving model to checkpoint_modelo_5.hdf5\n",
      "60000/60000 [==============================] - 43s - loss: 0.1264 - val_loss: 0.1237\n",
      "Epoch 93/100\n",
      "59904/60000 [============================>.] - ETA: 0s - loss: 0.1263Epoch 00092: val_loss did not improve\n",
      "60000/60000 [==============================] - 51s - loss: 0.1263 - val_loss: 0.1254\n",
      "Epoch 94/100\n",
      "59904/60000 [============================>.] - ETA: 0s - loss: 0.1263Epoch 00093: val_loss did not improve\n",
      "60000/60000 [==============================] - 45s - loss: 0.1263 - val_loss: 0.1246\n",
      "Epoch 95/100\n",
      "59904/60000 [============================>.] - ETA: 0s - loss: 0.1262Epoch 00094: val_loss improved from 0.12368 to 0.12364, saving model to checkpoint_modelo_5.hdf5\n",
      "60000/60000 [==============================] - 44s - loss: 0.1262 - val_loss: 0.1236\n",
      "Epoch 96/100\n",
      "59904/60000 [============================>.] - ETA: 0s - loss: 0.1261Epoch 00095: val_loss did not improve\n",
      "60000/60000 [==============================] - 42s - loss: 0.1261 - val_loss: 0.1264\n",
      "Epoch 97/100\n",
      "59904/60000 [============================>.] - ETA: 0s - loss: 0.1258Epoch 00096: val_loss did not improve\n",
      "60000/60000 [==============================] - 41s - loss: 0.1259 - val_loss: 0.1282\n",
      "Epoch 98/100\n",
      "59904/60000 [============================>.] - ETA: 0s - loss: 0.1256Epoch 00097: val_loss did not improve\n",
      "60000/60000 [==============================] - 42s - loss: 0.1256 - val_loss: 0.1243\n",
      "Epoch 99/100\n",
      "59904/60000 [============================>.] - ETA: 0s - loss: 0.1256Epoch 00098: val_loss did not improve\n",
      "60000/60000 [==============================] - 42s - loss: 0.1256 - val_loss: 0.1260\n",
      "Epoch 100/100\n",
      "59904/60000 [============================>.] - ETA: 0s - loss: 0.1257Epoch 00099: val_loss did not improve\n",
      "60000/60000 [==============================] - 42s - loss: 0.1257 - val_loss: 0.1256\n"
     ]
    }
   ],
   "source": [
    "history_model_5 = autoencoder_conv_denoise.fit(x_train_noisy_conv, x_train_conv,\n",
    "                                          epochs=100,\n",
    "                                          batch_size=256,\n",
    "                                          shuffle=True,\n",
    "                                          validation_data=(x_test_noisy_conv, x_test_conv),\n",
    "                                          callbacks=[checkpointer_5])"
   ]
  },
  {
   "cell_type": "code",
   "execution_count": 27,
   "metadata": {},
   "outputs": [
    {
     "data": {
      "image/png": "[encoded data removed]",
      "text/plain": [
       "<matplotlib.figure.Figure at 0x7f469c378e10>"
      ]
     },
     "metadata": {},
     "output_type": "display_data"
    }
   ],
   "source": [
    "# Grafico do treinamento\n",
    "plt.plot(history_model_5.history['loss'], 'b')\n",
    "plt.plot(history_model_5.history['val_loss'], 'r')\n",
    "plt.show()"
   ]
  },
  {
   "cell_type": "code",
   "execution_count": 29,
   "metadata": {
    "collapsed": true
   },
   "outputs": [],
   "source": [
    "decoded_imgs_conv_denoise = autoencoder_conv_denoise.predict(x_test_noisy_conv)"
   ]
  },
  {
   "cell_type": "code",
   "execution_count": 30,
   "metadata": {},
   "outputs": [
    {
     "data": {
      "image/png": "[encoded data removed]",
      "text/plain": [
       "<matplotlib.figure.Figure at 0x7f469c378438>"
      ]
     },
     "metadata": {},
     "output_type": "display_data"
    }
   ],
   "source": [
    "n = 15  # how many digits we will display\n",
    "plt.figure(figsize=(2*n, 4))\n",
    "for i in range(n):\n",
    "    # display original\n",
    "    ax = plt.subplot(2, n, i + 1)\n",
    "    plt.imshow(x_test_noisy[i].reshape(28, 28))\n",
    "    plt.gray()\n",
    "    ax.get_xaxis().set_visible(False)\n",
    "    ax.get_yaxis().set_visible(False)\n",
    "\n",
    "    # display reconstruction\n",
    "    ax = plt.subplot(2, n, i + 1 + n)\n",
    "    plt.imshow(decoded_imgs_conv_denoise[i].reshape(28, 28))\n",
    "    plt.gray()\n",
    "    ax.get_xaxis().set_visible(False)\n",
    "    ax.get_yaxis().set_visible(False)\n",
    "plt.show()"
   ]
  },
  {
   "cell_type": "code",
   "execution_count": null,
   "metadata": {
    "collapsed": true
   },
   "outputs": [],
   "source": []
  },
  {
   "cell_type": "code",
   "execution_count": null,
   "metadata": {
    "collapsed": true
   },
   "outputs": [],
   "source": []
  },
  {
   "cell_type": "code",
   "execution_count": null,
   "metadata": {
    "collapsed": true
   },
   "outputs": [],
   "source": []
  },
  {
   "cell_type": "markdown",
   "metadata": {},
   "source": [
    "#### Material de Referência e Consulta:\n",
    "* https://github.com/udacity/deep-learning/blob/master/autoencoder/Simple_Autoencoder_Solution.ipynb\n",
    "* https://blog.keras.io/building-autoencoders-in-keras.html\n",
    "* https://elitedatascience.com/keras-tutorial-deep-learning-in-python\n",
    "* http://blog.otoro.net/2016/04/01/generating-large-images-from-latent-vectors/\n",
    "* https://arxiv.org/pdf/1512.09300.pdf\n",
    "* https://arxiv.org/pdf/1312.6114.pdf"
   ]
  },
  {
   "cell_type": "code",
   "execution_count": null,
   "metadata": {
    "collapsed": true
   },
   "outputs": [],
   "source": []
  }
 ],
 "metadata": {
  "kernelspec": {
   "display_name": "Python 3.6",
   "language": "python",
   "name": "python36"
  },
  "language_info": {
   "codemirror_mode": {
    "name": "ipython",
    "version": 3
   },
   "file_extension": ".py",
   "mimetype": "text/x-python",
   "name": "python",
   "nbconvert_exporter": "python",
   "pygments_lexer": "ipython3",
   "version": "3.6.0"
  }
 },
 "nbformat": 4,
 "nbformat_minor": 2
}
