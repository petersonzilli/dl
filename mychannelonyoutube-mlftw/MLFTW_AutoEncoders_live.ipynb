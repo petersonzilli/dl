{
 "cells": [
  {
   "cell_type": "markdown",
   "metadata": {
    "collapsed": true
   },
   "source": [
    "<br><font size=\"8\">MLFTW<br><br><strong>AutoEncoders</strong></font>\n",
    "\n",
    "por Peterson Katagiri Zilli (<peterson.zilli@gmail.com>) - 2017/10/12<br>"
   ]
  },
  {
   "cell_type": "markdown",
   "metadata": {},
   "source": [
    "Abordamos Autoencoders sobre o dataset de dígitos escritos a mão MNIST.\n",
    "\n",
    "O vídeo deste tutorial está disponível **em breve**. Também faremos um _teaser_ ou resumo do vídeo para falar dos pontos que abordamos neste par de vídeos.\n",
    "\n",
    "Dois pontos antes de começarmos:\n",
    "* O objetivo do MLFTW é dividir e gerar conhecimento sobre Aprendizado de Máquina e assuntos afins.\n",
    "* O Cientista desenvolve [3 áreas de conhecimento](https://www.oreilly.com/ideas/beyond-the-venn-diagram): Matemática/Estatistica, Hacking Skills/Programação e Conhecimento do Domínio do Problema."
   ]
  },
  {
   "cell_type": "markdown",
   "metadata": {},
   "source": [
    "## Nossas Ferramentas"
   ]
  },
  {
   "cell_type": "markdown",
   "metadata": {},
   "source": [
    "<img src=\"assets/jupyter.jpg\" alt=\"Jupyter Logo\" style=\"height: 100px; display: inline; margin: 0 5px;\"/>\n",
    "<img src=\"assets/pythonlogo.png\" alt=\"Python Logo\" style=\"height: 100px; display: inline; margin: 0 5px;\"/>\n",
    "<img src=\"assets/numpy.jpg\" alt=\"Numpy Logo\" style=\"height: 120px; display: inline; margin: 0 5px;\"/>\n",
    "<img src=\"https://www.tensorflow.org/_static/images/tensorflow/logo.png\" alt=\"Tensoflow Logo\" style=\"height: 100px; display: inline; margin: 0 5px;\"/>\n",
    "<img src=\"assets/matplotlib.svg\" alt=\"Matplotlib Logo\" style=\"height: 80px; display: inline; margin: 0 5px;\"/>\n",
    "<img src=\"http://www.dobitaobyte.com.br/wp-content/uploads/2016/10/keras0.png\" alt=\"Keras Logo\" style=\"height: 100px; display: inline; margin: 0 5px;\"/>\n",
    "\n",
    "\n",
    "* **jupyter**: é esta aplicação web que permite criar e compartilhar documentos que contém código executável em python e outras linguagens.\n",
    "* **python**: nossa linguagem de programação que cola tudo.\n",
    "* **numpy**: é um pacote do Python que adiciona suporte a matrizes multidimensionais e vetores e também uma série de funções de alto nível que operam sobre estes objetos.\n",
    "* **matplotlib**: é uma biblioteca para plotar gráficos\n",
    "* **TensorFlow**: uma biblioteca open-source de funções para Machine Learing entre outros usos.\n",
    "* **Keras**: uma biblioteca de funções mas abstratas para Machine Learning que funciona sobre TensorFlow (entre outros...). Simplifica nosso desenvolvimento do modelo!\n",
    "\n",
    "\n",
    "\n",
    "### Você pode executar todo este tutorial a partir de servidores na Azure!\n",
    "\n",
    "Para isso:\n",
    "* Crie uma conta no [Azure Notebooks](https://notebooks.azure.com) (se você já tem uma conta da Microsoft é só logar com ela!)\n",
    "* Entre na minha Library pública [https://notebooks.azure.com/**petersonzilli/libraries/mlftw**](https://notebooks.azure.com/petersonzilli/libraries/mlftw)\n",
    "* Clone a Library para o seu espaço na Azure. Assim você terá o notebook *MLFTW_AutoEncoders.ipynb* na Sua Library\n",
    "\n",
    "Criar e Executar Notebooks na Azure Notebooks **É gratuíto!**"
   ]
  },
  {
   "cell_type": "markdown",
   "metadata": {},
   "source": [
    "# O que são AutoEncoders e para que servem?"
   ]
  },
  {
   "cell_type": "markdown",
   "metadata": {},
   "source": [
    "O que são:\n",
    "![](http://nghiaho.com/wp-content/uploads/2012/12/autoencoder_network1.png)\n",
    "\n",
    "Para que servem:\n",
    "* ~~Compressão de Dados~~\n",
    "* Redução de Dimensionalidade e [Semantic Hashing](http://www.cs.toronto.edu/~amnih/cifar/talks/salakhut_talk.pdf)\n",
    "* É base para arquiteturas campeãs em Segmentação de Imagens como as [U-NETs](https://image.slidesharecdn.com/dlsl2017d2l6advanceddeeparchitectures-170125171011/95/advanced-deep-architectures-d2l6-deep-learning-for-speech-and-language-upc-2017-17-638.jpg?cb=1485364567)...\n",
    "* [Detecção de Anomalias](https://shiring.github.io/machine_learning/2017/05/01/fraud) e [Fraudes em Cartões de Crédito](https://medium.com/@curiousily/credit-card-fraud-detection-using-autoencoders-in-keras-tensorflow-for-hackers-part-vii-20e0c85301bd)\n",
    "* Modelos Generativos para imagens com controle do \"o quê\" e do \"como\" é gerado - com [Varational Auto Encoders](http://kvfrans.com/variational-autoencoders-explained/)\n",
    "* Eliminar Ruídos - A gente tem um exemplo aqui."
   ]
  },
  {
   "cell_type": "markdown",
   "metadata": {},
   "source": [
    "# Importando as bibliotecas"
   ]
  },
  {
   "cell_type": "code",
   "execution_count": 1,
   "metadata": {
    "collapsed": true
   },
   "outputs": [],
   "source": [
    "import numpy as np\n",
    "np.random.seed(0)"
   ]
  },
  {
   "cell_type": "code",
   "execution_count": 2,
   "metadata": {},
   "outputs": [
    {
     "name": "stderr",
     "output_type": "stream",
     "text": [
      "Using TensorFlow backend.\n"
     ]
    }
   ],
   "source": [
    "from keras import backend as K\n",
    "from keras import regularizers\n",
    "from keras.callbacks import ModelCheckpoint\n",
    "from keras.datasets import mnist\n",
    "from keras.layers import Input, Dense, Flatten, Conv2D, MaxPooling2D, UpSampling2D\n",
    "from keras.models import Model, Sequential\n",
    "from keras.utils import np_utils"
   ]
  },
  {
   "cell_type": "code",
   "execution_count": 4,
   "metadata": {
    "collapsed": true
   },
   "outputs": [],
   "source": [
    "import matplotlib.pyplot as plt\n",
    "%matplotlib inline"
   ]
  },
  {
   "cell_type": "markdown",
   "metadata": {},
   "source": [
    "## Explorando o Conjunto de Dados"
   ]
  },
  {
   "cell_type": "markdown",
   "metadata": {},
   "source": [
    "Vamos usar o dataset do [MNIST](https://www.tensorflow.org/get_started/mnist/beginners)"
   ]
  },
  {
   "cell_type": "code",
   "execution_count": 5,
   "metadata": {},
   "outputs": [],
   "source": [
    "(x_train_orig, _), (x_test_orig, _) = mnist.load_data()"
   ]
  },
  {
   "cell_type": "code",
   "execution_count": 6,
   "metadata": {},
   "outputs": [
    {
     "data": {
      "text/plain": [
       "((60000, 28, 28), (10000, 28, 28))"
      ]
     },
     "execution_count": 6,
     "metadata": {},
     "output_type": "execute_result"
    }
   ],
   "source": [
    "x_train_orig.shape, x_test_orig.shape"
   ]
  },
  {
   "cell_type": "code",
   "execution_count": 9,
   "metadata": {},
   "outputs": [
    {
     "data": {
      "text/plain": [
       "<matplotlib.image.AxesImage at 0x7f2ccdd98160>"
      ]
     },
     "execution_count": 9,
     "metadata": {},
     "output_type": "execute_result"
    },
    {
     "data": {
      "image/png": "[encoded data removed]",
      "text/plain": [
       "<matplotlib.figure.Figure at 0x7f2ccde133c8>"
      ]
     },
     "metadata": {},
     "output_type": "display_data"
    }
   ],
   "source": [
    "plt.imshow(x_train_orig[12], cmap='Greys_r')"
   ]
  },
  {
   "cell_type": "code",
   "execution_count": 7,
   "metadata": {
    "scrolled": true
   },
   "outputs": [
    {
     "data": {
      "image/png": "[encoded data removed]",
      "text/plain": [
       "<matplotlib.figure.Figure at 0x7f469fbc89e8>"
      ]
     },
     "metadata": {},
     "output_type": "display_data"
    }
   ],
   "source": [
    "n = 15  # how many digits we will display\n",
    "plt.figure(figsize=(n*2, 4))\n",
    "for i in range(n):\n",
    "    ax = plt.subplot(2, n, i + 1)\n",
    "    plt.imshow(x_train_orig[i])\n",
    "    plt.gray()\n",
    "    ax.get_xaxis().set_visible(False)\n",
    "    ax.get_yaxis().set_visible(False)\n",
    "plt.show()"
   ]
  },
  {
   "cell_type": "code",
   "execution_count": 10,
   "metadata": {},
   "outputs": [
    {
     "data": {
      "text/plain": [
       "(0, 255)"
      ]
     },
     "execution_count": 10,
     "metadata": {},
     "output_type": "execute_result"
    }
   ],
   "source": [
    "img = x_train_orig[0]\n",
    "img.min(), img.max()"
   ]
  },
  {
   "cell_type": "markdown",
   "metadata": {},
   "source": [
    "### Escalando os dados"
   ]
  },
  {
   "cell_type": "code",
   "execution_count": 11,
   "metadata": {
    "collapsed": true
   },
   "outputs": [],
   "source": [
    "x_train_orig = x_train_orig.astype('float32') / 255.\n",
    "x_test_orig = x_test_orig.astype('float32') / 255."
   ]
  },
  {
   "cell_type": "code",
   "execution_count": 12,
   "metadata": {},
   "outputs": [
    {
     "data": {
      "image/png": "[encoded data removed]",
      "text/plain": [
       "<matplotlib.figure.Figure at 0x7f2ccde53d68>"
      ]
     },
     "metadata": {},
     "output_type": "display_data"
    }
   ],
   "source": [
    "n = 15  # how many digits we will display\n",
    "plt.figure(figsize=(n*2, 4))\n",
    "for i in range(n):\n",
    "    ax = plt.subplot(2, n, i + 1)\n",
    "    plt.imshow(x_train_orig[i])\n",
    "    plt.gray()\n",
    "    ax.get_xaxis().set_visible(False)\n",
    "    ax.get_yaxis().set_visible(False)\n",
    "plt.show()"
   ]
  },
  {
   "cell_type": "code",
   "execution_count": 13,
   "metadata": {},
   "outputs": [
    {
     "data": {
      "text/plain": [
       "(0.0, 1.0)"
      ]
     },
     "execution_count": 13,
     "metadata": {},
     "output_type": "execute_result"
    }
   ],
   "source": [
    "img = x_train_orig[0]\n",
    "img.min(), img.max()"
   ]
  },
  {
   "cell_type": "markdown",
   "metadata": {},
   "source": [
    "### Adicionando ruído ao dataset"
   ]
  },
  {
   "cell_type": "code",
   "execution_count": 14,
   "metadata": {
    "collapsed": true
   },
   "outputs": [],
   "source": [
    "noise_factor = 0.5\n",
    "x_train_noisy = np.clip(x_train_orig + noise_factor * np.random.normal(loc=0.0, scale=1.0, size=x_train_orig.shape), 0, 1)\n",
    "x_test_noisy = np.clip(x_test_orig + noise_factor * np.random.normal(loc=0.0, scale=1.0, size=x_test_orig.shape), 0, 1)"
   ]
  },
  {
   "cell_type": "code",
   "execution_count": 15,
   "metadata": {},
   "outputs": [
    {
     "data": {
      "image/png": "[encoded data removed]",
      "text/plain": [
       "<matplotlib.figure.Figure at 0x7f2cd3915f60>"
      ]
     },
     "metadata": {},
     "output_type": "display_data"
    }
   ],
   "source": [
    "n = 15  # how many digits we will display\n",
    "plt.figure(figsize=(n*2, 4))\n",
    "for i in range(n):\n",
    "    # display original\n",
    "    ax = plt.subplot(2, n, i + 1)\n",
    "    plt.imshow(x_train_orig[i])\n",
    "    plt.gray()\n",
    "    ax.get_xaxis().set_visible(False)\n",
    "    ax.get_yaxis().set_visible(False)\n",
    "\n",
    "    # display noisy\n",
    "    ax = plt.subplot(2, n, i + 1 + n)\n",
    "    plt.imshow(x_train_noisy[i])\n",
    "    plt.gray()\n",
    "    ax.get_xaxis().set_visible(False)\n",
    "    ax.get_yaxis().set_visible(False)\n",
    "plt.show()"
   ]
  },
  {
   "cell_type": "code",
   "execution_count": 16,
   "metadata": {},
   "outputs": [
    {
     "data": {
      "text/plain": [
       "((60000, 28, 28), (10000, 28, 28))"
      ]
     },
     "execution_count": 16,
     "metadata": {},
     "output_type": "execute_result"
    }
   ],
   "source": [
    "x_train_orig.shape, x_test_noisy.shape"
   ]
  },
  {
   "cell_type": "markdown",
   "metadata": {},
   "source": [
    "### Transformando Cada imagem de 28 x 28 em um vetor de 784 "
   ]
  },
  {
   "cell_type": "code",
   "execution_count": 18,
   "metadata": {
    "collapsed": true
   },
   "outputs": [],
   "source": [
    "x_train = x_train_orig.reshape((len(x_train_orig), np.prod(x_train_orig.shape[1:])))\n",
    "x_test = x_test_orig.reshape((len(x_test_orig), np.prod(x_test_orig.shape[1:])))"
   ]
  },
  {
   "cell_type": "code",
   "execution_count": 19,
   "metadata": {},
   "outputs": [
    {
     "data": {
      "text/plain": [
       "(60000, 784)"
      ]
     },
     "execution_count": 19,
     "metadata": {},
     "output_type": "execute_result"
    }
   ],
   "source": [
    "x_train.shape"
   ]
  },
  {
   "cell_type": "code",
   "execution_count": 20,
   "metadata": {
    "collapsed": true
   },
   "outputs": [],
   "source": [
    "x_train_conv = x_train_orig.reshape(-1,28,28,1)\n",
    "x_test_conv = x_test_orig.reshape(-1,28,28,1)\n",
    "x_train_noisy_conv = x_train_noisy.reshape(-1,28,28,1)\n",
    "x_test_noisy_conv = x_test_noisy.reshape(-1,28,28,1)"
   ]
  },
  {
   "cell_type": "code",
   "execution_count": 21,
   "metadata": {},
   "outputs": [
    {
     "data": {
      "text/plain": [
       "(60000, 28, 28, 1)"
      ]
     },
     "execution_count": 21,
     "metadata": {},
     "output_type": "execute_result"
    }
   ],
   "source": [
    "x_train_conv.shape"
   ]
  },
  {
   "cell_type": "markdown",
   "metadata": {},
   "source": [
    "# Modelo 1: Fully Connected Neural Network de Apenas 1 camada"
   ]
  },
  {
   "cell_type": "markdown",
   "metadata": {},
   "source": [
    "![](https://www.researchgate.net/publication/318204554/figure/fig1/AS:512595149770752@1499223615487/Fig-1-Autoencoder-architecture.png)"
   ]
  },
  {
   "cell_type": "code",
   "execution_count": 22,
   "metadata": {
    "collapsed": true
   },
   "outputs": [],
   "source": [
    "encoding_dim = 32\n",
    "image_dim = x_train.shape[1]"
   ]
  },
  {
   "cell_type": "code",
   "execution_count": 28,
   "metadata": {},
   "outputs": [
    {
     "data": {
      "text/plain": [
       "784"
      ]
     },
     "execution_count": 28,
     "metadata": {},
     "output_type": "execute_result"
    }
   ],
   "source": [
    "image_dim"
   ]
  },
  {
   "cell_type": "code",
   "execution_count": 29,
   "metadata": {
    "collapsed": true
   },
   "outputs": [],
   "source": [
    "input_img = Input(shape=(image_dim,))"
   ]
  },
  {
   "cell_type": "code",
   "execution_count": 30,
   "metadata": {
    "collapsed": true
   },
   "outputs": [],
   "source": [
    "encoded = Dense(encoding_dim, activation='relu')(input_img)\n",
    "decoded = Dense(image_dim, activation='sigmoid')(encoded)\n",
    "autoencoder = Model(input_img, decoded)"
   ]
  },
  {
   "cell_type": "code",
   "execution_count": 31,
   "metadata": {
    "collapsed": true
   },
   "outputs": [],
   "source": [
    "encoder = Model(input_img, encoded)"
   ]
  },
  {
   "cell_type": "code",
   "execution_count": 32,
   "metadata": {
    "collapsed": true
   },
   "outputs": [],
   "source": [
    "encoded_input = Input(shape=(encoding_dim,))\n",
    "decoder_layer = autoencoder.layers[-1]\n",
    "decoder = Model(encoded_input, decoder_layer(encoded_input))"
   ]
  },
  {
   "cell_type": "code",
   "execution_count": 33,
   "metadata": {
    "collapsed": true
   },
   "outputs": [],
   "source": [
    "# carregando o modelo, se necessário\n",
    "#autoencoder.load_weights('checkpoint_modelo_1.hdf5')"
   ]
  },
  {
   "cell_type": "code",
   "execution_count": 34,
   "metadata": {
    "collapsed": true
   },
   "outputs": [],
   "source": [
    "autoencoder.compile(optimizer='adam', loss='binary_crossentropy')"
   ]
  },
  {
   "cell_type": "code",
   "execution_count": 35,
   "metadata": {},
   "outputs": [
    {
     "name": "stdout",
     "output_type": "stream",
     "text": [
      "_________________________________________________________________\n",
      "Layer (type)                 Output Shape              Param #   \n",
      "=================================================================\n",
      "input_3 (InputLayer)         (None, 784)               0         \n",
      "_________________________________________________________________\n",
      "dense_3 (Dense)              (None, 32)                25120     \n",
      "_________________________________________________________________\n",
      "dense_4 (Dense)              (None, 784)               25872     \n",
      "=================================================================\n",
      "Total params: 50,992\n",
      "Trainable params: 50,992\n",
      "Non-trainable params: 0\n",
      "_________________________________________________________________\n"
     ]
    }
   ],
   "source": [
    "autoencoder.summary()"
   ]
  },
  {
   "cell_type": "code",
   "execution_count": 36,
   "metadata": {
    "collapsed": true
   },
   "outputs": [],
   "source": [
    "checkpointer_1 = ModelCheckpoint(filepath='checkpoint_modelo_1_live.hdf5', verbose=1, save_best_only=True)"
   ]
  },
  {
   "cell_type": "code",
   "execution_count": 37,
   "metadata": {},
   "outputs": [
    {
     "name": "stdout",
     "output_type": "stream",
     "text": [
      "Train on 60000 samples, validate on 10000 samples\n",
      "Epoch 1/10\n",
      "59904/60000 [============================>.] - ETA: 0s - loss: 0.2744Epoch 00000: val_loss improved from inf to 0.18966, saving model to checkpoint_modelo_1_live.hdf5\n",
      "60000/60000 [==============================] - 4s - loss: 0.2743 - val_loss: 0.1897\n",
      "Epoch 2/10\n",
      "59136/60000 [============================>.] - ETA: 0s - loss: 0.1711Epoch 00001: val_loss improved from 0.18966 to 0.15432, saving model to checkpoint_modelo_1_live.hdf5\n",
      "60000/60000 [==============================] - 4s - loss: 0.1709 - val_loss: 0.1543\n",
      "Epoch 3/10\n",
      "59904/60000 [============================>.] - ETA: 0s - loss: 0.1447Epoch 00002: val_loss improved from 0.15432 to 0.13410, saving model to checkpoint_modelo_1_live.hdf5\n",
      "60000/60000 [==============================] - 4s - loss: 0.1447 - val_loss: 0.1341\n",
      "Epoch 4/10\n",
      "59648/60000 [============================>.] - ETA: 0s - loss: 0.1288Epoch 00003: val_loss improved from 0.13410 to 0.12198, saving model to checkpoint_modelo_1_live.hdf5\n",
      "60000/60000 [==============================] - 4s - loss: 0.1287 - val_loss: 0.1220\n",
      "Epoch 5/10\n",
      "59136/60000 [============================>.] - ETA: 0s - loss: 0.1190Epoch 00004: val_loss improved from 0.12198 to 0.11401, saving model to checkpoint_modelo_1_live.hdf5\n",
      "60000/60000 [==============================] - 4s - loss: 0.1189 - val_loss: 0.1140\n",
      "Epoch 6/10\n",
      "59904/60000 [============================>.] - ETA: 0s - loss: 0.1123Epoch 00005: val_loss improved from 0.11401 to 0.10836, saving model to checkpoint_modelo_1_live.hdf5\n",
      "60000/60000 [==============================] - 4s - loss: 0.1123 - val_loss: 0.1084\n",
      "Epoch 7/10\n",
      "59648/60000 [============================>.] - ETA: 0s - loss: 0.1072Epoch 00006: val_loss improved from 0.10836 to 0.10376, saving model to checkpoint_modelo_1_live.hdf5\n",
      "60000/60000 [==============================] - 4s - loss: 0.1072 - val_loss: 0.1038\n",
      "Epoch 8/10\n",
      "59392/60000 [============================>.] - ETA: 0s - loss: 0.1033Epoch 00007: val_loss improved from 0.10376 to 0.10051, saving model to checkpoint_modelo_1_live.hdf5\n",
      "60000/60000 [==============================] - 4s - loss: 0.1033 - val_loss: 0.1005\n",
      "Epoch 9/10\n",
      "59648/60000 [============================>.] - ETA: 0s - loss: 0.1004Epoch 00008: val_loss improved from 0.10051 to 0.09803, saving model to checkpoint_modelo_1_live.hdf5\n",
      "60000/60000 [==============================] - 4s - loss: 0.1004 - val_loss: 0.0980\n",
      "Epoch 10/10\n",
      "59392/60000 [============================>.] - ETA: 0s - loss: 0.0983Epoch 00009: val_loss improved from 0.09803 to 0.09609, saving model to checkpoint_modelo_1_live.hdf5\n",
      "60000/60000 [==============================] - 4s - loss: 0.0982 - val_loss: 0.0961\n"
     ]
    }
   ],
   "source": [
    "history_model_1 = autoencoder.fit(x_train, x_train,\n",
    "                                  epochs=10,\n",
    "                                  batch_size=256,\n",
    "                                  shuffle=True,\n",
    "                                  validation_data=(x_test, x_test),\n",
    "                                  callbacks=[checkpointer_1])"
   ]
  },
  {
   "cell_type": "code",
   "execution_count": 39,
   "metadata": {
    "collapsed": true
   },
   "outputs": [],
   "source": [
    "encoded_imgs = encoder.predict(x_test)\n",
    "decoded_imgs = decoder.predict(encoded_imgs)"
   ]
  },
  {
   "cell_type": "code",
   "execution_count": 41,
   "metadata": {},
   "outputs": [
    {
     "data": {
      "text/plain": [
       "(10000, 32)"
      ]
     },
     "execution_count": 41,
     "metadata": {},
     "output_type": "execute_result"
    }
   ],
   "source": [
    "encoded_imgs.shape"
   ]
  },
  {
   "cell_type": "code",
   "execution_count": 43,
   "metadata": {},
   "outputs": [],
   "source": [
    "decoded_imgs = autoencoder.predict(x_test)"
   ]
  },
  {
   "cell_type": "code",
   "execution_count": 44,
   "metadata": {},
   "outputs": [
    {
     "data": {
      "image/png": "[encoded data removed]",
      "text/plain": [
       "<matplotlib.figure.Figure at 0x7f2cd66cde48>"
      ]
     },
     "metadata": {},
     "output_type": "display_data"
    }
   ],
   "source": [
    "n = 15  # how many digits we will display\n",
    "plt.figure(figsize=(2*n, 4))\n",
    "for i in range(n):\n",
    "    # display original\n",
    "    ax = plt.subplot(2, n, i + 1)\n",
    "    plt.imshow(x_test[i].reshape(28, 28))\n",
    "    plt.gray()\n",
    "    ax.get_xaxis().set_visible(False)\n",
    "    ax.get_yaxis().set_visible(False)\n",
    "\n",
    "    # display reconstruction\n",
    "    ax = plt.subplot(2, n, i + 1 + n)\n",
    "    plt.imshow(decoded_imgs[i].reshape(28, 28))\n",
    "    plt.gray()\n",
    "    ax.get_xaxis().set_visible(False)\n",
    "    ax.get_yaxis().set_visible(False)\n",
    "plt.show()"
   ]
  },
  {
   "cell_type": "code",
   "execution_count": 45,
   "metadata": {},
   "outputs": [
    {
     "data": {
      "image/png": "[encoded data removed]",
      "text/plain": [
       "<matplotlib.figure.Figure at 0x7f2cd66d4d68>"
      ]
     },
     "metadata": {},
     "output_type": "display_data"
    }
   ],
   "source": [
    "# Grafico do treinamento\n",
    "plt.plot(history_model_1.history['loss'], 'b')\n",
    "plt.plot(history_model_1.history['val_loss'], 'r')\n",
    "plt.show()"
   ]
  },
  {
   "cell_type": "markdown",
   "metadata": {},
   "source": [
    "# Modelo 2: Fully Connected Neural Network de Apenas 1 camada com Regularização L1"
   ]
  },
  {
   "cell_type": "markdown",
   "metadata": {},
   "source": [
    "Os regularizadores permitem aplicar penalidades nos parâmetros do layer durante a etapa de otimização. As penalidades são incorporadas na função de custo que a rede otimiza."
   ]
  },
  {
   "cell_type": "code",
   "execution_count": 46,
   "metadata": {
    "collapsed": true
   },
   "outputs": [],
   "source": [
    "input_img = Input(shape=(image_dim,))\n",
    "\n",
    "encoded_reg = Dense(32, activation='relu', activity_regularizer=regularizers.l1(5*10e-8))(input_img)\n",
    "decoded_reg = Dense(784, activation='sigmoid')(encoded_reg)\n",
    "\n",
    "autoencoder_reg = Model(input_img, decoded_reg)"
   ]
  },
  {
   "cell_type": "code",
   "execution_count": 47,
   "metadata": {
    "collapsed": true
   },
   "outputs": [],
   "source": [
    "# carregando o modelo, se necessário\n",
    "#autoencoder.load_weights('checkpoint_modelo_2.hdf5')"
   ]
  },
  {
   "cell_type": "code",
   "execution_count": 48,
   "metadata": {
    "collapsed": true
   },
   "outputs": [],
   "source": [
    "autoencoder_reg.compile(optimizer='adadelta', loss='binary_crossentropy')"
   ]
  },
  {
   "cell_type": "code",
   "execution_count": 49,
   "metadata": {},
   "outputs": [
    {
     "name": "stdout",
     "output_type": "stream",
     "text": [
      "_________________________________________________________________\n",
      "Layer (type)                 Output Shape              Param #   \n",
      "=================================================================\n",
      "input_5 (InputLayer)         (None, 784)               0         \n",
      "_________________________________________________________________\n",
      "dense_5 (Dense)              (None, 32)                25120     \n",
      "_________________________________________________________________\n",
      "dense_6 (Dense)              (None, 784)               25872     \n",
      "=================================================================\n",
      "Total params: 50,992\n",
      "Trainable params: 50,992\n",
      "Non-trainable params: 0\n",
      "_________________________________________________________________\n"
     ]
    }
   ],
   "source": [
    "autoencoder_reg.summary()"
   ]
  },
  {
   "cell_type": "markdown",
   "metadata": {},
   "source": [
    "O modelo com regularização geralmente é menos passível de _overfitting_ e pode ser treinado por mais tempo. "
   ]
  },
  {
   "cell_type": "code",
   "execution_count": 50,
   "metadata": {
    "collapsed": true
   },
   "outputs": [],
   "source": [
    "checkpointer_2 = ModelCheckpoint(filepath='checkpoint_modelo_2.hdf5', verbose=1, save_best_only=True)"
   ]
  },
  {
   "cell_type": "code",
   "execution_count": 51,
   "metadata": {
    "scrolled": true
   },
   "outputs": [
    {
     "name": "stdout",
     "output_type": "stream",
     "text": [
      "Train on 60000 samples, validate on 10000 samples\n",
      "Epoch 1/5\n",
      "58624/60000 [============================>.] - ETA: 0s - loss: 0.3896Epoch 00000: val_loss improved from inf to 0.28403, saving model to checkpoint_modelo_2.hdf5\n",
      "60000/60000 [==============================] - 3s - loss: 0.3872 - val_loss: 0.2840\n",
      "Epoch 2/5\n",
      "58624/60000 [============================>.] - ETA: 0s - loss: 0.2775Epoch 00001: val_loss improved from 0.28403 to 0.26830, saving model to checkpoint_modelo_2.hdf5\n",
      "60000/60000 [==============================] - 2s - loss: 0.2774 - val_loss: 0.2683\n",
      "Epoch 3/5\n",
      "59904/60000 [============================>.] - ETA: 0s - loss: 0.2601Epoch 00002: val_loss improved from 0.26830 to 0.24922, saving model to checkpoint_modelo_2.hdf5\n",
      "60000/60000 [==============================] - 2s - loss: 0.2601 - val_loss: 0.2492\n",
      "Epoch 4/5\n",
      "59136/60000 [============================>.] - ETA: 0s - loss: 0.2422Epoch 00003: val_loss improved from 0.24922 to 0.23200, saving model to checkpoint_modelo_2.hdf5\n",
      "60000/60000 [==============================] - 2s - loss: 0.2420 - val_loss: 0.2320\n",
      "Epoch 5/5\n",
      "59904/60000 [============================>.] - ETA: 0s - loss: 0.2265Epoch 00004: val_loss improved from 0.23200 to 0.21824, saving model to checkpoint_modelo_2.hdf5\n",
      "60000/60000 [==============================] - 2s - loss: 0.2264 - val_loss: 0.2182\n"
     ]
    }
   ],
   "source": [
    "history_model_2 = autoencoder_reg.fit(x_train, x_train,\n",
    "                                    epochs=5,\n",
    "                                    batch_size=256,\n",
    "                                    shuffle=True,\n",
    "                                    validation_data=(x_test, x_test),\n",
    "                                    callbacks=[checkpointer_2])"
   ]
  },
  {
   "cell_type": "code",
   "execution_count": 52,
   "metadata": {},
   "outputs": [
    {
     "data": {
      "image/png": "[encoded data removed]",
      "text/plain": [
       "<matplotlib.figure.Figure at 0x7f2cd39ce320>"
      ]
     },
     "metadata": {},
     "output_type": "display_data"
    }
   ],
   "source": [
    "# Grafico do treinamento\n",
    "plt.plot(history_model_2.history['loss'], 'b')\n",
    "plt.plot(history_model_2.history['val_loss'], 'r')\n",
    "plt.show()"
   ]
  },
  {
   "cell_type": "code",
   "execution_count": 53,
   "metadata": {
    "collapsed": true
   },
   "outputs": [],
   "source": [
    "encoder_reg = Model(input_img, encoded_reg)"
   ]
  },
  {
   "cell_type": "code",
   "execution_count": 54,
   "metadata": {
    "collapsed": true
   },
   "outputs": [],
   "source": [
    "#encoded_input = Input(shape=(encoding_dim,))\n",
    "decoder_layer_reg = autoencoder_reg.layers[-1]\n",
    "decoder_reg = Model(encoded_input, decoder_layer_reg(encoded_input))"
   ]
  },
  {
   "cell_type": "code",
   "execution_count": 55,
   "metadata": {
    "collapsed": true
   },
   "outputs": [],
   "source": [
    "encoded_imgs_reg = encoder_reg.predict(x_test)\n",
    "decoded_imgs_reg = decoder_reg.predict(encoded_imgs_reg)"
   ]
  },
  {
   "cell_type": "code",
   "execution_count": 56,
   "metadata": {},
   "outputs": [
    {
     "data": {
      "image/png": "[encoded data removed]",
      "text/plain": [
       "<matplotlib.figure.Figure at 0x7f2ccddd8320>"
      ]
     },
     "metadata": {},
     "output_type": "display_data"
    }
   ],
   "source": [
    "n = 15  # how many digits we will display\n",
    "plt.figure(figsize=(2*n, 4))\n",
    "for i in range(n):\n",
    "    # display original\n",
    "    ax = plt.subplot(2, n, i + 1)\n",
    "    plt.imshow(x_test[i].reshape(28, 28))\n",
    "    plt.gray()\n",
    "    ax.get_xaxis().set_visible(False)\n",
    "    ax.get_yaxis().set_visible(False)\n",
    "\n",
    "    # display reconstruction\n",
    "    ax = plt.subplot(2, n, i + 1 + n)\n",
    "    plt.imshow(decoded_imgs_reg[i].reshape(28, 28))\n",
    "    plt.gray()\n",
    "    ax.get_xaxis().set_visible(False)\n",
    "    ax.get_yaxis().set_visible(False)\n",
    "plt.show()"
   ]
  },
  {
   "cell_type": "markdown",
   "metadata": {},
   "source": [
    "Não há muita diferença na função de custo... A diferença maior é que a representação das imagens _encodadas_ é mais esparsa."
   ]
  },
  {
   "cell_type": "code",
   "execution_count": 57,
   "metadata": {},
   "outputs": [
    {
     "data": {
      "text/plain": [
       "7.6598415"
      ]
     },
     "execution_count": 57,
     "metadata": {},
     "output_type": "execute_result"
    }
   ],
   "source": [
    "encoded_imgs.mean()"
   ]
  },
  {
   "cell_type": "code",
   "execution_count": 59,
   "metadata": {},
   "outputs": [
    {
     "data": {
      "text/plain": [
       "2.6181159"
      ]
     },
     "execution_count": 59,
     "metadata": {},
     "output_type": "execute_result"
    }
   ],
   "source": [
    "encoded_imgs_reg.mean()"
   ]
  },
  {
   "cell_type": "markdown",
   "metadata": {},
   "source": [
    "# Modelo 3: Deep Neural Network de 6 camadas Totalmente Conectadas\n"
   ]
  },
  {
   "cell_type": "code",
   "execution_count": 60,
   "metadata": {
    "collapsed": true
   },
   "outputs": [],
   "source": [
    "#input_img = Input(shape=(image_dim,))\n",
    "\n",
    "encoded_deep = Dense(128, activation='relu')(input_img)\n",
    "encoded_deep = Dense(64, activation='relu')(encoded_deep)\n",
    "encoded_deep = Dense(32, activation='relu')(encoded_deep)\n",
    "\n",
    "decoded_deep = Dense(64, activation='relu')(encoded_deep)\n",
    "decoded_deep = Dense(128, activation='relu')(decoded_deep)\n",
    "decoded_deep = Dense(784, activation='sigmoid')(decoded_deep)\n",
    "\n",
    "autoencoder_deep = Model(input_img, decoded_deep)"
   ]
  },
  {
   "cell_type": "code",
   "execution_count": 61,
   "metadata": {
    "collapsed": true
   },
   "outputs": [],
   "source": [
    "# carregando o modelo, se necessário\n",
    "#autoencoder.load_weights('checkpoint_modelo_3.hdf5')"
   ]
  },
  {
   "cell_type": "code",
   "execution_count": 62,
   "metadata": {
    "collapsed": true
   },
   "outputs": [],
   "source": [
    "autoencoder_deep.compile(optimizer='adadelta', loss='binary_crossentropy')"
   ]
  },
  {
   "cell_type": "code",
   "execution_count": 64,
   "metadata": {},
   "outputs": [
    {
     "name": "stdout",
     "output_type": "stream",
     "text": [
      "_________________________________________________________________\n",
      "Layer (type)                 Output Shape              Param #   \n",
      "=================================================================\n",
      "input_5 (InputLayer)         (None, 784)               0         \n",
      "_________________________________________________________________\n",
      "dense_7 (Dense)              (None, 128)               100480    \n",
      "_________________________________________________________________\n",
      "dense_8 (Dense)              (None, 64)                8256      \n",
      "_________________________________________________________________\n",
      "dense_9 (Dense)              (None, 32)                2080      \n",
      "_________________________________________________________________\n",
      "dense_10 (Dense)             (None, 64)                2112      \n",
      "_________________________________________________________________\n",
      "dense_11 (Dense)             (None, 128)               8320      \n",
      "_________________________________________________________________\n",
      "dense_12 (Dense)             (None, 784)               101136    \n",
      "=================================================================\n",
      "Total params: 222,384\n",
      "Trainable params: 222,384\n",
      "Non-trainable params: 0\n",
      "_________________________________________________________________\n"
     ]
    }
   ],
   "source": [
    "autoencoder_deep.summary()"
   ]
  },
  {
   "cell_type": "code",
   "execution_count": 65,
   "metadata": {
    "collapsed": true
   },
   "outputs": [],
   "source": [
    "checkpointer_3 = ModelCheckpoint(filepath='checkpoint_modelo_3_live.hdf5', verbose=1, save_best_only=True)"
   ]
  },
  {
   "cell_type": "code",
   "execution_count": 66,
   "metadata": {
    "scrolled": false
   },
   "outputs": [
    {
     "name": "stdout",
     "output_type": "stream",
     "text": [
      "Train on 60000 samples, validate on 10000 samples\n",
      "Epoch 1/3\n",
      "59136/60000 [============================>.] - ETA: 0s - loss: 0.3462Epoch 00000: val_loss improved from inf to 0.26310, saving model to checkpoint_modelo_3_live.hdf5\n",
      "60000/60000 [==============================] - 4s - loss: 0.3451 - val_loss: 0.2631\n",
      "Epoch 2/3\n",
      "59392/60000 [============================>.] - ETA: 0s - loss: 0.2588Epoch 00001: val_loss improved from 0.26310 to 0.25343, saving model to checkpoint_modelo_3_live.hdf5\n",
      "60000/60000 [==============================] - 4s - loss: 0.2587 - val_loss: 0.2534\n",
      "Epoch 3/3\n",
      "59136/60000 [============================>.] - ETA: 0s - loss: 0.2435Epoch 00002: val_loss improved from 0.25343 to 0.23116, saving model to checkpoint_modelo_3_live.hdf5\n",
      "60000/60000 [==============================] - 4s - loss: 0.2434 - val_loss: 0.2312\n"
     ]
    }
   ],
   "source": [
    "history_model_3 = autoencoder_deep.fit(x_train, x_train,\n",
    "                                        epochs=3,\n",
    "                                        batch_size=256,\n",
    "                                        shuffle=True,\n",
    "                                        validation_data=(x_test, x_test),\n",
    "                                        callbacks=[checkpointer_3])"
   ]
  },
  {
   "cell_type": "code",
   "execution_count": 67,
   "metadata": {},
   "outputs": [
    {
     "data": {
      "image/png": "[encoded data removed]",
      "text/plain": [
       "<matplotlib.figure.Figure at 0x7f2ccbf57a90>"
      ]
     },
     "metadata": {},
     "output_type": "display_data"
    }
   ],
   "source": [
    "# Grafico do treinamento\n",
    "plt.plot(history_model_3.history['loss'], 'b')\n",
    "plt.plot(history_model_3.history['val_loss'], 'r')\n",
    "plt.show()"
   ]
  },
  {
   "cell_type": "code",
   "execution_count": 68,
   "metadata": {
    "collapsed": true
   },
   "outputs": [],
   "source": [
    "encoder_deep = Model(input_img, encoded_deep)"
   ]
  },
  {
   "cell_type": "code",
   "execution_count": 69,
   "metadata": {
    "collapsed": true
   },
   "outputs": [],
   "source": [
    "#encoded_input = Input(shape=(encoding_dim,))\n",
    "\n",
    "decoder_layer_deep = autoencoder_deep.layers[-3]\n",
    "decoder_deep = Model(encoded_input, decoder_layer_deep(encoded_input))\n",
    "decoder_deep_new = Sequential()\n",
    "decoder_deep_new.add(decoder_deep)\n",
    "decoder_deep_new.add(autoencoder_deep.layers[-2])\n",
    "decoder_deep_new.add(autoencoder_deep.layers[-1])"
   ]
  },
  {
   "cell_type": "code",
   "execution_count": 70,
   "metadata": {
    "collapsed": true
   },
   "outputs": [],
   "source": [
    "decoded_imgs_deep = autoencoder_deep.predict(x_test)"
   ]
  },
  {
   "cell_type": "code",
   "execution_count": 72,
   "metadata": {},
   "outputs": [
    {
     "data": {
      "image/png": "[encoded data removed]",
      "text/plain": [
       "<matplotlib.figure.Figure at 0x7f2cc57eda90>"
      ]
     },
     "metadata": {},
     "output_type": "display_data"
    }
   ],
   "source": [
    "n = 15  # how many digits we will display\n",
    "plt.figure(figsize=(2*n, 4))\n",
    "for i in range(n):\n",
    "    # display original\n",
    "    ax = plt.subplot(2, n, i + 1)\n",
    "    plt.imshow(x_test[i].reshape(28, 28))\n",
    "    plt.gray()\n",
    "    ax.get_xaxis().set_visible(False)\n",
    "    ax.get_yaxis().set_visible(False)\n",
    "\n",
    "    # display reconstruction\n",
    "    ax = plt.subplot(2, n, i + 1 + n)\n",
    "    plt.imshow(decoded_imgs_deep[i].reshape(28, 28))\n",
    "    plt.gray()\n",
    "    ax.get_xaxis().set_visible(False)\n",
    "    ax.get_yaxis().set_visible(False)\n",
    "plt.show()"
   ]
  },
  {
   "cell_type": "markdown",
   "metadata": {},
   "source": [
    "# Modelo 4: Deep Convolutional Network"
   ]
  },
  {
   "cell_type": "markdown",
   "metadata": {},
   "source": [
    "![Convolutional AutoEncoder](https://cdn-images-1.medium.com/max/1600/1*8ixTe1VHLsmKB3AquWdxpQ.png)"
   ]
  },
  {
   "cell_type": "code",
   "execution_count": 73,
   "metadata": {},
   "outputs": [
    {
     "data": {
      "text/plain": [
       "'channels_last'"
      ]
     },
     "execution_count": 73,
     "metadata": {},
     "output_type": "execute_result"
    }
   ],
   "source": [
    "K.image_data_format()"
   ]
  },
  {
   "cell_type": "code",
   "execution_count": 74,
   "metadata": {
    "collapsed": true
   },
   "outputs": [],
   "source": [
    "input_img_conv = Input(shape=(28, 28, 1))\n",
    "\n",
    "encoded_conv = Conv2D(16, (3, 3), activation='relu', padding='same')(input_img_conv)\n",
    "encoded_conv = MaxPooling2D((2, 2), padding='same')(encoded_conv)\n",
    "encoded_conv = Conv2D(8, (3, 3), activation='relu', padding='same')(encoded_conv)\n",
    "encoded_conv = MaxPooling2D((2, 2), padding='same')(encoded_conv)\n",
    "encoded_conv = Conv2D(8, (3, 3), activation='relu', padding='same')(encoded_conv)\n",
    "encoded_conv = MaxPooling2D((2, 2), padding='same')(encoded_conv)\n",
    "\n",
    "# (4, 4, 8) => 128\n",
    "\n",
    "decoded_conv = Conv2D(8, (3, 3), activation='relu', padding='same')(encoded_conv)\n",
    "decoded_conv = UpSampling2D((2, 2))(decoded_conv)\n",
    "decoded_conv = Conv2D(8, (3, 3), activation='relu', padding='same')(decoded_conv)\n",
    "decoded_conv = UpSampling2D((2, 2))(decoded_conv)\n",
    "decoded_conv = Conv2D(16, (3, 3), activation='relu')(decoded_conv)\n",
    "decoded_conv = UpSampling2D((2, 2))(decoded_conv)\n",
    "decoded_conv = Conv2D(1, (3, 3), activation='sigmoid', padding='same')(decoded_conv)"
   ]
  },
  {
   "cell_type": "code",
   "execution_count": 75,
   "metadata": {
    "collapsed": true
   },
   "outputs": [],
   "source": [
    "autoencoder_conv = Model(input_img_conv, decoded_conv)"
   ]
  },
  {
   "cell_type": "code",
   "execution_count": 76,
   "metadata": {
    "collapsed": true
   },
   "outputs": [],
   "source": [
    "# carregando o modelo, se necessário\n",
    "#autoencoder.load_weights('checkpoint_modelo_4.hdf5')"
   ]
  },
  {
   "cell_type": "code",
   "execution_count": 77,
   "metadata": {
    "collapsed": true
   },
   "outputs": [],
   "source": [
    "autoencoder_conv.compile(optimizer='adadelta', loss='binary_crossentropy')"
   ]
  },
  {
   "cell_type": "code",
   "execution_count": 78,
   "metadata": {},
   "outputs": [
    {
     "name": "stdout",
     "output_type": "stream",
     "text": [
      "_________________________________________________________________\n",
      "Layer (type)                 Output Shape              Param #   \n",
      "=================================================================\n",
      "input_6 (InputLayer)         (None, 28, 28, 1)         0         \n",
      "_________________________________________________________________\n",
      "conv2d_1 (Conv2D)            (None, 28, 28, 16)        160       \n",
      "_________________________________________________________________\n",
      "max_pooling2d_1 (MaxPooling2 (None, 14, 14, 16)        0         \n",
      "_________________________________________________________________\n",
      "conv2d_2 (Conv2D)            (None, 14, 14, 8)         1160      \n",
      "_________________________________________________________________\n",
      "max_pooling2d_2 (MaxPooling2 (None, 7, 7, 8)           0         \n",
      "_________________________________________________________________\n",
      "conv2d_3 (Conv2D)            (None, 7, 7, 8)           584       \n",
      "_________________________________________________________________\n",
      "max_pooling2d_3 (MaxPooling2 (None, 4, 4, 8)           0         \n",
      "_________________________________________________________________\n",
      "conv2d_4 (Conv2D)            (None, 4, 4, 8)           584       \n",
      "_________________________________________________________________\n",
      "up_sampling2d_1 (UpSampling2 (None, 8, 8, 8)           0         \n",
      "_________________________________________________________________\n",
      "conv2d_5 (Conv2D)            (None, 8, 8, 8)           584       \n",
      "_________________________________________________________________\n",
      "up_sampling2d_2 (UpSampling2 (None, 16, 16, 8)         0         \n",
      "_________________________________________________________________\n",
      "conv2d_6 (Conv2D)            (None, 14, 14, 16)        1168      \n",
      "_________________________________________________________________\n",
      "up_sampling2d_3 (UpSampling2 (None, 28, 28, 16)        0         \n",
      "_________________________________________________________________\n",
      "conv2d_7 (Conv2D)            (None, 28, 28, 1)         145       \n",
      "=================================================================\n",
      "Total params: 4,385\n",
      "Trainable params: 4,385\n",
      "Non-trainable params: 0\n",
      "_________________________________________________________________\n"
     ]
    }
   ],
   "source": [
    "autoencoder_conv.summary()"
   ]
  },
  {
   "cell_type": "code",
   "execution_count": 79,
   "metadata": {
    "collapsed": true
   },
   "outputs": [],
   "source": [
    "checkpointer_4 = ModelCheckpoint(filepath='checkpoint_modelo_4_live.hdf5', verbose=1, save_best_only=True)"
   ]
  },
  {
   "cell_type": "code",
   "execution_count": null,
   "metadata": {
    "scrolled": true
   },
   "outputs": [
    {
     "name": "stdout",
     "output_type": "stream",
     "text": [
      "Train on 60000 samples, validate on 10000 samples\n",
      "Epoch 1/3\n",
      "59904/60000 [============================>.] - ETA: 0s - loss: 0.2767Epoch 00000: val_loss improved from inf to 0.20179, saving model to checkpoint_modelo_4_live.hdf5\n",
      "60000/60000 [==============================] - 44s - loss: 0.2765 - val_loss: 0.2018\n",
      "Epoch 2/3\n",
      "59904/60000 [============================>.] - ETA: 0s - loss: 0.1887Epoch 00001: val_loss improved from 0.20179 to 0.17932, saving model to checkpoint_modelo_4_live.hdf5\n",
      "60000/60000 [==============================] - 42s - loss: 0.1887 - val_loss: 0.1793\n",
      "Epoch 3/3\n",
      "59904/60000 [============================>.] - ETA: 0s - loss: 0.1719Epoch 00002: val_loss improved from 0.17932 to 0.16329, saving model to checkpoint_modelo_4_live.hdf5\n",
      "60000/60000 [==============================] - 43s - loss: 0.1719 - val_loss: 0.1633\n"
     ]
    }
   ],
   "source": [
    "history_model_4 = autoencoder_conv.fit(x_train_conv, x_train_conv,\n",
    "                                        epochs=3,\n",
    "                                        batch_size=256,\n",
    "                                        shuffle=True,\n",
    "                                        validation_data=(x_test_conv, x_test_conv),\n",
    "                                        callbacks=[checkpointer_4])"
   ]
  },
  {
   "cell_type": "code",
   "execution_count": 81,
   "metadata": {},
   "outputs": [
    {
     "data": {
      "image/png": "[encoded data removed]",
      "text/plain": [
       "<matplotlib.figure.Figure at 0x7f2cc54d9550>"
      ]
     },
     "metadata": {},
     "output_type": "display_data"
    }
   ],
   "source": [
    "# Grafico do treinamento\n",
    "plt.plot(history_model_4.history['loss'], 'b')\n",
    "plt.plot(history_model_4.history['val_loss'], 'r')\n",
    "plt.show()"
   ]
  },
  {
   "cell_type": "code",
   "execution_count": 82,
   "metadata": {
    "collapsed": true
   },
   "outputs": [],
   "source": [
    "decoded_imgs_conv = autoencoder_conv.predict(x_test_conv)"
   ]
  },
  {
   "cell_type": "code",
   "execution_count": 83,
   "metadata": {},
   "outputs": [
    {
     "data": {
      "image/png": "[encoded data removed]",
      "text/plain": [
       "<matplotlib.figure.Figure at 0x7f2cd6aba048>"
      ]
     },
     "metadata": {},
     "output_type": "display_data"
    }
   ],
   "source": [
    "n = 15  # how many digits we will display\n",
    "plt.figure(figsize=(2*n, 4))\n",
    "for i in range(n):\n",
    "    # display original\n",
    "    ax = plt.subplot(2, n, i + 1)\n",
    "    plt.imshow(x_test[i].reshape(28, 28))\n",
    "    plt.gray()\n",
    "    ax.get_xaxis().set_visible(False)\n",
    "    ax.get_yaxis().set_visible(False)\n",
    "\n",
    "    # display reconstruction\n",
    "    ax = plt.subplot(2, n, i + 1 + n)\n",
    "    plt.imshow(decoded_imgs_conv[i].reshape(28, 28))\n",
    "    plt.gray()\n",
    "    ax.get_xaxis().set_visible(False)\n",
    "    ax.get_yaxis().set_visible(False)\n",
    "plt.show()"
   ]
  },
  {
   "cell_type": "markdown",
   "metadata": {},
   "source": [
    "# Modelo 5: Aplicação em Eliminação de Ruído"
   ]
  },
  {
   "cell_type": "code",
   "execution_count": 84,
   "metadata": {
    "collapsed": true
   },
   "outputs": [],
   "source": [
    "input_img_conv = Input(shape=(28, 28, 1))\n",
    "\n",
    "encoded_conv2 = Conv2D(16, (3, 3), activation='relu', padding='same')(input_img_conv)\n",
    "encoded_conv2 = MaxPooling2D((2, 2), padding='same')(encoded_conv2)\n",
    "encoded_conv2 = Conv2D(8, (3, 3), activation='relu', padding='same')(encoded_conv2)\n",
    "encoded_conv2 = MaxPooling2D((2, 2), padding='same')(encoded_conv2)\n",
    "encoded_conv2 = Conv2D(8, (3, 3), activation='relu', padding='same')(encoded_conv2)\n",
    "encoded_conv2 = MaxPooling2D((2, 2), padding='same')(encoded_conv2)\n",
    "\n",
    "# (4, 4, 8) => 128\n",
    "\n",
    "decoded_conv2 = Conv2D(8, (3, 3), activation='relu', padding='same')(encoded_conv2)\n",
    "decoded_conv2 = UpSampling2D((2, 2))(decoded_conv2)\n",
    "decoded_conv2 = Conv2D(8, (3, 3), activation='relu', padding='same')(decoded_conv2)\n",
    "decoded_conv2 = UpSampling2D((2, 2))(decoded_conv2)\n",
    "decoded_conv2 = Conv2D(16, (3, 3), activation='relu')(decoded_conv2)\n",
    "decoded_conv2 = UpSampling2D((2, 2))(decoded_conv2)\n",
    "decoded_conv2 = Conv2D(1, (3, 3), activation='sigmoid', padding='same')(decoded_conv2)\n",
    "\n"
   ]
  },
  {
   "cell_type": "code",
   "execution_count": 85,
   "metadata": {
    "collapsed": true
   },
   "outputs": [],
   "source": [
    "autoencoder_conv_denoise = Model(input_img_conv, decoded_conv2)"
   ]
  },
  {
   "cell_type": "code",
   "execution_count": 86,
   "metadata": {
    "collapsed": true
   },
   "outputs": [],
   "source": [
    "# carregando o modelo, se necessário\n",
    "#autoencoder.load_weights('checkpoint_modelo_5.hdf5')"
   ]
  },
  {
   "cell_type": "code",
   "execution_count": 87,
   "metadata": {
    "collapsed": true
   },
   "outputs": [],
   "source": [
    "autoencoder_conv_denoise.compile(optimizer='adadelta', loss='binary_crossentropy')"
   ]
  },
  {
   "cell_type": "code",
   "execution_count": 88,
   "metadata": {
    "collapsed": true
   },
   "outputs": [],
   "source": [
    "checkpointer_5 = ModelCheckpoint(filepath='checkpoint_modelo_5_live.hdf5', verbose=1, save_best_only=True)"
   ]
  },
  {
   "cell_type": "code",
   "execution_count": null,
   "metadata": {},
   "outputs": [
    {
     "name": "stdout",
     "output_type": "stream",
     "text": [
      "59904/60000 [============================>.] - ETA: 0s - loss: 0.3089Epoch 00000: val_loss improved from inf to 0.25326, saving model to checkpoint_modelo_5_live.hdf5\n",
      "60000/60000 [==============================] - 43s - loss: 0.3088 - val_loss: 0.2533\n",
      "Epoch 2/2\n",
      "59904/60000 [============================>.] - ETA: 0s - loss: 0.2343Epoch 00001: val_loss improved from 0.25326 to 0.21531, saving model to checkpoint_modelo_5_live.hdf5\n",
      "60000/60000 [==============================] - 44s - loss: 0.2343 - val_loss: 0.2153\n"
     ]
    }
   ],
   "source": [
    "history_model_5 = autoencoder_conv_denoise.fit(x_train_noisy_conv, x_train_conv,\n",
    "                                          epochs=2,\n",
    "                                          batch_size=256,\n",
    "                                          shuffle=True,\n",
    "                                          validation_data=(x_test_noisy_conv, x_test_conv),\n",
    "                                          callbacks=[checkpointer_5])"
   ]
  },
  {
   "cell_type": "code",
   "execution_count": null,
   "metadata": {
    "collapsed": true
   },
   "outputs": [],
   "source": [
    "# Grafico do treinamento\n",
    "plt.plot(history_model_5.history['loss'], 'b')\n",
    "plt.plot(history_model_5.history['val_loss'], 'r')\n",
    "plt.show()"
   ]
  },
  {
   "cell_type": "code",
   "execution_count": null,
   "metadata": {
    "collapsed": true
   },
   "outputs": [],
   "source": [
    "decoded_imgs_conv_denoise = autoencoder_conv_denoise.predict(x_test_noisy_conv)"
   ]
  },
  {
   "cell_type": "code",
   "execution_count": null,
   "metadata": {
    "collapsed": true
   },
   "outputs": [],
   "source": [
    "n = 15  # how many digits we will display\n",
    "plt.figure(figsize=(2*n, 4))\n",
    "for i in range(n):\n",
    "    # display original\n",
    "    ax = plt.subplot(2, n, i + 1)\n",
    "    plt.imshow(x_test_noisy[i].reshape(28, 28))\n",
    "    plt.gray()\n",
    "    ax.get_xaxis().set_visible(False)\n",
    "    ax.get_yaxis().set_visible(False)\n",
    "\n",
    "    # display reconstruction\n",
    "    ax = plt.subplot(2, n, i + 1 + n)\n",
    "    plt.imshow(decoded_imgs_conv_denoise[i].reshape(28, 28))\n",
    "    plt.gray()\n",
    "    ax.get_xaxis().set_visible(False)\n",
    "    ax.get_yaxis().set_visible(False)\n",
    "plt.show()"
   ]
  },
  {
   "cell_type": "code",
   "execution_count": null,
   "metadata": {
    "collapsed": true
   },
   "outputs": [],
   "source": []
  },
  {
   "cell_type": "code",
   "execution_count": null,
   "metadata": {
    "collapsed": true
   },
   "outputs": [],
   "source": []
  },
  {
   "cell_type": "code",
   "execution_count": null,
   "metadata": {
    "collapsed": true
   },
   "outputs": [],
   "source": []
  },
  {
   "cell_type": "markdown",
   "metadata": {},
   "source": [
    "#### Material de Referência e Consulta:\n",
    "* https://github.com/udacity/deep-learning/blob/master/autoencoder/Simple_Autoencoder_Solution.ipynb\n",
    "* https://blog.keras.io/building-autoencoders-in-keras.html\n",
    "* https://elitedatascience.com/keras-tutorial-deep-learning-in-python\n",
    "* http://blog.otoro.net/2016/04/01/generating-large-images-from-latent-vectors/\n",
    "* https://arxiv.org/pdf/1512.09300.pdf\n",
    "* https://arxiv.org/pdf/1312.6114.pdf"
   ]
  },
  {
   "cell_type": "code",
   "execution_count": null,
   "metadata": {
    "collapsed": true
   },
   "outputs": [],
   "source": []
  }
 ],
 "metadata": {
  "kernelspec": {
   "display_name": "Python 3.6",
   "language": "python",
   "name": "python36"
  },
  "language_info": {
   "codemirror_mode": {
    "name": "ipython",
    "version": 3
   },
   "file_extension": ".py",
   "mimetype": "text/x-python",
   "name": "python",
   "nbconvert_exporter": "python",
   "pygments_lexer": "ipython3",
   "version": "3.6.0"
  }
 },
 "nbformat": 4,
 "nbformat_minor": 2
}
