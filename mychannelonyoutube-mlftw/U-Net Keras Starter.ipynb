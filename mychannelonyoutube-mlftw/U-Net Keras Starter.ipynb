{
 "cells": [
  {
   "cell_type": "markdown",
   "metadata": {},
   "source": [
    "# U-NET Starter\n",
    "\n",
    "Original por Kjetil Åmdal-SævikKeras em https://www.kaggle.com/keegil/keras-u-net-starter-lb-0-277\n"
   ]
  },
  {
   "cell_type": "code",
   "execution_count": null,
   "metadata": {
    "collapsed": true
   },
   "outputs": [],
   "source": []
  },
  {
   "cell_type": "markdown",
   "metadata": {},
   "source": [
    "## Importando libs"
   ]
  },
  {
   "cell_type": "code",
   "execution_count": 1,
   "metadata": {},
   "outputs": [
    {
     "name": "stderr",
     "output_type": "stream",
     "text": [
      "Using TensorFlow backend.\n"
     ]
    }
   ],
   "source": [
    "import os\n",
    "import sys\n",
    "import random\n",
    "import warnings\n",
    "\n",
    "import numpy as np\n",
    "import pandas as pd\n",
    "\n",
    "import matplotlib.pyplot as plt\n",
    "\n",
    "from tqdm import tqdm\n",
    "from itertools import chain\n",
    "from skimage.io import imread, imshow, imread_collection, concatenate_images\n",
    "from skimage.transform import resize\n",
    "from skimage.morphology import label\n",
    "\n",
    "from keras.models import Model, load_model\n",
    "from keras.layers import Input\n",
    "from keras.layers.core import Dropout, Lambda\n",
    "from keras.layers.convolutional import Conv2D, Conv2DTranspose\n",
    "from keras.layers.pooling import MaxPooling2D\n",
    "from keras.layers.merge import concatenate\n",
    "from keras.callbacks import EarlyStopping, ModelCheckpoint\n",
    "from keras import backend as K\n",
    "\n",
    "import tensorflow as tf\n",
    "\n",
    "# Set some parameters\n",
    "IMG_WIDTH = 128\n",
    "IMG_HEIGHT = 128\n",
    "IMG_CHANNELS = 3\n",
    "TRAIN_PATH = '../data/stage1_train/'\n",
    "TEST_PATH = '../data/stage1_test/'\n",
    "\n",
    "warnings.filterwarnings('ignore', category=UserWarning, module='skimage')\n",
    "seed = 42\n",
    "random.seed = seed\n",
    "np.random.seed = seed"
   ]
  },
  {
   "cell_type": "code",
   "execution_count": 2,
   "metadata": {
    "collapsed": true
   },
   "outputs": [],
   "source": [
    "# Get train and test IDs\n",
    "train_ids = next(os.walk(TRAIN_PATH))[1]\n",
    "test_ids = next(os.walk(TEST_PATH))[1]"
   ]
  },
  {
   "cell_type": "markdown",
   "metadata": {
    "collapsed": true
   },
   "source": [
    "### Preparando o Dataset\n",
    "Downsize do dataset para \\[IMG_HEIGHT, IMG_WIDTH\\]"
   ]
  },
  {
   "cell_type": "code",
   "execution_count": 3,
   "metadata": {},
   "outputs": [
    {
     "name": "stdout",
     "output_type": "stream",
     "text": [
      "Getting and resizing train images and masks ... \n"
     ]
    },
    {
     "name": "stderr",
     "output_type": "stream",
     "text": [
      "100%|████████████████████████████████████████████████████████████████████████████████| 670/670 [03:51<00:00,  2.89it/s]\n"
     ]
    },
    {
     "name": "stdout",
     "output_type": "stream",
     "text": [
      "Getting and resizing test images ... \n"
     ]
    },
    {
     "name": "stderr",
     "output_type": "stream",
     "text": [
      "100%|██████████████████████████████████████████████████████████████████████████████████| 65/65 [00:01<00:00, 57.17it/s]\n"
     ]
    },
    {
     "name": "stdout",
     "output_type": "stream",
     "text": [
      "Done!\n"
     ]
    }
   ],
   "source": [
    "# Get and resize train images and masks\n",
    "X_train = np.zeros((len(train_ids), IMG_HEIGHT, IMG_WIDTH, IMG_CHANNELS), dtype=np.uint8)\n",
    "Y_train = np.zeros((len(train_ids), IMG_HEIGHT, IMG_WIDTH, 1), dtype=np.bool)\n",
    "print('Getting and resizing train images and masks ... ')\n",
    "sys.stdout.flush()\n",
    "for n, id_ in tqdm(enumerate(train_ids), total=len(train_ids)):\n",
    "    path = TRAIN_PATH + id_\n",
    "    img = imread(path + '/images/' + id_ + '.png')[:,:,:IMG_CHANNELS]\n",
    "    img = resize(img, (IMG_HEIGHT, IMG_WIDTH), mode='constant', preserve_range=True)\n",
    "    X_train[n] = img\n",
    "    mask = np.zeros((IMG_HEIGHT, IMG_WIDTH, 1), dtype=np.bool)\n",
    "    for mask_file in next(os.walk(path + '/masks/'))[2]:\n",
    "        mask_ = imread(path + '/masks/' + mask_file)\n",
    "        mask_ = np.expand_dims(resize(mask_, (IMG_HEIGHT, IMG_WIDTH), mode='constant', \n",
    "                                      preserve_range=True), axis=-1)\n",
    "        mask = np.maximum(mask, mask_)\n",
    "    Y_train[n] = mask\n",
    "\n",
    "# Get and resize test images\n",
    "X_test = np.zeros((len(test_ids), IMG_HEIGHT, IMG_WIDTH, IMG_CHANNELS), dtype=np.uint8)\n",
    "sizes_test = []\n",
    "print('Getting and resizing test images ... ')\n",
    "sys.stdout.flush()\n",
    "for n, id_ in tqdm(enumerate(test_ids), total=len(test_ids)):\n",
    "    path = TEST_PATH + id_\n",
    "    img = imread(path + '/images/' + id_ + '.png')[:,:,:IMG_CHANNELS]\n",
    "    sizes_test.append([img.shape[0], img.shape[1]])\n",
    "    img = resize(img, (IMG_HEIGHT, IMG_WIDTH), mode='constant', preserve_range=True)\n",
    "    X_test[n] = img\n",
    "\n",
    "print('Done!')"
   ]
  },
  {
   "cell_type": "code",
   "execution_count": 4,
   "metadata": {},
   "outputs": [
    {
     "data": {
      "image/png": "[encoded data removed]",
      "text/plain": [
       "<matplotlib.figure.Figure at 0x22f71be9470>"
      ]
     },
     "metadata": {},
     "output_type": "display_data"
    },
    {
     "data": {
      "image/png": "[encoded data removed]",
      "text/plain": [
       "<matplotlib.figure.Figure at 0x22f759dae10>"
      ]
     },
     "metadata": {},
     "output_type": "display_data"
    }
   ],
   "source": [
    "# Check if training data looks all right\n",
    "ix = random.randint(0, len(train_ids))\n",
    "imshow(X_train[ix])\n",
    "plt.show()\n",
    "imshow(np.squeeze(Y_train[ix]))\n",
    "plt.show()"
   ]
  },
  {
   "cell_type": "markdown",
   "metadata": {},
   "source": [
    "### Implementando uma função para IOU "
   ]
  },
  {
   "cell_type": "code",
   "execution_count": 5,
   "metadata": {
    "collapsed": true
   },
   "outputs": [],
   "source": [
    "# Define IoU metric\n",
    "def mean_iou(y_true, y_pred):\n",
    "    prec = []\n",
    "    for t in np.arange(0.5, 1.0, 0.05):\n",
    "        y_pred_ = tf.to_int32(y_pred > t)\n",
    "        score, up_opt = tf.metrics.mean_iou(y_true, y_pred_, 2)\n",
    "        K.get_session().run(tf.local_variables_initializer())\n",
    "        with tf.control_dependencies([up_opt]):\n",
    "            score = tf.identity(score)\n",
    "        prec.append(score)\n",
    "    return K.mean(K.stack(prec), axis=0)"
   ]
  },
  {
   "cell_type": "markdown",
   "metadata": {},
   "source": [
    "### Construindo o Modelo"
   ]
  },
  {
   "cell_type": "code",
   "execution_count": 6,
   "metadata": {},
   "outputs": [
    {
     "name": "stdout",
     "output_type": "stream",
     "text": [
      "__________________________________________________________________________________________________\n",
      "Layer (type)                    Output Shape         Param #     Connected to                     \n",
      "==================================================================================================\n",
      "input_1 (InputLayer)            (None, 128, 128, 3)  0                                            \n",
      "__________________________________________________________________________________________________\n",
      "lambda_1 (Lambda)               (None, 128, 128, 3)  0           input_1[0][0]                    \n",
      "__________________________________________________________________________________________________\n",
      "conv2d_1 (Conv2D)               (None, 128, 128, 16) 448         lambda_1[0][0]                   \n",
      "__________________________________________________________________________________________________\n",
      "dropout_1 (Dropout)             (None, 128, 128, 16) 0           conv2d_1[0][0]                   \n",
      "__________________________________________________________________________________________________\n",
      "conv2d_2 (Conv2D)               (None, 128, 128, 16) 2320        dropout_1[0][0]                  \n",
      "__________________________________________________________________________________________________\n",
      "max_pooling2d_1 (MaxPooling2D)  (None, 64, 64, 16)   0           conv2d_2[0][0]                   \n",
      "__________________________________________________________________________________________________\n",
      "conv2d_3 (Conv2D)               (None, 64, 64, 32)   4640        max_pooling2d_1[0][0]            \n",
      "__________________________________________________________________________________________________\n",
      "dropout_2 (Dropout)             (None, 64, 64, 32)   0           conv2d_3[0][0]                   \n",
      "__________________________________________________________________________________________________\n",
      "conv2d_4 (Conv2D)               (None, 64, 64, 32)   9248        dropout_2[0][0]                  \n",
      "__________________________________________________________________________________________________\n",
      "max_pooling2d_2 (MaxPooling2D)  (None, 32, 32, 32)   0           conv2d_4[0][0]                   \n",
      "__________________________________________________________________________________________________\n",
      "conv2d_5 (Conv2D)               (None, 32, 32, 64)   18496       max_pooling2d_2[0][0]            \n",
      "__________________________________________________________________________________________________\n",
      "dropout_3 (Dropout)             (None, 32, 32, 64)   0           conv2d_5[0][0]                   \n",
      "__________________________________________________________________________________________________\n",
      "conv2d_6 (Conv2D)               (None, 32, 32, 64)   36928       dropout_3[0][0]                  \n",
      "__________________________________________________________________________________________________\n",
      "max_pooling2d_3 (MaxPooling2D)  (None, 16, 16, 64)   0           conv2d_6[0][0]                   \n",
      "__________________________________________________________________________________________________\n",
      "conv2d_7 (Conv2D)               (None, 16, 16, 128)  73856       max_pooling2d_3[0][0]            \n",
      "__________________________________________________________________________________________________\n",
      "dropout_4 (Dropout)             (None, 16, 16, 128)  0           conv2d_7[0][0]                   \n",
      "__________________________________________________________________________________________________\n",
      "conv2d_8 (Conv2D)               (None, 16, 16, 128)  147584      dropout_4[0][0]                  \n",
      "__________________________________________________________________________________________________\n",
      "max_pooling2d_4 (MaxPooling2D)  (None, 8, 8, 128)    0           conv2d_8[0][0]                   \n",
      "__________________________________________________________________________________________________\n",
      "conv2d_9 (Conv2D)               (None, 8, 8, 256)    295168      max_pooling2d_4[0][0]            \n",
      "__________________________________________________________________________________________________\n",
      "dropout_5 (Dropout)             (None, 8, 8, 256)    0           conv2d_9[0][0]                   \n",
      "__________________________________________________________________________________________________\n",
      "conv2d_10 (Conv2D)              (None, 8, 8, 256)    590080      dropout_5[0][0]                  \n",
      "__________________________________________________________________________________________________\n",
      "conv2d_transpose_1 (Conv2DTrans (None, 16, 16, 128)  131200      conv2d_10[0][0]                  \n",
      "__________________________________________________________________________________________________\n",
      "concatenate_1 (Concatenate)     (None, 16, 16, 256)  0           conv2d_transpose_1[0][0]         \n",
      "                                                                 conv2d_8[0][0]                   \n",
      "__________________________________________________________________________________________________\n",
      "conv2d_11 (Conv2D)              (None, 16, 16, 128)  295040      concatenate_1[0][0]              \n",
      "__________________________________________________________________________________________________\n",
      "dropout_6 (Dropout)             (None, 16, 16, 128)  0           conv2d_11[0][0]                  \n",
      "__________________________________________________________________________________________________\n",
      "conv2d_12 (Conv2D)              (None, 16, 16, 128)  147584      dropout_6[0][0]                  \n",
      "__________________________________________________________________________________________________\n",
      "conv2d_transpose_2 (Conv2DTrans (None, 32, 32, 64)   32832       conv2d_12[0][0]                  \n",
      "__________________________________________________________________________________________________\n",
      "concatenate_2 (Concatenate)     (None, 32, 32, 128)  0           conv2d_transpose_2[0][0]         \n",
      "                                                                 conv2d_6[0][0]                   \n",
      "__________________________________________________________________________________________________\n",
      "conv2d_13 (Conv2D)              (None, 32, 32, 64)   73792       concatenate_2[0][0]              \n",
      "__________________________________________________________________________________________________\n",
      "dropout_7 (Dropout)             (None, 32, 32, 64)   0           conv2d_13[0][0]                  \n",
      "__________________________________________________________________________________________________\n",
      "conv2d_14 (Conv2D)              (None, 32, 32, 64)   36928       dropout_7[0][0]                  \n",
      "__________________________________________________________________________________________________\n",
      "conv2d_transpose_3 (Conv2DTrans (None, 64, 64, 32)   8224        conv2d_14[0][0]                  \n",
      "__________________________________________________________________________________________________\n",
      "concatenate_3 (Concatenate)     (None, 64, 64, 64)   0           conv2d_transpose_3[0][0]         \n",
      "                                                                 conv2d_4[0][0]                   \n",
      "__________________________________________________________________________________________________\n",
      "conv2d_15 (Conv2D)              (None, 64, 64, 32)   18464       concatenate_3[0][0]              \n",
      "__________________________________________________________________________________________________\n",
      "dropout_8 (Dropout)             (None, 64, 64, 32)   0           conv2d_15[0][0]                  \n",
      "__________________________________________________________________________________________________\n",
      "conv2d_16 (Conv2D)              (None, 64, 64, 32)   9248        dropout_8[0][0]                  \n",
      "__________________________________________________________________________________________________\n",
      "conv2d_transpose_4 (Conv2DTrans (None, 128, 128, 16) 2064        conv2d_16[0][0]                  \n",
      "__________________________________________________________________________________________________\n",
      "concatenate_4 (Concatenate)     (None, 128, 128, 32) 0           conv2d_transpose_4[0][0]         \n",
      "                                                                 conv2d_2[0][0]                   \n",
      "__________________________________________________________________________________________________\n",
      "conv2d_17 (Conv2D)              (None, 128, 128, 16) 4624        concatenate_4[0][0]              \n",
      "__________________________________________________________________________________________________\n",
      "dropout_9 (Dropout)             (None, 128, 128, 16) 0           conv2d_17[0][0]                  \n",
      "__________________________________________________________________________________________________\n",
      "conv2d_18 (Conv2D)              (None, 128, 128, 16) 2320        dropout_9[0][0]                  \n",
      "__________________________________________________________________________________________________\n",
      "conv2d_19 (Conv2D)              (None, 128, 128, 1)  17          conv2d_18[0][0]                  \n",
      "==================================================================================================\n",
      "Total params: 1,941,105\n",
      "Trainable params: 1,941,105\n",
      "Non-trainable params: 0\n",
      "__________________________________________________________________________________________________\n"
     ]
    }
   ],
   "source": [
    "# Build U-Net model\n",
    "inputs = Input((IMG_HEIGHT, IMG_WIDTH, IMG_CHANNELS))\n",
    "s = Lambda(lambda x: x / 255) (inputs)\n",
    "\n",
    "c1 = Conv2D(16, (3, 3), activation='elu', kernel_initializer='he_normal', padding='same') (s)\n",
    "c1 = Dropout(0.1) (c1)\n",
    "c1 = Conv2D(16, (3, 3), activation='elu', kernel_initializer='he_normal', padding='same') (c1)\n",
    "p1 = MaxPooling2D((2, 2)) (c1)\n",
    "\n",
    "c2 = Conv2D(32, (3, 3), activation='elu', kernel_initializer='he_normal', padding='same') (p1)\n",
    "c2 = Dropout(0.1) (c2)\n",
    "c2 = Conv2D(32, (3, 3), activation='elu', kernel_initializer='he_normal', padding='same') (c2)\n",
    "p2 = MaxPooling2D((2, 2)) (c2)\n",
    "\n",
    "c3 = Conv2D(64, (3, 3), activation='elu', kernel_initializer='he_normal', padding='same') (p2)\n",
    "c3 = Dropout(0.2) (c3)\n",
    "c3 = Conv2D(64, (3, 3), activation='elu', kernel_initializer='he_normal', padding='same') (c3)\n",
    "p3 = MaxPooling2D((2, 2)) (c3)\n",
    "\n",
    "c4 = Conv2D(128, (3, 3), activation='elu', kernel_initializer='he_normal', padding='same') (p3)\n",
    "c4 = Dropout(0.2) (c4)\n",
    "c4 = Conv2D(128, (3, 3), activation='elu', kernel_initializer='he_normal', padding='same') (c4)\n",
    "p4 = MaxPooling2D(pool_size=(2, 2)) (c4)\n",
    "\n",
    "c5 = Conv2D(256, (3, 3), activation='elu', kernel_initializer='he_normal', padding='same') (p4)\n",
    "c5 = Dropout(0.3) (c5)\n",
    "c5 = Conv2D(256, (3, 3), activation='elu', kernel_initializer='he_normal', padding='same') (c5)\n",
    "\n",
    "u6 = Conv2DTranspose(128, (2, 2), strides=(2, 2), padding='same') (c5)\n",
    "u6 = concatenate([u6, c4])\n",
    "c6 = Conv2D(128, (3, 3), activation='elu', kernel_initializer='he_normal', padding='same') (u6)\n",
    "c6 = Dropout(0.2) (c6)\n",
    "c6 = Conv2D(128, (3, 3), activation='elu', kernel_initializer='he_normal', padding='same') (c6)\n",
    "\n",
    "u7 = Conv2DTranspose(64, (2, 2), strides=(2, 2), padding='same') (c6)\n",
    "u7 = concatenate([u7, c3])\n",
    "c7 = Conv2D(64, (3, 3), activation='elu', kernel_initializer='he_normal', padding='same') (u7)\n",
    "c7 = Dropout(0.2) (c7)\n",
    "c7 = Conv2D(64, (3, 3), activation='elu', kernel_initializer='he_normal', padding='same') (c7)\n",
    "\n",
    "u8 = Conv2DTranspose(32, (2, 2), strides=(2, 2), padding='same') (c7)\n",
    "u8 = concatenate([u8, c2])\n",
    "c8 = Conv2D(32, (3, 3), activation='elu', kernel_initializer='he_normal', padding='same') (u8)\n",
    "c8 = Dropout(0.1) (c8)\n",
    "c8 = Conv2D(32, (3, 3), activation='elu', kernel_initializer='he_normal', padding='same') (c8)\n",
    "\n",
    "u9 = Conv2DTranspose(16, (2, 2), strides=(2, 2), padding='same') (c8)\n",
    "u9 = concatenate([u9, c1], axis=3)\n",
    "c9 = Conv2D(16, (3, 3), activation='elu', kernel_initializer='he_normal', padding='same') (u9)\n",
    "c9 = Dropout(0.1) (c9)\n",
    "c9 = Conv2D(16, (3, 3), activation='elu', kernel_initializer='he_normal', padding='same') (c9)\n",
    "\n",
    "outputs = Conv2D(1, (1, 1), activation='sigmoid') (c9)\n",
    "\n",
    "model = Model(inputs=[inputs], outputs=[outputs])\n",
    "model.compile(optimizer='adam', loss='binary_crossentropy', metrics=[mean_iou])\n",
    "model.summary()"
   ]
  },
  {
   "cell_type": "markdown",
   "metadata": {},
   "source": [
    "### Treinar o modelo"
   ]
  },
  {
   "cell_type": "code",
   "execution_count": 7,
   "metadata": {},
   "outputs": [
    {
     "name": "stdout",
     "output_type": "stream",
     "text": [
      "Train on 603 samples, validate on 67 samples\n",
      "Epoch 1/50\n",
      "592/603 [============================>.] - ETA: 3:59 - loss: 0.7725 - mean_iou: 0.0000e+ - ETA: 3:10 - loss: 0.7147 - mean_iou: 0.2023   - ETA: 2:46 - loss: 0.6624 - mean_iou: 0.27 - ETA: 2:33 - loss: 0.6481 - mean_iou: 0.31 - ETA: 2:23 - loss: 0.6146 - mean_iou: 0.33 - ETA: 2:15 - loss: 0.5951 - mean_iou: 0.35 - ETA: 2:08 - loss: 0.5845 - mean_iou: 0.36 - ETA: 2:02 - loss: 0.5667 - mean_iou: 0.36 - ETA: 1:57 - loss: 0.5543 - mean_iou: 0.37 - ETA: 1:51 - loss: 0.5360 - mean_iou: 0.38 - ETA: 1:46 - loss: 0.5272 - mean_iou: 0.38 - ETA: 1:41 - loss: 0.5269 - mean_iou: 0.38 - ETA: 1:36 - loss: 0.5175 - mean_iou: 0.39 - ETA: 1:32 - loss: 0.5097 - mean_iou: 0.39 - ETA: 1:27 - loss: 0.5011 - mean_iou: 0.39 - ETA: 1:23 - loss: 0.4903 - mean_iou: 0.39 - ETA: 1:19 - loss: 0.4876 - mean_iou: 0.39 - ETA: 1:14 - loss: 0.5305 - mean_iou: 0.40 - ETA: 1:10 - loss: 0.5236 - mean_iou: 0.40 - ETA: 1:06 - loss: 0.5179 - mean_iou: 0.40 - ETA: 1:02 - loss: 0.5122 - mean_iou: 0.40 - ETA: 58s - loss: 0.5072 - mean_iou: 0.4058 - ETA: 54s - loss: 0.5015 - mean_iou: 0.406 - ETA: 51s - loss: 0.4967 - mean_iou: 0.407 - ETA: 47s - loss: 0.4907 - mean_iou: 0.408 - ETA: 43s - loss: 0.4864 - mean_iou: 0.409 - ETA: 39s - loss: 0.4798 - mean_iou: 0.409 - ETA: 35s - loss: 0.4737 - mean_iou: 0.410 - ETA: 32s - loss: 0.4705 - mean_iou: 0.411 - ETA: 28s - loss: 0.4711 - mean_iou: 0.411 - ETA: 24s - loss: 0.4654 - mean_iou: 0.412 - ETA: 20s - loss: 0.4606 - mean_iou: 0.413 - ETA: 17s - loss: 0.4544 - mean_iou: 0.413 - ETA: 13s - loss: 0.4513 - mean_iou: 0.414 - ETA: 9s - loss: 0.4461 - mean_iou: 0.415 - ETA: 6s - loss: 0.4407 - mean_iou: 0.41 - ETA: 2s - loss: 0.4356 - mean_iou: 0.4166\n",
      "Epoch 00001: val_loss improved from inf to 0.27516, saving model to model-dsbowl2018-1.h5\n",
      "603/603 [==============================] - 144s 239ms/step - loss: 0.4320 - mean_iou: 0.4171 - val_loss: 0.2752 - val_mean_iou: 0.4456\n",
      "Epoch 2/50\n",
      "592/603 [============================>.] - ETA: 2:08 - loss: 0.2055 - mean_iou: 0.44 - ETA: 2:05 - loss: 0.2333 - mean_iou: 0.44 - ETA: 2:03 - loss: 0.2451 - mean_iou: 0.44 - ETA: 2:02 - loss: 0.2582 - mean_iou: 0.45 - ETA: 2:00 - loss: 0.2512 - mean_iou: 0.45 - ETA: 1:56 - loss: 0.2515 - mean_iou: 0.45 - ETA: 1:52 - loss: 0.2414 - mean_iou: 0.45 - ETA: 1:49 - loss: 0.2497 - mean_iou: 0.45 - ETA: 1:46 - loss: 0.2500 - mean_iou: 0.45 - ETA: 1:42 - loss: 0.2413 - mean_iou: 0.45 - ETA: 1:38 - loss: 0.2428 - mean_iou: 0.46 - ETA: 1:35 - loss: 0.2370 - mean_iou: 0.46 - ETA: 1:31 - loss: 0.2405 - mean_iou: 0.46 - ETA: 1:27 - loss: 0.2391 - mean_iou: 0.46 - ETA: 1:23 - loss: 0.2359 - mean_iou: 0.46 - ETA: 1:19 - loss: 0.2347 - mean_iou: 0.46 - ETA: 1:15 - loss: 0.2314 - mean_iou: 0.46 - ETA: 1:11 - loss: 0.2272 - mean_iou: 0.47 - ETA: 1:08 - loss: 0.2277 - mean_iou: 0.47 - ETA: 1:04 - loss: 0.2257 - mean_iou: 0.47 - ETA: 1:01 - loss: 0.2258 - mean_iou: 0.47 - ETA: 57s - loss: 0.2251 - mean_iou: 0.4757 - ETA: 54s - loss: 0.2235 - mean_iou: 0.477 - ETA: 50s - loss: 0.2198 - mean_iou: 0.478 - ETA: 46s - loss: 0.2223 - mean_iou: 0.479 - ETA: 43s - loss: 0.2242 - mean_iou: 0.480 - ETA: 39s - loss: 0.2226 - mean_iou: 0.482 - ETA: 35s - loss: 0.2225 - mean_iou: 0.483 - ETA: 32s - loss: 0.2203 - mean_iou: 0.484 - ETA: 28s - loss: 0.2208 - mean_iou: 0.485 - ETA: 24s - loss: 0.2188 - mean_iou: 0.486 - ETA: 21s - loss: 0.2173 - mean_iou: 0.487 - ETA: 17s - loss: 0.2167 - mean_iou: 0.488 - ETA: 13s - loss: 0.2162 - mean_iou: 0.490 - ETA: 9s - loss: 0.2139 - mean_iou: 0.491 - ETA: 6s - loss: 0.2124 - mean_iou: 0.49 - ETA: 2s - loss: 0.2130 - mean_iou: 0.4931\n",
      "Epoch 00002: val_loss improved from 0.27516 to 0.15734, saving model to model-dsbowl2018-1.h5\n",
      "603/603 [==============================] - 146s 242ms/step - loss: 0.2135 - mean_iou: 0.4938 - val_loss: 0.1573 - val_mean_iou: 0.5348\n",
      "Epoch 3/50\n",
      "592/603 [============================>.] - ETA: 2:21 - loss: 0.2331 - mean_iou: 0.53 - ETA: 2:12 - loss: 0.2018 - mean_iou: 0.54 - ETA: 2:07 - loss: 0.1869 - mean_iou: 0.54 - ETA: 2:02 - loss: 0.1772 - mean_iou: 0.54 - ETA: 1:58 - loss: 0.1766 - mean_iou: 0.54 - ETA: 1:55 - loss: 0.1801 - mean_iou: 0.54 - ETA: 1:52 - loss: 0.1854 - mean_iou: 0.54 - ETA: 1:48 - loss: 0.1809 - mean_iou: 0.54 - ETA: 1:45 - loss: 0.1806 - mean_iou: 0.54 - ETA: 1:42 - loss: 0.1859 - mean_iou: 0.54 - ETA: 1:39 - loss: 0.1871 - mean_iou: 0.54 - ETA: 1:35 - loss: 0.1826 - mean_iou: 0.54 - ETA: 1:31 - loss: 0.1830 - mean_iou: 0.54 - ETA: 1:28 - loss: 0.1827 - mean_iou: 0.54 - ETA: 1:25 - loss: 0.1834 - mean_iou: 0.54 - ETA: 1:21 - loss: 0.1847 - mean_iou: 0.55 - ETA: 1:18 - loss: 0.1850 - mean_iou: 0.55 - ETA: 1:14 - loss: 0.1837 - mean_iou: 0.55 - ETA: 1:10 - loss: 0.1823 - mean_iou: 0.55 - ETA: 1:06 - loss: 0.1812 - mean_iou: 0.55 - ETA: 1:03 - loss: 0.1800 - mean_iou: 0.55 - ETA: 59s - loss: 0.1793 - mean_iou: 0.5548 - ETA: 55s - loss: 0.1761 - mean_iou: 0.555 - ETA: 51s - loss: 0.1753 - mean_iou: 0.556 - ETA: 48s - loss: 0.1743 - mean_iou: 0.556 - ETA: 44s - loss: 0.1729 - mean_iou: 0.557 - ETA: 40s - loss: 0.1704 - mean_iou: 0.558 - ETA: 36s - loss: 0.1693 - mean_iou: 0.559 - ETA: 32s - loss: 0.1689 - mean_iou: 0.559 - ETA: 29s - loss: 0.1682 - mean_iou: 0.560 - ETA: 25s - loss: 0.1663 - mean_iou: 0.561 - ETA: 21s - loss: 0.1656 - mean_iou: 0.561 - ETA: 17s - loss: 0.1640 - mean_iou: 0.562 - ETA: 13s - loss: 0.1646 - mean_iou: 0.563 - ETA: 10s - loss: 0.1646 - mean_iou: 0.564 - ETA: 6s - loss: 0.1661 - mean_iou: 0.564 - ETA: 2s - loss: 0.1652 - mean_iou: 0.5654\n",
      "Epoch 00003: val_loss improved from 0.15734 to 0.14512, saving model to model-dsbowl2018-1.h5\n",
      "603/603 [==============================] - 148s 246ms/step - loss: 0.1638 - mean_iou: 0.5659 - val_loss: 0.1451 - val_mean_iou: 0.5937\n",
      "Epoch 4/50\n",
      "592/603 [============================>.] - ETA: 2:17 - loss: 0.1459 - mean_iou: 0.59 - ETA: 2:16 - loss: 0.1616 - mean_iou: 0.59 - ETA: 2:10 - loss: 0.1409 - mean_iou: 0.59 - ETA: 2:04 - loss: 0.1311 - mean_iou: 0.59 - ETA: 2:00 - loss: 0.1310 - mean_iou: 0.60 - ETA: 1:56 - loss: 0.1338 - mean_iou: 0.60 - ETA: 1:52 - loss: 0.1343 - mean_iou: 0.60 - ETA: 1:48 - loss: 0.1457 - mean_iou: 0.60 - ETA: 1:45 - loss: 0.1502 - mean_iou: 0.60 - ETA: 1:41 - loss: 0.1511 - mean_iou: 0.60 - ETA: 1:37 - loss: 0.1544 - mean_iou: 0.60 - ETA: 1:33 - loss: 0.1580 - mean_iou: 0.60 - ETA: 1:30 - loss: 0.1530 - mean_iou: 0.60 - ETA: 1:27 - loss: 0.1532 - mean_iou: 0.60 - ETA: 1:24 - loss: 0.1509 - mean_iou: 0.60 - ETA: 1:20 - loss: 0.1497 - mean_iou: 0.60 - ETA: 1:16 - loss: 0.1484 - mean_iou: 0.60 - ETA: 1:13 - loss: 0.1500 - mean_iou: 0.60 - ETA: 1:09 - loss: 0.1478 - mean_iou: 0.60 - ETA: 1:05 - loss: 0.1463 - mean_iou: 0.60 - ETA: 1:02 - loss: 0.1456 - mean_iou: 0.60 - ETA: 58s - loss: 0.1471 - mean_iou: 0.6086 - ETA: 54s - loss: 0.1477 - mean_iou: 0.609 - ETA: 51s - loss: 0.1466 - mean_iou: 0.609 - ETA: 47s - loss: 0.1464 - mean_iou: 0.610 - ETA: 43s - loss: 0.1445 - mean_iou: 0.610 - ETA: 39s - loss: 0.1439 - mean_iou: 0.610 - ETA: 36s - loss: 0.1454 - mean_iou: 0.611 - ETA: 32s - loss: 0.1437 - mean_iou: 0.611 - ETA: 28s - loss: 0.1430 - mean_iou: 0.612 - ETA: 25s - loss: 0.1424 - mean_iou: 0.612 - ETA: 21s - loss: 0.1435 - mean_iou: 0.613 - ETA: 17s - loss: 0.1428 - mean_iou: 0.613 - ETA: 13s - loss: 0.1427 - mean_iou: 0.614 - ETA: 10s - loss: 0.1423 - mean_iou: 0.614 - ETA: 6s - loss: 0.1419 - mean_iou: 0.614 - ETA: 2s - loss: 0.1417 - mean_iou: 0.6154\n",
      "Epoch 00004: val_loss improved from 0.14512 to 0.13877, saving model to model-dsbowl2018-1.h5\n",
      "603/603 [==============================] - 148s 245ms/step - loss: 0.1426 - mean_iou: 0.6157 - val_loss: 0.1388 - val_mean_iou: 0.6336\n",
      "Epoch 5/50\n",
      "592/603 [============================>.] - ETA: 2:16 - loss: 0.1908 - mean_iou: 0.63 - ETA: 2:12 - loss: 0.1511 - mean_iou: 0.63 - ETA: 2:11 - loss: 0.1382 - mean_iou: 0.63 - ETA: 2:12 - loss: 0.1314 - mean_iou: 0.63 - ETA: 2:07 - loss: 0.1242 - mean_iou: 0.63 - ETA: 2:03 - loss: 0.1328 - mean_iou: 0.63 - ETA: 2:02 - loss: 0.1362 - mean_iou: 0.63 - ETA: 1:59 - loss: 0.1296 - mean_iou: 0.63 - ETA: 1:56 - loss: 0.1335 - mean_iou: 0.63 - ETA: 1:52 - loss: 0.1336 - mean_iou: 0.63 - ETA: 1:47 - loss: 0.1326 - mean_iou: 0.63 - ETA: 1:42 - loss: 0.1322 - mean_iou: 0.63 - ETA: 1:38 - loss: 0.1296 - mean_iou: 0.63 - ETA: 1:34 - loss: 0.1297 - mean_iou: 0.64 - ETA: 1:30 - loss: 0.1303 - mean_iou: 0.64 - ETA: 1:26 - loss: 0.1283 - mean_iou: 0.64 - ETA: 1:22 - loss: 0.1283 - mean_iou: 0.64 - ETA: 1:17 - loss: 0.1279 - mean_iou: 0.64 - ETA: 1:13 - loss: 0.1251 - mean_iou: 0.64 - ETA: 1:09 - loss: 0.1248 - mean_iou: 0.64 - ETA: 1:05 - loss: 0.1264 - mean_iou: 0.64 - ETA: 1:01 - loss: 0.1276 - mean_iou: 0.64 - ETA: 57s - loss: 0.1267 - mean_iou: 0.6433 - ETA: 53s - loss: 0.1261 - mean_iou: 0.643 - ETA: 49s - loss: 0.1273 - mean_iou: 0.644 - ETA: 45s - loss: 0.1263 - mean_iou: 0.644 - ETA: 41s - loss: 0.1264 - mean_iou: 0.644 - ETA: 37s - loss: 0.1279 - mean_iou: 0.645 - ETA: 33s - loss: 0.1268 - mean_iou: 0.645 - ETA: 29s - loss: 0.1278 - mean_iou: 0.646 - ETA: 26s - loss: 0.1278 - mean_iou: 0.646 - ETA: 22s - loss: 0.1277 - mean_iou: 0.646 - ETA: 18s - loss: 0.1275 - mean_iou: 0.647 - ETA: 14s - loss: 0.1276 - mean_iou: 0.647 - ETA: 10s - loss: 0.1281 - mean_iou: 0.647 - ETA: 6s - loss: 0.1270 - mean_iou: 0.648 - ETA: 2s - loss: 0.1265 - mean_iou: 0.6484\n",
      "Epoch 00005: val_loss improved from 0.13877 to 0.12202, saving model to model-dsbowl2018-1.h5\n",
      "603/603 [==============================] - 152s 253ms/step - loss: 0.1268 - mean_iou: 0.6487 - val_loss: 0.1220 - val_mean_iou: 0.6621\n",
      "Epoch 6/50\n",
      "592/603 [============================>.] - ETA: 2:14 - loss: 0.1622 - mean_iou: 0.66 - ETA: 2:12 - loss: 0.1324 - mean_iou: 0.66 - ETA: 2:08 - loss: 0.1218 - mean_iou: 0.66 - ETA: 2:04 - loss: 0.1263 - mean_iou: 0.66 - ETA: 2:01 - loss: 0.1205 - mean_iou: 0.66 - ETA: 1:56 - loss: 0.1150 - mean_iou: 0.66 - ETA: 1:52 - loss: 0.1197 - mean_iou: 0.66 - ETA: 1:49 - loss: 0.1193 - mean_iou: 0.66 - ETA: 1:45 - loss: 0.1197 - mean_iou: 0.66 - ETA: 1:42 - loss: 0.1211 - mean_iou: 0.66 - ETA: 1:38 - loss: 0.1267 - mean_iou: 0.66 - ETA: 1:34 - loss: 0.1255 - mean_iou: 0.66 - ETA: 1:31 - loss: 0.1258 - mean_iou: 0.66 - ETA: 1:27 - loss: 0.1312 - mean_iou: 0.66 - ETA: 1:24 - loss: 0.1265 - mean_iou: 0.66 - ETA: 1:20 - loss: 0.1228 - mean_iou: 0.66 - ETA: 1:17 - loss: 0.1216 - mean_iou: 0.66 - ETA: 1:13 - loss: 0.1208 - mean_iou: 0.66 - ETA: 1:09 - loss: 0.1215 - mean_iou: 0.66 - ETA: 1:05 - loss: 0.1221 - mean_iou: 0.66 - ETA: 1:02 - loss: 0.1222 - mean_iou: 0.66 - ETA: 58s - loss: 0.1215 - mean_iou: 0.6697 - ETA: 54s - loss: 0.1205 - mean_iou: 0.670 - ETA: 51s - loss: 0.1198 - mean_iou: 0.670 - ETA: 47s - loss: 0.1189 - mean_iou: 0.670 - ETA: 43s - loss: 0.1199 - mean_iou: 0.670 - ETA: 39s - loss: 0.1193 - mean_iou: 0.671 - ETA: 36s - loss: 0.1172 - mean_iou: 0.671 - ETA: 32s - loss: 0.1185 - mean_iou: 0.671 - ETA: 29s - loss: 0.1170 - mean_iou: 0.671 - ETA: 25s - loss: 0.1158 - mean_iou: 0.672 - ETA: 21s - loss: 0.1150 - mean_iou: 0.672 - ETA: 17s - loss: 0.1135 - mean_iou: 0.672 - ETA: 14s - loss: 0.1145 - mean_iou: 0.673 - ETA: 10s - loss: 0.1143 - mean_iou: 0.673 - ETA: 6s - loss: 0.1145 - mean_iou: 0.673 - ETA: 2s - loss: 0.1139 - mean_iou: 0.6737\n",
      "Epoch 00006: val_loss improved from 0.12202 to 0.11582, saving model to model-dsbowl2018-1.h5\n",
      "603/603 [==============================] - 151s 251ms/step - loss: 0.1137 - mean_iou: 0.6739 - val_loss: 0.1158 - val_mean_iou: 0.6849\n",
      "Epoch 7/50\n",
      "592/603 [============================>.] - ETA: 2:16 - loss: 0.1008 - mean_iou: 0.68 - ETA: 2:22 - loss: 0.0800 - mean_iou: 0.68 - ETA: 2:23 - loss: 0.0938 - mean_iou: 0.68 - ETA: 2:18 - loss: 0.0932 - mean_iou: 0.68 - ETA: 2:14 - loss: 0.0902 - mean_iou: 0.68 - ETA: 2:07 - loss: 0.0986 - mean_iou: 0.68 - ETA: 2:02 - loss: 0.0965 - mean_iou: 0.68 - ETA: 1:58 - loss: 0.0972 - mean_iou: 0.68 - ETA: 1:54 - loss: 0.1018 - mean_iou: 0.68 - ETA: 1:49 - loss: 0.0983 - mean_iou: 0.68 - ETA: 1:45 - loss: 0.0982 - mean_iou: 0.68 - ETA: 1:40 - loss: 0.0987 - mean_iou: 0.68 - ETA: 1:36 - loss: 0.0960 - mean_iou: 0.68 - ETA: 1:31 - loss: 0.0976 - mean_iou: 0.68 - ETA: 1:27 - loss: 0.0963 - mean_iou: 0.68 - ETA: 1:23 - loss: 0.0967 - mean_iou: 0.68 - ETA: 1:19 - loss: 0.0993 - mean_iou: 0.69 - ETA: 1:15 - loss: 0.1005 - mean_iou: 0.69 - ETA: 1:11 - loss: 0.1007 - mean_iou: 0.69 - ETA: 1:07 - loss: 0.1004 - mean_iou: 0.69 - ETA: 1:04 - loss: 0.1005 - mean_iou: 0.69 - ETA: 1:00 - loss: 0.1002 - mean_iou: 0.69 - ETA: 56s - loss: 0.1034 - mean_iou: 0.6915 - ETA: 52s - loss: 0.1036 - mean_iou: 0.691 - ETA: 48s - loss: 0.1042 - mean_iou: 0.692 - ETA: 44s - loss: 0.1053 - mean_iou: 0.692 - ETA: 40s - loss: 0.1059 - mean_iou: 0.692 - ETA: 37s - loss: 0.1064 - mean_iou: 0.692 - ETA: 33s - loss: 0.1060 - mean_iou: 0.692 - ETA: 29s - loss: 0.1060 - mean_iou: 0.693 - ETA: 25s - loss: 0.1055 - mean_iou: 0.693 - ETA: 21s - loss: 0.1050 - mean_iou: 0.693 - ETA: 17s - loss: 0.1054 - mean_iou: 0.693 - ETA: 14s - loss: 0.1056 - mean_iou: 0.694 - ETA: 10s - loss: 0.1061 - mean_iou: 0.694 - ETA: 6s - loss: 0.1063 - mean_iou: 0.694 - ETA: 2s - loss: 0.1060 - mean_iou: 0.6947\n",
      "Epoch 00007: val_loss improved from 0.11582 to 0.10402, saving model to model-dsbowl2018-1.h5\n",
      "603/603 [==============================] - 151s 251ms/step - loss: 0.1054 - mean_iou: 0.6948 - val_loss: 0.1040 - val_mean_iou: 0.7034\n",
      "Epoch 8/50\n",
      "592/603 [============================>.] - ETA: 2:19 - loss: 0.1091 - mean_iou: 0.70 - ETA: 2:24 - loss: 0.1379 - mean_iou: 0.70 - ETA: 2:18 - loss: 0.1229 - mean_iou: 0.70 - ETA: 2:20 - loss: 0.1124 - mean_iou: 0.70 - ETA: 2:17 - loss: 0.1099 - mean_iou: 0.70 - ETA: 2:11 - loss: 0.1109 - mean_iou: 0.70 - ETA: 2:05 - loss: 0.1086 - mean_iou: 0.70 - ETA: 1:59 - loss: 0.1066 - mean_iou: 0.70 - ETA: 1:54 - loss: 0.1041 - mean_iou: 0.70 - ETA: 1:49 - loss: 0.1065 - mean_iou: 0.70 - ETA: 1:44 - loss: 0.1095 - mean_iou: 0.70 - ETA: 1:40 - loss: 0.1093 - mean_iou: 0.70 - ETA: 1:36 - loss: 0.1099 - mean_iou: 0.70 - ETA: 1:31 - loss: 0.1115 - mean_iou: 0.70 - ETA: 1:27 - loss: 0.1100 - mean_iou: 0.70 - ETA: 1:23 - loss: 0.1101 - mean_iou: 0.70 - ETA: 1:19 - loss: 0.1125 - mean_iou: 0.70 - ETA: 1:16 - loss: 0.1102 - mean_iou: 0.70 - ETA: 1:12 - loss: 0.1104 - mean_iou: 0.70 - ETA: 1:08 - loss: 0.1109 - mean_iou: 0.70 - ETA: 1:04 - loss: 0.1086 - mean_iou: 0.70 - ETA: 1:00 - loss: 0.1079 - mean_iou: 0.70 - ETA: 56s - loss: 0.1083 - mean_iou: 0.7082 - ETA: 52s - loss: 0.1095 - mean_iou: 0.708 - ETA: 49s - loss: 0.1102 - mean_iou: 0.708 - ETA: 45s - loss: 0.1105 - mean_iou: 0.708 - ETA: 41s - loss: 0.1093 - mean_iou: 0.708 - ETA: 37s - loss: 0.1095 - mean_iou: 0.709 - ETA: 33s - loss: 0.1097 - mean_iou: 0.709 - ETA: 29s - loss: 0.1086 - mean_iou: 0.709 - ETA: 25s - loss: 0.1083 - mean_iou: 0.709 - ETA: 22s - loss: 0.1090 - mean_iou: 0.709 - ETA: 18s - loss: 0.1094 - mean_iou: 0.709 - ETA: 14s - loss: 0.1086 - mean_iou: 0.710 - ETA: 10s - loss: 0.1084 - mean_iou: 0.710 - ETA: 6s - loss: 0.1084 - mean_iou: 0.710 - ETA: 2s - loss: 0.1072 - mean_iou: 0.7104\n",
      "Epoch 00008: val_loss did not improve\n",
      "603/603 [==============================] - 151s 250ms/step - loss: 0.1074 - mean_iou: 0.7105 - val_loss: 0.1047 - val_mean_iou: 0.7168\n",
      "Epoch 9/50\n"
     ]
    },
    {
     "name": "stdout",
     "output_type": "stream",
     "text": [
      "592/603 [============================>.] - ETA: 2:18 - loss: 0.1110 - mean_iou: 0.71 - ETA: 2:15 - loss: 0.0915 - mean_iou: 0.71 - ETA: 2:12 - loss: 0.1046 - mean_iou: 0.71 - ETA: 2:10 - loss: 0.0964 - mean_iou: 0.71 - ETA: 2:06 - loss: 0.0984 - mean_iou: 0.71 - ETA: 2:03 - loss: 0.0953 - mean_iou: 0.71 - ETA: 1:58 - loss: 0.0976 - mean_iou: 0.71 - ETA: 1:54 - loss: 0.0951 - mean_iou: 0.71 - ETA: 1:50 - loss: 0.0953 - mean_iou: 0.71 - ETA: 1:46 - loss: 0.1060 - mean_iou: 0.71 - ETA: 1:41 - loss: 0.1032 - mean_iou: 0.71 - ETA: 1:38 - loss: 0.1005 - mean_iou: 0.71 - ETA: 1:34 - loss: 0.1025 - mean_iou: 0.71 - ETA: 1:30 - loss: 0.1029 - mean_iou: 0.71 - ETA: 1:26 - loss: 0.1048 - mean_iou: 0.71 - ETA: 1:22 - loss: 0.1045 - mean_iou: 0.71 - ETA: 1:19 - loss: 0.1049 - mean_iou: 0.72 - ETA: 1:15 - loss: 0.1046 - mean_iou: 0.72 - ETA: 1:12 - loss: 0.1076 - mean_iou: 0.72 - ETA: 1:08 - loss: 0.1071 - mean_iou: 0.72 - ETA: 1:04 - loss: 0.1100 - mean_iou: 0.72 - ETA: 1:00 - loss: 0.1073 - mean_iou: 0.72 - ETA: 56s - loss: 0.1071 - mean_iou: 0.7208 - ETA: 52s - loss: 0.1079 - mean_iou: 0.721 - ETA: 49s - loss: 0.1065 - mean_iou: 0.721 - ETA: 45s - loss: 0.1060 - mean_iou: 0.721 - ETA: 41s - loss: 0.1054 - mean_iou: 0.721 - ETA: 37s - loss: 0.1049 - mean_iou: 0.721 - ETA: 33s - loss: 0.1042 - mean_iou: 0.721 - ETA: 29s - loss: 0.1036 - mean_iou: 0.721 - ETA: 25s - loss: 0.1034 - mean_iou: 0.721 - ETA: 22s - loss: 0.1033 - mean_iou: 0.722 - ETA: 18s - loss: 0.1029 - mean_iou: 0.722 - ETA: 14s - loss: 0.1028 - mean_iou: 0.722 - ETA: 10s - loss: 0.1032 - mean_iou: 0.722 - ETA: 6s - loss: 0.1029 - mean_iou: 0.722 - ETA: 2s - loss: 0.1029 - mean_iou: 0.7227\n",
      "Epoch 00009: val_loss improved from 0.10402 to 0.10325, saving model to model-dsbowl2018-1.h5\n",
      "603/603 [==============================] - 152s 253ms/step - loss: 0.1027 - mean_iou: 0.7228 - val_loss: 0.1033 - val_mean_iou: 0.7284\n",
      "Epoch 10/50\n",
      "592/603 [============================>.] - ETA: 2:26 - loss: 0.1016 - mean_iou: 0.72 - ETA: 2:16 - loss: 0.0881 - mean_iou: 0.72 - ETA: 2:10 - loss: 0.0846 - mean_iou: 0.72 - ETA: 2:06 - loss: 0.0913 - mean_iou: 0.72 - ETA: 2:02 - loss: 0.0970 - mean_iou: 0.72 - ETA: 2:00 - loss: 0.0969 - mean_iou: 0.72 - ETA: 1:56 - loss: 0.0963 - mean_iou: 0.72 - ETA: 1:53 - loss: 0.0985 - mean_iou: 0.73 - ETA: 1:49 - loss: 0.0949 - mean_iou: 0.73 - ETA: 1:45 - loss: 0.1008 - mean_iou: 0.73 - ETA: 1:41 - loss: 0.0986 - mean_iou: 0.73 - ETA: 1:37 - loss: 0.0967 - mean_iou: 0.73 - ETA: 1:34 - loss: 0.0957 - mean_iou: 0.73 - ETA: 1:30 - loss: 0.0952 - mean_iou: 0.73 - ETA: 1:26 - loss: 0.0972 - mean_iou: 0.73 - ETA: 1:22 - loss: 0.0966 - mean_iou: 0.73 - ETA: 1:19 - loss: 0.0963 - mean_iou: 0.73 - ETA: 1:15 - loss: 0.0970 - mean_iou: 0.73 - ETA: 1:11 - loss: 0.0946 - mean_iou: 0.73 - ETA: 1:08 - loss: 0.0973 - mean_iou: 0.73 - ETA: 1:04 - loss: 0.0979 - mean_iou: 0.73 - ETA: 1:00 - loss: 0.0972 - mean_iou: 0.73 - ETA: 56s - loss: 0.0981 - mean_iou: 0.7318 - ETA: 52s - loss: 0.0991 - mean_iou: 0.731 - ETA: 48s - loss: 0.0984 - mean_iou: 0.732 - ETA: 44s - loss: 0.0972 - mean_iou: 0.732 - ETA: 40s - loss: 0.0963 - mean_iou: 0.732 - ETA: 37s - loss: 0.0973 - mean_iou: 0.732 - ETA: 33s - loss: 0.0970 - mean_iou: 0.732 - ETA: 29s - loss: 0.0965 - mean_iou: 0.732 - ETA: 25s - loss: 0.0962 - mean_iou: 0.732 - ETA: 21s - loss: 0.0979 - mean_iou: 0.732 - ETA: 17s - loss: 0.0981 - mean_iou: 0.733 - ETA: 13s - loss: 0.0973 - mean_iou: 0.733 - ETA: 10s - loss: 0.0970 - mean_iou: 0.733 - ETA: 6s - loss: 0.0960 - mean_iou: 0.733 - ETA: 2s - loss: 0.0955 - mean_iou: 0.7336\n",
      "Epoch 00010: val_loss improved from 0.10325 to 0.09632, saving model to model-dsbowl2018-1.h5\n",
      "603/603 [==============================] - 148s 246ms/step - loss: 0.0950 - mean_iou: 0.7336 - val_loss: 0.0963 - val_mean_iou: 0.7386\n",
      "Epoch 11/50\n",
      "592/603 [============================>.] - ETA: 2:16 - loss: 0.1454 - mean_iou: 0.73 - ETA: 2:20 - loss: 0.0988 - mean_iou: 0.73 - ETA: 2:16 - loss: 0.0867 - mean_iou: 0.73 - ETA: 2:11 - loss: 0.1024 - mean_iou: 0.73 - ETA: 2:06 - loss: 0.1001 - mean_iou: 0.73 - ETA: 2:01 - loss: 0.0988 - mean_iou: 0.73 - ETA: 1:57 - loss: 0.0932 - mean_iou: 0.73 - ETA: 1:53 - loss: 0.1010 - mean_iou: 0.73 - ETA: 1:49 - loss: 0.1012 - mean_iou: 0.74 - ETA: 1:44 - loss: 0.1005 - mean_iou: 0.74 - ETA: 1:40 - loss: 0.0990 - mean_iou: 0.74 - ETA: 1:36 - loss: 0.0966 - mean_iou: 0.74 - ETA: 1:32 - loss: 0.0948 - mean_iou: 0.74 - ETA: 1:28 - loss: 0.0958 - mean_iou: 0.74 - ETA: 1:24 - loss: 0.0996 - mean_iou: 0.74 - ETA: 1:20 - loss: 0.0976 - mean_iou: 0.74 - ETA: 1:17 - loss: 0.0967 - mean_iou: 0.74 - ETA: 1:14 - loss: 0.0958 - mean_iou: 0.74 - ETA: 1:10 - loss: 0.0938 - mean_iou: 0.74 - ETA: 1:06 - loss: 0.0933 - mean_iou: 0.74 - ETA: 1:02 - loss: 0.0955 - mean_iou: 0.74 - ETA: 58s - loss: 0.0952 - mean_iou: 0.7414 - ETA: 54s - loss: 0.0960 - mean_iou: 0.741 - ETA: 51s - loss: 0.0969 - mean_iou: 0.741 - ETA: 47s - loss: 0.0967 - mean_iou: 0.741 - ETA: 43s - loss: 0.0972 - mean_iou: 0.741 - ETA: 39s - loss: 0.0961 - mean_iou: 0.741 - ETA: 35s - loss: 0.0961 - mean_iou: 0.741 - ETA: 32s - loss: 0.0955 - mean_iou: 0.742 - ETA: 28s - loss: 0.0962 - mean_iou: 0.742 - ETA: 24s - loss: 0.0950 - mean_iou: 0.742 - ETA: 21s - loss: 0.0947 - mean_iou: 0.742 - ETA: 17s - loss: 0.0946 - mean_iou: 0.742 - ETA: 13s - loss: 0.0951 - mean_iou: 0.742 - ETA: 9s - loss: 0.0959 - mean_iou: 0.742 - ETA: 6s - loss: 0.0958 - mean_iou: 0.74 - ETA: 2s - loss: 0.0957 - mean_iou: 0.7428\n",
      "Epoch 00011: val_loss did not improve\n",
      "603/603 [==============================] - 144s 239ms/step - loss: 0.0951 - mean_iou: 0.7429 - val_loss: 0.0972 - val_mean_iou: 0.7469\n",
      "Epoch 12/50\n",
      "592/603 [============================>.] - ETA: 2:18 - loss: 0.1299 - mean_iou: 0.74 - ETA: 2:18 - loss: 0.1018 - mean_iou: 0.74 - ETA: 2:13 - loss: 0.0937 - mean_iou: 0.74 - ETA: 2:09 - loss: 0.0939 - mean_iou: 0.74 - ETA: 2:05 - loss: 0.1000 - mean_iou: 0.74 - ETA: 2:01 - loss: 0.1082 - mean_iou: 0.74 - ETA: 1:57 - loss: 0.1059 - mean_iou: 0.74 - ETA: 1:52 - loss: 0.1047 - mean_iou: 0.74 - ETA: 1:48 - loss: 0.1008 - mean_iou: 0.74 - ETA: 1:44 - loss: 0.0986 - mean_iou: 0.74 - ETA: 1:41 - loss: 0.1010 - mean_iou: 0.74 - ETA: 1:38 - loss: 0.1000 - mean_iou: 0.74 - ETA: 1:33 - loss: 0.1009 - mean_iou: 0.74 - ETA: 1:29 - loss: 0.1013 - mean_iou: 0.74 - ETA: 1:25 - loss: 0.1018 - mean_iou: 0.74 - ETA: 1:21 - loss: 0.1038 - mean_iou: 0.74 - ETA: 1:17 - loss: 0.1042 - mean_iou: 0.74 - ETA: 1:13 - loss: 0.1015 - mean_iou: 0.74 - ETA: 1:09 - loss: 0.0998 - mean_iou: 0.74 - ETA: 1:05 - loss: 0.0984 - mean_iou: 0.74 - ETA: 1:02 - loss: 0.0983 - mean_iou: 0.74 - ETA: 58s - loss: 0.0981 - mean_iou: 0.7494 - ETA: 54s - loss: 0.0983 - mean_iou: 0.749 - ETA: 50s - loss: 0.0979 - mean_iou: 0.749 - ETA: 46s - loss: 0.0968 - mean_iou: 0.749 - ETA: 43s - loss: 0.0967 - mean_iou: 0.749 - ETA: 39s - loss: 0.0960 - mean_iou: 0.749 - ETA: 35s - loss: 0.0954 - mean_iou: 0.749 - ETA: 31s - loss: 0.0961 - mean_iou: 0.749 - ETA: 28s - loss: 0.0952 - mean_iou: 0.750 - ETA: 24s - loss: 0.0957 - mean_iou: 0.750 - ETA: 20s - loss: 0.0962 - mean_iou: 0.750 - ETA: 17s - loss: 0.0962 - mean_iou: 0.750 - ETA: 13s - loss: 0.0953 - mean_iou: 0.750 - ETA: 9s - loss: 0.0946 - mean_iou: 0.750 - ETA: 6s - loss: 0.0951 - mean_iou: 0.75 - ETA: 2s - loss: 0.0944 - mean_iou: 0.7506\n",
      "Epoch 00012: val_loss improved from 0.09632 to 0.09393, saving model to model-dsbowl2018-1.h5\n",
      "603/603 [==============================] - 144s 239ms/step - loss: 0.0939 - mean_iou: 0.7507 - val_loss: 0.0939 - val_mean_iou: 0.7542\n",
      "Epoch 13/50\n",
      "224/603 [==========>...................] - ETA: 2:11 - loss: 0.1042 - mean_iou: 0.75 - ETA: 2:07 - loss: 0.0864 - mean_iou: 0.75 - ETA: 2:04 - loss: 0.0843 - mean_iou: 0.75 - ETA: 2:00 - loss: 0.0810 - mean_iou: 0.75 - ETA: 1:57 - loss: 0.0822 - mean_iou: 0.75 - ETA: 1:53 - loss: 0.0866 - mean_iou: 0.75 - ETA: 1:49 - loss: 0.0878 - mean_iou: 0.75 - ETA: 1:45 - loss: 0.0883 - mean_iou: 0.75 - ETA: 1:42 - loss: 0.0894 - mean_iou: 0.75 - ETA: 1:38 - loss: 0.0922 - mean_iou: 0.75 - ETA: 1:35 - loss: 0.0928 - mean_iou: 0.75 - ETA: 1:31 - loss: 0.0936 - mean_iou: 0.75 - ETA: 1:28 - loss: 0.0927 - mean_iou: 0.75 - ETA: 1:25 - loss: 0.0926 - mean_iou: 0.7556"
     ]
    },
    {
     "ename": "KeyboardInterrupt",
     "evalue": "",
     "output_type": "error",
     "traceback": [
      "\u001b[1;31m---------------------------------------------------------------------------\u001b[0m",
      "\u001b[1;31mKeyboardInterrupt\u001b[0m                         Traceback (most recent call last)",
      "\u001b[1;32m<ipython-input-7-4aa3fdd4d8c9>\u001b[0m in \u001b[0;36m<module>\u001b[1;34m()\u001b[0m\n\u001b[0;32m      3\u001b[0m \u001b[0mcheckpointer\u001b[0m \u001b[1;33m=\u001b[0m \u001b[0mModelCheckpoint\u001b[0m\u001b[1;33m(\u001b[0m\u001b[1;34m'model-dsbowl2018-1.h5'\u001b[0m\u001b[1;33m,\u001b[0m \u001b[0mverbose\u001b[0m\u001b[1;33m=\u001b[0m\u001b[1;36m1\u001b[0m\u001b[1;33m,\u001b[0m \u001b[0msave_best_only\u001b[0m\u001b[1;33m=\u001b[0m\u001b[1;32mTrue\u001b[0m\u001b[1;33m)\u001b[0m\u001b[1;33m\u001b[0m\u001b[0m\n\u001b[0;32m      4\u001b[0m results = model.fit(X_train, Y_train, validation_split=0.1, batch_size=16, epochs=50, \n\u001b[1;32m----> 5\u001b[1;33m                     callbacks=[earlystopper, checkpointer])\n\u001b[0m",
      "\u001b[1;32mc:\\users\\peter\\anaconda3\\envs\\nlu\\lib\\site-packages\\keras\\engine\\training.py\u001b[0m in \u001b[0;36mfit\u001b[1;34m(self, x, y, batch_size, epochs, verbose, callbacks, validation_split, validation_data, shuffle, class_weight, sample_weight, initial_epoch, steps_per_epoch, validation_steps, **kwargs)\u001b[0m\n\u001b[0;32m   1667\u001b[0m                               \u001b[0minitial_epoch\u001b[0m\u001b[1;33m=\u001b[0m\u001b[0minitial_epoch\u001b[0m\u001b[1;33m,\u001b[0m\u001b[1;33m\u001b[0m\u001b[0m\n\u001b[0;32m   1668\u001b[0m                               \u001b[0msteps_per_epoch\u001b[0m\u001b[1;33m=\u001b[0m\u001b[0msteps_per_epoch\u001b[0m\u001b[1;33m,\u001b[0m\u001b[1;33m\u001b[0m\u001b[0m\n\u001b[1;32m-> 1669\u001b[1;33m                               validation_steps=validation_steps)\n\u001b[0m\u001b[0;32m   1670\u001b[0m \u001b[1;33m\u001b[0m\u001b[0m\n\u001b[0;32m   1671\u001b[0m     def evaluate(self, x=None, y=None,\n",
      "\u001b[1;32mc:\\users\\peter\\anaconda3\\envs\\nlu\\lib\\site-packages\\keras\\engine\\training.py\u001b[0m in \u001b[0;36m_fit_loop\u001b[1;34m(self, f, ins, out_labels, batch_size, epochs, verbose, callbacks, val_f, val_ins, shuffle, callback_metrics, initial_epoch, steps_per_epoch, validation_steps)\u001b[0m\n\u001b[0;32m   1204\u001b[0m                         \u001b[0mins_batch\u001b[0m\u001b[1;33m[\u001b[0m\u001b[0mi\u001b[0m\u001b[1;33m]\u001b[0m \u001b[1;33m=\u001b[0m \u001b[0mins_batch\u001b[0m\u001b[1;33m[\u001b[0m\u001b[0mi\u001b[0m\u001b[1;33m]\u001b[0m\u001b[1;33m.\u001b[0m\u001b[0mtoarray\u001b[0m\u001b[1;33m(\u001b[0m\u001b[1;33m)\u001b[0m\u001b[1;33m\u001b[0m\u001b[0m\n\u001b[0;32m   1205\u001b[0m \u001b[1;33m\u001b[0m\u001b[0m\n\u001b[1;32m-> 1206\u001b[1;33m                     \u001b[0mouts\u001b[0m \u001b[1;33m=\u001b[0m \u001b[0mf\u001b[0m\u001b[1;33m(\u001b[0m\u001b[0mins_batch\u001b[0m\u001b[1;33m)\u001b[0m\u001b[1;33m\u001b[0m\u001b[0m\n\u001b[0m\u001b[0;32m   1207\u001b[0m                     \u001b[1;32mif\u001b[0m \u001b[1;32mnot\u001b[0m \u001b[0misinstance\u001b[0m\u001b[1;33m(\u001b[0m\u001b[0mouts\u001b[0m\u001b[1;33m,\u001b[0m \u001b[0mlist\u001b[0m\u001b[1;33m)\u001b[0m\u001b[1;33m:\u001b[0m\u001b[1;33m\u001b[0m\u001b[0m\n\u001b[0;32m   1208\u001b[0m                         \u001b[0mouts\u001b[0m \u001b[1;33m=\u001b[0m \u001b[1;33m[\u001b[0m\u001b[0mouts\u001b[0m\u001b[1;33m]\u001b[0m\u001b[1;33m\u001b[0m\u001b[0m\n",
      "\u001b[1;32mc:\\users\\peter\\anaconda3\\envs\\nlu\\lib\\site-packages\\keras\\backend\\tensorflow_backend.py\u001b[0m in \u001b[0;36m__call__\u001b[1;34m(self, inputs)\u001b[0m\n\u001b[0;32m   2473\u001b[0m         \u001b[0msession\u001b[0m \u001b[1;33m=\u001b[0m \u001b[0mget_session\u001b[0m\u001b[1;33m(\u001b[0m\u001b[1;33m)\u001b[0m\u001b[1;33m\u001b[0m\u001b[0m\n\u001b[0;32m   2474\u001b[0m         updated = session.run(fetches=fetches, feed_dict=feed_dict,\n\u001b[1;32m-> 2475\u001b[1;33m                               **self.session_kwargs)\n\u001b[0m\u001b[0;32m   2476\u001b[0m         \u001b[1;32mreturn\u001b[0m \u001b[0mupdated\u001b[0m\u001b[1;33m[\u001b[0m\u001b[1;33m:\u001b[0m\u001b[0mlen\u001b[0m\u001b[1;33m(\u001b[0m\u001b[0mself\u001b[0m\u001b[1;33m.\u001b[0m\u001b[0moutputs\u001b[0m\u001b[1;33m)\u001b[0m\u001b[1;33m]\u001b[0m\u001b[1;33m\u001b[0m\u001b[0m\n\u001b[0;32m   2477\u001b[0m \u001b[1;33m\u001b[0m\u001b[0m\n",
      "\u001b[1;32mc:\\users\\peter\\anaconda3\\envs\\nlu\\lib\\site-packages\\tensorflow\\python\\client\\session.py\u001b[0m in \u001b[0;36mrun\u001b[1;34m(self, fetches, feed_dict, options, run_metadata)\u001b[0m\n\u001b[0;32m    887\u001b[0m     \u001b[1;32mtry\u001b[0m\u001b[1;33m:\u001b[0m\u001b[1;33m\u001b[0m\u001b[0m\n\u001b[0;32m    888\u001b[0m       result = self._run(None, fetches, feed_dict, options_ptr,\n\u001b[1;32m--> 889\u001b[1;33m                          run_metadata_ptr)\n\u001b[0m\u001b[0;32m    890\u001b[0m       \u001b[1;32mif\u001b[0m \u001b[0mrun_metadata\u001b[0m\u001b[1;33m:\u001b[0m\u001b[1;33m\u001b[0m\u001b[0m\n\u001b[0;32m    891\u001b[0m         \u001b[0mproto_data\u001b[0m \u001b[1;33m=\u001b[0m \u001b[0mtf_session\u001b[0m\u001b[1;33m.\u001b[0m\u001b[0mTF_GetBuffer\u001b[0m\u001b[1;33m(\u001b[0m\u001b[0mrun_metadata_ptr\u001b[0m\u001b[1;33m)\u001b[0m\u001b[1;33m\u001b[0m\u001b[0m\n",
      "\u001b[1;32mc:\\users\\peter\\anaconda3\\envs\\nlu\\lib\\site-packages\\tensorflow\\python\\client\\session.py\u001b[0m in \u001b[0;36m_run\u001b[1;34m(self, handle, fetches, feed_dict, options, run_metadata)\u001b[0m\n\u001b[0;32m   1118\u001b[0m     \u001b[1;32mif\u001b[0m \u001b[0mfinal_fetches\u001b[0m \u001b[1;32mor\u001b[0m \u001b[0mfinal_targets\u001b[0m \u001b[1;32mor\u001b[0m \u001b[1;33m(\u001b[0m\u001b[0mhandle\u001b[0m \u001b[1;32mand\u001b[0m \u001b[0mfeed_dict_tensor\u001b[0m\u001b[1;33m)\u001b[0m\u001b[1;33m:\u001b[0m\u001b[1;33m\u001b[0m\u001b[0m\n\u001b[0;32m   1119\u001b[0m       results = self._do_run(handle, final_targets, final_fetches,\n\u001b[1;32m-> 1120\u001b[1;33m                              feed_dict_tensor, options, run_metadata)\n\u001b[0m\u001b[0;32m   1121\u001b[0m     \u001b[1;32melse\u001b[0m\u001b[1;33m:\u001b[0m\u001b[1;33m\u001b[0m\u001b[0m\n\u001b[0;32m   1122\u001b[0m       \u001b[0mresults\u001b[0m \u001b[1;33m=\u001b[0m \u001b[1;33m[\u001b[0m\u001b[1;33m]\u001b[0m\u001b[1;33m\u001b[0m\u001b[0m\n",
      "\u001b[1;32mc:\\users\\peter\\anaconda3\\envs\\nlu\\lib\\site-packages\\tensorflow\\python\\client\\session.py\u001b[0m in \u001b[0;36m_do_run\u001b[1;34m(self, handle, target_list, fetch_list, feed_dict, options, run_metadata)\u001b[0m\n\u001b[0;32m   1315\u001b[0m     \u001b[1;32mif\u001b[0m \u001b[0mhandle\u001b[0m \u001b[1;32mis\u001b[0m \u001b[1;32mNone\u001b[0m\u001b[1;33m:\u001b[0m\u001b[1;33m\u001b[0m\u001b[0m\n\u001b[0;32m   1316\u001b[0m       return self._do_call(_run_fn, self._session, feeds, fetches, targets,\n\u001b[1;32m-> 1317\u001b[1;33m                            options, run_metadata)\n\u001b[0m\u001b[0;32m   1318\u001b[0m     \u001b[1;32melse\u001b[0m\u001b[1;33m:\u001b[0m\u001b[1;33m\u001b[0m\u001b[0m\n\u001b[0;32m   1319\u001b[0m       \u001b[1;32mreturn\u001b[0m \u001b[0mself\u001b[0m\u001b[1;33m.\u001b[0m\u001b[0m_do_call\u001b[0m\u001b[1;33m(\u001b[0m\u001b[0m_prun_fn\u001b[0m\u001b[1;33m,\u001b[0m \u001b[0mself\u001b[0m\u001b[1;33m.\u001b[0m\u001b[0m_session\u001b[0m\u001b[1;33m,\u001b[0m \u001b[0mhandle\u001b[0m\u001b[1;33m,\u001b[0m \u001b[0mfeeds\u001b[0m\u001b[1;33m,\u001b[0m \u001b[0mfetches\u001b[0m\u001b[1;33m)\u001b[0m\u001b[1;33m\u001b[0m\u001b[0m\n",
      "\u001b[1;32mc:\\users\\peter\\anaconda3\\envs\\nlu\\lib\\site-packages\\tensorflow\\python\\client\\session.py\u001b[0m in \u001b[0;36m_do_call\u001b[1;34m(self, fn, *args)\u001b[0m\n\u001b[0;32m   1321\u001b[0m   \u001b[1;32mdef\u001b[0m \u001b[0m_do_call\u001b[0m\u001b[1;33m(\u001b[0m\u001b[0mself\u001b[0m\u001b[1;33m,\u001b[0m \u001b[0mfn\u001b[0m\u001b[1;33m,\u001b[0m \u001b[1;33m*\u001b[0m\u001b[0margs\u001b[0m\u001b[1;33m)\u001b[0m\u001b[1;33m:\u001b[0m\u001b[1;33m\u001b[0m\u001b[0m\n\u001b[0;32m   1322\u001b[0m     \u001b[1;32mtry\u001b[0m\u001b[1;33m:\u001b[0m\u001b[1;33m\u001b[0m\u001b[0m\n\u001b[1;32m-> 1323\u001b[1;33m       \u001b[1;32mreturn\u001b[0m \u001b[0mfn\u001b[0m\u001b[1;33m(\u001b[0m\u001b[1;33m*\u001b[0m\u001b[0margs\u001b[0m\u001b[1;33m)\u001b[0m\u001b[1;33m\u001b[0m\u001b[0m\n\u001b[0m\u001b[0;32m   1324\u001b[0m     \u001b[1;32mexcept\u001b[0m \u001b[0merrors\u001b[0m\u001b[1;33m.\u001b[0m\u001b[0mOpError\u001b[0m \u001b[1;32mas\u001b[0m \u001b[0me\u001b[0m\u001b[1;33m:\u001b[0m\u001b[1;33m\u001b[0m\u001b[0m\n\u001b[0;32m   1325\u001b[0m       \u001b[0mmessage\u001b[0m \u001b[1;33m=\u001b[0m \u001b[0mcompat\u001b[0m\u001b[1;33m.\u001b[0m\u001b[0mas_text\u001b[0m\u001b[1;33m(\u001b[0m\u001b[0me\u001b[0m\u001b[1;33m.\u001b[0m\u001b[0mmessage\u001b[0m\u001b[1;33m)\u001b[0m\u001b[1;33m\u001b[0m\u001b[0m\n",
      "\u001b[1;32mc:\\users\\peter\\anaconda3\\envs\\nlu\\lib\\site-packages\\tensorflow\\python\\client\\session.py\u001b[0m in \u001b[0;36m_run_fn\u001b[1;34m(session, feed_dict, fetch_list, target_list, options, run_metadata)\u001b[0m\n\u001b[0;32m   1300\u001b[0m           return tf_session.TF_Run(session, options,\n\u001b[0;32m   1301\u001b[0m                                    \u001b[0mfeed_dict\u001b[0m\u001b[1;33m,\u001b[0m \u001b[0mfetch_list\u001b[0m\u001b[1;33m,\u001b[0m \u001b[0mtarget_list\u001b[0m\u001b[1;33m,\u001b[0m\u001b[1;33m\u001b[0m\u001b[0m\n\u001b[1;32m-> 1302\u001b[1;33m                                    status, run_metadata)\n\u001b[0m\u001b[0;32m   1303\u001b[0m \u001b[1;33m\u001b[0m\u001b[0m\n\u001b[0;32m   1304\u001b[0m     \u001b[1;32mdef\u001b[0m \u001b[0m_prun_fn\u001b[0m\u001b[1;33m(\u001b[0m\u001b[0msession\u001b[0m\u001b[1;33m,\u001b[0m \u001b[0mhandle\u001b[0m\u001b[1;33m,\u001b[0m \u001b[0mfeed_dict\u001b[0m\u001b[1;33m,\u001b[0m \u001b[0mfetch_list\u001b[0m\u001b[1;33m)\u001b[0m\u001b[1;33m:\u001b[0m\u001b[1;33m\u001b[0m\u001b[0m\n",
      "\u001b[1;31mKeyboardInterrupt\u001b[0m: "
     ]
    }
   ],
   "source": [
    "# Fit model\n",
    "earlystopper = EarlyStopping(patience=5, verbose=1)\n",
    "checkpointer = ModelCheckpoint('model-dsbowl2018-1.h5', verbose=1, save_best_only=True)\n",
    "results = model.fit(X_train, Y_train, validation_split=0.1, batch_size=16, epochs=50, \n",
    "                    callbacks=[earlystopper, checkpointer])"
   ]
  },
  {
   "cell_type": "markdown",
   "metadata": {},
   "source": [
    "### Predizendo com o Modelo"
   ]
  },
  {
   "cell_type": "code",
   "execution_count": 8,
   "metadata": {},
   "outputs": [
    {
     "name": "stdout",
     "output_type": "stream",
     "text": [
      "603/603 [==============================] - ETA: 44 - ETA: 40 - ETA: 38 - ETA: 35 - ETA: 32 - ETA: 30 - ETA: 28 - ETA: 25 - ETA: 23 - ETA: 21 - ETA: 18 - ETA: 16 - ETA: 13 - ETA: 11 - ETA: 9 - ETA:  - ETA:  - ETA:  - 45s 74ms/step\n",
      "67/67 [==============================] - ETA:  - ETA:  - 5s 76ms/step\n",
      "65/65 [==============================] - ETA:  - ETA:  - 5s 75ms/step\n"
     ]
    }
   ],
   "source": [
    "# Predict on train, val and test\n",
    "model = load_model('model-dsbowl2018-1.h5', custom_objects={'mean_iou': mean_iou})\n",
    "preds_train = model.predict(X_train[:int(X_train.shape[0]*0.9)], verbose=1)\n",
    "preds_val = model.predict(X_train[int(X_train.shape[0]*0.9):], verbose=1)\n",
    "preds_test = model.predict(X_test, verbose=1)\n",
    "\n",
    "# Threshold predictions\n",
    "preds_train_t = (preds_train > 0.5).astype(np.uint8)\n",
    "preds_val_t = (preds_val > 0.5).astype(np.uint8)\n",
    "preds_test_t = (preds_test > 0.5).astype(np.uint8)\n",
    "\n",
    "# Create list of upsampled test masks\n",
    "preds_test_upsampled = []\n",
    "for i in range(len(preds_test)):\n",
    "    preds_test_upsampled.append(resize(np.squeeze(preds_test[i]), \n",
    "                                       (sizes_test[i][0], sizes_test[i][1]), \n",
    "                                       mode='constant', preserve_range=True))"
   ]
  },
  {
   "cell_type": "markdown",
   "metadata": {},
   "source": [
    "### Teste de Sanidade"
   ]
  },
  {
   "cell_type": "code",
   "execution_count": 12,
   "metadata": {},
   "outputs": [
    {
     "data": {
      "text/plain": [
       "array([[[-40.35480584, -40.35480584, -40.35480584],\n",
       "        [-37.35480584, -37.35480584, -37.35480584],\n",
       "        [-38.35480584, -38.35480584, -38.35480584],\n",
       "        ..., \n",
       "        [-38.35480584, -38.35480584, -38.35480584],\n",
       "        [-37.35480584, -37.35480584, -37.35480584],\n",
       "        [-40.35480584, -40.35480584, -40.35480584]],\n",
       "\n",
       "       [[-38.35480584, -38.35480584, -38.35480584],\n",
       "        [-38.35480584, -38.35480584, -38.35480584],\n",
       "        [-39.35480584, -39.35480584, -39.35480584],\n",
       "        ..., \n",
       "        [-38.35480584, -38.35480584, -38.35480584],\n",
       "        [-38.35480584, -38.35480584, -38.35480584],\n",
       "        [-37.35480584, -37.35480584, -37.35480584]],\n",
       "\n",
       "       [[-32.35480584, -32.35480584, -32.35480584],\n",
       "        [-37.35480584, -37.35480584, -37.35480584],\n",
       "        [-36.35480584, -36.35480584, -36.35480584],\n",
       "        ..., \n",
       "        [-38.35480584, -38.35480584, -38.35480584],\n",
       "        [-37.35480584, -37.35480584, -37.35480584],\n",
       "        [-36.35480584, -36.35480584, -36.35480584]],\n",
       "\n",
       "       ..., \n",
       "       [[-38.35480584, -38.35480584, -38.35480584],\n",
       "        [-38.35480584, -38.35480584, -38.35480584],\n",
       "        [-38.35480584, -38.35480584, -38.35480584],\n",
       "        ..., \n",
       "        [-34.35480584, -34.35480584, -34.35480584],\n",
       "        [-38.35480584, -38.35480584, -38.35480584],\n",
       "        [-37.35480584, -37.35480584, -37.35480584]],\n",
       "\n",
       "       [[-35.35480584, -35.35480584, -35.35480584],\n",
       "        [-37.35480584, -37.35480584, -37.35480584],\n",
       "        [-38.35480584, -38.35480584, -38.35480584],\n",
       "        ..., \n",
       "        [-35.35480584, -35.35480584, -35.35480584],\n",
       "        [-35.35480584, -35.35480584, -35.35480584],\n",
       "        [-38.35480584, -38.35480584, -38.35480584]],\n",
       "\n",
       "       [[-35.35480584, -35.35480584, -35.35480584],\n",
       "        [-38.35480584, -38.35480584, -38.35480584],\n",
       "        [-39.35480584, -39.35480584, -39.35480584],\n",
       "        ..., \n",
       "        [-37.35480584, -37.35480584, -37.35480584],\n",
       "        [-37.35480584, -37.35480584, -37.35480584],\n",
       "        [-37.35480584, -37.35480584, -37.35480584]]])"
      ]
     },
     "execution_count": 12,
     "metadata": {},
     "output_type": "execute_result"
    }
   ],
   "source": [
    "X_train[ix]-np.mean(X_train)"
   ]
  },
  {
   "cell_type": "code",
   "execution_count": 17,
   "metadata": {},
   "outputs": [
    {
     "data": {
      "text/plain": [
       "(128, 128, 1)"
      ]
     },
     "execution_count": 17,
     "metadata": {},
     "output_type": "execute_result"
    }
   ],
   "source": [
    "preds_train_t[ix].shape"
   ]
  },
  {
   "cell_type": "code",
   "execution_count": 18,
   "metadata": {},
   "outputs": [
    {
     "data": {
      "text/plain": [
       "(128, 128, 1)"
      ]
     },
     "execution_count": 18,
     "metadata": {},
     "output_type": "execute_result"
    }
   ],
   "source": [
    "Y_train[ix].shape"
   ]
  },
  {
   "cell_type": "code",
   "execution_count": 14,
   "metadata": {},
   "outputs": [
    {
     "data": {
      "image/png": "[encoded data removed]",
      "text/plain": [
       "<matplotlib.figure.Figure at 0x22f0ae26c50>"
      ]
     },
     "metadata": {},
     "output_type": "display_data"
    },
    {
     "data": {
      "image/png": "[encoded data removed]",
      "text/plain": [
       "<matplotlib.figure.Figure at 0x22f1485bb70>"
      ]
     },
     "metadata": {},
     "output_type": "display_data"
    },
    {
     "data": {
      "image/png": "[encoded data removed]",
      "text/plain": [
       "<matplotlib.figure.Figure at 0x22f148c1320>"
      ]
     },
     "metadata": {},
     "output_type": "display_data"
    }
   ],
   "source": [
    "# Perform a sanity check on some random training samples\n",
    "ix = random.randint(0, len(preds_train_t))\n",
    "imshow(X_train[ix])\n",
    "plt.show()\n",
    "imshow(np.squeeze(Y_train[ix]))\n",
    "plt.show()\n",
    "imshow(np.squeeze(preds_train_t[ix]))\n",
    "plt.show()"
   ]
  },
  {
   "cell_type": "markdown",
   "metadata": {},
   "source": [
    "### Encoding e Submit dos nossos resultados"
   ]
  },
  {
   "cell_type": "code",
   "execution_count": null,
   "metadata": {
    "collapsed": true
   },
   "outputs": [],
   "source": [
    "# Run-length encoding stolen from https://www.kaggle.com/rakhlin/fast-run-length-encoding-python\n",
    "def rle_encoding(x):\n",
    "    dots = np.where(x.T.flatten() == 1)[0]\n",
    "    run_lengths = []\n",
    "    prev = -2\n",
    "    for b in dots:\n",
    "        if (b>prev+1): run_lengths.extend((b + 1, 0))\n",
    "        run_lengths[-1] += 1\n",
    "        prev = b\n",
    "    return run_lengths\n",
    "\n",
    "def prob_to_rles(x, cutoff=0.5):\n",
    "    lab_img = label(x > cutoff)\n",
    "    for i in range(1, lab_img.max() + 1):\n",
    "        yield rle_encoding(lab_img == i)"
   ]
  },
  {
   "cell_type": "markdown",
   "metadata": {},
   "source": [
    "iterando sobre os ids para produzir os encodings"
   ]
  },
  {
   "cell_type": "code",
   "execution_count": null,
   "metadata": {
    "collapsed": true
   },
   "outputs": [],
   "source": [
    "new_test_ids = []\n",
    "rles = []\n",
    "for n, id_ in enumerate(test_ids):\n",
    "    rle = list(prob_to_rles(preds_test_upsampled[n]))\n",
    "    rles.extend(rle)\n",
    "    new_test_ids.extend([id_] * len(rle))"
   ]
  },
  {
   "cell_type": "markdown",
   "metadata": {},
   "source": [
    "criando a submissão"
   ]
  },
  {
   "cell_type": "code",
   "execution_count": null,
   "metadata": {
    "collapsed": true
   },
   "outputs": [],
   "source": [
    "# Create submission DataFrame\n",
    "sub = pd.DataFrame()\n",
    "sub['ImageId'] = new_test_ids\n",
    "sub['EncodedPixels'] = pd.Series(rles).apply(lambda x: ' '.join(str(y) for y in x))\n",
    "sub.to_csv('sub-dsbowl2018-1.csv', index=False)"
   ]
  },
  {
   "cell_type": "code",
   "execution_count": null,
   "metadata": {
    "collapsed": true
   },
   "outputs": [],
   "source": []
  }
 ],
 "metadata": {
  "kernelspec": {
   "display_name": "Python 3",
   "language": "python",
   "name": "python3"
  },
  "language_info": {
   "codemirror_mode": {
    "name": "ipython",
    "version": 3
   },
   "file_extension": ".py",
   "mimetype": "text/x-python",
   "name": "python",
   "nbconvert_exporter": "python",
   "pygments_lexer": "ipython3",
   "version": "3.5.3"
  }
 },
 "nbformat": 4,
 "nbformat_minor": 2
}
